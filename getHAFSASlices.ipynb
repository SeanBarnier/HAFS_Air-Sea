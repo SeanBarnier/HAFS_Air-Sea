{
  "nbformat": 4,
  "nbformat_minor": 0,
  "metadata": {
    "colab": {
      "provenance": [],
      "authorship_tag": "ABX9TyPk5u0jjKNhrFTIemJhwyf0",
      "include_colab_link": true
    },
    "kernelspec": {
      "name": "python3",
      "display_name": "Python 3"
    },
    "language_info": {
      "name": "python"
    }
  },
  "cells": [
    {
      "cell_type": "markdown",
      "metadata": {
        "id": "view-in-github",
        "colab_type": "text"
      },
      "source": [
        "<a href=\"https://colab.research.google.com/github/SeanBarnier/HAFS_Air-Sea/blob/main/getHAFSASlices.ipynb\" target=\"_parent\"><img src=\"https://colab.research.google.com/assets/colab-badge.svg\" alt=\"Open In Colab\"/></a>"
      ]
    },
    {
      "cell_type": "markdown",
      "source": [
        "This program subsets and saves portions of output from the MOM6 model along the track of a given TC."
      ],
      "metadata": {
        "id": "LDINAnW1dduE"
      }
    },
    {
      "cell_type": "markdown",
      "source": [
        "#Set up environment"
      ],
      "metadata": {
        "id": "f592A_AhmfhP"
      }
    },
    {
      "cell_type": "code",
      "source": [
        "!pip install cfgrib"
      ],
      "metadata": {
        "id": "wDGgQBxjYusr",
        "collapsed": true,
        "outputId": "6fa770d9-ffc6-4501-f8c1-9c929b5027e6",
        "colab": {
          "base_uri": "https://localhost:8080/"
        }
      },
      "execution_count": 3,
      "outputs": [
        {
          "output_type": "stream",
          "name": "stdout",
          "text": [
            "Collecting cfgrib\n",
            "  Downloading cfgrib-0.9.15.0-py3-none-any.whl.metadata (55 kB)\n",
            "\u001b[?25l     \u001b[90m━━━━━━━━━━━━━━━━━━━━━━━━━━━━━━━━━━━━━━━━\u001b[0m \u001b[32m0.0/55.5 kB\u001b[0m \u001b[31m?\u001b[0m eta \u001b[36m-:--:--\u001b[0m\r\u001b[2K     \u001b[90m━━━━━━━━━━━━━━━━━━━━━━━━━━━━━━━━━━━━━━━━\u001b[0m \u001b[32m55.5/55.5 kB\u001b[0m \u001b[31m2.4 MB/s\u001b[0m eta \u001b[36m0:00:00\u001b[0m\n",
            "\u001b[?25hRequirement already satisfied: attrs>=19.2 in /usr/local/lib/python3.11/dist-packages (from cfgrib) (25.3.0)\n",
            "Requirement already satisfied: click in /usr/local/lib/python3.11/dist-packages (from cfgrib) (8.2.1)\n",
            "Collecting eccodes>=0.9.8 (from cfgrib)\n",
            "  Downloading eccodes-2.42.0-cp311-cp311-manylinux_2_28_x86_64.whl.metadata (14 kB)\n",
            "Requirement already satisfied: numpy in /usr/local/lib/python3.11/dist-packages (from cfgrib) (2.0.2)\n",
            "Requirement already satisfied: cffi in /usr/local/lib/python3.11/dist-packages (from eccodes>=0.9.8->cfgrib) (1.17.1)\n",
            "Collecting findlibs (from eccodes>=0.9.8->cfgrib)\n",
            "  Downloading findlibs-0.1.1-py3-none-any.whl.metadata (3.6 kB)\n",
            "Requirement already satisfied: pycparser in /usr/local/lib/python3.11/dist-packages (from cffi->eccodes>=0.9.8->cfgrib) (2.22)\n",
            "Downloading cfgrib-0.9.15.0-py3-none-any.whl (48 kB)\n",
            "\u001b[2K   \u001b[90m━━━━━━━━━━━━━━━━━━━━━━━━━━━━━━━━━━━━━━━━\u001b[0m \u001b[32m48.9/48.9 kB\u001b[0m \u001b[31m3.8 MB/s\u001b[0m eta \u001b[36m0:00:00\u001b[0m\n",
            "\u001b[?25hDownloading eccodes-2.42.0-cp311-cp311-manylinux_2_28_x86_64.whl (8.2 MB)\n",
            "\u001b[2K   \u001b[90m━━━━━━━━━━━━━━━━━━━━━━━━━━━━━━━━━━━━━━━━\u001b[0m \u001b[32m8.2/8.2 MB\u001b[0m \u001b[31m52.3 MB/s\u001b[0m eta \u001b[36m0:00:00\u001b[0m\n",
            "\u001b[?25hDownloading findlibs-0.1.1-py3-none-any.whl (10 kB)\n",
            "Installing collected packages: findlibs, eccodes, cfgrib\n",
            "Successfully installed cfgrib-0.9.15.0 eccodes-2.42.0 findlibs-0.1.1\n"
          ]
        }
      ]
    },
    {
      "cell_type": "code",
      "source": [
        "!sudo apt install aria2"
      ],
      "metadata": {
        "id": "ra6QPuljGkzT",
        "outputId": "7d580523-4242-442f-d9f6-b363ec3adf2d",
        "colab": {
          "base_uri": "https://localhost:8080/"
        }
      },
      "execution_count": 34,
      "outputs": [
        {
          "output_type": "stream",
          "name": "stdout",
          "text": [
            "Reading package lists... Done\n",
            "Building dependency tree... Done\n",
            "Reading state information... Done\n",
            "The following additional packages will be installed:\n",
            "  libaria2-0 libc-ares2\n",
            "The following NEW packages will be installed:\n",
            "  aria2 libaria2-0 libc-ares2\n",
            "0 upgraded, 3 newly installed, 0 to remove and 35 not upgraded.\n",
            "Need to get 1,513 kB of archives.\n",
            "After this operation, 5,441 kB of additional disk space will be used.\n",
            "Get:1 http://archive.ubuntu.com/ubuntu jammy-updates/main amd64 libc-ares2 amd64 1.18.1-1ubuntu0.22.04.3 [45.1 kB]\n",
            "Get:2 http://archive.ubuntu.com/ubuntu jammy/universe amd64 libaria2-0 amd64 1.36.0-1 [1,086 kB]\n",
            "Get:3 http://archive.ubuntu.com/ubuntu jammy/universe amd64 aria2 amd64 1.36.0-1 [381 kB]\n",
            "Fetched 1,513 kB in 1s (1,431 kB/s)\n",
            "debconf: unable to initialize frontend: Dialog\n",
            "debconf: (No usable dialog-like program is installed, so the dialog based frontend cannot be used. at /usr/share/perl5/Debconf/FrontEnd/Dialog.pm line 78, <> line 3.)\n",
            "debconf: falling back to frontend: Readline\n",
            "debconf: unable to initialize frontend: Readline\n",
            "debconf: (This frontend requires a controlling tty.)\n",
            "debconf: falling back to frontend: Teletype\n",
            "dpkg-preconfigure: unable to re-open stdin: \n",
            "Selecting previously unselected package libc-ares2:amd64.\n",
            "(Reading database ... 126281 files and directories currently installed.)\n",
            "Preparing to unpack .../libc-ares2_1.18.1-1ubuntu0.22.04.3_amd64.deb ...\n",
            "Unpacking libc-ares2:amd64 (1.18.1-1ubuntu0.22.04.3) ...\n",
            "Selecting previously unselected package libaria2-0:amd64.\n",
            "Preparing to unpack .../libaria2-0_1.36.0-1_amd64.deb ...\n",
            "Unpacking libaria2-0:amd64 (1.36.0-1) ...\n",
            "Selecting previously unselected package aria2.\n",
            "Preparing to unpack .../aria2_1.36.0-1_amd64.deb ...\n",
            "Unpacking aria2 (1.36.0-1) ...\n",
            "Setting up libc-ares2:amd64 (1.18.1-1ubuntu0.22.04.3) ...\n",
            "Setting up libaria2-0:amd64 (1.36.0-1) ...\n",
            "Setting up aria2 (1.36.0-1) ...\n",
            "Processing triggers for man-db (2.10.2-1) ...\n",
            "Processing triggers for libc-bin (2.35-0ubuntu3.8) ...\n",
            "/sbin/ldconfig.real: /usr/local/lib/libtbbbind.so.3 is not a symbolic link\n",
            "\n",
            "/sbin/ldconfig.real: /usr/local/lib/libtcm.so.1 is not a symbolic link\n",
            "\n",
            "/sbin/ldconfig.real: /usr/local/lib/libur_adapter_level_zero.so.0 is not a symbolic link\n",
            "\n",
            "/sbin/ldconfig.real: /usr/local/lib/libtbbmalloc_proxy.so.2 is not a symbolic link\n",
            "\n",
            "/sbin/ldconfig.real: /usr/local/lib/libtbbbind_2_0.so.3 is not a symbolic link\n",
            "\n",
            "/sbin/ldconfig.real: /usr/local/lib/libtbbmalloc.so.2 is not a symbolic link\n",
            "\n",
            "/sbin/ldconfig.real: /usr/local/lib/libtcm_debug.so.1 is not a symbolic link\n",
            "\n",
            "/sbin/ldconfig.real: /usr/local/lib/libumf.so.0 is not a symbolic link\n",
            "\n",
            "/sbin/ldconfig.real: /usr/local/lib/libur_adapter_opencl.so.0 is not a symbolic link\n",
            "\n",
            "/sbin/ldconfig.real: /usr/local/lib/libhwloc.so.15 is not a symbolic link\n",
            "\n",
            "/sbin/ldconfig.real: /usr/local/lib/libur_adapter_level_zero_v2.so.0 is not a symbolic link\n",
            "\n",
            "/sbin/ldconfig.real: /usr/local/lib/libtbbbind_2_5.so.3 is not a symbolic link\n",
            "\n",
            "/sbin/ldconfig.real: /usr/local/lib/libur_loader.so.0 is not a symbolic link\n",
            "\n",
            "/sbin/ldconfig.real: /usr/local/lib/libtbb.so.12 is not a symbolic link\n",
            "\n"
          ]
        }
      ]
    },
    {
      "cell_type": "code",
      "source": [
        "import xarray as xr\n",
        "import pandas as pd\n",
        "from datetime import datetime as dt\n",
        "import cfgrib\n",
        "import subprocess as sp"
      ],
      "metadata": {
        "id": "vWrr_30yZ4nh"
      },
      "execution_count": 35,
      "outputs": []
    },
    {
      "cell_type": "code",
      "source": [
        "from google.colab import drive\n",
        "drive.mount('/content/drive')"
      ],
      "metadata": {
        "id": "6KsU8RFVmin5",
        "outputId": "937618e6-6bf8-4c63-d1ea-b1c2c68c905a",
        "colab": {
          "base_uri": "https://localhost:8080/"
        }
      },
      "execution_count": 1,
      "outputs": [
        {
          "output_type": "stream",
          "name": "stdout",
          "text": [
            "Mounted at /content/drive\n"
          ]
        }
      ]
    },
    {
      "cell_type": "markdown",
      "source": [
        "#User parameters"
      ],
      "metadata": {
        "id": "XnkUgaLnLbuC"
      }
    },
    {
      "cell_type": "code",
      "source": [
        "subfolder = \"RI\"\n",
        "saveLocAtm = \"drive/MyDrive/savedData/hafsaOutput/\" + subfolder\n",
        "saveLocOce = \"drive/MyDrive/savedData/mom6Output/\" + subfolder\n",
        "bucket = \"https://noaa-nws-hafs-pds.s3.amazonaws.com/hfsa/\"\n",
        "\n",
        "name = \"Milton\"\n",
        "tcNum = \"14\"\n",
        "trackType = \"\"\n",
        "\n",
        "start = dt(year=2024, month=10, day=6, hour=0)\n",
        "end = dt(year=2024, month=10, day=6, hour=0)\n",
        "\n",
        "fHourStep = 6 #Normally 3 for HAFS-A\n",
        "forecastLength = 48 #Normally 126 for HAFS-A. Changeable for testing.\n",
        "runStep = 6 #Normally 6 for HAFS-A\n",
        "\n",
        "downloadAtm = True\n",
        "downloadOce = False\n",
        "replaceExisting = True"
      ],
      "metadata": {
        "id": "5mX9LiKtLeTX"
      },
      "execution_count": 42,
      "outputs": []
    },
    {
      "cell_type": "code",
      "source": [
        "atmTop = 700 # in hPa\n",
        "oceBottom = 530 # In m below surface. This was chosen to include a layer in the files that's around 529 m"
      ],
      "metadata": {
        "id": "nSPZ_yPqEe7x"
      },
      "execution_count": 43,
      "outputs": []
    },
    {
      "cell_type": "markdown",
      "source": [
        "#Determine Area and Temporal Extent"
      ],
      "metadata": {
        "id": "AHP_bcI8s-W6"
      }
    },
    {
      "cell_type": "markdown",
      "source": [
        "Get best track data and find bounds of TC track"
      ],
      "metadata": {
        "id": "f4C7bEjXNznh"
      }
    },
    {
      "cell_type": "code",
      "source": [
        "bt = pd.read_csv(f\"/content/drive/MyDrive/savedData/{name}/hurdat2_\" + name + trackType + \".csv\")\n",
        "latBounds = [min(bt.lat), max(bt.lat)]\n",
        "lonBounds = [min(bt.lon), max(bt.lon)]"
      ],
      "metadata": {
        "id": "IwrrNNGhMYau"
      },
      "execution_count": 44,
      "outputs": []
    },
    {
      "cell_type": "code",
      "source": [
        "dateFormat = \"%Y-%m-%d %H:%M:%S\"\n",
        "runFormat = \"%Y%m%d%H\""
      ],
      "metadata": {
        "id": "N7EXfX8AgqHB"
      },
      "execution_count": 45,
      "outputs": []
    },
    {
      "cell_type": "markdown",
      "source": [
        "Find times needed"
      ],
      "metadata": {
        "id": "aQjv2UVg4l65"
      }
    },
    {
      "cell_type": "code",
      "source": [
        "fcastTimes = {} #Key: initiation, item: valid time list\n",
        "\n",
        "initTime = start\n",
        "while initTime <= end:\n",
        "  validTime = initTime\n",
        "  fcastTimes[initTime] = []\n",
        "  fhour = 0\n",
        "\n",
        "  while fhour <= forecastLength:\n",
        "    fcastTimes[initTime].append(validTime)\n",
        "    validTime += pd.Timedelta(hours=fHourStep)\n",
        "    fhour += fHourStep\n",
        "\n",
        "  initTime += pd.Timedelta(hours=runStep)"
      ],
      "metadata": {
        "collapsed": true,
        "id": "jdMyhDj94ij0"
      },
      "execution_count": 46,
      "outputs": []
    },
    {
      "cell_type": "code",
      "source": [
        "t = [fcastTimes[key] for key in fcastTimes.keys()]\n",
        "flat_list = [item for sublist in t for item in sublist]\n",
        "totalAtmData = 200 * len(flat_list)\n",
        "totalOceData = 30 * len(flat_list)\n",
        "print(f\"Approximate storage needed: {(totalAtmData+totalOceData)/1000} GB\")"
      ],
      "metadata": {
        "id": "-5GRx1XRJ_uN",
        "outputId": "b156e8cd-d9e8-4406-8eac-5454c78fdad6",
        "colab": {
          "base_uri": "https://localhost:8080/"
        }
      },
      "execution_count": 47,
      "outputs": [
        {
          "output_type": "stream",
          "name": "stdout",
          "text": [
            "Approximate storage needed: 2.07 GB\n"
          ]
        }
      ]
    },
    {
      "cell_type": "code",
      "source": [
        "fcastTimes"
      ],
      "metadata": {
        "id": "MzL6BuzUwpp7",
        "outputId": "0eeee0da-6ba7-44fe-c63c-62070d48450b",
        "colab": {
          "base_uri": "https://localhost:8080/"
        }
      },
      "execution_count": 48,
      "outputs": [
        {
          "output_type": "execute_result",
          "data": {
            "text/plain": [
              "{datetime.datetime(2024, 10, 6, 0, 0): [datetime.datetime(2024, 10, 6, 0, 0),\n",
              "  datetime.datetime(2024, 10, 6, 6, 0),\n",
              "  datetime.datetime(2024, 10, 6, 12, 0),\n",
              "  datetime.datetime(2024, 10, 6, 18, 0),\n",
              "  datetime.datetime(2024, 10, 7, 0, 0),\n",
              "  datetime.datetime(2024, 10, 7, 6, 0),\n",
              "  datetime.datetime(2024, 10, 7, 12, 0),\n",
              "  datetime.datetime(2024, 10, 7, 18, 0),\n",
              "  datetime.datetime(2024, 10, 8, 0, 0)]}"
            ]
          },
          "metadata": {},
          "execution_count": 48
        }
      ]
    },
    {
      "cell_type": "markdown",
      "source": [
        "#Retrieve Data"
      ],
      "metadata": {
        "id": "5MU8O99TOZme"
      }
    },
    {
      "cell_type": "markdown",
      "source": [
        "Determine what files already exist"
      ],
      "metadata": {
        "id": "cxxzCBnyrdk8"
      }
    },
    {
      "cell_type": "code",
      "source": [
        "existingFilesLs = !ls {saveLocAtm}\n",
        "existingFiles = [f for files in existingFilesLs for f in files.split(\"  \")]\n",
        "existingFileNames = [f.replace(\"nc\", \"grb2\").replace(\"hafsa\", \"atm\").replace(\"mom6\", \"oce\") for f in existingFiles]\n",
        "existingFileNames.sort()"
      ],
      "metadata": {
        "id": "kxLQmg3erdPR"
      },
      "execution_count": 49,
      "outputs": []
    },
    {
      "cell_type": "markdown",
      "source": [
        "Download HAFS"
      ],
      "metadata": {
        "id": "EIzilsV5vIKA"
      }
    },
    {
      "cell_type": "code",
      "source": [
        "for init, validList in fcastTimes.items():\n",
        "\n",
        "  if not downloadAtm: break\n",
        "\n",
        "  initDate, initHour = init.strftime(\"%Y%m%d_%H\").split(\"_\")\n",
        "\n",
        "  for valid in validList:\n",
        "\n",
        "    fhour = str(int((valid-init).total_seconds() / 3600))\n",
        "    while len(fhour) < 3: fhour = \"0\" + fhour\n",
        "\n",
        "    atmURL = bucket + initDate + \"/\" + initHour + \"/\" + tcNum + \"l.\" + initDate + initHour + \".hfsa.storm.atm.f\" + fhour + \".grb2\"\n",
        "    atmFile = \"atm_\" + initDate + initHour + \"_f\" + fhour + \".grb2\"\n",
        "    if atmFile in existingFileNames and not replaceExisting:\n",
        "      print(atmFile + \" already exists.\\n\")\n",
        "      continue #Skip files we already have\n",
        "\n",
        "    !aria2c -x 16 -s 16 --allow-overwrite=true -o {atmFile} {atmURL}\n",
        "    isoData = xr.open_dataset(atmFile, engine=\"cfgrib\", decode_timedelta=True, filter_by_keys={'typeOfLevel': 'isobaricInhPa', 'stepType': 'instant'})\n",
        "    sfcData = xr.open_dataset(atmFile, engine=\"cfgrib\", decode_timedelta=True, filter_by_keys={'typeOfLevel': 'surface', 'stepType': 'instant'})\n",
        "    atmData = xr.merge([isoData, sfcData], compat=\"override\") # Takes conflicting variables from the isobaric data\n",
        "\n",
        "    pressureSlice = slice(max(atmData.isobaricInhPa.data), atmTop)\n",
        "    #Longitude in atm files are in degrees east, but are -180 - 180 in oce files. point has them from -180 - 180\n",
        "    atmSlice = atmData.sel(latitude=slice(latBounds[0], latBounds[1]), longitude=slice(360+lonBounds[0], 360+lonBounds[1]), isobaricInhPa=pressureSlice)\n",
        "\n",
        "    atmSlice.to_netcdf(saveLocAtm + \"/hafsa_\" + initDate + initHour + \"_f\" + fhour + \".nc\")\n",
        "\n",
        "    !rm {atmFile}"
      ],
      "metadata": {
        "id": "SZPGYEMDlF2T",
        "outputId": "9489ef62-1ff7-40ba-b89f-165221388c57",
        "colab": {
          "base_uri": "https://localhost:8080/"
        }
      },
      "execution_count": 50,
      "outputs": [
        {
          "output_type": "stream",
          "name": "stdout",
          "text": [
            "\n",
            "07/09 15:55:39 [\u001b[1;32mNOTICE\u001b[0m] Downloading 1 item(s)\n",
            "\u001b[0m\n",
            "07/09 15:55:41 [\u001b[1;32mNOTICE\u001b[0m] Download complete: /content/atm_2024100600_f000.grb2\n",
            "\n",
            "Download Results:\n",
            "gid   |stat|avg speed  |path/URI\n",
            "======+====+===========+=======================================================\n",
            "f663e2|\u001b[1;32mOK\u001b[0m  |   160MiB/s|/content/atm_2024100600_f000.grb2\n",
            "\n",
            "Status Legend:\n",
            "(OK):download completed.\n"
          ]
        },
        {
          "output_type": "stream",
          "name": "stderr",
          "text": [
            "ERROR:cfgrib.dataset:skipping variable: paramId==3017 shortName='dpt'\n",
            "Traceback (most recent call last):\n",
            "  File \"/usr/local/lib/python3.11/dist-packages/cfgrib/dataset.py\", line 725, in build_dataset_components\n",
            "    dict_merge(variables, coord_vars)\n",
            "  File \"/usr/local/lib/python3.11/dist-packages/cfgrib/dataset.py\", line 641, in dict_merge\n",
            "    raise DatasetBuildError(\n",
            "cfgrib.dataset.DatasetBuildError: key present and new value is different: key='isobaricInhPa' value=Variable(dimensions=('isobaricInhPa',), data=array([1000.,  975.,  950.,  925.,  900.,  875.,  850.,  825.,  800.,\n",
            "        775.,  750.,  725.,  700.,  675.,  650.,  625.,  600.,  575.,\n",
            "        550.,  525.,  500.,  475.,  450.,  425.,  400.,  375.,  350.,\n",
            "        325.,  300.,  275.,  250.,  225.,  200.,  175.,  150.,  125.,\n",
            "        100.,   70.,   50.,   30.,   20.,   10.,    7.,    5.,    2.])) new_value=Variable(dimensions=('isobaricInhPa',), data=array([850., 700., 500., 300., 200., 100.]))\n"
          ]
        },
        {
          "output_type": "stream",
          "name": "stdout",
          "text": [
            "\n",
            "07/09 15:56:01 [\u001b[1;32mNOTICE\u001b[0m] Downloading 1 item(s)\n",
            "\u001b[0m\n",
            "07/09 15:56:03 [\u001b[1;32mNOTICE\u001b[0m] Download complete: /content/atm_2024100600_f006.grb2\n",
            "\n",
            "Download Results:\n",
            "gid   |stat|avg speed  |path/URI\n",
            "======+====+===========+=======================================================\n",
            "a4a616|\u001b[1;32mOK\u001b[0m  |   150MiB/s|/content/atm_2024100600_f006.grb2\n",
            "\n",
            "Status Legend:\n",
            "(OK):download completed.\n"
          ]
        },
        {
          "output_type": "stream",
          "name": "stderr",
          "text": [
            "ERROR:cfgrib.dataset:skipping variable: paramId==3017 shortName='dpt'\n",
            "Traceback (most recent call last):\n",
            "  File \"/usr/local/lib/python3.11/dist-packages/cfgrib/dataset.py\", line 725, in build_dataset_components\n",
            "    dict_merge(variables, coord_vars)\n",
            "  File \"/usr/local/lib/python3.11/dist-packages/cfgrib/dataset.py\", line 641, in dict_merge\n",
            "    raise DatasetBuildError(\n",
            "cfgrib.dataset.DatasetBuildError: key present and new value is different: key='isobaricInhPa' value=Variable(dimensions=('isobaricInhPa',), data=array([1000.,  975.,  950.,  925.,  900.,  875.,  850.,  825.,  800.,\n",
            "        775.,  750.,  725.,  700.,  675.,  650.,  625.,  600.,  575.,\n",
            "        550.,  525.,  500.,  475.,  450.,  425.,  400.,  375.,  350.,\n",
            "        325.,  300.,  275.,  250.,  225.,  200.,  175.,  150.,  125.,\n",
            "        100.,   70.,   50.,   30.,   20.,   10.,    7.,    5.,    2.])) new_value=Variable(dimensions=('isobaricInhPa',), data=array([850., 700., 500., 300., 200., 100.]))\n"
          ]
        },
        {
          "output_type": "stream",
          "name": "stdout",
          "text": [
            "\n",
            "07/09 15:56:22 [\u001b[1;32mNOTICE\u001b[0m] Downloading 1 item(s)\n",
            "\u001b[0m\n",
            "07/09 15:56:25 [\u001b[1;32mNOTICE\u001b[0m] Download complete: /content/atm_2024100600_f012.grb2\n",
            "\n",
            "Download Results:\n",
            "gid   |stat|avg speed  |path/URI\n",
            "======+====+===========+=======================================================\n",
            "b1d592|\u001b[1;32mOK\u001b[0m  |   167MiB/s|/content/atm_2024100600_f012.grb2\n",
            "\n",
            "Status Legend:\n",
            "(OK):download completed.\n"
          ]
        },
        {
          "output_type": "stream",
          "name": "stderr",
          "text": [
            "ERROR:cfgrib.dataset:skipping variable: paramId==3017 shortName='dpt'\n",
            "Traceback (most recent call last):\n",
            "  File \"/usr/local/lib/python3.11/dist-packages/cfgrib/dataset.py\", line 725, in build_dataset_components\n",
            "    dict_merge(variables, coord_vars)\n",
            "  File \"/usr/local/lib/python3.11/dist-packages/cfgrib/dataset.py\", line 641, in dict_merge\n",
            "    raise DatasetBuildError(\n",
            "cfgrib.dataset.DatasetBuildError: key present and new value is different: key='isobaricInhPa' value=Variable(dimensions=('isobaricInhPa',), data=array([1000.,  975.,  950.,  925.,  900.,  875.,  850.,  825.,  800.,\n",
            "        775.,  750.,  725.,  700.,  675.,  650.,  625.,  600.,  575.,\n",
            "        550.,  525.,  500.,  475.,  450.,  425.,  400.,  375.,  350.,\n",
            "        325.,  300.,  275.,  250.,  225.,  200.,  175.,  150.,  125.,\n",
            "        100.,   70.,   50.,   30.,   20.,   10.,    7.,    5.,    2.])) new_value=Variable(dimensions=('isobaricInhPa',), data=array([850., 700., 500., 300., 200., 100.]))\n"
          ]
        },
        {
          "output_type": "stream",
          "name": "stdout",
          "text": [
            "\n",
            "07/09 15:56:44 [\u001b[1;32mNOTICE\u001b[0m] Downloading 1 item(s)\n",
            "\u001b[0m\n",
            "07/09 15:56:46 [\u001b[1;32mNOTICE\u001b[0m] Download complete: /content/atm_2024100600_f018.grb2\n",
            "\n",
            "Download Results:\n",
            "gid   |stat|avg speed  |path/URI\n",
            "======+====+===========+=======================================================\n",
            "0df654|\u001b[1;32mOK\u001b[0m  |   196MiB/s|/content/atm_2024100600_f018.grb2\n",
            "\n",
            "Status Legend:\n",
            "(OK):download completed.\n"
          ]
        },
        {
          "output_type": "stream",
          "name": "stderr",
          "text": [
            "ERROR:cfgrib.dataset:skipping variable: paramId==3017 shortName='dpt'\n",
            "Traceback (most recent call last):\n",
            "  File \"/usr/local/lib/python3.11/dist-packages/cfgrib/dataset.py\", line 725, in build_dataset_components\n",
            "    dict_merge(variables, coord_vars)\n",
            "  File \"/usr/local/lib/python3.11/dist-packages/cfgrib/dataset.py\", line 641, in dict_merge\n",
            "    raise DatasetBuildError(\n",
            "cfgrib.dataset.DatasetBuildError: key present and new value is different: key='isobaricInhPa' value=Variable(dimensions=('isobaricInhPa',), data=array([1000.,  975.,  950.,  925.,  900.,  875.,  850.,  825.,  800.,\n",
            "        775.,  750.,  725.,  700.,  675.,  650.,  625.,  600.,  575.,\n",
            "        550.,  525.,  500.,  475.,  450.,  425.,  400.,  375.,  350.,\n",
            "        325.,  300.,  275.,  250.,  225.,  200.,  175.,  150.,  125.,\n",
            "        100.,   70.,   50.,   30.,   20.,   10.,    7.,    5.,    2.])) new_value=Variable(dimensions=('isobaricInhPa',), data=array([850., 700., 500., 300., 200., 100.]))\n"
          ]
        },
        {
          "output_type": "stream",
          "name": "stdout",
          "text": [
            "\n",
            "07/09 15:57:03 [\u001b[1;32mNOTICE\u001b[0m] Downloading 1 item(s)\n",
            "\u001b[0m\n",
            "07/09 15:57:06 [\u001b[1;32mNOTICE\u001b[0m] Download complete: /content/atm_2024100600_f024.grb2\n",
            "\n",
            "Download Results:\n",
            "gid   |stat|avg speed  |path/URI\n",
            "======+====+===========+=======================================================\n",
            "0b3cd4|\u001b[1;32mOK\u001b[0m  |   127MiB/s|/content/atm_2024100600_f024.grb2\n",
            "\n",
            "Status Legend:\n",
            "(OK):download completed.\n"
          ]
        },
        {
          "output_type": "stream",
          "name": "stderr",
          "text": [
            "ERROR:cfgrib.dataset:skipping variable: paramId==3017 shortName='dpt'\n",
            "Traceback (most recent call last):\n",
            "  File \"/usr/local/lib/python3.11/dist-packages/cfgrib/dataset.py\", line 725, in build_dataset_components\n",
            "    dict_merge(variables, coord_vars)\n",
            "  File \"/usr/local/lib/python3.11/dist-packages/cfgrib/dataset.py\", line 641, in dict_merge\n",
            "    raise DatasetBuildError(\n",
            "cfgrib.dataset.DatasetBuildError: key present and new value is different: key='isobaricInhPa' value=Variable(dimensions=('isobaricInhPa',), data=array([1000.,  975.,  950.,  925.,  900.,  875.,  850.,  825.,  800.,\n",
            "        775.,  750.,  725.,  700.,  675.,  650.,  625.,  600.,  575.,\n",
            "        550.,  525.,  500.,  475.,  450.,  425.,  400.,  375.,  350.,\n",
            "        325.,  300.,  275.,  250.,  225.,  200.,  175.,  150.,  125.,\n",
            "        100.,   70.,   50.,   30.,   20.,   10.,    7.,    5.,    2.])) new_value=Variable(dimensions=('isobaricInhPa',), data=array([850., 700., 500., 300., 200., 100.]))\n"
          ]
        },
        {
          "output_type": "stream",
          "name": "stdout",
          "text": [
            "\n",
            "07/09 15:57:22 [\u001b[1;32mNOTICE\u001b[0m] Downloading 1 item(s)\n",
            "\u001b[0m\n",
            "07/09 15:57:25 [\u001b[1;32mNOTICE\u001b[0m] Download complete: /content/atm_2024100600_f030.grb2\n",
            "\n",
            "Download Results:\n",
            "gid   |stat|avg speed  |path/URI\n",
            "======+====+===========+=======================================================\n",
            "30bacf|\u001b[1;32mOK\u001b[0m  |   104MiB/s|/content/atm_2024100600_f030.grb2\n",
            "\n",
            "Status Legend:\n",
            "(OK):download completed.\n"
          ]
        },
        {
          "output_type": "stream",
          "name": "stderr",
          "text": [
            "ERROR:cfgrib.dataset:skipping variable: paramId==3017 shortName='dpt'\n",
            "Traceback (most recent call last):\n",
            "  File \"/usr/local/lib/python3.11/dist-packages/cfgrib/dataset.py\", line 725, in build_dataset_components\n",
            "    dict_merge(variables, coord_vars)\n",
            "  File \"/usr/local/lib/python3.11/dist-packages/cfgrib/dataset.py\", line 641, in dict_merge\n",
            "    raise DatasetBuildError(\n",
            "cfgrib.dataset.DatasetBuildError: key present and new value is different: key='isobaricInhPa' value=Variable(dimensions=('isobaricInhPa',), data=array([1000.,  975.,  950.,  925.,  900.,  875.,  850.,  825.,  800.,\n",
            "        775.,  750.,  725.,  700.,  675.,  650.,  625.,  600.,  575.,\n",
            "        550.,  525.,  500.,  475.,  450.,  425.,  400.,  375.,  350.,\n",
            "        325.,  300.,  275.,  250.,  225.,  200.,  175.,  150.,  125.,\n",
            "        100.,   70.,   50.,   30.,   20.,   10.,    7.,    5.,    2.])) new_value=Variable(dimensions=('isobaricInhPa',), data=array([850., 700., 500., 300., 200., 100.]))\n"
          ]
        },
        {
          "output_type": "stream",
          "name": "stdout",
          "text": [
            "\n",
            "07/09 15:57:43 [\u001b[1;32mNOTICE\u001b[0m] Downloading 1 item(s)\n",
            "\u001b[0m\n",
            "07/09 15:57:45 [\u001b[1;32mNOTICE\u001b[0m] Download complete: /content/atm_2024100600_f036.grb2\n",
            "\n",
            "Download Results:\n",
            "gid   |stat|avg speed  |path/URI\n",
            "======+====+===========+=======================================================\n",
            "03dc44|\u001b[1;32mOK\u001b[0m  |   172MiB/s|/content/atm_2024100600_f036.grb2\n",
            "\n",
            "Status Legend:\n",
            "(OK):download completed.\n"
          ]
        },
        {
          "output_type": "stream",
          "name": "stderr",
          "text": [
            "ERROR:cfgrib.dataset:skipping variable: paramId==3017 shortName='dpt'\n",
            "Traceback (most recent call last):\n",
            "  File \"/usr/local/lib/python3.11/dist-packages/cfgrib/dataset.py\", line 725, in build_dataset_components\n",
            "    dict_merge(variables, coord_vars)\n",
            "  File \"/usr/local/lib/python3.11/dist-packages/cfgrib/dataset.py\", line 641, in dict_merge\n",
            "    raise DatasetBuildError(\n",
            "cfgrib.dataset.DatasetBuildError: key present and new value is different: key='isobaricInhPa' value=Variable(dimensions=('isobaricInhPa',), data=array([1000.,  975.,  950.,  925.,  900.,  875.,  850.,  825.,  800.,\n",
            "        775.,  750.,  725.,  700.,  675.,  650.,  625.,  600.,  575.,\n",
            "        550.,  525.,  500.,  475.,  450.,  425.,  400.,  375.,  350.,\n",
            "        325.,  300.,  275.,  250.,  225.,  200.,  175.,  150.,  125.,\n",
            "        100.,   70.,   50.,   30.,   20.,   10.,    7.,    5.,    2.])) new_value=Variable(dimensions=('isobaricInhPa',), data=array([850., 700., 500., 300., 200., 100.]))\n"
          ]
        },
        {
          "output_type": "stream",
          "name": "stdout",
          "text": [
            "\n",
            "07/09 15:58:04 [\u001b[1;32mNOTICE\u001b[0m] Downloading 1 item(s)\n",
            "\u001b[0m\n",
            "07/09 15:58:07 [\u001b[1;32mNOTICE\u001b[0m] Download complete: /content/atm_2024100600_f042.grb2\n",
            "\n",
            "Download Results:\n",
            "gid   |stat|avg speed  |path/URI\n",
            "======+====+===========+=======================================================\n",
            "f83f90|\u001b[1;32mOK\u001b[0m  |   182MiB/s|/content/atm_2024100600_f042.grb2\n",
            "\n",
            "Status Legend:\n",
            "(OK):download completed.\n"
          ]
        },
        {
          "output_type": "stream",
          "name": "stderr",
          "text": [
            "ERROR:cfgrib.dataset:skipping variable: paramId==3017 shortName='dpt'\n",
            "Traceback (most recent call last):\n",
            "  File \"/usr/local/lib/python3.11/dist-packages/cfgrib/dataset.py\", line 725, in build_dataset_components\n",
            "    dict_merge(variables, coord_vars)\n",
            "  File \"/usr/local/lib/python3.11/dist-packages/cfgrib/dataset.py\", line 641, in dict_merge\n",
            "    raise DatasetBuildError(\n",
            "cfgrib.dataset.DatasetBuildError: key present and new value is different: key='isobaricInhPa' value=Variable(dimensions=('isobaricInhPa',), data=array([1000.,  975.,  950.,  925.,  900.,  875.,  850.,  825.,  800.,\n",
            "        775.,  750.,  725.,  700.,  675.,  650.,  625.,  600.,  575.,\n",
            "        550.,  525.,  500.,  475.,  450.,  425.,  400.,  375.,  350.,\n",
            "        325.,  300.,  275.,  250.,  225.,  200.,  175.,  150.,  125.,\n",
            "        100.,   70.,   50.,   30.,   20.,   10.,    7.,    5.,    2.])) new_value=Variable(dimensions=('isobaricInhPa',), data=array([850., 700., 500., 300., 200., 100.]))\n"
          ]
        },
        {
          "output_type": "stream",
          "name": "stdout",
          "text": [
            "\n",
            "07/09 15:58:27 [\u001b[1;32mNOTICE\u001b[0m] Downloading 1 item(s)\n",
            "\u001b[0m\n",
            "07/09 15:58:30 [\u001b[1;32mNOTICE\u001b[0m] Download complete: /content/atm_2024100600_f048.grb2\n",
            "\n",
            "Download Results:\n",
            "gid   |stat|avg speed  |path/URI\n",
            "======+====+===========+=======================================================\n",
            "49c52e|\u001b[1;32mOK\u001b[0m  |   196MiB/s|/content/atm_2024100600_f048.grb2\n",
            "\n",
            "Status Legend:\n",
            "(OK):download completed.\n"
          ]
        },
        {
          "output_type": "stream",
          "name": "stderr",
          "text": [
            "ERROR:cfgrib.dataset:skipping variable: paramId==3017 shortName='dpt'\n",
            "Traceback (most recent call last):\n",
            "  File \"/usr/local/lib/python3.11/dist-packages/cfgrib/dataset.py\", line 725, in build_dataset_components\n",
            "    dict_merge(variables, coord_vars)\n",
            "  File \"/usr/local/lib/python3.11/dist-packages/cfgrib/dataset.py\", line 641, in dict_merge\n",
            "    raise DatasetBuildError(\n",
            "cfgrib.dataset.DatasetBuildError: key present and new value is different: key='isobaricInhPa' value=Variable(dimensions=('isobaricInhPa',), data=array([1000.,  975.,  950.,  925.,  900.,  875.,  850.,  825.,  800.,\n",
            "        775.,  750.,  725.,  700.,  675.,  650.,  625.,  600.,  575.,\n",
            "        550.,  525.,  500.,  475.,  450.,  425.,  400.,  375.,  350.,\n",
            "        325.,  300.,  275.,  250.,  225.,  200.,  175.,  150.,  125.,\n",
            "        100.,   70.,   50.,   30.,   20.,   10.,    7.,    5.,    2.])) new_value=Variable(dimensions=('isobaricInhPa',), data=array([850., 700., 500., 300., 200., 100.]))\n"
          ]
        }
      ]
    },
    {
      "cell_type": "code",
      "source": [
        "atmData"
      ],
      "metadata": {
        "id": "EhUEPvqN4_UQ",
        "outputId": "57ff12b2-eb4b-4051-caae-46e0cb223a49",
        "colab": {
          "base_uri": "https://localhost:8080/",
          "height": 519
        }
      },
      "execution_count": 51,
      "outputs": [
        {
          "output_type": "execute_result",
          "data": {
            "text/plain": [
              "<xarray.Dataset> Size: 2GB\n",
              "Dimensions:        (isobaricInhPa: 45, latitude: 801, longitude: 1001)\n",
              "Coordinates:\n",
              "    time           datetime64[ns] 8B ...\n",
              "    step           timedelta64[ns] 8B ...\n",
              "  * isobaricInhPa  (isobaricInhPa) float64 360B 1e+03 975.0 950.0 ... 5.0 2.0\n",
              "  * latitude       (latitude) float64 6kB 14.54 14.56 14.58 ... 30.5 30.52 30.54\n",
              "  * longitude      (longitude) float64 8kB 259.0 259.0 259.0 ... 279.0 279.0\n",
              "    valid_time     datetime64[ns] 8B ...\n",
              "    surface        float64 8B ...\n",
              "Data variables: (12/36)\n",
              "    gh             (isobaricInhPa, latitude, longitude) float32 144MB ...\n",
              "    t              (isobaricInhPa, latitude, longitude) float32 144MB ...\n",
              "    r              (isobaricInhPa, latitude, longitude) float32 144MB ...\n",
              "    q              (isobaricInhPa, latitude, longitude) float32 144MB ...\n",
              "    w              (isobaricInhPa, latitude, longitude) float32 144MB ...\n",
              "    wz             (isobaricInhPa, latitude, longitude) float32 144MB ...\n",
              "    ...             ...\n",
              "    sulwrf         (latitude, longitude) float32 3MB ...\n",
              "    unknown        (latitude, longitude) float32 3MB ...\n",
              "    nlat           (latitude, longitude) float32 3MB ...\n",
              "    elon           (latitude, longitude) float32 3MB ...\n",
              "    lsm            (latitude, longitude) float32 3MB ...\n",
              "    sst            (latitude, longitude) float32 3MB ...\n",
              "Attributes:\n",
              "    GRIB_edition:            2\n",
              "    GRIB_centre:             kwbc\n",
              "    GRIB_centreDescription:  US National Weather Service - NCEP\n",
              "    GRIB_subCentre:          0\n",
              "    Conventions:             CF-1.7\n",
              "    institution:             US National Weather Service - NCEP\n",
              "    history:                 2025-07-09T15:58 GRIB to CDM+CF via cfgrib-0.9.1..."
            ],
            "text/html": [
              "<div><svg style=\"position: absolute; width: 0; height: 0; overflow: hidden\">\n",
              "<defs>\n",
              "<symbol id=\"icon-database\" viewBox=\"0 0 32 32\">\n",
              "<path d=\"M16 0c-8.837 0-16 2.239-16 5v4c0 2.761 7.163 5 16 5s16-2.239 16-5v-4c0-2.761-7.163-5-16-5z\"></path>\n",
              "<path d=\"M16 17c-8.837 0-16-2.239-16-5v6c0 2.761 7.163 5 16 5s16-2.239 16-5v-6c0 2.761-7.163 5-16 5z\"></path>\n",
              "<path d=\"M16 26c-8.837 0-16-2.239-16-5v6c0 2.761 7.163 5 16 5s16-2.239 16-5v-6c0 2.761-7.163 5-16 5z\"></path>\n",
              "</symbol>\n",
              "<symbol id=\"icon-file-text2\" viewBox=\"0 0 32 32\">\n",
              "<path d=\"M28.681 7.159c-0.694-0.947-1.662-2.053-2.724-3.116s-2.169-2.030-3.116-2.724c-1.612-1.182-2.393-1.319-2.841-1.319h-15.5c-1.378 0-2.5 1.121-2.5 2.5v27c0 1.378 1.122 2.5 2.5 2.5h23c1.378 0 2.5-1.122 2.5-2.5v-19.5c0-0.448-0.137-1.23-1.319-2.841zM24.543 5.457c0.959 0.959 1.712 1.825 2.268 2.543h-4.811v-4.811c0.718 0.556 1.584 1.309 2.543 2.268zM28 29.5c0 0.271-0.229 0.5-0.5 0.5h-23c-0.271 0-0.5-0.229-0.5-0.5v-27c0-0.271 0.229-0.5 0.5-0.5 0 0 15.499-0 15.5 0v7c0 0.552 0.448 1 1 1h7v19.5z\"></path>\n",
              "<path d=\"M23 26h-14c-0.552 0-1-0.448-1-1s0.448-1 1-1h14c0.552 0 1 0.448 1 1s-0.448 1-1 1z\"></path>\n",
              "<path d=\"M23 22h-14c-0.552 0-1-0.448-1-1s0.448-1 1-1h14c0.552 0 1 0.448 1 1s-0.448 1-1 1z\"></path>\n",
              "<path d=\"M23 18h-14c-0.552 0-1-0.448-1-1s0.448-1 1-1h14c0.552 0 1 0.448 1 1s-0.448 1-1 1z\"></path>\n",
              "</symbol>\n",
              "</defs>\n",
              "</svg>\n",
              "<style>/* CSS stylesheet for displaying xarray objects in jupyterlab.\n",
              " *\n",
              " */\n",
              "\n",
              ":root {\n",
              "  --xr-font-color0: var(--jp-content-font-color0, rgba(0, 0, 0, 1));\n",
              "  --xr-font-color2: var(--jp-content-font-color2, rgba(0, 0, 0, 0.54));\n",
              "  --xr-font-color3: var(--jp-content-font-color3, rgba(0, 0, 0, 0.38));\n",
              "  --xr-border-color: var(--jp-border-color2, #e0e0e0);\n",
              "  --xr-disabled-color: var(--jp-layout-color3, #bdbdbd);\n",
              "  --xr-background-color: var(--jp-layout-color0, white);\n",
              "  --xr-background-color-row-even: var(--jp-layout-color1, white);\n",
              "  --xr-background-color-row-odd: var(--jp-layout-color2, #eeeeee);\n",
              "}\n",
              "\n",
              "html[theme=\"dark\"],\n",
              "html[data-theme=\"dark\"],\n",
              "body[data-theme=\"dark\"],\n",
              "body.vscode-dark {\n",
              "  --xr-font-color0: rgba(255, 255, 255, 1);\n",
              "  --xr-font-color2: rgba(255, 255, 255, 0.54);\n",
              "  --xr-font-color3: rgba(255, 255, 255, 0.38);\n",
              "  --xr-border-color: #1f1f1f;\n",
              "  --xr-disabled-color: #515151;\n",
              "  --xr-background-color: #111111;\n",
              "  --xr-background-color-row-even: #111111;\n",
              "  --xr-background-color-row-odd: #313131;\n",
              "}\n",
              "\n",
              ".xr-wrap {\n",
              "  display: block !important;\n",
              "  min-width: 300px;\n",
              "  max-width: 700px;\n",
              "}\n",
              "\n",
              ".xr-text-repr-fallback {\n",
              "  /* fallback to plain text repr when CSS is not injected (untrusted notebook) */\n",
              "  display: none;\n",
              "}\n",
              "\n",
              ".xr-header {\n",
              "  padding-top: 6px;\n",
              "  padding-bottom: 6px;\n",
              "  margin-bottom: 4px;\n",
              "  border-bottom: solid 1px var(--xr-border-color);\n",
              "}\n",
              "\n",
              ".xr-header > div,\n",
              ".xr-header > ul {\n",
              "  display: inline;\n",
              "  margin-top: 0;\n",
              "  margin-bottom: 0;\n",
              "}\n",
              "\n",
              ".xr-obj-type,\n",
              ".xr-array-name {\n",
              "  margin-left: 2px;\n",
              "  margin-right: 10px;\n",
              "}\n",
              "\n",
              ".xr-obj-type {\n",
              "  color: var(--xr-font-color2);\n",
              "}\n",
              "\n",
              ".xr-sections {\n",
              "  padding-left: 0 !important;\n",
              "  display: grid;\n",
              "  grid-template-columns: 150px auto auto 1fr 0 20px 0 20px;\n",
              "}\n",
              "\n",
              ".xr-section-item {\n",
              "  display: contents;\n",
              "}\n",
              "\n",
              ".xr-section-item input {\n",
              "  display: inline-block;\n",
              "  opacity: 0;\n",
              "  height: 0;\n",
              "}\n",
              "\n",
              ".xr-section-item input + label {\n",
              "  color: var(--xr-disabled-color);\n",
              "}\n",
              "\n",
              ".xr-section-item input:enabled + label {\n",
              "  cursor: pointer;\n",
              "  color: var(--xr-font-color2);\n",
              "}\n",
              "\n",
              ".xr-section-item input:focus + label {\n",
              "  border: 2px solid var(--xr-font-color0);\n",
              "}\n",
              "\n",
              ".xr-section-item input:enabled + label:hover {\n",
              "  color: var(--xr-font-color0);\n",
              "}\n",
              "\n",
              ".xr-section-summary {\n",
              "  grid-column: 1;\n",
              "  color: var(--xr-font-color2);\n",
              "  font-weight: 500;\n",
              "}\n",
              "\n",
              ".xr-section-summary > span {\n",
              "  display: inline-block;\n",
              "  padding-left: 0.5em;\n",
              "}\n",
              "\n",
              ".xr-section-summary-in:disabled + label {\n",
              "  color: var(--xr-font-color2);\n",
              "}\n",
              "\n",
              ".xr-section-summary-in + label:before {\n",
              "  display: inline-block;\n",
              "  content: \"►\";\n",
              "  font-size: 11px;\n",
              "  width: 15px;\n",
              "  text-align: center;\n",
              "}\n",
              "\n",
              ".xr-section-summary-in:disabled + label:before {\n",
              "  color: var(--xr-disabled-color);\n",
              "}\n",
              "\n",
              ".xr-section-summary-in:checked + label:before {\n",
              "  content: \"▼\";\n",
              "}\n",
              "\n",
              ".xr-section-summary-in:checked + label > span {\n",
              "  display: none;\n",
              "}\n",
              "\n",
              ".xr-section-summary,\n",
              ".xr-section-inline-details {\n",
              "  padding-top: 4px;\n",
              "  padding-bottom: 4px;\n",
              "}\n",
              "\n",
              ".xr-section-inline-details {\n",
              "  grid-column: 2 / -1;\n",
              "}\n",
              "\n",
              ".xr-section-details {\n",
              "  display: none;\n",
              "  grid-column: 1 / -1;\n",
              "  margin-bottom: 5px;\n",
              "}\n",
              "\n",
              ".xr-section-summary-in:checked ~ .xr-section-details {\n",
              "  display: contents;\n",
              "}\n",
              "\n",
              ".xr-array-wrap {\n",
              "  grid-column: 1 / -1;\n",
              "  display: grid;\n",
              "  grid-template-columns: 20px auto;\n",
              "}\n",
              "\n",
              ".xr-array-wrap > label {\n",
              "  grid-column: 1;\n",
              "  vertical-align: top;\n",
              "}\n",
              "\n",
              ".xr-preview {\n",
              "  color: var(--xr-font-color3);\n",
              "}\n",
              "\n",
              ".xr-array-preview,\n",
              ".xr-array-data {\n",
              "  padding: 0 5px !important;\n",
              "  grid-column: 2;\n",
              "}\n",
              "\n",
              ".xr-array-data,\n",
              ".xr-array-in:checked ~ .xr-array-preview {\n",
              "  display: none;\n",
              "}\n",
              "\n",
              ".xr-array-in:checked ~ .xr-array-data,\n",
              ".xr-array-preview {\n",
              "  display: inline-block;\n",
              "}\n",
              "\n",
              ".xr-dim-list {\n",
              "  display: inline-block !important;\n",
              "  list-style: none;\n",
              "  padding: 0 !important;\n",
              "  margin: 0;\n",
              "}\n",
              "\n",
              ".xr-dim-list li {\n",
              "  display: inline-block;\n",
              "  padding: 0;\n",
              "  margin: 0;\n",
              "}\n",
              "\n",
              ".xr-dim-list:before {\n",
              "  content: \"(\";\n",
              "}\n",
              "\n",
              ".xr-dim-list:after {\n",
              "  content: \")\";\n",
              "}\n",
              "\n",
              ".xr-dim-list li:not(:last-child):after {\n",
              "  content: \",\";\n",
              "  padding-right: 5px;\n",
              "}\n",
              "\n",
              ".xr-has-index {\n",
              "  font-weight: bold;\n",
              "}\n",
              "\n",
              ".xr-var-list,\n",
              ".xr-var-item {\n",
              "  display: contents;\n",
              "}\n",
              "\n",
              ".xr-var-item > div,\n",
              ".xr-var-item label,\n",
              ".xr-var-item > .xr-var-name span {\n",
              "  background-color: var(--xr-background-color-row-even);\n",
              "  margin-bottom: 0;\n",
              "}\n",
              "\n",
              ".xr-var-item > .xr-var-name:hover span {\n",
              "  padding-right: 5px;\n",
              "}\n",
              "\n",
              ".xr-var-list > li:nth-child(odd) > div,\n",
              ".xr-var-list > li:nth-child(odd) > label,\n",
              ".xr-var-list > li:nth-child(odd) > .xr-var-name span {\n",
              "  background-color: var(--xr-background-color-row-odd);\n",
              "}\n",
              "\n",
              ".xr-var-name {\n",
              "  grid-column: 1;\n",
              "}\n",
              "\n",
              ".xr-var-dims {\n",
              "  grid-column: 2;\n",
              "}\n",
              "\n",
              ".xr-var-dtype {\n",
              "  grid-column: 3;\n",
              "  text-align: right;\n",
              "  color: var(--xr-font-color2);\n",
              "}\n",
              "\n",
              ".xr-var-preview {\n",
              "  grid-column: 4;\n",
              "}\n",
              "\n",
              ".xr-index-preview {\n",
              "  grid-column: 2 / 5;\n",
              "  color: var(--xr-font-color2);\n",
              "}\n",
              "\n",
              ".xr-var-name,\n",
              ".xr-var-dims,\n",
              ".xr-var-dtype,\n",
              ".xr-preview,\n",
              ".xr-attrs dt {\n",
              "  white-space: nowrap;\n",
              "  overflow: hidden;\n",
              "  text-overflow: ellipsis;\n",
              "  padding-right: 10px;\n",
              "}\n",
              "\n",
              ".xr-var-name:hover,\n",
              ".xr-var-dims:hover,\n",
              ".xr-var-dtype:hover,\n",
              ".xr-attrs dt:hover {\n",
              "  overflow: visible;\n",
              "  width: auto;\n",
              "  z-index: 1;\n",
              "}\n",
              "\n",
              ".xr-var-attrs,\n",
              ".xr-var-data,\n",
              ".xr-index-data {\n",
              "  display: none;\n",
              "  background-color: var(--xr-background-color) !important;\n",
              "  padding-bottom: 5px !important;\n",
              "}\n",
              "\n",
              ".xr-var-attrs-in:checked ~ .xr-var-attrs,\n",
              ".xr-var-data-in:checked ~ .xr-var-data,\n",
              ".xr-index-data-in:checked ~ .xr-index-data {\n",
              "  display: block;\n",
              "}\n",
              "\n",
              ".xr-var-data > table {\n",
              "  float: right;\n",
              "}\n",
              "\n",
              ".xr-var-name span,\n",
              ".xr-var-data,\n",
              ".xr-index-name div,\n",
              ".xr-index-data,\n",
              ".xr-attrs {\n",
              "  padding-left: 25px !important;\n",
              "}\n",
              "\n",
              ".xr-attrs,\n",
              ".xr-var-attrs,\n",
              ".xr-var-data,\n",
              ".xr-index-data {\n",
              "  grid-column: 1 / -1;\n",
              "}\n",
              "\n",
              "dl.xr-attrs {\n",
              "  padding: 0;\n",
              "  margin: 0;\n",
              "  display: grid;\n",
              "  grid-template-columns: 125px auto;\n",
              "}\n",
              "\n",
              ".xr-attrs dt,\n",
              ".xr-attrs dd {\n",
              "  padding: 0;\n",
              "  margin: 0;\n",
              "  float: left;\n",
              "  padding-right: 10px;\n",
              "  width: auto;\n",
              "}\n",
              "\n",
              ".xr-attrs dt {\n",
              "  font-weight: normal;\n",
              "  grid-column: 1;\n",
              "}\n",
              "\n",
              ".xr-attrs dt:hover span {\n",
              "  display: inline-block;\n",
              "  background: var(--xr-background-color);\n",
              "  padding-right: 10px;\n",
              "}\n",
              "\n",
              ".xr-attrs dd {\n",
              "  grid-column: 2;\n",
              "  white-space: pre-wrap;\n",
              "  word-break: break-all;\n",
              "}\n",
              "\n",
              ".xr-icon-database,\n",
              ".xr-icon-file-text2,\n",
              ".xr-no-icon {\n",
              "  display: inline-block;\n",
              "  vertical-align: middle;\n",
              "  width: 1em;\n",
              "  height: 1.5em !important;\n",
              "  stroke-width: 0;\n",
              "  stroke: currentColor;\n",
              "  fill: currentColor;\n",
              "}\n",
              "</style><pre class='xr-text-repr-fallback'>&lt;xarray.Dataset&gt; Size: 2GB\n",
              "Dimensions:        (isobaricInhPa: 45, latitude: 801, longitude: 1001)\n",
              "Coordinates:\n",
              "    time           datetime64[ns] 8B ...\n",
              "    step           timedelta64[ns] 8B ...\n",
              "  * isobaricInhPa  (isobaricInhPa) float64 360B 1e+03 975.0 950.0 ... 5.0 2.0\n",
              "  * latitude       (latitude) float64 6kB 14.54 14.56 14.58 ... 30.5 30.52 30.54\n",
              "  * longitude      (longitude) float64 8kB 259.0 259.0 259.0 ... 279.0 279.0\n",
              "    valid_time     datetime64[ns] 8B ...\n",
              "    surface        float64 8B ...\n",
              "Data variables: (12/36)\n",
              "    gh             (isobaricInhPa, latitude, longitude) float32 144MB ...\n",
              "    t              (isobaricInhPa, latitude, longitude) float32 144MB ...\n",
              "    r              (isobaricInhPa, latitude, longitude) float32 144MB ...\n",
              "    q              (isobaricInhPa, latitude, longitude) float32 144MB ...\n",
              "    w              (isobaricInhPa, latitude, longitude) float32 144MB ...\n",
              "    wz             (isobaricInhPa, latitude, longitude) float32 144MB ...\n",
              "    ...             ...\n",
              "    sulwrf         (latitude, longitude) float32 3MB ...\n",
              "    unknown        (latitude, longitude) float32 3MB ...\n",
              "    nlat           (latitude, longitude) float32 3MB ...\n",
              "    elon           (latitude, longitude) float32 3MB ...\n",
              "    lsm            (latitude, longitude) float32 3MB ...\n",
              "    sst            (latitude, longitude) float32 3MB ...\n",
              "Attributes:\n",
              "    GRIB_edition:            2\n",
              "    GRIB_centre:             kwbc\n",
              "    GRIB_centreDescription:  US National Weather Service - NCEP\n",
              "    GRIB_subCentre:          0\n",
              "    Conventions:             CF-1.7\n",
              "    institution:             US National Weather Service - NCEP\n",
              "    history:                 2025-07-09T15:58 GRIB to CDM+CF via cfgrib-0.9.1...</pre><div class='xr-wrap' style='display:none'><div class='xr-header'><div class='xr-obj-type'>xarray.Dataset</div></div><ul class='xr-sections'><li class='xr-section-item'><input id='section-4e0d23bd-fb54-48b5-afb4-82a35747b93e' class='xr-section-summary-in' type='checkbox' disabled ><label for='section-4e0d23bd-fb54-48b5-afb4-82a35747b93e' class='xr-section-summary'  title='Expand/collapse section'>Dimensions:</label><div class='xr-section-inline-details'><ul class='xr-dim-list'><li><span class='xr-has-index'>isobaricInhPa</span>: 45</li><li><span class='xr-has-index'>latitude</span>: 801</li><li><span class='xr-has-index'>longitude</span>: 1001</li></ul></div><div class='xr-section-details'></div></li><li class='xr-section-item'><input id='section-cf403516-17b9-4016-90b3-2a007b32e69d' class='xr-section-summary-in' type='checkbox'  checked><label for='section-cf403516-17b9-4016-90b3-2a007b32e69d' class='xr-section-summary' >Coordinates: <span>(7)</span></label><div class='xr-section-inline-details'></div><div class='xr-section-details'><ul class='xr-var-list'><li class='xr-var-item'><div class='xr-var-name'><span>time</span></div><div class='xr-var-dims'>()</div><div class='xr-var-dtype'>datetime64[ns]</div><div class='xr-var-preview xr-preview'>...</div><input id='attrs-33cf6327-877d-4ea8-8ff1-49a0e6773d26' class='xr-var-attrs-in' type='checkbox' ><label for='attrs-33cf6327-877d-4ea8-8ff1-49a0e6773d26' title='Show/Hide attributes'><svg class='icon xr-icon-file-text2'><use xlink:href='#icon-file-text2'></use></svg></label><input id='data-a1a3369a-2590-484c-b3a3-6dd011b67a11' class='xr-var-data-in' type='checkbox'><label for='data-a1a3369a-2590-484c-b3a3-6dd011b67a11' title='Show/Hide data repr'><svg class='icon xr-icon-database'><use xlink:href='#icon-database'></use></svg></label><div class='xr-var-attrs'><dl class='xr-attrs'><dt><span>long_name :</span></dt><dd>initial time of forecast</dd><dt><span>standard_name :</span></dt><dd>forecast_reference_time</dd></dl></div><div class='xr-var-data'><pre>[1 values with dtype=datetime64[ns]]</pre></div></li><li class='xr-var-item'><div class='xr-var-name'><span>step</span></div><div class='xr-var-dims'>()</div><div class='xr-var-dtype'>timedelta64[ns]</div><div class='xr-var-preview xr-preview'>...</div><input id='attrs-d31196b2-4c4e-4660-8611-f1fc6b0b6f46' class='xr-var-attrs-in' type='checkbox' ><label for='attrs-d31196b2-4c4e-4660-8611-f1fc6b0b6f46' title='Show/Hide attributes'><svg class='icon xr-icon-file-text2'><use xlink:href='#icon-file-text2'></use></svg></label><input id='data-63e7b1b4-ea83-49ab-acab-3286e45752c8' class='xr-var-data-in' type='checkbox'><label for='data-63e7b1b4-ea83-49ab-acab-3286e45752c8' title='Show/Hide data repr'><svg class='icon xr-icon-database'><use xlink:href='#icon-database'></use></svg></label><div class='xr-var-attrs'><dl class='xr-attrs'><dt><span>long_name :</span></dt><dd>time since forecast_reference_time</dd><dt><span>standard_name :</span></dt><dd>forecast_period</dd></dl></div><div class='xr-var-data'><pre>[1 values with dtype=timedelta64[ns]]</pre></div></li><li class='xr-var-item'><div class='xr-var-name'><span class='xr-has-index'>isobaricInhPa</span></div><div class='xr-var-dims'>(isobaricInhPa)</div><div class='xr-var-dtype'>float64</div><div class='xr-var-preview xr-preview'>1e+03 975.0 950.0 ... 7.0 5.0 2.0</div><input id='attrs-6bdd6e09-c14c-460f-a446-101c06587681' class='xr-var-attrs-in' type='checkbox' ><label for='attrs-6bdd6e09-c14c-460f-a446-101c06587681' title='Show/Hide attributes'><svg class='icon xr-icon-file-text2'><use xlink:href='#icon-file-text2'></use></svg></label><input id='data-3b82d871-04e3-40d5-9523-04493d41e284' class='xr-var-data-in' type='checkbox'><label for='data-3b82d871-04e3-40d5-9523-04493d41e284' title='Show/Hide data repr'><svg class='icon xr-icon-database'><use xlink:href='#icon-database'></use></svg></label><div class='xr-var-attrs'><dl class='xr-attrs'><dt><span>long_name :</span></dt><dd>pressure</dd><dt><span>units :</span></dt><dd>hPa</dd><dt><span>positive :</span></dt><dd>down</dd><dt><span>stored_direction :</span></dt><dd>decreasing</dd><dt><span>standard_name :</span></dt><dd>air_pressure</dd></dl></div><div class='xr-var-data'><pre>array([1000.,  975.,  950.,  925.,  900.,  875.,  850.,  825.,  800.,  775.,\n",
              "        750.,  725.,  700.,  675.,  650.,  625.,  600.,  575.,  550.,  525.,\n",
              "        500.,  475.,  450.,  425.,  400.,  375.,  350.,  325.,  300.,  275.,\n",
              "        250.,  225.,  200.,  175.,  150.,  125.,  100.,   70.,   50.,   30.,\n",
              "         20.,   10.,    7.,    5.,    2.])</pre></div></li><li class='xr-var-item'><div class='xr-var-name'><span class='xr-has-index'>latitude</span></div><div class='xr-var-dims'>(latitude)</div><div class='xr-var-dtype'>float64</div><div class='xr-var-preview xr-preview'>14.54 14.56 14.58 ... 30.52 30.54</div><input id='attrs-c81aa950-3dbd-441d-b72c-2977de38de6e' class='xr-var-attrs-in' type='checkbox' ><label for='attrs-c81aa950-3dbd-441d-b72c-2977de38de6e' title='Show/Hide attributes'><svg class='icon xr-icon-file-text2'><use xlink:href='#icon-file-text2'></use></svg></label><input id='data-57af8419-8114-4576-9544-556ee4e68d75' class='xr-var-data-in' type='checkbox'><label for='data-57af8419-8114-4576-9544-556ee4e68d75' title='Show/Hide data repr'><svg class='icon xr-icon-database'><use xlink:href='#icon-database'></use></svg></label><div class='xr-var-attrs'><dl class='xr-attrs'><dt><span>units :</span></dt><dd>degrees_north</dd><dt><span>standard_name :</span></dt><dd>latitude</dd><dt><span>long_name :</span></dt><dd>latitude</dd></dl></div><div class='xr-var-data'><pre>array([14.538   , 14.557999, 14.577998, ..., 30.497202, 30.517201, 30.538   ])</pre></div></li><li class='xr-var-item'><div class='xr-var-name'><span class='xr-has-index'>longitude</span></div><div class='xr-var-dims'>(longitude)</div><div class='xr-var-dtype'>float64</div><div class='xr-var-preview xr-preview'>259.0 259.0 259.0 ... 279.0 279.0</div><input id='attrs-8c3235ac-f7ca-41b6-a0bf-bbe54097b070' class='xr-var-attrs-in' type='checkbox' ><label for='attrs-8c3235ac-f7ca-41b6-a0bf-bbe54097b070' title='Show/Hide attributes'><svg class='icon xr-icon-file-text2'><use xlink:href='#icon-file-text2'></use></svg></label><input id='data-631674f0-75b0-4895-9857-71c8584149df' class='xr-var-data-in' type='checkbox'><label for='data-631674f0-75b0-4895-9857-71c8584149df' title='Show/Hide data repr'><svg class='icon xr-icon-database'><use xlink:href='#icon-database'></use></svg></label><div class='xr-var-attrs'><dl class='xr-attrs'><dt><span>units :</span></dt><dd>degrees_east</dd><dt><span>standard_name :</span></dt><dd>longitude</dd><dt><span>long_name :</span></dt><dd>longitude</dd></dl></div><div class='xr-var-data'><pre>array([258.981003, 259.001003, 259.021003, ..., 278.941003, 278.961003,\n",
              "       278.981003])</pre></div></li><li class='xr-var-item'><div class='xr-var-name'><span>valid_time</span></div><div class='xr-var-dims'>()</div><div class='xr-var-dtype'>datetime64[ns]</div><div class='xr-var-preview xr-preview'>...</div><input id='attrs-665ca29d-1e17-4f53-a882-70b2af7b99dd' class='xr-var-attrs-in' type='checkbox' ><label for='attrs-665ca29d-1e17-4f53-a882-70b2af7b99dd' title='Show/Hide attributes'><svg class='icon xr-icon-file-text2'><use xlink:href='#icon-file-text2'></use></svg></label><input id='data-b16bb31d-e90c-4568-8a7e-e9f5249a4459' class='xr-var-data-in' type='checkbox'><label for='data-b16bb31d-e90c-4568-8a7e-e9f5249a4459' title='Show/Hide data repr'><svg class='icon xr-icon-database'><use xlink:href='#icon-database'></use></svg></label><div class='xr-var-attrs'><dl class='xr-attrs'><dt><span>standard_name :</span></dt><dd>time</dd><dt><span>long_name :</span></dt><dd>time</dd></dl></div><div class='xr-var-data'><pre>[1 values with dtype=datetime64[ns]]</pre></div></li><li class='xr-var-item'><div class='xr-var-name'><span>surface</span></div><div class='xr-var-dims'>()</div><div class='xr-var-dtype'>float64</div><div class='xr-var-preview xr-preview'>...</div><input id='attrs-16ade01a-6ef2-4f3a-82cc-898bac8c6cd3' class='xr-var-attrs-in' type='checkbox' ><label for='attrs-16ade01a-6ef2-4f3a-82cc-898bac8c6cd3' title='Show/Hide attributes'><svg class='icon xr-icon-file-text2'><use xlink:href='#icon-file-text2'></use></svg></label><input id='data-a3dc4c6d-65b8-444f-a2c8-76712412c644' class='xr-var-data-in' type='checkbox'><label for='data-a3dc4c6d-65b8-444f-a2c8-76712412c644' title='Show/Hide data repr'><svg class='icon xr-icon-database'><use xlink:href='#icon-database'></use></svg></label><div class='xr-var-attrs'><dl class='xr-attrs'><dt><span>long_name :</span></dt><dd>original GRIB coordinate for key: level(surface)</dd><dt><span>units :</span></dt><dd>1</dd></dl></div><div class='xr-var-data'><pre>[1 values with dtype=float64]</pre></div></li></ul></div></li><li class='xr-section-item'><input id='section-dd769a11-5681-4821-82b8-b3e322e041ae' class='xr-section-summary-in' type='checkbox'  ><label for='section-dd769a11-5681-4821-82b8-b3e322e041ae' class='xr-section-summary' >Data variables: <span>(36)</span></label><div class='xr-section-inline-details'></div><div class='xr-section-details'><ul class='xr-var-list'><li class='xr-var-item'><div class='xr-var-name'><span>gh</span></div><div class='xr-var-dims'>(isobaricInhPa, latitude, longitude)</div><div class='xr-var-dtype'>float32</div><div class='xr-var-preview xr-preview'>...</div><input id='attrs-e4ea99c7-a936-4820-b7a7-3bd9423200a2' class='xr-var-attrs-in' type='checkbox' ><label for='attrs-e4ea99c7-a936-4820-b7a7-3bd9423200a2' title='Show/Hide attributes'><svg class='icon xr-icon-file-text2'><use xlink:href='#icon-file-text2'></use></svg></label><input id='data-164279b4-7b89-4728-a011-ddf8ef55a8b9' class='xr-var-data-in' type='checkbox'><label for='data-164279b4-7b89-4728-a011-ddf8ef55a8b9' title='Show/Hide data repr'><svg class='icon xr-icon-database'><use xlink:href='#icon-database'></use></svg></label><div class='xr-var-attrs'><dl class='xr-attrs'><dt><span>GRIB_paramId :</span></dt><dd>156</dd><dt><span>GRIB_dataType :</span></dt><dd>fc</dd><dt><span>GRIB_numberOfPoints :</span></dt><dd>801801</dd><dt><span>GRIB_typeOfLevel :</span></dt><dd>isobaricInhPa</dd><dt><span>GRIB_stepUnits :</span></dt><dd>1</dd><dt><span>GRIB_stepType :</span></dt><dd>instant</dd><dt><span>GRIB_gridType :</span></dt><dd>regular_ll</dd><dt><span>GRIB_uvRelativeToGrid :</span></dt><dd>0</dd><dt><span>GRIB_NV :</span></dt><dd>0</dd><dt><span>GRIB_Nx :</span></dt><dd>1001</dd><dt><span>GRIB_Ny :</span></dt><dd>801</dd><dt><span>GRIB_cfName :</span></dt><dd>geopotential_height</dd><dt><span>GRIB_cfVarName :</span></dt><dd>gh</dd><dt><span>GRIB_gridDefinitionDescription :</span></dt><dd>Latitude/longitude. Also called equidistant cylindrical, or Plate Carree</dd><dt><span>GRIB_iDirectionIncrementInDegrees :</span></dt><dd>0.019999</dd><dt><span>GRIB_iScansNegatively :</span></dt><dd>0</dd><dt><span>GRIB_jDirectionIncrementInDegrees :</span></dt><dd>0.019999</dd><dt><span>GRIB_jPointsAreConsecutive :</span></dt><dd>0</dd><dt><span>GRIB_jScansPositively :</span></dt><dd>1</dd><dt><span>GRIB_latitudeOfFirstGridPointInDegrees :</span></dt><dd>14.538</dd><dt><span>GRIB_latitudeOfLastGridPointInDegrees :</span></dt><dd>30.538</dd><dt><span>GRIB_longitudeOfFirstGridPointInDegrees :</span></dt><dd>258.981003</dd><dt><span>GRIB_longitudeOfLastGridPointInDegrees :</span></dt><dd>278.981003</dd><dt><span>GRIB_missingValue :</span></dt><dd>3.4028234663852886e+38</dd><dt><span>GRIB_name :</span></dt><dd>Geopotential height</dd><dt><span>GRIB_shortName :</span></dt><dd>gh</dd><dt><span>GRIB_units :</span></dt><dd>gpm</dd><dt><span>long_name :</span></dt><dd>Geopotential height</dd><dt><span>units :</span></dt><dd>gpm</dd><dt><span>standard_name :</span></dt><dd>geopotential_height</dd></dl></div><div class='xr-var-data'><pre>[36081045 values with dtype=float32]</pre></div></li><li class='xr-var-item'><div class='xr-var-name'><span>t</span></div><div class='xr-var-dims'>(isobaricInhPa, latitude, longitude)</div><div class='xr-var-dtype'>float32</div><div class='xr-var-preview xr-preview'>...</div><input id='attrs-9053cb5d-e355-48e6-89cf-53f166bc23ac' class='xr-var-attrs-in' type='checkbox' ><label for='attrs-9053cb5d-e355-48e6-89cf-53f166bc23ac' title='Show/Hide attributes'><svg class='icon xr-icon-file-text2'><use xlink:href='#icon-file-text2'></use></svg></label><input id='data-96ba3e54-fa5d-4f52-81ce-445d5bd121db' class='xr-var-data-in' type='checkbox'><label for='data-96ba3e54-fa5d-4f52-81ce-445d5bd121db' title='Show/Hide data repr'><svg class='icon xr-icon-database'><use xlink:href='#icon-database'></use></svg></label><div class='xr-var-attrs'><dl class='xr-attrs'><dt><span>GRIB_paramId :</span></dt><dd>130</dd><dt><span>GRIB_dataType :</span></dt><dd>fc</dd><dt><span>GRIB_numberOfPoints :</span></dt><dd>801801</dd><dt><span>GRIB_typeOfLevel :</span></dt><dd>isobaricInhPa</dd><dt><span>GRIB_stepUnits :</span></dt><dd>1</dd><dt><span>GRIB_stepType :</span></dt><dd>instant</dd><dt><span>GRIB_gridType :</span></dt><dd>regular_ll</dd><dt><span>GRIB_uvRelativeToGrid :</span></dt><dd>0</dd><dt><span>GRIB_NV :</span></dt><dd>0</dd><dt><span>GRIB_Nx :</span></dt><dd>1001</dd><dt><span>GRIB_Ny :</span></dt><dd>801</dd><dt><span>GRIB_cfName :</span></dt><dd>air_temperature</dd><dt><span>GRIB_cfVarName :</span></dt><dd>t</dd><dt><span>GRIB_gridDefinitionDescription :</span></dt><dd>Latitude/longitude. Also called equidistant cylindrical, or Plate Carree</dd><dt><span>GRIB_iDirectionIncrementInDegrees :</span></dt><dd>0.019999</dd><dt><span>GRIB_iScansNegatively :</span></dt><dd>0</dd><dt><span>GRIB_jDirectionIncrementInDegrees :</span></dt><dd>0.019999</dd><dt><span>GRIB_jPointsAreConsecutive :</span></dt><dd>0</dd><dt><span>GRIB_jScansPositively :</span></dt><dd>1</dd><dt><span>GRIB_latitudeOfFirstGridPointInDegrees :</span></dt><dd>14.538</dd><dt><span>GRIB_latitudeOfLastGridPointInDegrees :</span></dt><dd>30.538</dd><dt><span>GRIB_longitudeOfFirstGridPointInDegrees :</span></dt><dd>258.981003</dd><dt><span>GRIB_longitudeOfLastGridPointInDegrees :</span></dt><dd>278.981003</dd><dt><span>GRIB_missingValue :</span></dt><dd>3.4028234663852886e+38</dd><dt><span>GRIB_name :</span></dt><dd>Temperature</dd><dt><span>GRIB_shortName :</span></dt><dd>t</dd><dt><span>GRIB_units :</span></dt><dd>K</dd><dt><span>long_name :</span></dt><dd>Temperature</dd><dt><span>units :</span></dt><dd>K</dd><dt><span>standard_name :</span></dt><dd>air_temperature</dd></dl></div><div class='xr-var-data'><pre>[36081045 values with dtype=float32]</pre></div></li><li class='xr-var-item'><div class='xr-var-name'><span>r</span></div><div class='xr-var-dims'>(isobaricInhPa, latitude, longitude)</div><div class='xr-var-dtype'>float32</div><div class='xr-var-preview xr-preview'>...</div><input id='attrs-64e76c59-ff02-4758-9773-ef6b10da0f9c' class='xr-var-attrs-in' type='checkbox' ><label for='attrs-64e76c59-ff02-4758-9773-ef6b10da0f9c' title='Show/Hide attributes'><svg class='icon xr-icon-file-text2'><use xlink:href='#icon-file-text2'></use></svg></label><input id='data-d88786b5-1d67-4c65-a0bc-819f1df6f5b5' class='xr-var-data-in' type='checkbox'><label for='data-d88786b5-1d67-4c65-a0bc-819f1df6f5b5' title='Show/Hide data repr'><svg class='icon xr-icon-database'><use xlink:href='#icon-database'></use></svg></label><div class='xr-var-attrs'><dl class='xr-attrs'><dt><span>GRIB_paramId :</span></dt><dd>157</dd><dt><span>GRIB_dataType :</span></dt><dd>fc</dd><dt><span>GRIB_numberOfPoints :</span></dt><dd>801801</dd><dt><span>GRIB_typeOfLevel :</span></dt><dd>isobaricInhPa</dd><dt><span>GRIB_stepUnits :</span></dt><dd>1</dd><dt><span>GRIB_stepType :</span></dt><dd>instant</dd><dt><span>GRIB_gridType :</span></dt><dd>regular_ll</dd><dt><span>GRIB_uvRelativeToGrid :</span></dt><dd>0</dd><dt><span>GRIB_NV :</span></dt><dd>0</dd><dt><span>GRIB_Nx :</span></dt><dd>1001</dd><dt><span>GRIB_Ny :</span></dt><dd>801</dd><dt><span>GRIB_cfName :</span></dt><dd>relative_humidity</dd><dt><span>GRIB_cfVarName :</span></dt><dd>r</dd><dt><span>GRIB_gridDefinitionDescription :</span></dt><dd>Latitude/longitude. Also called equidistant cylindrical, or Plate Carree</dd><dt><span>GRIB_iDirectionIncrementInDegrees :</span></dt><dd>0.019999</dd><dt><span>GRIB_iScansNegatively :</span></dt><dd>0</dd><dt><span>GRIB_jDirectionIncrementInDegrees :</span></dt><dd>0.019999</dd><dt><span>GRIB_jPointsAreConsecutive :</span></dt><dd>0</dd><dt><span>GRIB_jScansPositively :</span></dt><dd>1</dd><dt><span>GRIB_latitudeOfFirstGridPointInDegrees :</span></dt><dd>14.538</dd><dt><span>GRIB_latitudeOfLastGridPointInDegrees :</span></dt><dd>30.538</dd><dt><span>GRIB_longitudeOfFirstGridPointInDegrees :</span></dt><dd>258.981003</dd><dt><span>GRIB_longitudeOfLastGridPointInDegrees :</span></dt><dd>278.981003</dd><dt><span>GRIB_missingValue :</span></dt><dd>3.4028234663852886e+38</dd><dt><span>GRIB_name :</span></dt><dd>Relative humidity</dd><dt><span>GRIB_shortName :</span></dt><dd>r</dd><dt><span>GRIB_units :</span></dt><dd>%</dd><dt><span>long_name :</span></dt><dd>Relative humidity</dd><dt><span>units :</span></dt><dd>%</dd><dt><span>standard_name :</span></dt><dd>relative_humidity</dd></dl></div><div class='xr-var-data'><pre>[36081045 values with dtype=float32]</pre></div></li><li class='xr-var-item'><div class='xr-var-name'><span>q</span></div><div class='xr-var-dims'>(isobaricInhPa, latitude, longitude)</div><div class='xr-var-dtype'>float32</div><div class='xr-var-preview xr-preview'>...</div><input id='attrs-c7a7b321-2ff4-465d-9897-6227adc50ba3' class='xr-var-attrs-in' type='checkbox' ><label for='attrs-c7a7b321-2ff4-465d-9897-6227adc50ba3' title='Show/Hide attributes'><svg class='icon xr-icon-file-text2'><use xlink:href='#icon-file-text2'></use></svg></label><input id='data-4ff1bd73-17e4-456c-a3d1-1b7dde8c20b4' class='xr-var-data-in' type='checkbox'><label for='data-4ff1bd73-17e4-456c-a3d1-1b7dde8c20b4' title='Show/Hide data repr'><svg class='icon xr-icon-database'><use xlink:href='#icon-database'></use></svg></label><div class='xr-var-attrs'><dl class='xr-attrs'><dt><span>GRIB_paramId :</span></dt><dd>133</dd><dt><span>GRIB_dataType :</span></dt><dd>fc</dd><dt><span>GRIB_numberOfPoints :</span></dt><dd>801801</dd><dt><span>GRIB_typeOfLevel :</span></dt><dd>isobaricInhPa</dd><dt><span>GRIB_stepUnits :</span></dt><dd>1</dd><dt><span>GRIB_stepType :</span></dt><dd>instant</dd><dt><span>GRIB_gridType :</span></dt><dd>regular_ll</dd><dt><span>GRIB_uvRelativeToGrid :</span></dt><dd>0</dd><dt><span>GRIB_NV :</span></dt><dd>0</dd><dt><span>GRIB_Nx :</span></dt><dd>1001</dd><dt><span>GRIB_Ny :</span></dt><dd>801</dd><dt><span>GRIB_cfName :</span></dt><dd>specific_humidity</dd><dt><span>GRIB_cfVarName :</span></dt><dd>q</dd><dt><span>GRIB_gridDefinitionDescription :</span></dt><dd>Latitude/longitude. Also called equidistant cylindrical, or Plate Carree</dd><dt><span>GRIB_iDirectionIncrementInDegrees :</span></dt><dd>0.019999</dd><dt><span>GRIB_iScansNegatively :</span></dt><dd>0</dd><dt><span>GRIB_jDirectionIncrementInDegrees :</span></dt><dd>0.019999</dd><dt><span>GRIB_jPointsAreConsecutive :</span></dt><dd>0</dd><dt><span>GRIB_jScansPositively :</span></dt><dd>1</dd><dt><span>GRIB_latitudeOfFirstGridPointInDegrees :</span></dt><dd>14.538</dd><dt><span>GRIB_latitudeOfLastGridPointInDegrees :</span></dt><dd>30.538</dd><dt><span>GRIB_longitudeOfFirstGridPointInDegrees :</span></dt><dd>258.981003</dd><dt><span>GRIB_longitudeOfLastGridPointInDegrees :</span></dt><dd>278.981003</dd><dt><span>GRIB_missingValue :</span></dt><dd>3.4028234663852886e+38</dd><dt><span>GRIB_name :</span></dt><dd>Specific humidity</dd><dt><span>GRIB_shortName :</span></dt><dd>q</dd><dt><span>GRIB_units :</span></dt><dd>kg kg**-1</dd><dt><span>long_name :</span></dt><dd>Specific humidity</dd><dt><span>units :</span></dt><dd>kg kg**-1</dd><dt><span>standard_name :</span></dt><dd>specific_humidity</dd></dl></div><div class='xr-var-data'><pre>[36081045 values with dtype=float32]</pre></div></li><li class='xr-var-item'><div class='xr-var-name'><span>w</span></div><div class='xr-var-dims'>(isobaricInhPa, latitude, longitude)</div><div class='xr-var-dtype'>float32</div><div class='xr-var-preview xr-preview'>...</div><input id='attrs-d0f5d9f7-413d-4cb4-a2f1-9aaff7b49583' class='xr-var-attrs-in' type='checkbox' ><label for='attrs-d0f5d9f7-413d-4cb4-a2f1-9aaff7b49583' title='Show/Hide attributes'><svg class='icon xr-icon-file-text2'><use xlink:href='#icon-file-text2'></use></svg></label><input id='data-100b3738-1d8e-4566-b414-bc32f521ad7c' class='xr-var-data-in' type='checkbox'><label for='data-100b3738-1d8e-4566-b414-bc32f521ad7c' title='Show/Hide data repr'><svg class='icon xr-icon-database'><use xlink:href='#icon-database'></use></svg></label><div class='xr-var-attrs'><dl class='xr-attrs'><dt><span>GRIB_paramId :</span></dt><dd>135</dd><dt><span>GRIB_dataType :</span></dt><dd>fc</dd><dt><span>GRIB_numberOfPoints :</span></dt><dd>801801</dd><dt><span>GRIB_typeOfLevel :</span></dt><dd>isobaricInhPa</dd><dt><span>GRIB_stepUnits :</span></dt><dd>1</dd><dt><span>GRIB_stepType :</span></dt><dd>instant</dd><dt><span>GRIB_gridType :</span></dt><dd>regular_ll</dd><dt><span>GRIB_uvRelativeToGrid :</span></dt><dd>0</dd><dt><span>GRIB_NV :</span></dt><dd>0</dd><dt><span>GRIB_Nx :</span></dt><dd>1001</dd><dt><span>GRIB_Ny :</span></dt><dd>801</dd><dt><span>GRIB_cfName :</span></dt><dd>lagrangian_tendency_of_air_pressure</dd><dt><span>GRIB_cfVarName :</span></dt><dd>w</dd><dt><span>GRIB_gridDefinitionDescription :</span></dt><dd>Latitude/longitude. Also called equidistant cylindrical, or Plate Carree</dd><dt><span>GRIB_iDirectionIncrementInDegrees :</span></dt><dd>0.019999</dd><dt><span>GRIB_iScansNegatively :</span></dt><dd>0</dd><dt><span>GRIB_jDirectionIncrementInDegrees :</span></dt><dd>0.019999</dd><dt><span>GRIB_jPointsAreConsecutive :</span></dt><dd>0</dd><dt><span>GRIB_jScansPositively :</span></dt><dd>1</dd><dt><span>GRIB_latitudeOfFirstGridPointInDegrees :</span></dt><dd>14.538</dd><dt><span>GRIB_latitudeOfLastGridPointInDegrees :</span></dt><dd>30.538</dd><dt><span>GRIB_longitudeOfFirstGridPointInDegrees :</span></dt><dd>258.981003</dd><dt><span>GRIB_longitudeOfLastGridPointInDegrees :</span></dt><dd>278.981003</dd><dt><span>GRIB_missingValue :</span></dt><dd>3.4028234663852886e+38</dd><dt><span>GRIB_name :</span></dt><dd>Vertical velocity</dd><dt><span>GRIB_shortName :</span></dt><dd>w</dd><dt><span>GRIB_units :</span></dt><dd>Pa s**-1</dd><dt><span>long_name :</span></dt><dd>Vertical velocity</dd><dt><span>units :</span></dt><dd>Pa s**-1</dd><dt><span>standard_name :</span></dt><dd>lagrangian_tendency_of_air_pressure</dd></dl></div><div class='xr-var-data'><pre>[36081045 values with dtype=float32]</pre></div></li><li class='xr-var-item'><div class='xr-var-name'><span>wz</span></div><div class='xr-var-dims'>(isobaricInhPa, latitude, longitude)</div><div class='xr-var-dtype'>float32</div><div class='xr-var-preview xr-preview'>...</div><input id='attrs-635fd329-0b22-4755-a40c-be78e73f9d7a' class='xr-var-attrs-in' type='checkbox' ><label for='attrs-635fd329-0b22-4755-a40c-be78e73f9d7a' title='Show/Hide attributes'><svg class='icon xr-icon-file-text2'><use xlink:href='#icon-file-text2'></use></svg></label><input id='data-feae6a89-0d1a-4b67-98a0-29e6e439de88' class='xr-var-data-in' type='checkbox'><label for='data-feae6a89-0d1a-4b67-98a0-29e6e439de88' title='Show/Hide data repr'><svg class='icon xr-icon-database'><use xlink:href='#icon-database'></use></svg></label><div class='xr-var-attrs'><dl class='xr-attrs'><dt><span>GRIB_paramId :</span></dt><dd>260238</dd><dt><span>GRIB_dataType :</span></dt><dd>fc</dd><dt><span>GRIB_numberOfPoints :</span></dt><dd>801801</dd><dt><span>GRIB_typeOfLevel :</span></dt><dd>isobaricInhPa</dd><dt><span>GRIB_stepUnits :</span></dt><dd>1</dd><dt><span>GRIB_stepType :</span></dt><dd>instant</dd><dt><span>GRIB_gridType :</span></dt><dd>regular_ll</dd><dt><span>GRIB_uvRelativeToGrid :</span></dt><dd>0</dd><dt><span>GRIB_NV :</span></dt><dd>0</dd><dt><span>GRIB_Nx :</span></dt><dd>1001</dd><dt><span>GRIB_Ny :</span></dt><dd>801</dd><dt><span>GRIB_cfName :</span></dt><dd>unknown</dd><dt><span>GRIB_cfVarName :</span></dt><dd>wz</dd><dt><span>GRIB_gridDefinitionDescription :</span></dt><dd>Latitude/longitude. Also called equidistant cylindrical, or Plate Carree</dd><dt><span>GRIB_iDirectionIncrementInDegrees :</span></dt><dd>0.019999</dd><dt><span>GRIB_iScansNegatively :</span></dt><dd>0</dd><dt><span>GRIB_jDirectionIncrementInDegrees :</span></dt><dd>0.019999</dd><dt><span>GRIB_jPointsAreConsecutive :</span></dt><dd>0</dd><dt><span>GRIB_jScansPositively :</span></dt><dd>1</dd><dt><span>GRIB_latitudeOfFirstGridPointInDegrees :</span></dt><dd>14.538</dd><dt><span>GRIB_latitudeOfLastGridPointInDegrees :</span></dt><dd>30.538</dd><dt><span>GRIB_longitudeOfFirstGridPointInDegrees :</span></dt><dd>258.981003</dd><dt><span>GRIB_longitudeOfLastGridPointInDegrees :</span></dt><dd>278.981003</dd><dt><span>GRIB_missingValue :</span></dt><dd>3.4028234663852886e+38</dd><dt><span>GRIB_name :</span></dt><dd>Geometric vertical velocity</dd><dt><span>GRIB_shortName :</span></dt><dd>wz</dd><dt><span>GRIB_units :</span></dt><dd>m s**-1</dd><dt><span>long_name :</span></dt><dd>Geometric vertical velocity</dd><dt><span>units :</span></dt><dd>m s**-1</dd><dt><span>standard_name :</span></dt><dd>unknown</dd></dl></div><div class='xr-var-data'><pre>[36081045 values with dtype=float32]</pre></div></li><li class='xr-var-item'><div class='xr-var-name'><span>u</span></div><div class='xr-var-dims'>(isobaricInhPa, latitude, longitude)</div><div class='xr-var-dtype'>float32</div><div class='xr-var-preview xr-preview'>...</div><input id='attrs-34061f3f-f44b-4a2d-b61d-825bed7fd6b1' class='xr-var-attrs-in' type='checkbox' ><label for='attrs-34061f3f-f44b-4a2d-b61d-825bed7fd6b1' title='Show/Hide attributes'><svg class='icon xr-icon-file-text2'><use xlink:href='#icon-file-text2'></use></svg></label><input id='data-40a77f5a-6e79-4530-9cd9-01b4a06d4b0e' class='xr-var-data-in' type='checkbox'><label for='data-40a77f5a-6e79-4530-9cd9-01b4a06d4b0e' title='Show/Hide data repr'><svg class='icon xr-icon-database'><use xlink:href='#icon-database'></use></svg></label><div class='xr-var-attrs'><dl class='xr-attrs'><dt><span>GRIB_paramId :</span></dt><dd>131</dd><dt><span>GRIB_dataType :</span></dt><dd>fc</dd><dt><span>GRIB_numberOfPoints :</span></dt><dd>801801</dd><dt><span>GRIB_typeOfLevel :</span></dt><dd>isobaricInhPa</dd><dt><span>GRIB_stepUnits :</span></dt><dd>1</dd><dt><span>GRIB_stepType :</span></dt><dd>instant</dd><dt><span>GRIB_gridType :</span></dt><dd>regular_ll</dd><dt><span>GRIB_uvRelativeToGrid :</span></dt><dd>0</dd><dt><span>GRIB_NV :</span></dt><dd>0</dd><dt><span>GRIB_Nx :</span></dt><dd>1001</dd><dt><span>GRIB_Ny :</span></dt><dd>801</dd><dt><span>GRIB_cfName :</span></dt><dd>eastward_wind</dd><dt><span>GRIB_cfVarName :</span></dt><dd>u</dd><dt><span>GRIB_gridDefinitionDescription :</span></dt><dd>Latitude/longitude. Also called equidistant cylindrical, or Plate Carree</dd><dt><span>GRIB_iDirectionIncrementInDegrees :</span></dt><dd>0.019999</dd><dt><span>GRIB_iScansNegatively :</span></dt><dd>0</dd><dt><span>GRIB_jDirectionIncrementInDegrees :</span></dt><dd>0.019999</dd><dt><span>GRIB_jPointsAreConsecutive :</span></dt><dd>0</dd><dt><span>GRIB_jScansPositively :</span></dt><dd>1</dd><dt><span>GRIB_latitudeOfFirstGridPointInDegrees :</span></dt><dd>14.538</dd><dt><span>GRIB_latitudeOfLastGridPointInDegrees :</span></dt><dd>30.538</dd><dt><span>GRIB_longitudeOfFirstGridPointInDegrees :</span></dt><dd>258.981003</dd><dt><span>GRIB_longitudeOfLastGridPointInDegrees :</span></dt><dd>278.981003</dd><dt><span>GRIB_missingValue :</span></dt><dd>3.4028234663852886e+38</dd><dt><span>GRIB_name :</span></dt><dd>U component of wind</dd><dt><span>GRIB_shortName :</span></dt><dd>u</dd><dt><span>GRIB_units :</span></dt><dd>m s**-1</dd><dt><span>long_name :</span></dt><dd>U component of wind</dd><dt><span>units :</span></dt><dd>m s**-1</dd><dt><span>standard_name :</span></dt><dd>eastward_wind</dd></dl></div><div class='xr-var-data'><pre>[36081045 values with dtype=float32]</pre></div></li><li class='xr-var-item'><div class='xr-var-name'><span>v</span></div><div class='xr-var-dims'>(isobaricInhPa, latitude, longitude)</div><div class='xr-var-dtype'>float32</div><div class='xr-var-preview xr-preview'>...</div><input id='attrs-2e168404-03ab-4ab2-ac2a-a998d0cd1698' class='xr-var-attrs-in' type='checkbox' ><label for='attrs-2e168404-03ab-4ab2-ac2a-a998d0cd1698' title='Show/Hide attributes'><svg class='icon xr-icon-file-text2'><use xlink:href='#icon-file-text2'></use></svg></label><input id='data-ec776284-c976-4ca8-812c-fe585a07c17f' class='xr-var-data-in' type='checkbox'><label for='data-ec776284-c976-4ca8-812c-fe585a07c17f' title='Show/Hide data repr'><svg class='icon xr-icon-database'><use xlink:href='#icon-database'></use></svg></label><div class='xr-var-attrs'><dl class='xr-attrs'><dt><span>GRIB_paramId :</span></dt><dd>132</dd><dt><span>GRIB_dataType :</span></dt><dd>fc</dd><dt><span>GRIB_numberOfPoints :</span></dt><dd>801801</dd><dt><span>GRIB_typeOfLevel :</span></dt><dd>isobaricInhPa</dd><dt><span>GRIB_stepUnits :</span></dt><dd>1</dd><dt><span>GRIB_stepType :</span></dt><dd>instant</dd><dt><span>GRIB_gridType :</span></dt><dd>regular_ll</dd><dt><span>GRIB_uvRelativeToGrid :</span></dt><dd>0</dd><dt><span>GRIB_NV :</span></dt><dd>0</dd><dt><span>GRIB_Nx :</span></dt><dd>1001</dd><dt><span>GRIB_Ny :</span></dt><dd>801</dd><dt><span>GRIB_cfName :</span></dt><dd>northward_wind</dd><dt><span>GRIB_cfVarName :</span></dt><dd>v</dd><dt><span>GRIB_gridDefinitionDescription :</span></dt><dd>Latitude/longitude. Also called equidistant cylindrical, or Plate Carree</dd><dt><span>GRIB_iDirectionIncrementInDegrees :</span></dt><dd>0.019999</dd><dt><span>GRIB_iScansNegatively :</span></dt><dd>0</dd><dt><span>GRIB_jDirectionIncrementInDegrees :</span></dt><dd>0.019999</dd><dt><span>GRIB_jPointsAreConsecutive :</span></dt><dd>0</dd><dt><span>GRIB_jScansPositively :</span></dt><dd>1</dd><dt><span>GRIB_latitudeOfFirstGridPointInDegrees :</span></dt><dd>14.538</dd><dt><span>GRIB_latitudeOfLastGridPointInDegrees :</span></dt><dd>30.538</dd><dt><span>GRIB_longitudeOfFirstGridPointInDegrees :</span></dt><dd>258.981003</dd><dt><span>GRIB_longitudeOfLastGridPointInDegrees :</span></dt><dd>278.981003</dd><dt><span>GRIB_missingValue :</span></dt><dd>3.4028234663852886e+38</dd><dt><span>GRIB_name :</span></dt><dd>V component of wind</dd><dt><span>GRIB_shortName :</span></dt><dd>v</dd><dt><span>GRIB_units :</span></dt><dd>m s**-1</dd><dt><span>long_name :</span></dt><dd>V component of wind</dd><dt><span>units :</span></dt><dd>m s**-1</dd><dt><span>standard_name :</span></dt><dd>northward_wind</dd></dl></div><div class='xr-var-data'><pre>[36081045 values with dtype=float32]</pre></div></li><li class='xr-var-item'><div class='xr-var-name'><span>absv</span></div><div class='xr-var-dims'>(isobaricInhPa, latitude, longitude)</div><div class='xr-var-dtype'>float32</div><div class='xr-var-preview xr-preview'>...</div><input id='attrs-c46420b1-a404-49ea-a293-51a2f4368bf1' class='xr-var-attrs-in' type='checkbox' ><label for='attrs-c46420b1-a404-49ea-a293-51a2f4368bf1' title='Show/Hide attributes'><svg class='icon xr-icon-file-text2'><use xlink:href='#icon-file-text2'></use></svg></label><input id='data-ed38ac39-9720-42ad-876d-a9d0431a5959' class='xr-var-data-in' type='checkbox'><label for='data-ed38ac39-9720-42ad-876d-a9d0431a5959' title='Show/Hide data repr'><svg class='icon xr-icon-database'><use xlink:href='#icon-database'></use></svg></label><div class='xr-var-attrs'><dl class='xr-attrs'><dt><span>GRIB_paramId :</span></dt><dd>3041</dd><dt><span>GRIB_dataType :</span></dt><dd>fc</dd><dt><span>GRIB_numberOfPoints :</span></dt><dd>801801</dd><dt><span>GRIB_typeOfLevel :</span></dt><dd>isobaricInhPa</dd><dt><span>GRIB_stepUnits :</span></dt><dd>1</dd><dt><span>GRIB_stepType :</span></dt><dd>instant</dd><dt><span>GRIB_gridType :</span></dt><dd>regular_ll</dd><dt><span>GRIB_uvRelativeToGrid :</span></dt><dd>0</dd><dt><span>GRIB_NV :</span></dt><dd>0</dd><dt><span>GRIB_Nx :</span></dt><dd>1001</dd><dt><span>GRIB_Ny :</span></dt><dd>801</dd><dt><span>GRIB_cfName :</span></dt><dd>unknown</dd><dt><span>GRIB_cfVarName :</span></dt><dd>absv</dd><dt><span>GRIB_gridDefinitionDescription :</span></dt><dd>Latitude/longitude. Also called equidistant cylindrical, or Plate Carree</dd><dt><span>GRIB_iDirectionIncrementInDegrees :</span></dt><dd>0.019999</dd><dt><span>GRIB_iScansNegatively :</span></dt><dd>0</dd><dt><span>GRIB_jDirectionIncrementInDegrees :</span></dt><dd>0.019999</dd><dt><span>GRIB_jPointsAreConsecutive :</span></dt><dd>0</dd><dt><span>GRIB_jScansPositively :</span></dt><dd>1</dd><dt><span>GRIB_latitudeOfFirstGridPointInDegrees :</span></dt><dd>14.538</dd><dt><span>GRIB_latitudeOfLastGridPointInDegrees :</span></dt><dd>30.538</dd><dt><span>GRIB_longitudeOfFirstGridPointInDegrees :</span></dt><dd>258.981003</dd><dt><span>GRIB_longitudeOfLastGridPointInDegrees :</span></dt><dd>278.981003</dd><dt><span>GRIB_missingValue :</span></dt><dd>3.4028234663852886e+38</dd><dt><span>GRIB_name :</span></dt><dd>Absolute vorticity</dd><dt><span>GRIB_shortName :</span></dt><dd>absv</dd><dt><span>GRIB_units :</span></dt><dd>s**-1</dd><dt><span>long_name :</span></dt><dd>Absolute vorticity</dd><dt><span>units :</span></dt><dd>s**-1</dd><dt><span>standard_name :</span></dt><dd>unknown</dd></dl></div><div class='xr-var-data'><pre>[36081045 values with dtype=float32]</pre></div></li><li class='xr-var-item'><div class='xr-var-name'><span>clwmr</span></div><div class='xr-var-dims'>(isobaricInhPa, latitude, longitude)</div><div class='xr-var-dtype'>float32</div><div class='xr-var-preview xr-preview'>...</div><input id='attrs-201911e8-0cee-4eb5-b5c0-19b9643f7f29' class='xr-var-attrs-in' type='checkbox' ><label for='attrs-201911e8-0cee-4eb5-b5c0-19b9643f7f29' title='Show/Hide attributes'><svg class='icon xr-icon-file-text2'><use xlink:href='#icon-file-text2'></use></svg></label><input id='data-f97511fe-3f8c-4be9-92d5-d5639741ed6c' class='xr-var-data-in' type='checkbox'><label for='data-f97511fe-3f8c-4be9-92d5-d5639741ed6c' title='Show/Hide data repr'><svg class='icon xr-icon-database'><use xlink:href='#icon-database'></use></svg></label><div class='xr-var-attrs'><dl class='xr-attrs'><dt><span>GRIB_paramId :</span></dt><dd>260018</dd><dt><span>GRIB_dataType :</span></dt><dd>fc</dd><dt><span>GRIB_numberOfPoints :</span></dt><dd>801801</dd><dt><span>GRIB_typeOfLevel :</span></dt><dd>isobaricInhPa</dd><dt><span>GRIB_stepUnits :</span></dt><dd>1</dd><dt><span>GRIB_stepType :</span></dt><dd>instant</dd><dt><span>GRIB_gridType :</span></dt><dd>regular_ll</dd><dt><span>GRIB_uvRelativeToGrid :</span></dt><dd>0</dd><dt><span>GRIB_NV :</span></dt><dd>0</dd><dt><span>GRIB_Nx :</span></dt><dd>1001</dd><dt><span>GRIB_Ny :</span></dt><dd>801</dd><dt><span>GRIB_cfName :</span></dt><dd>unknown</dd><dt><span>GRIB_cfVarName :</span></dt><dd>clwmr</dd><dt><span>GRIB_gridDefinitionDescription :</span></dt><dd>Latitude/longitude. Also called equidistant cylindrical, or Plate Carree</dd><dt><span>GRIB_iDirectionIncrementInDegrees :</span></dt><dd>0.019999</dd><dt><span>GRIB_iScansNegatively :</span></dt><dd>0</dd><dt><span>GRIB_jDirectionIncrementInDegrees :</span></dt><dd>0.019999</dd><dt><span>GRIB_jPointsAreConsecutive :</span></dt><dd>0</dd><dt><span>GRIB_jScansPositively :</span></dt><dd>1</dd><dt><span>GRIB_latitudeOfFirstGridPointInDegrees :</span></dt><dd>14.538</dd><dt><span>GRIB_latitudeOfLastGridPointInDegrees :</span></dt><dd>30.538</dd><dt><span>GRIB_longitudeOfFirstGridPointInDegrees :</span></dt><dd>258.981003</dd><dt><span>GRIB_longitudeOfLastGridPointInDegrees :</span></dt><dd>278.981003</dd><dt><span>GRIB_missingValue :</span></dt><dd>3.4028234663852886e+38</dd><dt><span>GRIB_name :</span></dt><dd>Cloud mixing ratio</dd><dt><span>GRIB_shortName :</span></dt><dd>clwmr</dd><dt><span>GRIB_units :</span></dt><dd>kg kg**-1</dd><dt><span>long_name :</span></dt><dd>Cloud mixing ratio</dd><dt><span>units :</span></dt><dd>kg kg**-1</dd><dt><span>standard_name :</span></dt><dd>unknown</dd></dl></div><div class='xr-var-data'><pre>[36081045 values with dtype=float32]</pre></div></li><li class='xr-var-item'><div class='xr-var-name'><span>icmr</span></div><div class='xr-var-dims'>(isobaricInhPa, latitude, longitude)</div><div class='xr-var-dtype'>float32</div><div class='xr-var-preview xr-preview'>...</div><input id='attrs-07839bf9-7f3c-4ae1-b524-63f0c2cea497' class='xr-var-attrs-in' type='checkbox' ><label for='attrs-07839bf9-7f3c-4ae1-b524-63f0c2cea497' title='Show/Hide attributes'><svg class='icon xr-icon-file-text2'><use xlink:href='#icon-file-text2'></use></svg></label><input id='data-4981c79e-dd9f-489c-b6a6-8390f090f440' class='xr-var-data-in' type='checkbox'><label for='data-4981c79e-dd9f-489c-b6a6-8390f090f440' title='Show/Hide data repr'><svg class='icon xr-icon-database'><use xlink:href='#icon-database'></use></svg></label><div class='xr-var-attrs'><dl class='xr-attrs'><dt><span>GRIB_paramId :</span></dt><dd>260019</dd><dt><span>GRIB_dataType :</span></dt><dd>fc</dd><dt><span>GRIB_numberOfPoints :</span></dt><dd>801801</dd><dt><span>GRIB_typeOfLevel :</span></dt><dd>isobaricInhPa</dd><dt><span>GRIB_stepUnits :</span></dt><dd>1</dd><dt><span>GRIB_stepType :</span></dt><dd>instant</dd><dt><span>GRIB_gridType :</span></dt><dd>regular_ll</dd><dt><span>GRIB_uvRelativeToGrid :</span></dt><dd>0</dd><dt><span>GRIB_NV :</span></dt><dd>0</dd><dt><span>GRIB_Nx :</span></dt><dd>1001</dd><dt><span>GRIB_Ny :</span></dt><dd>801</dd><dt><span>GRIB_cfName :</span></dt><dd>unknown</dd><dt><span>GRIB_cfVarName :</span></dt><dd>icmr</dd><dt><span>GRIB_gridDefinitionDescription :</span></dt><dd>Latitude/longitude. Also called equidistant cylindrical, or Plate Carree</dd><dt><span>GRIB_iDirectionIncrementInDegrees :</span></dt><dd>0.019999</dd><dt><span>GRIB_iScansNegatively :</span></dt><dd>0</dd><dt><span>GRIB_jDirectionIncrementInDegrees :</span></dt><dd>0.019999</dd><dt><span>GRIB_jPointsAreConsecutive :</span></dt><dd>0</dd><dt><span>GRIB_jScansPositively :</span></dt><dd>1</dd><dt><span>GRIB_latitudeOfFirstGridPointInDegrees :</span></dt><dd>14.538</dd><dt><span>GRIB_latitudeOfLastGridPointInDegrees :</span></dt><dd>30.538</dd><dt><span>GRIB_longitudeOfFirstGridPointInDegrees :</span></dt><dd>258.981003</dd><dt><span>GRIB_longitudeOfLastGridPointInDegrees :</span></dt><dd>278.981003</dd><dt><span>GRIB_missingValue :</span></dt><dd>3.4028234663852886e+38</dd><dt><span>GRIB_name :</span></dt><dd>Ice water mixing ratio</dd><dt><span>GRIB_shortName :</span></dt><dd>icmr</dd><dt><span>GRIB_units :</span></dt><dd>kg kg**-1</dd><dt><span>long_name :</span></dt><dd>Ice water mixing ratio</dd><dt><span>units :</span></dt><dd>kg kg**-1</dd><dt><span>standard_name :</span></dt><dd>unknown</dd></dl></div><div class='xr-var-data'><pre>[36081045 values with dtype=float32]</pre></div></li><li class='xr-var-item'><div class='xr-var-name'><span>rwmr</span></div><div class='xr-var-dims'>(isobaricInhPa, latitude, longitude)</div><div class='xr-var-dtype'>float32</div><div class='xr-var-preview xr-preview'>...</div><input id='attrs-f23b2655-1c34-4678-a99b-2c96efb9c313' class='xr-var-attrs-in' type='checkbox' ><label for='attrs-f23b2655-1c34-4678-a99b-2c96efb9c313' title='Show/Hide attributes'><svg class='icon xr-icon-file-text2'><use xlink:href='#icon-file-text2'></use></svg></label><input id='data-9c561d2e-a85e-49c0-9167-3254796b38ee' class='xr-var-data-in' type='checkbox'><label for='data-9c561d2e-a85e-49c0-9167-3254796b38ee' title='Show/Hide data repr'><svg class='icon xr-icon-database'><use xlink:href='#icon-database'></use></svg></label><div class='xr-var-attrs'><dl class='xr-attrs'><dt><span>GRIB_paramId :</span></dt><dd>260020</dd><dt><span>GRIB_dataType :</span></dt><dd>fc</dd><dt><span>GRIB_numberOfPoints :</span></dt><dd>801801</dd><dt><span>GRIB_typeOfLevel :</span></dt><dd>isobaricInhPa</dd><dt><span>GRIB_stepUnits :</span></dt><dd>1</dd><dt><span>GRIB_stepType :</span></dt><dd>instant</dd><dt><span>GRIB_gridType :</span></dt><dd>regular_ll</dd><dt><span>GRIB_uvRelativeToGrid :</span></dt><dd>0</dd><dt><span>GRIB_NV :</span></dt><dd>0</dd><dt><span>GRIB_Nx :</span></dt><dd>1001</dd><dt><span>GRIB_Ny :</span></dt><dd>801</dd><dt><span>GRIB_cfName :</span></dt><dd>unknown</dd><dt><span>GRIB_cfVarName :</span></dt><dd>rwmr</dd><dt><span>GRIB_gridDefinitionDescription :</span></dt><dd>Latitude/longitude. Also called equidistant cylindrical, or Plate Carree</dd><dt><span>GRIB_iDirectionIncrementInDegrees :</span></dt><dd>0.019999</dd><dt><span>GRIB_iScansNegatively :</span></dt><dd>0</dd><dt><span>GRIB_jDirectionIncrementInDegrees :</span></dt><dd>0.019999</dd><dt><span>GRIB_jPointsAreConsecutive :</span></dt><dd>0</dd><dt><span>GRIB_jScansPositively :</span></dt><dd>1</dd><dt><span>GRIB_latitudeOfFirstGridPointInDegrees :</span></dt><dd>14.538</dd><dt><span>GRIB_latitudeOfLastGridPointInDegrees :</span></dt><dd>30.538</dd><dt><span>GRIB_longitudeOfFirstGridPointInDegrees :</span></dt><dd>258.981003</dd><dt><span>GRIB_longitudeOfLastGridPointInDegrees :</span></dt><dd>278.981003</dd><dt><span>GRIB_missingValue :</span></dt><dd>3.4028234663852886e+38</dd><dt><span>GRIB_name :</span></dt><dd>Rain mixing ratio</dd><dt><span>GRIB_shortName :</span></dt><dd>rwmr</dd><dt><span>GRIB_units :</span></dt><dd>kg kg**-1</dd><dt><span>long_name :</span></dt><dd>Rain mixing ratio</dd><dt><span>units :</span></dt><dd>kg kg**-1</dd><dt><span>standard_name :</span></dt><dd>unknown</dd></dl></div><div class='xr-var-data'><pre>[36081045 values with dtype=float32]</pre></div></li><li class='xr-var-item'><div class='xr-var-name'><span>snmr</span></div><div class='xr-var-dims'>(isobaricInhPa, latitude, longitude)</div><div class='xr-var-dtype'>float32</div><div class='xr-var-preview xr-preview'>...</div><input id='attrs-a7037453-ecdb-410b-8db0-60d03f6ce465' class='xr-var-attrs-in' type='checkbox' ><label for='attrs-a7037453-ecdb-410b-8db0-60d03f6ce465' title='Show/Hide attributes'><svg class='icon xr-icon-file-text2'><use xlink:href='#icon-file-text2'></use></svg></label><input id='data-7d5a9e1b-0055-4a6a-81b8-5957ff8f38b8' class='xr-var-data-in' type='checkbox'><label for='data-7d5a9e1b-0055-4a6a-81b8-5957ff8f38b8' title='Show/Hide data repr'><svg class='icon xr-icon-database'><use xlink:href='#icon-database'></use></svg></label><div class='xr-var-attrs'><dl class='xr-attrs'><dt><span>GRIB_paramId :</span></dt><dd>260021</dd><dt><span>GRIB_dataType :</span></dt><dd>fc</dd><dt><span>GRIB_numberOfPoints :</span></dt><dd>801801</dd><dt><span>GRIB_typeOfLevel :</span></dt><dd>isobaricInhPa</dd><dt><span>GRIB_stepUnits :</span></dt><dd>1</dd><dt><span>GRIB_stepType :</span></dt><dd>instant</dd><dt><span>GRIB_gridType :</span></dt><dd>regular_ll</dd><dt><span>GRIB_uvRelativeToGrid :</span></dt><dd>0</dd><dt><span>GRIB_NV :</span></dt><dd>0</dd><dt><span>GRIB_Nx :</span></dt><dd>1001</dd><dt><span>GRIB_Ny :</span></dt><dd>801</dd><dt><span>GRIB_cfName :</span></dt><dd>unknown</dd><dt><span>GRIB_cfVarName :</span></dt><dd>snmr</dd><dt><span>GRIB_gridDefinitionDescription :</span></dt><dd>Latitude/longitude. Also called equidistant cylindrical, or Plate Carree</dd><dt><span>GRIB_iDirectionIncrementInDegrees :</span></dt><dd>0.019999</dd><dt><span>GRIB_iScansNegatively :</span></dt><dd>0</dd><dt><span>GRIB_jDirectionIncrementInDegrees :</span></dt><dd>0.019999</dd><dt><span>GRIB_jPointsAreConsecutive :</span></dt><dd>0</dd><dt><span>GRIB_jScansPositively :</span></dt><dd>1</dd><dt><span>GRIB_latitudeOfFirstGridPointInDegrees :</span></dt><dd>14.538</dd><dt><span>GRIB_latitudeOfLastGridPointInDegrees :</span></dt><dd>30.538</dd><dt><span>GRIB_longitudeOfFirstGridPointInDegrees :</span></dt><dd>258.981003</dd><dt><span>GRIB_longitudeOfLastGridPointInDegrees :</span></dt><dd>278.981003</dd><dt><span>GRIB_missingValue :</span></dt><dd>3.4028234663852886e+38</dd><dt><span>GRIB_name :</span></dt><dd>Snow mixing ratio</dd><dt><span>GRIB_shortName :</span></dt><dd>snmr</dd><dt><span>GRIB_units :</span></dt><dd>kg kg**-1</dd><dt><span>long_name :</span></dt><dd>Snow mixing ratio</dd><dt><span>units :</span></dt><dd>kg kg**-1</dd><dt><span>standard_name :</span></dt><dd>unknown</dd></dl></div><div class='xr-var-data'><pre>[36081045 values with dtype=float32]</pre></div></li><li class='xr-var-item'><div class='xr-var-name'><span>grle</span></div><div class='xr-var-dims'>(isobaricInhPa, latitude, longitude)</div><div class='xr-var-dtype'>float32</div><div class='xr-var-preview xr-preview'>...</div><input id='attrs-98e36f00-7294-45d5-9b46-f77a8e943d12' class='xr-var-attrs-in' type='checkbox' ><label for='attrs-98e36f00-7294-45d5-9b46-f77a8e943d12' title='Show/Hide attributes'><svg class='icon xr-icon-file-text2'><use xlink:href='#icon-file-text2'></use></svg></label><input id='data-2024a89e-9386-484a-b528-348a1b716ec2' class='xr-var-data-in' type='checkbox'><label for='data-2024a89e-9386-484a-b528-348a1b716ec2' title='Show/Hide data repr'><svg class='icon xr-icon-database'><use xlink:href='#icon-database'></use></svg></label><div class='xr-var-attrs'><dl class='xr-attrs'><dt><span>GRIB_paramId :</span></dt><dd>260028</dd><dt><span>GRIB_dataType :</span></dt><dd>fc</dd><dt><span>GRIB_numberOfPoints :</span></dt><dd>801801</dd><dt><span>GRIB_typeOfLevel :</span></dt><dd>isobaricInhPa</dd><dt><span>GRIB_stepUnits :</span></dt><dd>1</dd><dt><span>GRIB_stepType :</span></dt><dd>instant</dd><dt><span>GRIB_gridType :</span></dt><dd>regular_ll</dd><dt><span>GRIB_uvRelativeToGrid :</span></dt><dd>0</dd><dt><span>GRIB_NV :</span></dt><dd>0</dd><dt><span>GRIB_Nx :</span></dt><dd>1001</dd><dt><span>GRIB_Ny :</span></dt><dd>801</dd><dt><span>GRIB_cfName :</span></dt><dd>unknown</dd><dt><span>GRIB_cfVarName :</span></dt><dd>grle</dd><dt><span>GRIB_gridDefinitionDescription :</span></dt><dd>Latitude/longitude. Also called equidistant cylindrical, or Plate Carree</dd><dt><span>GRIB_iDirectionIncrementInDegrees :</span></dt><dd>0.019999</dd><dt><span>GRIB_iScansNegatively :</span></dt><dd>0</dd><dt><span>GRIB_jDirectionIncrementInDegrees :</span></dt><dd>0.019999</dd><dt><span>GRIB_jPointsAreConsecutive :</span></dt><dd>0</dd><dt><span>GRIB_jScansPositively :</span></dt><dd>1</dd><dt><span>GRIB_latitudeOfFirstGridPointInDegrees :</span></dt><dd>14.538</dd><dt><span>GRIB_latitudeOfLastGridPointInDegrees :</span></dt><dd>30.538</dd><dt><span>GRIB_longitudeOfFirstGridPointInDegrees :</span></dt><dd>258.981003</dd><dt><span>GRIB_longitudeOfLastGridPointInDegrees :</span></dt><dd>278.981003</dd><dt><span>GRIB_missingValue :</span></dt><dd>3.4028234663852886e+38</dd><dt><span>GRIB_name :</span></dt><dd>Graupel (snow pellets)</dd><dt><span>GRIB_shortName :</span></dt><dd>grle</dd><dt><span>GRIB_units :</span></dt><dd>kg kg**-1</dd><dt><span>long_name :</span></dt><dd>Graupel (snow pellets)</dd><dt><span>units :</span></dt><dd>kg kg**-1</dd><dt><span>standard_name :</span></dt><dd>unknown</dd></dl></div><div class='xr-var-data'><pre>[36081045 values with dtype=float32]</pre></div></li><li class='xr-var-item'><div class='xr-var-name'><span>rare</span></div><div class='xr-var-dims'>(isobaricInhPa, latitude, longitude)</div><div class='xr-var-dtype'>float32</div><div class='xr-var-preview xr-preview'>...</div><input id='attrs-74b99f05-2dcd-46bb-b0ca-ea6510d51a7c' class='xr-var-attrs-in' type='checkbox' ><label for='attrs-74b99f05-2dcd-46bb-b0ca-ea6510d51a7c' title='Show/Hide attributes'><svg class='icon xr-icon-file-text2'><use xlink:href='#icon-file-text2'></use></svg></label><input id='data-08bea799-2a2f-4c62-803c-fe936e8ce0fa' class='xr-var-data-in' type='checkbox'><label for='data-08bea799-2a2f-4c62-803c-fe936e8ce0fa' title='Show/Hide data repr'><svg class='icon xr-icon-database'><use xlink:href='#icon-database'></use></svg></label><div class='xr-var-attrs'><dl class='xr-attrs'><dt><span>GRIB_paramId :</span></dt><dd>231066</dd><dt><span>GRIB_dataType :</span></dt><dd>fc</dd><dt><span>GRIB_numberOfPoints :</span></dt><dd>801801</dd><dt><span>GRIB_typeOfLevel :</span></dt><dd>isobaricInhPa</dd><dt><span>GRIB_stepUnits :</span></dt><dd>1</dd><dt><span>GRIB_stepType :</span></dt><dd>instant</dd><dt><span>GRIB_gridType :</span></dt><dd>regular_ll</dd><dt><span>GRIB_uvRelativeToGrid :</span></dt><dd>0</dd><dt><span>GRIB_NV :</span></dt><dd>0</dd><dt><span>GRIB_Nx :</span></dt><dd>1001</dd><dt><span>GRIB_Ny :</span></dt><dd>801</dd><dt><span>GRIB_cfName :</span></dt><dd>unknown</dd><dt><span>GRIB_cfVarName :</span></dt><dd>rare</dd><dt><span>GRIB_gridDefinitionDescription :</span></dt><dd>Latitude/longitude. Also called equidistant cylindrical, or Plate Carree</dd><dt><span>GRIB_iDirectionIncrementInDegrees :</span></dt><dd>0.019999</dd><dt><span>GRIB_iScansNegatively :</span></dt><dd>0</dd><dt><span>GRIB_jDirectionIncrementInDegrees :</span></dt><dd>0.019999</dd><dt><span>GRIB_jPointsAreConsecutive :</span></dt><dd>0</dd><dt><span>GRIB_jScansPositively :</span></dt><dd>1</dd><dt><span>GRIB_latitudeOfFirstGridPointInDegrees :</span></dt><dd>14.538</dd><dt><span>GRIB_latitudeOfLastGridPointInDegrees :</span></dt><dd>30.538</dd><dt><span>GRIB_longitudeOfFirstGridPointInDegrees :</span></dt><dd>258.981003</dd><dt><span>GRIB_longitudeOfLastGridPointInDegrees :</span></dt><dd>278.981003</dd><dt><span>GRIB_missingValue :</span></dt><dd>3.4028234663852886e+38</dd><dt><span>GRIB_name :</span></dt><dd>Radar reflectivity</dd><dt><span>GRIB_shortName :</span></dt><dd>rare</dd><dt><span>GRIB_units :</span></dt><dd>dB</dd><dt><span>long_name :</span></dt><dd>Radar reflectivity</dd><dt><span>units :</span></dt><dd>dB</dd><dt><span>standard_name :</span></dt><dd>unknown</dd></dl></div><div class='xr-var-data'><pre>[36081045 values with dtype=float32]</pre></div></li><li class='xr-var-item'><div class='xr-var-name'><span>gust</span></div><div class='xr-var-dims'>(latitude, longitude)</div><div class='xr-var-dtype'>float32</div><div class='xr-var-preview xr-preview'>...</div><input id='attrs-f5f99dfd-31ff-4b34-816f-3382079dc5d6' class='xr-var-attrs-in' type='checkbox' ><label for='attrs-f5f99dfd-31ff-4b34-816f-3382079dc5d6' title='Show/Hide attributes'><svg class='icon xr-icon-file-text2'><use xlink:href='#icon-file-text2'></use></svg></label><input id='data-82c4e63d-24b8-4c04-a06c-ac4a12fb854f' class='xr-var-data-in' type='checkbox'><label for='data-82c4e63d-24b8-4c04-a06c-ac4a12fb854f' title='Show/Hide data repr'><svg class='icon xr-icon-database'><use xlink:href='#icon-database'></use></svg></label><div class='xr-var-attrs'><dl class='xr-attrs'><dt><span>GRIB_paramId :</span></dt><dd>260065</dd><dt><span>GRIB_dataType :</span></dt><dd>fc</dd><dt><span>GRIB_numberOfPoints :</span></dt><dd>801801</dd><dt><span>GRIB_typeOfLevel :</span></dt><dd>surface</dd><dt><span>GRIB_stepUnits :</span></dt><dd>1</dd><dt><span>GRIB_stepType :</span></dt><dd>instant</dd><dt><span>GRIB_gridType :</span></dt><dd>regular_ll</dd><dt><span>GRIB_uvRelativeToGrid :</span></dt><dd>0</dd><dt><span>GRIB_NV :</span></dt><dd>0</dd><dt><span>GRIB_Nx :</span></dt><dd>1001</dd><dt><span>GRIB_Ny :</span></dt><dd>801</dd><dt><span>GRIB_cfName :</span></dt><dd>unknown</dd><dt><span>GRIB_cfVarName :</span></dt><dd>gust</dd><dt><span>GRIB_gridDefinitionDescription :</span></dt><dd>Latitude/longitude. Also called equidistant cylindrical, or Plate Carree</dd><dt><span>GRIB_iDirectionIncrementInDegrees :</span></dt><dd>0.019999</dd><dt><span>GRIB_iScansNegatively :</span></dt><dd>0</dd><dt><span>GRIB_jDirectionIncrementInDegrees :</span></dt><dd>0.019999</dd><dt><span>GRIB_jPointsAreConsecutive :</span></dt><dd>0</dd><dt><span>GRIB_jScansPositively :</span></dt><dd>1</dd><dt><span>GRIB_latitudeOfFirstGridPointInDegrees :</span></dt><dd>14.538</dd><dt><span>GRIB_latitudeOfLastGridPointInDegrees :</span></dt><dd>30.538</dd><dt><span>GRIB_longitudeOfFirstGridPointInDegrees :</span></dt><dd>258.981003</dd><dt><span>GRIB_longitudeOfLastGridPointInDegrees :</span></dt><dd>278.981003</dd><dt><span>GRIB_missingValue :</span></dt><dd>3.4028234663852886e+38</dd><dt><span>GRIB_name :</span></dt><dd>Wind speed (gust)</dd><dt><span>GRIB_shortName :</span></dt><dd>gust</dd><dt><span>GRIB_units :</span></dt><dd>m s**-1</dd><dt><span>long_name :</span></dt><dd>Wind speed (gust)</dd><dt><span>units :</span></dt><dd>m s**-1</dd><dt><span>standard_name :</span></dt><dd>unknown</dd></dl></div><div class='xr-var-data'><pre>[801801 values with dtype=float32]</pre></div></li><li class='xr-var-item'><div class='xr-var-name'><span>sp</span></div><div class='xr-var-dims'>(latitude, longitude)</div><div class='xr-var-dtype'>float32</div><div class='xr-var-preview xr-preview'>...</div><input id='attrs-451c6cf6-d686-4524-a8c2-e509c23dbcd1' class='xr-var-attrs-in' type='checkbox' ><label for='attrs-451c6cf6-d686-4524-a8c2-e509c23dbcd1' title='Show/Hide attributes'><svg class='icon xr-icon-file-text2'><use xlink:href='#icon-file-text2'></use></svg></label><input id='data-333da5f1-b16c-4f96-b1de-7c755553bc0e' class='xr-var-data-in' type='checkbox'><label for='data-333da5f1-b16c-4f96-b1de-7c755553bc0e' title='Show/Hide data repr'><svg class='icon xr-icon-database'><use xlink:href='#icon-database'></use></svg></label><div class='xr-var-attrs'><dl class='xr-attrs'><dt><span>GRIB_paramId :</span></dt><dd>134</dd><dt><span>GRIB_dataType :</span></dt><dd>fc</dd><dt><span>GRIB_numberOfPoints :</span></dt><dd>801801</dd><dt><span>GRIB_typeOfLevel :</span></dt><dd>surface</dd><dt><span>GRIB_stepUnits :</span></dt><dd>1</dd><dt><span>GRIB_stepType :</span></dt><dd>instant</dd><dt><span>GRIB_gridType :</span></dt><dd>regular_ll</dd><dt><span>GRIB_uvRelativeToGrid :</span></dt><dd>0</dd><dt><span>GRIB_NV :</span></dt><dd>0</dd><dt><span>GRIB_Nx :</span></dt><dd>1001</dd><dt><span>GRIB_Ny :</span></dt><dd>801</dd><dt><span>GRIB_cfName :</span></dt><dd>surface_air_pressure</dd><dt><span>GRIB_cfVarName :</span></dt><dd>sp</dd><dt><span>GRIB_gridDefinitionDescription :</span></dt><dd>Latitude/longitude. Also called equidistant cylindrical, or Plate Carree</dd><dt><span>GRIB_iDirectionIncrementInDegrees :</span></dt><dd>0.019999</dd><dt><span>GRIB_iScansNegatively :</span></dt><dd>0</dd><dt><span>GRIB_jDirectionIncrementInDegrees :</span></dt><dd>0.019999</dd><dt><span>GRIB_jPointsAreConsecutive :</span></dt><dd>0</dd><dt><span>GRIB_jScansPositively :</span></dt><dd>1</dd><dt><span>GRIB_latitudeOfFirstGridPointInDegrees :</span></dt><dd>14.538</dd><dt><span>GRIB_latitudeOfLastGridPointInDegrees :</span></dt><dd>30.538</dd><dt><span>GRIB_longitudeOfFirstGridPointInDegrees :</span></dt><dd>258.981003</dd><dt><span>GRIB_longitudeOfLastGridPointInDegrees :</span></dt><dd>278.981003</dd><dt><span>GRIB_missingValue :</span></dt><dd>3.4028234663852886e+38</dd><dt><span>GRIB_name :</span></dt><dd>Surface pressure</dd><dt><span>GRIB_shortName :</span></dt><dd>sp</dd><dt><span>GRIB_units :</span></dt><dd>Pa</dd><dt><span>long_name :</span></dt><dd>Surface pressure</dd><dt><span>units :</span></dt><dd>Pa</dd><dt><span>standard_name :</span></dt><dd>surface_air_pressure</dd></dl></div><div class='xr-var-data'><pre>[801801 values with dtype=float32]</pre></div></li><li class='xr-var-item'><div class='xr-var-name'><span>orog</span></div><div class='xr-var-dims'>(latitude, longitude)</div><div class='xr-var-dtype'>float32</div><div class='xr-var-preview xr-preview'>...</div><input id='attrs-ea9133bf-83e8-4252-8a14-559a16d032b7' class='xr-var-attrs-in' type='checkbox' ><label for='attrs-ea9133bf-83e8-4252-8a14-559a16d032b7' title='Show/Hide attributes'><svg class='icon xr-icon-file-text2'><use xlink:href='#icon-file-text2'></use></svg></label><input id='data-1c86adac-a56d-4208-88b9-c6810e9e45c7' class='xr-var-data-in' type='checkbox'><label for='data-1c86adac-a56d-4208-88b9-c6810e9e45c7' title='Show/Hide data repr'><svg class='icon xr-icon-database'><use xlink:href='#icon-database'></use></svg></label><div class='xr-var-attrs'><dl class='xr-attrs'><dt><span>GRIB_paramId :</span></dt><dd>228002</dd><dt><span>GRIB_dataType :</span></dt><dd>fc</dd><dt><span>GRIB_numberOfPoints :</span></dt><dd>801801</dd><dt><span>GRIB_typeOfLevel :</span></dt><dd>surface</dd><dt><span>GRIB_stepUnits :</span></dt><dd>1</dd><dt><span>GRIB_stepType :</span></dt><dd>instant</dd><dt><span>GRIB_gridType :</span></dt><dd>regular_ll</dd><dt><span>GRIB_uvRelativeToGrid :</span></dt><dd>0</dd><dt><span>GRIB_NV :</span></dt><dd>0</dd><dt><span>GRIB_Nx :</span></dt><dd>1001</dd><dt><span>GRIB_Ny :</span></dt><dd>801</dd><dt><span>GRIB_cfName :</span></dt><dd>geopotential_height</dd><dt><span>GRIB_cfVarName :</span></dt><dd>orog</dd><dt><span>GRIB_gridDefinitionDescription :</span></dt><dd>Latitude/longitude. Also called equidistant cylindrical, or Plate Carree</dd><dt><span>GRIB_iDirectionIncrementInDegrees :</span></dt><dd>0.019999</dd><dt><span>GRIB_iScansNegatively :</span></dt><dd>0</dd><dt><span>GRIB_jDirectionIncrementInDegrees :</span></dt><dd>0.019999</dd><dt><span>GRIB_jPointsAreConsecutive :</span></dt><dd>0</dd><dt><span>GRIB_jScansPositively :</span></dt><dd>1</dd><dt><span>GRIB_latitudeOfFirstGridPointInDegrees :</span></dt><dd>14.538</dd><dt><span>GRIB_latitudeOfLastGridPointInDegrees :</span></dt><dd>30.538</dd><dt><span>GRIB_longitudeOfFirstGridPointInDegrees :</span></dt><dd>258.981003</dd><dt><span>GRIB_longitudeOfLastGridPointInDegrees :</span></dt><dd>278.981003</dd><dt><span>GRIB_missingValue :</span></dt><dd>3.4028234663852886e+38</dd><dt><span>GRIB_name :</span></dt><dd>Orography</dd><dt><span>GRIB_shortName :</span></dt><dd>orog</dd><dt><span>GRIB_units :</span></dt><dd>m</dd><dt><span>long_name :</span></dt><dd>Orography</dd><dt><span>units :</span></dt><dd>m</dd><dt><span>standard_name :</span></dt><dd>geopotential_height</dd></dl></div><div class='xr-var-data'><pre>[801801 values with dtype=float32]</pre></div></li><li class='xr-var-item'><div class='xr-var-name'><span>fsr</span></div><div class='xr-var-dims'>(latitude, longitude)</div><div class='xr-var-dtype'>float32</div><div class='xr-var-preview xr-preview'>...</div><input id='attrs-a2754a11-a62b-48a7-9da4-59eb8a508bd0' class='xr-var-attrs-in' type='checkbox' ><label for='attrs-a2754a11-a62b-48a7-9da4-59eb8a508bd0' title='Show/Hide attributes'><svg class='icon xr-icon-file-text2'><use xlink:href='#icon-file-text2'></use></svg></label><input id='data-abc71fe9-909a-4035-a102-fadcc80e5f31' class='xr-var-data-in' type='checkbox'><label for='data-abc71fe9-909a-4035-a102-fadcc80e5f31' title='Show/Hide data repr'><svg class='icon xr-icon-database'><use xlink:href='#icon-database'></use></svg></label><div class='xr-var-attrs'><dl class='xr-attrs'><dt><span>GRIB_paramId :</span></dt><dd>244</dd><dt><span>GRIB_dataType :</span></dt><dd>fc</dd><dt><span>GRIB_numberOfPoints :</span></dt><dd>801801</dd><dt><span>GRIB_typeOfLevel :</span></dt><dd>surface</dd><dt><span>GRIB_stepUnits :</span></dt><dd>1</dd><dt><span>GRIB_stepType :</span></dt><dd>instant</dd><dt><span>GRIB_gridType :</span></dt><dd>regular_ll</dd><dt><span>GRIB_uvRelativeToGrid :</span></dt><dd>0</dd><dt><span>GRIB_NV :</span></dt><dd>0</dd><dt><span>GRIB_Nx :</span></dt><dd>1001</dd><dt><span>GRIB_Ny :</span></dt><dd>801</dd><dt><span>GRIB_cfName :</span></dt><dd>unknown</dd><dt><span>GRIB_cfVarName :</span></dt><dd>fsr</dd><dt><span>GRIB_gridDefinitionDescription :</span></dt><dd>Latitude/longitude. Also called equidistant cylindrical, or Plate Carree</dd><dt><span>GRIB_iDirectionIncrementInDegrees :</span></dt><dd>0.019999</dd><dt><span>GRIB_iScansNegatively :</span></dt><dd>0</dd><dt><span>GRIB_jDirectionIncrementInDegrees :</span></dt><dd>0.019999</dd><dt><span>GRIB_jPointsAreConsecutive :</span></dt><dd>0</dd><dt><span>GRIB_jScansPositively :</span></dt><dd>1</dd><dt><span>GRIB_latitudeOfFirstGridPointInDegrees :</span></dt><dd>14.538</dd><dt><span>GRIB_latitudeOfLastGridPointInDegrees :</span></dt><dd>30.538</dd><dt><span>GRIB_longitudeOfFirstGridPointInDegrees :</span></dt><dd>258.981003</dd><dt><span>GRIB_longitudeOfLastGridPointInDegrees :</span></dt><dd>278.981003</dd><dt><span>GRIB_missingValue :</span></dt><dd>3.4028234663852886e+38</dd><dt><span>GRIB_name :</span></dt><dd>Forecast surface roughness</dd><dt><span>GRIB_shortName :</span></dt><dd>fsr</dd><dt><span>GRIB_units :</span></dt><dd>m</dd><dt><span>long_name :</span></dt><dd>Forecast surface roughness</dd><dt><span>units :</span></dt><dd>m</dd><dt><span>standard_name :</span></dt><dd>unknown</dd></dl></div><div class='xr-var-data'><pre>[801801 values with dtype=float32]</pre></div></li><li class='xr-var-item'><div class='xr-var-name'><span>fricv</span></div><div class='xr-var-dims'>(latitude, longitude)</div><div class='xr-var-dtype'>float32</div><div class='xr-var-preview xr-preview'>...</div><input id='attrs-f8a7ce64-7050-41ea-82d7-1036e5c1f54a' class='xr-var-attrs-in' type='checkbox' ><label for='attrs-f8a7ce64-7050-41ea-82d7-1036e5c1f54a' title='Show/Hide attributes'><svg class='icon xr-icon-file-text2'><use xlink:href='#icon-file-text2'></use></svg></label><input id='data-2956e10c-9acb-43a5-8646-9a261ac27c44' class='xr-var-data-in' type='checkbox'><label for='data-2956e10c-9acb-43a5-8646-9a261ac27c44' title='Show/Hide data repr'><svg class='icon xr-icon-database'><use xlink:href='#icon-database'></use></svg></label><div class='xr-var-attrs'><dl class='xr-attrs'><dt><span>GRIB_paramId :</span></dt><dd>260073</dd><dt><span>GRIB_dataType :</span></dt><dd>fc</dd><dt><span>GRIB_numberOfPoints :</span></dt><dd>801801</dd><dt><span>GRIB_typeOfLevel :</span></dt><dd>surface</dd><dt><span>GRIB_stepUnits :</span></dt><dd>1</dd><dt><span>GRIB_stepType :</span></dt><dd>instant</dd><dt><span>GRIB_gridType :</span></dt><dd>regular_ll</dd><dt><span>GRIB_uvRelativeToGrid :</span></dt><dd>0</dd><dt><span>GRIB_NV :</span></dt><dd>0</dd><dt><span>GRIB_Nx :</span></dt><dd>1001</dd><dt><span>GRIB_Ny :</span></dt><dd>801</dd><dt><span>GRIB_cfName :</span></dt><dd>unknown</dd><dt><span>GRIB_cfVarName :</span></dt><dd>fricv</dd><dt><span>GRIB_gridDefinitionDescription :</span></dt><dd>Latitude/longitude. Also called equidistant cylindrical, or Plate Carree</dd><dt><span>GRIB_iDirectionIncrementInDegrees :</span></dt><dd>0.019999</dd><dt><span>GRIB_iScansNegatively :</span></dt><dd>0</dd><dt><span>GRIB_jDirectionIncrementInDegrees :</span></dt><dd>0.019999</dd><dt><span>GRIB_jPointsAreConsecutive :</span></dt><dd>0</dd><dt><span>GRIB_jScansPositively :</span></dt><dd>1</dd><dt><span>GRIB_latitudeOfFirstGridPointInDegrees :</span></dt><dd>14.538</dd><dt><span>GRIB_latitudeOfLastGridPointInDegrees :</span></dt><dd>30.538</dd><dt><span>GRIB_longitudeOfFirstGridPointInDegrees :</span></dt><dd>258.981003</dd><dt><span>GRIB_longitudeOfLastGridPointInDegrees :</span></dt><dd>278.981003</dd><dt><span>GRIB_missingValue :</span></dt><dd>3.4028234663852886e+38</dd><dt><span>GRIB_name :</span></dt><dd>Frictional velocity</dd><dt><span>GRIB_shortName :</span></dt><dd>fricv</dd><dt><span>GRIB_units :</span></dt><dd>m s**-1</dd><dt><span>long_name :</span></dt><dd>Frictional velocity</dd><dt><span>units :</span></dt><dd>m s**-1</dd><dt><span>standard_name :</span></dt><dd>unknown</dd></dl></div><div class='xr-var-data'><pre>[801801 values with dtype=float32]</pre></div></li><li class='xr-var-item'><div class='xr-var-name'><span>utaua</span></div><div class='xr-var-dims'>(latitude, longitude)</div><div class='xr-var-dtype'>float32</div><div class='xr-var-preview xr-preview'>...</div><input id='attrs-6c35ce9d-d1ef-4047-b816-b689308627bb' class='xr-var-attrs-in' type='checkbox' ><label for='attrs-6c35ce9d-d1ef-4047-b816-b689308627bb' title='Show/Hide attributes'><svg class='icon xr-icon-file-text2'><use xlink:href='#icon-file-text2'></use></svg></label><input id='data-132b3c1f-c386-443d-adf8-4c53f2459769' class='xr-var-data-in' type='checkbox'><label for='data-132b3c1f-c386-443d-adf8-4c53f2459769' title='Show/Hide data repr'><svg class='icon xr-icon-database'><use xlink:href='#icon-database'></use></svg></label><div class='xr-var-attrs'><dl class='xr-attrs'><dt><span>GRIB_paramId :</span></dt><dd>140101</dd><dt><span>GRIB_dataType :</span></dt><dd>fc</dd><dt><span>GRIB_numberOfPoints :</span></dt><dd>801801</dd><dt><span>GRIB_typeOfLevel :</span></dt><dd>surface</dd><dt><span>GRIB_stepUnits :</span></dt><dd>1</dd><dt><span>GRIB_stepType :</span></dt><dd>instant</dd><dt><span>GRIB_gridType :</span></dt><dd>regular_ll</dd><dt><span>GRIB_uvRelativeToGrid :</span></dt><dd>0</dd><dt><span>GRIB_NV :</span></dt><dd>0</dd><dt><span>GRIB_Nx :</span></dt><dd>1001</dd><dt><span>GRIB_Ny :</span></dt><dd>801</dd><dt><span>GRIB_cfName :</span></dt><dd>unknown</dd><dt><span>GRIB_cfVarName :</span></dt><dd>utaua</dd><dt><span>GRIB_gridDefinitionDescription :</span></dt><dd>Latitude/longitude. Also called equidistant cylindrical, or Plate Carree</dd><dt><span>GRIB_iDirectionIncrementInDegrees :</span></dt><dd>0.019999</dd><dt><span>GRIB_iScansNegatively :</span></dt><dd>0</dd><dt><span>GRIB_jDirectionIncrementInDegrees :</span></dt><dd>0.019999</dd><dt><span>GRIB_jPointsAreConsecutive :</span></dt><dd>0</dd><dt><span>GRIB_jScansPositively :</span></dt><dd>1</dd><dt><span>GRIB_latitudeOfFirstGridPointInDegrees :</span></dt><dd>14.538</dd><dt><span>GRIB_latitudeOfLastGridPointInDegrees :</span></dt><dd>30.538</dd><dt><span>GRIB_longitudeOfFirstGridPointInDegrees :</span></dt><dd>258.981003</dd><dt><span>GRIB_longitudeOfLastGridPointInDegrees :</span></dt><dd>278.981003</dd><dt><span>GRIB_missingValue :</span></dt><dd>3.4028234663852886e+38</dd><dt><span>GRIB_name :</span></dt><dd>U-component of atmospheric surface momentum flux</dd><dt><span>GRIB_shortName :</span></dt><dd>utaua</dd><dt><span>GRIB_units :</span></dt><dd>N m**-2</dd><dt><span>long_name :</span></dt><dd>U-component of atmospheric surface momentum flux</dd><dt><span>units :</span></dt><dd>N m**-2</dd><dt><span>standard_name :</span></dt><dd>unknown</dd></dl></div><div class='xr-var-data'><pre>[801801 values with dtype=float32]</pre></div></li><li class='xr-var-item'><div class='xr-var-name'><span>vtaua</span></div><div class='xr-var-dims'>(latitude, longitude)</div><div class='xr-var-dtype'>float32</div><div class='xr-var-preview xr-preview'>...</div><input id='attrs-c8220213-a1e6-49b7-8691-07dfea286ead' class='xr-var-attrs-in' type='checkbox' ><label for='attrs-c8220213-a1e6-49b7-8691-07dfea286ead' title='Show/Hide attributes'><svg class='icon xr-icon-file-text2'><use xlink:href='#icon-file-text2'></use></svg></label><input id='data-04acca43-62e2-433c-9eb1-2e13d6959ffa' class='xr-var-data-in' type='checkbox'><label for='data-04acca43-62e2-433c-9eb1-2e13d6959ffa' title='Show/Hide data repr'><svg class='icon xr-icon-database'><use xlink:href='#icon-database'></use></svg></label><div class='xr-var-attrs'><dl class='xr-attrs'><dt><span>GRIB_paramId :</span></dt><dd>140102</dd><dt><span>GRIB_dataType :</span></dt><dd>fc</dd><dt><span>GRIB_numberOfPoints :</span></dt><dd>801801</dd><dt><span>GRIB_typeOfLevel :</span></dt><dd>surface</dd><dt><span>GRIB_stepUnits :</span></dt><dd>1</dd><dt><span>GRIB_stepType :</span></dt><dd>instant</dd><dt><span>GRIB_gridType :</span></dt><dd>regular_ll</dd><dt><span>GRIB_uvRelativeToGrid :</span></dt><dd>0</dd><dt><span>GRIB_NV :</span></dt><dd>0</dd><dt><span>GRIB_Nx :</span></dt><dd>1001</dd><dt><span>GRIB_Ny :</span></dt><dd>801</dd><dt><span>GRIB_cfName :</span></dt><dd>unknown</dd><dt><span>GRIB_cfVarName :</span></dt><dd>vtaua</dd><dt><span>GRIB_gridDefinitionDescription :</span></dt><dd>Latitude/longitude. Also called equidistant cylindrical, or Plate Carree</dd><dt><span>GRIB_iDirectionIncrementInDegrees :</span></dt><dd>0.019999</dd><dt><span>GRIB_iScansNegatively :</span></dt><dd>0</dd><dt><span>GRIB_jDirectionIncrementInDegrees :</span></dt><dd>0.019999</dd><dt><span>GRIB_jPointsAreConsecutive :</span></dt><dd>0</dd><dt><span>GRIB_jScansPositively :</span></dt><dd>1</dd><dt><span>GRIB_latitudeOfFirstGridPointInDegrees :</span></dt><dd>14.538</dd><dt><span>GRIB_latitudeOfLastGridPointInDegrees :</span></dt><dd>30.538</dd><dt><span>GRIB_longitudeOfFirstGridPointInDegrees :</span></dt><dd>258.981003</dd><dt><span>GRIB_longitudeOfLastGridPointInDegrees :</span></dt><dd>278.981003</dd><dt><span>GRIB_missingValue :</span></dt><dd>3.4028234663852886e+38</dd><dt><span>GRIB_name :</span></dt><dd>V-component of atmospheric surface momentum flux</dd><dt><span>GRIB_shortName :</span></dt><dd>vtaua</dd><dt><span>GRIB_units :</span></dt><dd>N m**-2</dd><dt><span>long_name :</span></dt><dd>V-component of atmospheric surface momentum flux</dd><dt><span>units :</span></dt><dd>N m**-2</dd><dt><span>standard_name :</span></dt><dd>unknown</dd></dl></div><div class='xr-var-data'><pre>[801801 values with dtype=float32]</pre></div></li><li class='xr-var-item'><div class='xr-var-name'><span>ishf</span></div><div class='xr-var-dims'>(latitude, longitude)</div><div class='xr-var-dtype'>float32</div><div class='xr-var-preview xr-preview'>...</div><input id='attrs-7feb7991-3bff-459c-96fa-f82781e18f99' class='xr-var-attrs-in' type='checkbox' ><label for='attrs-7feb7991-3bff-459c-96fa-f82781e18f99' title='Show/Hide attributes'><svg class='icon xr-icon-file-text2'><use xlink:href='#icon-file-text2'></use></svg></label><input id='data-8695b174-a77e-4099-8d4a-fbf151fb07dd' class='xr-var-data-in' type='checkbox'><label for='data-8695b174-a77e-4099-8d4a-fbf151fb07dd' title='Show/Hide data repr'><svg class='icon xr-icon-database'><use xlink:href='#icon-database'></use></svg></label><div class='xr-var-attrs'><dl class='xr-attrs'><dt><span>GRIB_paramId :</span></dt><dd>231</dd><dt><span>GRIB_dataType :</span></dt><dd>fc</dd><dt><span>GRIB_numberOfPoints :</span></dt><dd>801801</dd><dt><span>GRIB_typeOfLevel :</span></dt><dd>surface</dd><dt><span>GRIB_stepUnits :</span></dt><dd>1</dd><dt><span>GRIB_stepType :</span></dt><dd>instant</dd><dt><span>GRIB_gridType :</span></dt><dd>regular_ll</dd><dt><span>GRIB_uvRelativeToGrid :</span></dt><dd>0</dd><dt><span>GRIB_NV :</span></dt><dd>0</dd><dt><span>GRIB_Nx :</span></dt><dd>1001</dd><dt><span>GRIB_Ny :</span></dt><dd>801</dd><dt><span>GRIB_cfName :</span></dt><dd>unknown</dd><dt><span>GRIB_cfVarName :</span></dt><dd>ishf</dd><dt><span>GRIB_gridDefinitionDescription :</span></dt><dd>Latitude/longitude. Also called equidistant cylindrical, or Plate Carree</dd><dt><span>GRIB_iDirectionIncrementInDegrees :</span></dt><dd>0.019999</dd><dt><span>GRIB_iScansNegatively :</span></dt><dd>0</dd><dt><span>GRIB_jDirectionIncrementInDegrees :</span></dt><dd>0.019999</dd><dt><span>GRIB_jPointsAreConsecutive :</span></dt><dd>0</dd><dt><span>GRIB_jScansPositively :</span></dt><dd>1</dd><dt><span>GRIB_latitudeOfFirstGridPointInDegrees :</span></dt><dd>14.538</dd><dt><span>GRIB_latitudeOfLastGridPointInDegrees :</span></dt><dd>30.538</dd><dt><span>GRIB_longitudeOfFirstGridPointInDegrees :</span></dt><dd>258.981003</dd><dt><span>GRIB_longitudeOfLastGridPointInDegrees :</span></dt><dd>278.981003</dd><dt><span>GRIB_missingValue :</span></dt><dd>3.4028234663852886e+38</dd><dt><span>GRIB_name :</span></dt><dd>Instantaneous surface sensible heat net flux</dd><dt><span>GRIB_shortName :</span></dt><dd>ishf</dd><dt><span>GRIB_units :</span></dt><dd>W m**-2</dd><dt><span>long_name :</span></dt><dd>Instantaneous surface sensible heat net flux</dd><dt><span>units :</span></dt><dd>W m**-2</dd><dt><span>standard_name :</span></dt><dd>unknown</dd></dl></div><div class='xr-var-data'><pre>[801801 values with dtype=float32]</pre></div></li><li class='xr-var-item'><div class='xr-var-name'><span>slhtf</span></div><div class='xr-var-dims'>(latitude, longitude)</div><div class='xr-var-dtype'>float32</div><div class='xr-var-preview xr-preview'>...</div><input id='attrs-091b9c7c-a1f6-4700-b923-3f4f25df6d58' class='xr-var-attrs-in' type='checkbox' ><label for='attrs-091b9c7c-a1f6-4700-b923-3f4f25df6d58' title='Show/Hide attributes'><svg class='icon xr-icon-file-text2'><use xlink:href='#icon-file-text2'></use></svg></label><input id='data-0bde97a7-680c-4f2c-af1a-4b49e3f34f8d' class='xr-var-data-in' type='checkbox'><label for='data-0bde97a7-680c-4f2c-af1a-4b49e3f34f8d' title='Show/Hide data repr'><svg class='icon xr-icon-database'><use xlink:href='#icon-database'></use></svg></label><div class='xr-var-attrs'><dl class='xr-attrs'><dt><span>GRIB_paramId :</span></dt><dd>260002</dd><dt><span>GRIB_dataType :</span></dt><dd>fc</dd><dt><span>GRIB_numberOfPoints :</span></dt><dd>801801</dd><dt><span>GRIB_typeOfLevel :</span></dt><dd>surface</dd><dt><span>GRIB_stepUnits :</span></dt><dd>1</dd><dt><span>GRIB_stepType :</span></dt><dd>instant</dd><dt><span>GRIB_gridType :</span></dt><dd>regular_ll</dd><dt><span>GRIB_uvRelativeToGrid :</span></dt><dd>0</dd><dt><span>GRIB_NV :</span></dt><dd>0</dd><dt><span>GRIB_Nx :</span></dt><dd>1001</dd><dt><span>GRIB_Ny :</span></dt><dd>801</dd><dt><span>GRIB_cfName :</span></dt><dd>unknown</dd><dt><span>GRIB_cfVarName :</span></dt><dd>slhtf</dd><dt><span>GRIB_gridDefinitionDescription :</span></dt><dd>Latitude/longitude. Also called equidistant cylindrical, or Plate Carree</dd><dt><span>GRIB_iDirectionIncrementInDegrees :</span></dt><dd>0.019999</dd><dt><span>GRIB_iScansNegatively :</span></dt><dd>0</dd><dt><span>GRIB_jDirectionIncrementInDegrees :</span></dt><dd>0.019999</dd><dt><span>GRIB_jPointsAreConsecutive :</span></dt><dd>0</dd><dt><span>GRIB_jScansPositively :</span></dt><dd>1</dd><dt><span>GRIB_latitudeOfFirstGridPointInDegrees :</span></dt><dd>14.538</dd><dt><span>GRIB_latitudeOfLastGridPointInDegrees :</span></dt><dd>30.538</dd><dt><span>GRIB_longitudeOfFirstGridPointInDegrees :</span></dt><dd>258.981003</dd><dt><span>GRIB_longitudeOfLastGridPointInDegrees :</span></dt><dd>278.981003</dd><dt><span>GRIB_missingValue :</span></dt><dd>3.4028234663852886e+38</dd><dt><span>GRIB_name :</span></dt><dd>Surface latent heat net flux</dd><dt><span>GRIB_shortName :</span></dt><dd>slhtf</dd><dt><span>GRIB_units :</span></dt><dd>W m**-2</dd><dt><span>long_name :</span></dt><dd>Surface latent heat net flux</dd><dt><span>units :</span></dt><dd>W m**-2</dd><dt><span>standard_name :</span></dt><dd>unknown</dd></dl></div><div class='xr-var-data'><pre>[801801 values with dtype=float32]</pre></div></li><li class='xr-var-item'><div class='xr-var-name'><span>sfexc</span></div><div class='xr-var-dims'>(latitude, longitude)</div><div class='xr-var-dtype'>float32</div><div class='xr-var-preview xr-preview'>...</div><input id='attrs-c17434fe-836f-41a9-86ee-cdb50f65401d' class='xr-var-attrs-in' type='checkbox' ><label for='attrs-c17434fe-836f-41a9-86ee-cdb50f65401d' title='Show/Hide attributes'><svg class='icon xr-icon-file-text2'><use xlink:href='#icon-file-text2'></use></svg></label><input id='data-4ef2ba18-0a33-44fe-9704-832cef5354ba' class='xr-var-data-in' type='checkbox'><label for='data-4ef2ba18-0a33-44fe-9704-832cef5354ba' title='Show/Hide data repr'><svg class='icon xr-icon-database'><use xlink:href='#icon-database'></use></svg></label><div class='xr-var-attrs'><dl class='xr-attrs'><dt><span>GRIB_paramId :</span></dt><dd>260188</dd><dt><span>GRIB_dataType :</span></dt><dd>fc</dd><dt><span>GRIB_numberOfPoints :</span></dt><dd>801801</dd><dt><span>GRIB_typeOfLevel :</span></dt><dd>surface</dd><dt><span>GRIB_stepUnits :</span></dt><dd>1</dd><dt><span>GRIB_stepType :</span></dt><dd>instant</dd><dt><span>GRIB_gridType :</span></dt><dd>regular_ll</dd><dt><span>GRIB_uvRelativeToGrid :</span></dt><dd>0</dd><dt><span>GRIB_NV :</span></dt><dd>0</dd><dt><span>GRIB_Nx :</span></dt><dd>1001</dd><dt><span>GRIB_Ny :</span></dt><dd>801</dd><dt><span>GRIB_cfName :</span></dt><dd>unknown</dd><dt><span>GRIB_cfVarName :</span></dt><dd>sfexc</dd><dt><span>GRIB_gridDefinitionDescription :</span></dt><dd>Latitude/longitude. Also called equidistant cylindrical, or Plate Carree</dd><dt><span>GRIB_iDirectionIncrementInDegrees :</span></dt><dd>0.019999</dd><dt><span>GRIB_iScansNegatively :</span></dt><dd>0</dd><dt><span>GRIB_jDirectionIncrementInDegrees :</span></dt><dd>0.019999</dd><dt><span>GRIB_jPointsAreConsecutive :</span></dt><dd>0</dd><dt><span>GRIB_jScansPositively :</span></dt><dd>1</dd><dt><span>GRIB_latitudeOfFirstGridPointInDegrees :</span></dt><dd>14.538</dd><dt><span>GRIB_latitudeOfLastGridPointInDegrees :</span></dt><dd>30.538</dd><dt><span>GRIB_longitudeOfFirstGridPointInDegrees :</span></dt><dd>258.981003</dd><dt><span>GRIB_longitudeOfLastGridPointInDegrees :</span></dt><dd>278.981003</dd><dt><span>GRIB_missingValue :</span></dt><dd>3.4028234663852886e+38</dd><dt><span>GRIB_name :</span></dt><dd>Exchange coefficient</dd><dt><span>GRIB_shortName :</span></dt><dd>sfexc</dd><dt><span>GRIB_units :</span></dt><dd>kg m**-2 s**-1</dd><dt><span>long_name :</span></dt><dd>Exchange coefficient</dd><dt><span>units :</span></dt><dd>kg m**-2 s**-1</dd><dt><span>standard_name :</span></dt><dd>unknown</dd></dl></div><div class='xr-var-data'><pre>[801801 values with dtype=float32]</pre></div></li><li class='xr-var-item'><div class='xr-var-name'><span>cape</span></div><div class='xr-var-dims'>(latitude, longitude)</div><div class='xr-var-dtype'>float32</div><div class='xr-var-preview xr-preview'>...</div><input id='attrs-82e7274a-8a7d-41ff-a343-03de4f7cc767' class='xr-var-attrs-in' type='checkbox' ><label for='attrs-82e7274a-8a7d-41ff-a343-03de4f7cc767' title='Show/Hide attributes'><svg class='icon xr-icon-file-text2'><use xlink:href='#icon-file-text2'></use></svg></label><input id='data-a4c91758-77f2-4543-b116-eb5a919ac610' class='xr-var-data-in' type='checkbox'><label for='data-a4c91758-77f2-4543-b116-eb5a919ac610' title='Show/Hide data repr'><svg class='icon xr-icon-database'><use xlink:href='#icon-database'></use></svg></label><div class='xr-var-attrs'><dl class='xr-attrs'><dt><span>GRIB_paramId :</span></dt><dd>59</dd><dt><span>GRIB_dataType :</span></dt><dd>fc</dd><dt><span>GRIB_numberOfPoints :</span></dt><dd>801801</dd><dt><span>GRIB_typeOfLevel :</span></dt><dd>surface</dd><dt><span>GRIB_stepUnits :</span></dt><dd>1</dd><dt><span>GRIB_stepType :</span></dt><dd>instant</dd><dt><span>GRIB_gridType :</span></dt><dd>regular_ll</dd><dt><span>GRIB_uvRelativeToGrid :</span></dt><dd>0</dd><dt><span>GRIB_NV :</span></dt><dd>0</dd><dt><span>GRIB_Nx :</span></dt><dd>1001</dd><dt><span>GRIB_Ny :</span></dt><dd>801</dd><dt><span>GRIB_cfName :</span></dt><dd>unknown</dd><dt><span>GRIB_cfVarName :</span></dt><dd>cape</dd><dt><span>GRIB_gridDefinitionDescription :</span></dt><dd>Latitude/longitude. Also called equidistant cylindrical, or Plate Carree</dd><dt><span>GRIB_iDirectionIncrementInDegrees :</span></dt><dd>0.019999</dd><dt><span>GRIB_iScansNegatively :</span></dt><dd>0</dd><dt><span>GRIB_jDirectionIncrementInDegrees :</span></dt><dd>0.019999</dd><dt><span>GRIB_jPointsAreConsecutive :</span></dt><dd>0</dd><dt><span>GRIB_jScansPositively :</span></dt><dd>1</dd><dt><span>GRIB_latitudeOfFirstGridPointInDegrees :</span></dt><dd>14.538</dd><dt><span>GRIB_latitudeOfLastGridPointInDegrees :</span></dt><dd>30.538</dd><dt><span>GRIB_longitudeOfFirstGridPointInDegrees :</span></dt><dd>258.981003</dd><dt><span>GRIB_longitudeOfLastGridPointInDegrees :</span></dt><dd>278.981003</dd><dt><span>GRIB_missingValue :</span></dt><dd>3.4028234663852886e+38</dd><dt><span>GRIB_name :</span></dt><dd>Convective available potential energy</dd><dt><span>GRIB_shortName :</span></dt><dd>cape</dd><dt><span>GRIB_units :</span></dt><dd>J kg**-1</dd><dt><span>long_name :</span></dt><dd>Convective available potential energy</dd><dt><span>units :</span></dt><dd>J kg**-1</dd><dt><span>standard_name :</span></dt><dd>unknown</dd></dl></div><div class='xr-var-data'><pre>[801801 values with dtype=float32]</pre></div></li><li class='xr-var-item'><div class='xr-var-name'><span>cin</span></div><div class='xr-var-dims'>(latitude, longitude)</div><div class='xr-var-dtype'>float32</div><div class='xr-var-preview xr-preview'>...</div><input id='attrs-f976b720-8ec1-4868-b7c0-a5aad91de0db' class='xr-var-attrs-in' type='checkbox' ><label for='attrs-f976b720-8ec1-4868-b7c0-a5aad91de0db' title='Show/Hide attributes'><svg class='icon xr-icon-file-text2'><use xlink:href='#icon-file-text2'></use></svg></label><input id='data-4f0cc1ad-6707-4a57-8a88-bd29268dcc5a' class='xr-var-data-in' type='checkbox'><label for='data-4f0cc1ad-6707-4a57-8a88-bd29268dcc5a' title='Show/Hide data repr'><svg class='icon xr-icon-database'><use xlink:href='#icon-database'></use></svg></label><div class='xr-var-attrs'><dl class='xr-attrs'><dt><span>GRIB_paramId :</span></dt><dd>228001</dd><dt><span>GRIB_dataType :</span></dt><dd>fc</dd><dt><span>GRIB_numberOfPoints :</span></dt><dd>801801</dd><dt><span>GRIB_typeOfLevel :</span></dt><dd>surface</dd><dt><span>GRIB_stepUnits :</span></dt><dd>1</dd><dt><span>GRIB_stepType :</span></dt><dd>instant</dd><dt><span>GRIB_gridType :</span></dt><dd>regular_ll</dd><dt><span>GRIB_uvRelativeToGrid :</span></dt><dd>0</dd><dt><span>GRIB_NV :</span></dt><dd>0</dd><dt><span>GRIB_Nx :</span></dt><dd>1001</dd><dt><span>GRIB_Ny :</span></dt><dd>801</dd><dt><span>GRIB_cfName :</span></dt><dd>unknown</dd><dt><span>GRIB_cfVarName :</span></dt><dd>cin</dd><dt><span>GRIB_gridDefinitionDescription :</span></dt><dd>Latitude/longitude. Also called equidistant cylindrical, or Plate Carree</dd><dt><span>GRIB_iDirectionIncrementInDegrees :</span></dt><dd>0.019999</dd><dt><span>GRIB_iScansNegatively :</span></dt><dd>0</dd><dt><span>GRIB_jDirectionIncrementInDegrees :</span></dt><dd>0.019999</dd><dt><span>GRIB_jPointsAreConsecutive :</span></dt><dd>0</dd><dt><span>GRIB_jScansPositively :</span></dt><dd>1</dd><dt><span>GRIB_latitudeOfFirstGridPointInDegrees :</span></dt><dd>14.538</dd><dt><span>GRIB_latitudeOfLastGridPointInDegrees :</span></dt><dd>30.538</dd><dt><span>GRIB_longitudeOfFirstGridPointInDegrees :</span></dt><dd>258.981003</dd><dt><span>GRIB_longitudeOfLastGridPointInDegrees :</span></dt><dd>278.981003</dd><dt><span>GRIB_missingValue :</span></dt><dd>3.4028234663852886e+38</dd><dt><span>GRIB_name :</span></dt><dd>Convective inhibition</dd><dt><span>GRIB_shortName :</span></dt><dd>cin</dd><dt><span>GRIB_units :</span></dt><dd>J kg**-1</dd><dt><span>long_name :</span></dt><dd>Convective inhibition</dd><dt><span>units :</span></dt><dd>J kg**-1</dd><dt><span>standard_name :</span></dt><dd>unknown</dd></dl></div><div class='xr-var-data'><pre>[801801 values with dtype=float32]</pre></div></li><li class='xr-var-item'><div class='xr-var-name'><span>sdswrf</span></div><div class='xr-var-dims'>(latitude, longitude)</div><div class='xr-var-dtype'>float32</div><div class='xr-var-preview xr-preview'>...</div><input id='attrs-47266607-cae2-4cd2-a70a-408414cf0110' class='xr-var-attrs-in' type='checkbox' ><label for='attrs-47266607-cae2-4cd2-a70a-408414cf0110' title='Show/Hide attributes'><svg class='icon xr-icon-file-text2'><use xlink:href='#icon-file-text2'></use></svg></label><input id='data-96137360-78f3-40d9-a251-67d69cd3f099' class='xr-var-data-in' type='checkbox'><label for='data-96137360-78f3-40d9-a251-67d69cd3f099' title='Show/Hide data repr'><svg class='icon xr-icon-database'><use xlink:href='#icon-database'></use></svg></label><div class='xr-var-attrs'><dl class='xr-attrs'><dt><span>GRIB_paramId :</span></dt><dd>260087</dd><dt><span>GRIB_dataType :</span></dt><dd>fc</dd><dt><span>GRIB_numberOfPoints :</span></dt><dd>801801</dd><dt><span>GRIB_typeOfLevel :</span></dt><dd>surface</dd><dt><span>GRIB_stepUnits :</span></dt><dd>1</dd><dt><span>GRIB_stepType :</span></dt><dd>instant</dd><dt><span>GRIB_gridType :</span></dt><dd>regular_ll</dd><dt><span>GRIB_uvRelativeToGrid :</span></dt><dd>0</dd><dt><span>GRIB_NV :</span></dt><dd>0</dd><dt><span>GRIB_Nx :</span></dt><dd>1001</dd><dt><span>GRIB_Ny :</span></dt><dd>801</dd><dt><span>GRIB_cfName :</span></dt><dd>unknown</dd><dt><span>GRIB_cfVarName :</span></dt><dd>sdswrf</dd><dt><span>GRIB_gridDefinitionDescription :</span></dt><dd>Latitude/longitude. Also called equidistant cylindrical, or Plate Carree</dd><dt><span>GRIB_iDirectionIncrementInDegrees :</span></dt><dd>0.019999</dd><dt><span>GRIB_iScansNegatively :</span></dt><dd>0</dd><dt><span>GRIB_jDirectionIncrementInDegrees :</span></dt><dd>0.019999</dd><dt><span>GRIB_jPointsAreConsecutive :</span></dt><dd>0</dd><dt><span>GRIB_jScansPositively :</span></dt><dd>1</dd><dt><span>GRIB_latitudeOfFirstGridPointInDegrees :</span></dt><dd>14.538</dd><dt><span>GRIB_latitudeOfLastGridPointInDegrees :</span></dt><dd>30.538</dd><dt><span>GRIB_longitudeOfFirstGridPointInDegrees :</span></dt><dd>258.981003</dd><dt><span>GRIB_longitudeOfLastGridPointInDegrees :</span></dt><dd>278.981003</dd><dt><span>GRIB_missingValue :</span></dt><dd>3.4028234663852886e+38</dd><dt><span>GRIB_name :</span></dt><dd>Surface downward short-wave radiation flux</dd><dt><span>GRIB_shortName :</span></dt><dd>sdswrf</dd><dt><span>GRIB_units :</span></dt><dd>W m**-2</dd><dt><span>long_name :</span></dt><dd>Surface downward short-wave radiation flux</dd><dt><span>units :</span></dt><dd>W m**-2</dd><dt><span>standard_name :</span></dt><dd>unknown</dd></dl></div><div class='xr-var-data'><pre>[801801 values with dtype=float32]</pre></div></li><li class='xr-var-item'><div class='xr-var-name'><span>sdlwrf</span></div><div class='xr-var-dims'>(latitude, longitude)</div><div class='xr-var-dtype'>float32</div><div class='xr-var-preview xr-preview'>...</div><input id='attrs-5172596f-a658-457c-ab1f-b6c124ee6837' class='xr-var-attrs-in' type='checkbox' ><label for='attrs-5172596f-a658-457c-ab1f-b6c124ee6837' title='Show/Hide attributes'><svg class='icon xr-icon-file-text2'><use xlink:href='#icon-file-text2'></use></svg></label><input id='data-eb15c23a-71f1-4405-a614-e41ea179f2b3' class='xr-var-data-in' type='checkbox'><label for='data-eb15c23a-71f1-4405-a614-e41ea179f2b3' title='Show/Hide data repr'><svg class='icon xr-icon-database'><use xlink:href='#icon-database'></use></svg></label><div class='xr-var-attrs'><dl class='xr-attrs'><dt><span>GRIB_paramId :</span></dt><dd>260097</dd><dt><span>GRIB_dataType :</span></dt><dd>fc</dd><dt><span>GRIB_numberOfPoints :</span></dt><dd>801801</dd><dt><span>GRIB_typeOfLevel :</span></dt><dd>surface</dd><dt><span>GRIB_stepUnits :</span></dt><dd>1</dd><dt><span>GRIB_stepType :</span></dt><dd>instant</dd><dt><span>GRIB_gridType :</span></dt><dd>regular_ll</dd><dt><span>GRIB_uvRelativeToGrid :</span></dt><dd>0</dd><dt><span>GRIB_NV :</span></dt><dd>0</dd><dt><span>GRIB_Nx :</span></dt><dd>1001</dd><dt><span>GRIB_Ny :</span></dt><dd>801</dd><dt><span>GRIB_cfName :</span></dt><dd>unknown</dd><dt><span>GRIB_cfVarName :</span></dt><dd>sdlwrf</dd><dt><span>GRIB_gridDefinitionDescription :</span></dt><dd>Latitude/longitude. Also called equidistant cylindrical, or Plate Carree</dd><dt><span>GRIB_iDirectionIncrementInDegrees :</span></dt><dd>0.019999</dd><dt><span>GRIB_iScansNegatively :</span></dt><dd>0</dd><dt><span>GRIB_jDirectionIncrementInDegrees :</span></dt><dd>0.019999</dd><dt><span>GRIB_jPointsAreConsecutive :</span></dt><dd>0</dd><dt><span>GRIB_jScansPositively :</span></dt><dd>1</dd><dt><span>GRIB_latitudeOfFirstGridPointInDegrees :</span></dt><dd>14.538</dd><dt><span>GRIB_latitudeOfLastGridPointInDegrees :</span></dt><dd>30.538</dd><dt><span>GRIB_longitudeOfFirstGridPointInDegrees :</span></dt><dd>258.981003</dd><dt><span>GRIB_longitudeOfLastGridPointInDegrees :</span></dt><dd>278.981003</dd><dt><span>GRIB_missingValue :</span></dt><dd>3.4028234663852886e+38</dd><dt><span>GRIB_name :</span></dt><dd>Surface downward long-wave radiation flux</dd><dt><span>GRIB_shortName :</span></dt><dd>sdlwrf</dd><dt><span>GRIB_units :</span></dt><dd>W m**-2</dd><dt><span>long_name :</span></dt><dd>Surface downward long-wave radiation flux</dd><dt><span>units :</span></dt><dd>W m**-2</dd><dt><span>standard_name :</span></dt><dd>unknown</dd></dl></div><div class='xr-var-data'><pre>[801801 values with dtype=float32]</pre></div></li><li class='xr-var-item'><div class='xr-var-name'><span>suswrf</span></div><div class='xr-var-dims'>(latitude, longitude)</div><div class='xr-var-dtype'>float32</div><div class='xr-var-preview xr-preview'>...</div><input id='attrs-96c50b0b-f6c3-4c08-a094-c4eebbc060a4' class='xr-var-attrs-in' type='checkbox' ><label for='attrs-96c50b0b-f6c3-4c08-a094-c4eebbc060a4' title='Show/Hide attributes'><svg class='icon xr-icon-file-text2'><use xlink:href='#icon-file-text2'></use></svg></label><input id='data-f051a613-9503-4222-9968-0e57e5340ede' class='xr-var-data-in' type='checkbox'><label for='data-f051a613-9503-4222-9968-0e57e5340ede' title='Show/Hide data repr'><svg class='icon xr-icon-database'><use xlink:href='#icon-database'></use></svg></label><div class='xr-var-attrs'><dl class='xr-attrs'><dt><span>GRIB_paramId :</span></dt><dd>260088</dd><dt><span>GRIB_dataType :</span></dt><dd>fc</dd><dt><span>GRIB_numberOfPoints :</span></dt><dd>801801</dd><dt><span>GRIB_typeOfLevel :</span></dt><dd>surface</dd><dt><span>GRIB_stepUnits :</span></dt><dd>1</dd><dt><span>GRIB_stepType :</span></dt><dd>instant</dd><dt><span>GRIB_gridType :</span></dt><dd>regular_ll</dd><dt><span>GRIB_uvRelativeToGrid :</span></dt><dd>0</dd><dt><span>GRIB_NV :</span></dt><dd>0</dd><dt><span>GRIB_Nx :</span></dt><dd>1001</dd><dt><span>GRIB_Ny :</span></dt><dd>801</dd><dt><span>GRIB_cfName :</span></dt><dd>unknown</dd><dt><span>GRIB_cfVarName :</span></dt><dd>suswrf</dd><dt><span>GRIB_gridDefinitionDescription :</span></dt><dd>Latitude/longitude. Also called equidistant cylindrical, or Plate Carree</dd><dt><span>GRIB_iDirectionIncrementInDegrees :</span></dt><dd>0.019999</dd><dt><span>GRIB_iScansNegatively :</span></dt><dd>0</dd><dt><span>GRIB_jDirectionIncrementInDegrees :</span></dt><dd>0.019999</dd><dt><span>GRIB_jPointsAreConsecutive :</span></dt><dd>0</dd><dt><span>GRIB_jScansPositively :</span></dt><dd>1</dd><dt><span>GRIB_latitudeOfFirstGridPointInDegrees :</span></dt><dd>14.538</dd><dt><span>GRIB_latitudeOfLastGridPointInDegrees :</span></dt><dd>30.538</dd><dt><span>GRIB_longitudeOfFirstGridPointInDegrees :</span></dt><dd>258.981003</dd><dt><span>GRIB_longitudeOfLastGridPointInDegrees :</span></dt><dd>278.981003</dd><dt><span>GRIB_missingValue :</span></dt><dd>3.4028234663852886e+38</dd><dt><span>GRIB_name :</span></dt><dd>Surface upward short-wave radiation flux</dd><dt><span>GRIB_shortName :</span></dt><dd>suswrf</dd><dt><span>GRIB_units :</span></dt><dd>W m**-2</dd><dt><span>long_name :</span></dt><dd>Surface upward short-wave radiation flux</dd><dt><span>units :</span></dt><dd>W m**-2</dd><dt><span>standard_name :</span></dt><dd>unknown</dd></dl></div><div class='xr-var-data'><pre>[801801 values with dtype=float32]</pre></div></li><li class='xr-var-item'><div class='xr-var-name'><span>sulwrf</span></div><div class='xr-var-dims'>(latitude, longitude)</div><div class='xr-var-dtype'>float32</div><div class='xr-var-preview xr-preview'>...</div><input id='attrs-f0e11e0a-a08a-4a3a-81a8-0f2ffdef555a' class='xr-var-attrs-in' type='checkbox' ><label for='attrs-f0e11e0a-a08a-4a3a-81a8-0f2ffdef555a' title='Show/Hide attributes'><svg class='icon xr-icon-file-text2'><use xlink:href='#icon-file-text2'></use></svg></label><input id='data-67cf99cd-5b58-498b-bc2b-50dca872d966' class='xr-var-data-in' type='checkbox'><label for='data-67cf99cd-5b58-498b-bc2b-50dca872d966' title='Show/Hide data repr'><svg class='icon xr-icon-database'><use xlink:href='#icon-database'></use></svg></label><div class='xr-var-attrs'><dl class='xr-attrs'><dt><span>GRIB_paramId :</span></dt><dd>260098</dd><dt><span>GRIB_dataType :</span></dt><dd>fc</dd><dt><span>GRIB_numberOfPoints :</span></dt><dd>801801</dd><dt><span>GRIB_typeOfLevel :</span></dt><dd>surface</dd><dt><span>GRIB_stepUnits :</span></dt><dd>1</dd><dt><span>GRIB_stepType :</span></dt><dd>instant</dd><dt><span>GRIB_gridType :</span></dt><dd>regular_ll</dd><dt><span>GRIB_uvRelativeToGrid :</span></dt><dd>0</dd><dt><span>GRIB_NV :</span></dt><dd>0</dd><dt><span>GRIB_Nx :</span></dt><dd>1001</dd><dt><span>GRIB_Ny :</span></dt><dd>801</dd><dt><span>GRIB_cfName :</span></dt><dd>unknown</dd><dt><span>GRIB_cfVarName :</span></dt><dd>sulwrf</dd><dt><span>GRIB_gridDefinitionDescription :</span></dt><dd>Latitude/longitude. Also called equidistant cylindrical, or Plate Carree</dd><dt><span>GRIB_iDirectionIncrementInDegrees :</span></dt><dd>0.019999</dd><dt><span>GRIB_iScansNegatively :</span></dt><dd>0</dd><dt><span>GRIB_jDirectionIncrementInDegrees :</span></dt><dd>0.019999</dd><dt><span>GRIB_jPointsAreConsecutive :</span></dt><dd>0</dd><dt><span>GRIB_jScansPositively :</span></dt><dd>1</dd><dt><span>GRIB_latitudeOfFirstGridPointInDegrees :</span></dt><dd>14.538</dd><dt><span>GRIB_latitudeOfLastGridPointInDegrees :</span></dt><dd>30.538</dd><dt><span>GRIB_longitudeOfFirstGridPointInDegrees :</span></dt><dd>258.981003</dd><dt><span>GRIB_longitudeOfLastGridPointInDegrees :</span></dt><dd>278.981003</dd><dt><span>GRIB_missingValue :</span></dt><dd>3.4028234663852886e+38</dd><dt><span>GRIB_name :</span></dt><dd>Surface upward long-wave radiation flux</dd><dt><span>GRIB_shortName :</span></dt><dd>sulwrf</dd><dt><span>GRIB_units :</span></dt><dd>W m**-2</dd><dt><span>long_name :</span></dt><dd>Surface upward long-wave radiation flux</dd><dt><span>units :</span></dt><dd>W m**-2</dd><dt><span>standard_name :</span></dt><dd>unknown</dd></dl></div><div class='xr-var-data'><pre>[801801 values with dtype=float32]</pre></div></li><li class='xr-var-item'><div class='xr-var-name'><span>unknown</span></div><div class='xr-var-dims'>(latitude, longitude)</div><div class='xr-var-dtype'>float32</div><div class='xr-var-preview xr-preview'>...</div><input id='attrs-39c68cca-45a7-4689-8f09-24c096ef274e' class='xr-var-attrs-in' type='checkbox' ><label for='attrs-39c68cca-45a7-4689-8f09-24c096ef274e' title='Show/Hide attributes'><svg class='icon xr-icon-file-text2'><use xlink:href='#icon-file-text2'></use></svg></label><input id='data-8060d9f6-5abe-4e3e-9f91-b638e66d3d5a' class='xr-var-data-in' type='checkbox'><label for='data-8060d9f6-5abe-4e3e-9f91-b638e66d3d5a' title='Show/Hide data repr'><svg class='icon xr-icon-database'><use xlink:href='#icon-database'></use></svg></label><div class='xr-var-attrs'><dl class='xr-attrs'><dt><span>GRIB_paramId :</span></dt><dd>0</dd><dt><span>GRIB_dataType :</span></dt><dd>fc</dd><dt><span>GRIB_numberOfPoints :</span></dt><dd>801801</dd><dt><span>GRIB_typeOfLevel :</span></dt><dd>surface</dd><dt><span>GRIB_stepUnits :</span></dt><dd>1</dd><dt><span>GRIB_stepType :</span></dt><dd>instant</dd><dt><span>GRIB_gridType :</span></dt><dd>regular_ll</dd><dt><span>GRIB_uvRelativeToGrid :</span></dt><dd>0</dd><dt><span>GRIB_NV :</span></dt><dd>0</dd><dt><span>GRIB_Nx :</span></dt><dd>1001</dd><dt><span>GRIB_Ny :</span></dt><dd>801</dd><dt><span>GRIB_cfName :</span></dt><dd>unknown</dd><dt><span>GRIB_cfVarName :</span></dt><dd>unknown</dd><dt><span>GRIB_gridDefinitionDescription :</span></dt><dd>Latitude/longitude. Also called equidistant cylindrical, or Plate Carree</dd><dt><span>GRIB_iDirectionIncrementInDegrees :</span></dt><dd>0.019999</dd><dt><span>GRIB_iScansNegatively :</span></dt><dd>0</dd><dt><span>GRIB_jDirectionIncrementInDegrees :</span></dt><dd>0.019999</dd><dt><span>GRIB_jPointsAreConsecutive :</span></dt><dd>0</dd><dt><span>GRIB_jScansPositively :</span></dt><dd>1</dd><dt><span>GRIB_latitudeOfFirstGridPointInDegrees :</span></dt><dd>14.538</dd><dt><span>GRIB_latitudeOfLastGridPointInDegrees :</span></dt><dd>30.538</dd><dt><span>GRIB_longitudeOfFirstGridPointInDegrees :</span></dt><dd>258.981003</dd><dt><span>GRIB_longitudeOfLastGridPointInDegrees :</span></dt><dd>278.981003</dd><dt><span>GRIB_missingValue :</span></dt><dd>3.4028234663852886e+38</dd><dt><span>GRIB_name :</span></dt><dd>unknown</dd><dt><span>GRIB_shortName :</span></dt><dd>unknown</dd><dt><span>GRIB_units :</span></dt><dd>unknown</dd><dt><span>long_name :</span></dt><dd>unknown</dd><dt><span>units :</span></dt><dd>unknown</dd><dt><span>standard_name :</span></dt><dd>unknown</dd></dl></div><div class='xr-var-data'><pre>[801801 values with dtype=float32]</pre></div></li><li class='xr-var-item'><div class='xr-var-name'><span>nlat</span></div><div class='xr-var-dims'>(latitude, longitude)</div><div class='xr-var-dtype'>float32</div><div class='xr-var-preview xr-preview'>...</div><input id='attrs-916fe004-8440-45fd-a9a4-17e7b2e4e7bd' class='xr-var-attrs-in' type='checkbox' ><label for='attrs-916fe004-8440-45fd-a9a4-17e7b2e4e7bd' title='Show/Hide attributes'><svg class='icon xr-icon-file-text2'><use xlink:href='#icon-file-text2'></use></svg></label><input id='data-e30b6413-50bc-4c3d-ae81-f952776be76e' class='xr-var-data-in' type='checkbox'><label for='data-e30b6413-50bc-4c3d-ae81-f952776be76e' title='Show/Hide data repr'><svg class='icon xr-icon-database'><use xlink:href='#icon-database'></use></svg></label><div class='xr-var-attrs'><dl class='xr-attrs'><dt><span>GRIB_paramId :</span></dt><dd>260421</dd><dt><span>GRIB_dataType :</span></dt><dd>fc</dd><dt><span>GRIB_numberOfPoints :</span></dt><dd>801801</dd><dt><span>GRIB_typeOfLevel :</span></dt><dd>surface</dd><dt><span>GRIB_stepUnits :</span></dt><dd>1</dd><dt><span>GRIB_stepType :</span></dt><dd>instant</dd><dt><span>GRIB_gridType :</span></dt><dd>regular_ll</dd><dt><span>GRIB_uvRelativeToGrid :</span></dt><dd>0</dd><dt><span>GRIB_NV :</span></dt><dd>0</dd><dt><span>GRIB_Nx :</span></dt><dd>1001</dd><dt><span>GRIB_Ny :</span></dt><dd>801</dd><dt><span>GRIB_cfName :</span></dt><dd>unknown</dd><dt><span>GRIB_cfVarName :</span></dt><dd>nlat</dd><dt><span>GRIB_gridDefinitionDescription :</span></dt><dd>Latitude/longitude. Also called equidistant cylindrical, or Plate Carree</dd><dt><span>GRIB_iDirectionIncrementInDegrees :</span></dt><dd>0.019999</dd><dt><span>GRIB_iScansNegatively :</span></dt><dd>0</dd><dt><span>GRIB_jDirectionIncrementInDegrees :</span></dt><dd>0.019999</dd><dt><span>GRIB_jPointsAreConsecutive :</span></dt><dd>0</dd><dt><span>GRIB_jScansPositively :</span></dt><dd>1</dd><dt><span>GRIB_latitudeOfFirstGridPointInDegrees :</span></dt><dd>14.538</dd><dt><span>GRIB_latitudeOfLastGridPointInDegrees :</span></dt><dd>30.538</dd><dt><span>GRIB_longitudeOfFirstGridPointInDegrees :</span></dt><dd>258.981003</dd><dt><span>GRIB_longitudeOfLastGridPointInDegrees :</span></dt><dd>278.981003</dd><dt><span>GRIB_missingValue :</span></dt><dd>3.4028234663852886e+38</dd><dt><span>GRIB_name :</span></dt><dd>Latitude (-90 to +90)</dd><dt><span>GRIB_shortName :</span></dt><dd>nlat</dd><dt><span>GRIB_units :</span></dt><dd>deg</dd><dt><span>long_name :</span></dt><dd>Latitude (-90 to +90)</dd><dt><span>units :</span></dt><dd>deg</dd><dt><span>standard_name :</span></dt><dd>unknown</dd></dl></div><div class='xr-var-data'><pre>[801801 values with dtype=float32]</pre></div></li><li class='xr-var-item'><div class='xr-var-name'><span>elon</span></div><div class='xr-var-dims'>(latitude, longitude)</div><div class='xr-var-dtype'>float32</div><div class='xr-var-preview xr-preview'>...</div><input id='attrs-3e4677f2-e481-4e5d-a5f8-fce4e933c048' class='xr-var-attrs-in' type='checkbox' ><label for='attrs-3e4677f2-e481-4e5d-a5f8-fce4e933c048' title='Show/Hide attributes'><svg class='icon xr-icon-file-text2'><use xlink:href='#icon-file-text2'></use></svg></label><input id='data-96a1cbc4-b344-4083-8399-fa9daed07c76' class='xr-var-data-in' type='checkbox'><label for='data-96a1cbc4-b344-4083-8399-fa9daed07c76' title='Show/Hide data repr'><svg class='icon xr-icon-database'><use xlink:href='#icon-database'></use></svg></label><div class='xr-var-attrs'><dl class='xr-attrs'><dt><span>GRIB_paramId :</span></dt><dd>260422</dd><dt><span>GRIB_dataType :</span></dt><dd>fc</dd><dt><span>GRIB_numberOfPoints :</span></dt><dd>801801</dd><dt><span>GRIB_typeOfLevel :</span></dt><dd>surface</dd><dt><span>GRIB_stepUnits :</span></dt><dd>1</dd><dt><span>GRIB_stepType :</span></dt><dd>instant</dd><dt><span>GRIB_gridType :</span></dt><dd>regular_ll</dd><dt><span>GRIB_uvRelativeToGrid :</span></dt><dd>0</dd><dt><span>GRIB_NV :</span></dt><dd>0</dd><dt><span>GRIB_Nx :</span></dt><dd>1001</dd><dt><span>GRIB_Ny :</span></dt><dd>801</dd><dt><span>GRIB_cfName :</span></dt><dd>unknown</dd><dt><span>GRIB_cfVarName :</span></dt><dd>elon</dd><dt><span>GRIB_gridDefinitionDescription :</span></dt><dd>Latitude/longitude. Also called equidistant cylindrical, or Plate Carree</dd><dt><span>GRIB_iDirectionIncrementInDegrees :</span></dt><dd>0.019999</dd><dt><span>GRIB_iScansNegatively :</span></dt><dd>0</dd><dt><span>GRIB_jDirectionIncrementInDegrees :</span></dt><dd>0.019999</dd><dt><span>GRIB_jPointsAreConsecutive :</span></dt><dd>0</dd><dt><span>GRIB_jScansPositively :</span></dt><dd>1</dd><dt><span>GRIB_latitudeOfFirstGridPointInDegrees :</span></dt><dd>14.538</dd><dt><span>GRIB_latitudeOfLastGridPointInDegrees :</span></dt><dd>30.538</dd><dt><span>GRIB_longitudeOfFirstGridPointInDegrees :</span></dt><dd>258.981003</dd><dt><span>GRIB_longitudeOfLastGridPointInDegrees :</span></dt><dd>278.981003</dd><dt><span>GRIB_missingValue :</span></dt><dd>3.4028234663852886e+38</dd><dt><span>GRIB_name :</span></dt><dd>East Longitude (0 - 360)</dd><dt><span>GRIB_shortName :</span></dt><dd>elon</dd><dt><span>GRIB_units :</span></dt><dd>deg</dd><dt><span>long_name :</span></dt><dd>East Longitude (0 - 360)</dd><dt><span>units :</span></dt><dd>deg</dd><dt><span>standard_name :</span></dt><dd>unknown</dd></dl></div><div class='xr-var-data'><pre>[801801 values with dtype=float32]</pre></div></li><li class='xr-var-item'><div class='xr-var-name'><span>lsm</span></div><div class='xr-var-dims'>(latitude, longitude)</div><div class='xr-var-dtype'>float32</div><div class='xr-var-preview xr-preview'>...</div><input id='attrs-612fcca6-afd6-4a65-acec-f4c496ad782a' class='xr-var-attrs-in' type='checkbox' ><label for='attrs-612fcca6-afd6-4a65-acec-f4c496ad782a' title='Show/Hide attributes'><svg class='icon xr-icon-file-text2'><use xlink:href='#icon-file-text2'></use></svg></label><input id='data-d0062484-b4ad-41e9-808f-470b05c3422f' class='xr-var-data-in' type='checkbox'><label for='data-d0062484-b4ad-41e9-808f-470b05c3422f' title='Show/Hide data repr'><svg class='icon xr-icon-database'><use xlink:href='#icon-database'></use></svg></label><div class='xr-var-attrs'><dl class='xr-attrs'><dt><span>GRIB_paramId :</span></dt><dd>172</dd><dt><span>GRIB_dataType :</span></dt><dd>fc</dd><dt><span>GRIB_numberOfPoints :</span></dt><dd>801801</dd><dt><span>GRIB_typeOfLevel :</span></dt><dd>surface</dd><dt><span>GRIB_stepUnits :</span></dt><dd>1</dd><dt><span>GRIB_stepType :</span></dt><dd>instant</dd><dt><span>GRIB_gridType :</span></dt><dd>regular_ll</dd><dt><span>GRIB_uvRelativeToGrid :</span></dt><dd>0</dd><dt><span>GRIB_NV :</span></dt><dd>0</dd><dt><span>GRIB_Nx :</span></dt><dd>1001</dd><dt><span>GRIB_Ny :</span></dt><dd>801</dd><dt><span>GRIB_cfName :</span></dt><dd>land_binary_mask</dd><dt><span>GRIB_cfVarName :</span></dt><dd>lsm</dd><dt><span>GRIB_gridDefinitionDescription :</span></dt><dd>Latitude/longitude. Also called equidistant cylindrical, or Plate Carree</dd><dt><span>GRIB_iDirectionIncrementInDegrees :</span></dt><dd>0.019999</dd><dt><span>GRIB_iScansNegatively :</span></dt><dd>0</dd><dt><span>GRIB_jDirectionIncrementInDegrees :</span></dt><dd>0.019999</dd><dt><span>GRIB_jPointsAreConsecutive :</span></dt><dd>0</dd><dt><span>GRIB_jScansPositively :</span></dt><dd>1</dd><dt><span>GRIB_latitudeOfFirstGridPointInDegrees :</span></dt><dd>14.538</dd><dt><span>GRIB_latitudeOfLastGridPointInDegrees :</span></dt><dd>30.538</dd><dt><span>GRIB_longitudeOfFirstGridPointInDegrees :</span></dt><dd>258.981003</dd><dt><span>GRIB_longitudeOfLastGridPointInDegrees :</span></dt><dd>278.981003</dd><dt><span>GRIB_missingValue :</span></dt><dd>3.4028234663852886e+38</dd><dt><span>GRIB_name :</span></dt><dd>Land-sea mask</dd><dt><span>GRIB_shortName :</span></dt><dd>lsm</dd><dt><span>GRIB_units :</span></dt><dd>(0 - 1)</dd><dt><span>long_name :</span></dt><dd>Land-sea mask</dd><dt><span>units :</span></dt><dd>(0 - 1)</dd><dt><span>standard_name :</span></dt><dd>land_binary_mask</dd></dl></div><div class='xr-var-data'><pre>[801801 values with dtype=float32]</pre></div></li><li class='xr-var-item'><div class='xr-var-name'><span>sst</span></div><div class='xr-var-dims'>(latitude, longitude)</div><div class='xr-var-dtype'>float32</div><div class='xr-var-preview xr-preview'>...</div><input id='attrs-4571db29-a4d6-4b1b-b773-aa95057a63ea' class='xr-var-attrs-in' type='checkbox' ><label for='attrs-4571db29-a4d6-4b1b-b773-aa95057a63ea' title='Show/Hide attributes'><svg class='icon xr-icon-file-text2'><use xlink:href='#icon-file-text2'></use></svg></label><input id='data-6e0cb7d6-250b-4c4d-bc81-d14fd5cdc9fa' class='xr-var-data-in' type='checkbox'><label for='data-6e0cb7d6-250b-4c4d-bc81-d14fd5cdc9fa' title='Show/Hide data repr'><svg class='icon xr-icon-database'><use xlink:href='#icon-database'></use></svg></label><div class='xr-var-attrs'><dl class='xr-attrs'><dt><span>GRIB_paramId :</span></dt><dd>34</dd><dt><span>GRIB_dataType :</span></dt><dd>fc</dd><dt><span>GRIB_numberOfPoints :</span></dt><dd>801801</dd><dt><span>GRIB_typeOfLevel :</span></dt><dd>surface</dd><dt><span>GRIB_stepUnits :</span></dt><dd>1</dd><dt><span>GRIB_stepType :</span></dt><dd>instant</dd><dt><span>GRIB_gridType :</span></dt><dd>regular_ll</dd><dt><span>GRIB_uvRelativeToGrid :</span></dt><dd>0</dd><dt><span>GRIB_NV :</span></dt><dd>0</dd><dt><span>GRIB_Nx :</span></dt><dd>1001</dd><dt><span>GRIB_Ny :</span></dt><dd>801</dd><dt><span>GRIB_cfName :</span></dt><dd>unknown</dd><dt><span>GRIB_cfVarName :</span></dt><dd>sst</dd><dt><span>GRIB_gridDefinitionDescription :</span></dt><dd>Latitude/longitude. Also called equidistant cylindrical, or Plate Carree</dd><dt><span>GRIB_iDirectionIncrementInDegrees :</span></dt><dd>0.019999</dd><dt><span>GRIB_iScansNegatively :</span></dt><dd>0</dd><dt><span>GRIB_jDirectionIncrementInDegrees :</span></dt><dd>0.019999</dd><dt><span>GRIB_jPointsAreConsecutive :</span></dt><dd>0</dd><dt><span>GRIB_jScansPositively :</span></dt><dd>1</dd><dt><span>GRIB_latitudeOfFirstGridPointInDegrees :</span></dt><dd>14.538</dd><dt><span>GRIB_latitudeOfLastGridPointInDegrees :</span></dt><dd>30.538</dd><dt><span>GRIB_longitudeOfFirstGridPointInDegrees :</span></dt><dd>258.981003</dd><dt><span>GRIB_longitudeOfLastGridPointInDegrees :</span></dt><dd>278.981003</dd><dt><span>GRIB_missingValue :</span></dt><dd>3.4028234663852886e+38</dd><dt><span>GRIB_name :</span></dt><dd>Sea surface temperature</dd><dt><span>GRIB_shortName :</span></dt><dd>sst</dd><dt><span>GRIB_units :</span></dt><dd>K</dd><dt><span>long_name :</span></dt><dd>Sea surface temperature</dd><dt><span>units :</span></dt><dd>K</dd><dt><span>standard_name :</span></dt><dd>unknown</dd></dl></div><div class='xr-var-data'><pre>[801801 values with dtype=float32]</pre></div></li></ul></div></li><li class='xr-section-item'><input id='section-132c4b9f-1e68-40a8-a0f4-5d70d6c51a89' class='xr-section-summary-in' type='checkbox'  ><label for='section-132c4b9f-1e68-40a8-a0f4-5d70d6c51a89' class='xr-section-summary' >Indexes: <span>(3)</span></label><div class='xr-section-inline-details'></div><div class='xr-section-details'><ul class='xr-var-list'><li class='xr-var-item'><div class='xr-index-name'><div>isobaricInhPa</div></div><div class='xr-index-preview'>PandasIndex</div><input type='checkbox' disabled/><label></label><input id='index-b3a7f014-7a8c-423f-b35e-f3cdc1467ed5' class='xr-index-data-in' type='checkbox'/><label for='index-b3a7f014-7a8c-423f-b35e-f3cdc1467ed5' title='Show/Hide index repr'><svg class='icon xr-icon-database'><use xlink:href='#icon-database'></use></svg></label><div class='xr-index-data'><pre>PandasIndex(Index([1000.0,  975.0,  950.0,  925.0,  900.0,  875.0,  850.0,  825.0,  800.0,\n",
              "        775.0,  750.0,  725.0,  700.0,  675.0,  650.0,  625.0,  600.0,  575.0,\n",
              "        550.0,  525.0,  500.0,  475.0,  450.0,  425.0,  400.0,  375.0,  350.0,\n",
              "        325.0,  300.0,  275.0,  250.0,  225.0,  200.0,  175.0,  150.0,  125.0,\n",
              "        100.0,   70.0,   50.0,   30.0,   20.0,   10.0,    7.0,    5.0,    2.0],\n",
              "      dtype=&#x27;float64&#x27;, name=&#x27;isobaricInhPa&#x27;))</pre></div></li><li class='xr-var-item'><div class='xr-index-name'><div>latitude</div></div><div class='xr-index-preview'>PandasIndex</div><input type='checkbox' disabled/><label></label><input id='index-42180de0-06d6-457b-a4ee-3fb57a6953c6' class='xr-index-data-in' type='checkbox'/><label for='index-42180de0-06d6-457b-a4ee-3fb57a6953c6' title='Show/Hide index repr'><svg class='icon xr-icon-database'><use xlink:href='#icon-database'></use></svg></label><div class='xr-index-data'><pre>PandasIndex(Index([            14.538,          14.557999, 14.577998000000001,\n",
              "       14.597997000000001, 14.617996000000002, 14.637995000000002,\n",
              "       14.657994000000002, 14.677993000000003, 14.697992000000003,\n",
              "       14.717991000000003,\n",
              "       ...\n",
              "        30.35720899999898,  30.37720799999898,  30.39720699999898,\n",
              "       30.417205999998977, 30.437204999998976, 30.457203999998974,\n",
              "       30.477202999998973,  30.49720199999897,  30.51720099999897,\n",
              "                   30.538],\n",
              "      dtype=&#x27;float64&#x27;, name=&#x27;latitude&#x27;, length=801))</pre></div></li><li class='xr-var-item'><div class='xr-index-name'><div>longitude</div></div><div class='xr-index-preview'>PandasIndex</div><input type='checkbox' disabled/><label></label><input id='index-3d6da6f8-6e0e-4b94-9e7f-070053c77d16' class='xr-index-data-in' type='checkbox'/><label for='index-3d6da6f8-6e0e-4b94-9e7f-070053c77d16' title='Show/Hide index repr'><svg class='icon xr-icon-database'><use xlink:href='#icon-database'></use></svg></label><div class='xr-index-data'><pre>PandasIndex(Index([        258.981003, 259.00100299999997, 259.02100299999995,\n",
              "       259.04100299999993,  259.0610029999999,  259.0810029999999,\n",
              "        259.1010029999999, 259.12100299999986, 259.14100299999984,\n",
              "        259.1610029999998,\n",
              "       ...\n",
              "       278.80100299998196, 278.82100299998194,  278.8410029999819,\n",
              "        278.8610029999819,  278.8810029999819, 278.90100299998187,\n",
              "       278.92100299998185, 278.94100299998183,  278.9610029999818,\n",
              "               278.981003],\n",
              "      dtype=&#x27;float64&#x27;, name=&#x27;longitude&#x27;, length=1001))</pre></div></li></ul></div></li><li class='xr-section-item'><input id='section-4b0b3f1a-fe57-4997-aa3e-84b536d53656' class='xr-section-summary-in' type='checkbox'  checked><label for='section-4b0b3f1a-fe57-4997-aa3e-84b536d53656' class='xr-section-summary' >Attributes: <span>(7)</span></label><div class='xr-section-inline-details'></div><div class='xr-section-details'><dl class='xr-attrs'><dt><span>GRIB_edition :</span></dt><dd>2</dd><dt><span>GRIB_centre :</span></dt><dd>kwbc</dd><dt><span>GRIB_centreDescription :</span></dt><dd>US National Weather Service - NCEP</dd><dt><span>GRIB_subCentre :</span></dt><dd>0</dd><dt><span>Conventions :</span></dt><dd>CF-1.7</dd><dt><span>institution :</span></dt><dd>US National Weather Service - NCEP</dd><dt><span>history :</span></dt><dd>2025-07-09T15:58 GRIB to CDM+CF via cfgrib-0.9.15.0/ecCodes-2.42.0 with {&quot;source&quot;: &quot;atm_2024100600_f048.grb2&quot;, &quot;filter_by_keys&quot;: {&quot;typeOfLevel&quot;: &quot;isobaricInhPa&quot;, &quot;stepType&quot;: &quot;instant&quot;}, &quot;encode_cf&quot;: [&quot;parameter&quot;, &quot;time&quot;, &quot;geography&quot;, &quot;vertical&quot;]}</dd></dl></div></li></ul></div></div>"
            ]
          },
          "metadata": {},
          "execution_count": 51
        }
      ]
    },
    {
      "cell_type": "markdown",
      "source": [
        "Download MOM6"
      ],
      "metadata": {
        "id": "A9iKFgvmvNK0"
      }
    },
    {
      "cell_type": "code",
      "source": [
        "existingFilesLs = !ls {saveLocOce}\n",
        "existingFiles = [f for files in existingFilesLs for f in files.split(\"  \")]\n",
        "existingFileNames = [f.replace(\"nc\", \"grb2\").replace(\"hafsa\", \"atm\").replace(\"mom6\", \"oce\") for f in existingFiles]\n",
        "existingFileNames.sort()"
      ],
      "metadata": {
        "id": "RkZRr8HBs2yT"
      },
      "execution_count": 52,
      "outputs": []
    },
    {
      "cell_type": "code",
      "source": [
        "missingFiles = ['oce_2024100800_f000.nc', \"oce_2024100800_f126.nc\"]"
      ],
      "metadata": {
        "id": "f41oFyaQ2T4o"
      },
      "execution_count": 53,
      "outputs": []
    },
    {
      "cell_type": "code",
      "source": [
        "for init, validList in fcastTimes.items():\n",
        "\n",
        "  if not downloadOce: break\n",
        "\n",
        "  initDate, initHour = init.strftime(\"%Y%m%d_%H\").split(\"_\")\n",
        "  oceRun = False\n",
        "\n",
        "  for valid in validList:\n",
        "\n",
        "    fhour = str(int((valid-init).total_seconds() / 3600))\n",
        "    while len(fhour) < 3: fhour = \"0\" + fhour\n",
        "\n",
        "    oceURL = bucket + initDate + \"/\" + initHour + \"/\" + tcNum + \"l.\" + initDate + initHour + \".hfsa.mom6.f\" + fhour + \".nc\"\n",
        "    oceFile = \"oce_\" + initDate + initHour + \"_f\" + fhour + \".nc\"\n",
        "\n",
        "    if atmFile in existingFileNames and not replaceExisting:\n",
        "      print(atmFile + \" already exists.\\n\")\n",
        "      continue #Skip files we already have\n",
        "\n",
        "    if oceFile in missingFiles: continue #This file is missing\n",
        "    !aria2c -x 16 -s 16 --allow-overwrite=true -o {oceFile} {oceURL}\n",
        "    oceData = xr.open_dataset(oceFile, decode_times=False)\n",
        "\n",
        "    depthSlice = slice(min(oceData.z_l.data), oceBottom)\n",
        "    oceSlice = oceData.sel(z_l=depthSlice, z_i=depthSlice,\\\n",
        "                           xh=slice(lonBounds[0],lonBounds[1]), yh=slice(latBounds[0],latBounds[1]),\\\n",
        "                           xq=slice(lonBounds[0],lonBounds[1]), yq=slice(latBounds[0],latBounds[1]))\n",
        "\n",
        "    oceSlice.to_netcdf(saveLocOce + \"/mom6_\" + initDate + initHour + \"_f\" + fhour + \".nc\")\n",
        "\n",
        "    !rm {oceFile}"
      ],
      "metadata": {
        "collapsed": true,
        "id": "mU1HIzL_4ij2"
      },
      "execution_count": 54,
      "outputs": []
    }
  ]
}