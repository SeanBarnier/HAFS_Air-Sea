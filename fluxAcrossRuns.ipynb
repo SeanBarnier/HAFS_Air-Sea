{
  "nbformat": 4,
  "nbformat_minor": 0,
  "metadata": {
    "colab": {
      "provenance": [],
      "authorship_tag": "ABX9TyMoySGOn101TNMxSGqJCYAr",
      "include_colab_link": true
    },
    "kernelspec": {
      "name": "python3",
      "display_name": "Python 3"
    },
    "language_info": {
      "name": "python"
    }
  },
  "cells": [
    {
      "cell_type": "markdown",
      "metadata": {
        "id": "view-in-github",
        "colab_type": "text"
      },
      "source": [
        "<a href=\"https://colab.research.google.com/github/SeanBarnier/HAFS_Air-Sea/blob/main/fluxAcrossRuns.ipynb\" target=\"_parent\"><img src=\"https://colab.research.google.com/assets/colab-badge.svg\" alt=\"Open In Colab\"/></a>"
      ]
    },
    {
      "cell_type": "markdown",
      "source": [
        "#Set up environment"
      ],
      "metadata": {
        "id": "f592A_AhmfhP"
      }
    },
    {
      "cell_type": "code",
      "source": [
        "!pip install cfgrib"
      ],
      "metadata": {
        "id": "wDGgQBxjYusr",
        "collapsed": true
      },
      "execution_count": null,
      "outputs": []
    },
    {
      "cell_type": "code",
      "source": [
        "import xarray as xr\n",
        "import pandas as pd\n",
        "import numpy as np\n",
        "import matplotlib.pyplot as plt\n",
        "from datetime import datetime as dt\n",
        "import cfgrib"
      ],
      "metadata": {
        "id": "vWrr_30yZ4nh"
      },
      "execution_count": null,
      "outputs": []
    },
    {
      "cell_type": "code",
      "source": [
        "from google.colab import drive\n",
        "drive.mount('/content/drive')"
      ],
      "metadata": {
        "id": "6KsU8RFVmin5"
      },
      "execution_count": null,
      "outputs": []
    },
    {
      "cell_type": "markdown",
      "source": [
        "#User parameters"
      ],
      "metadata": {
        "id": "XnkUgaLnLbuC"
      }
    },
    {
      "cell_type": "code",
      "source": [
        "name = \"Milton\"\n",
        "tcNum = \"14\"\n",
        "trackType = \"\"\n",
        "\n",
        "initStart = dt(year=2024, month=10, day=6, hour=12) #Time when Milton began its most rapid intensification\n",
        "initEnd = dt(year=2024, month=10, day=8, hour=0)\n",
        "\n",
        "fHourStep = 3       #Normally 3 for HAFS-A\n",
        "forecastLength = 48 #Normally 126 for HAFS-A.\n",
        "runStep = 6\n",
        "\n",
        "figureSuffix = \"_RI\"\n",
        "subfolder = \"RI/\"\n",
        "dataPath = \"/content/drive/MyDrive/savedData/\"\n",
        "figurePath = \"/content/drive/MyDrive/figures/\"\n",
        "\n",
        "potentialTemp = True #Use atmospheric potential temperature instead of in-situ temperature\n",
        "\n",
        "atmTop = 875\n",
        "oceFloor = 100"
      ],
      "metadata": {
        "id": "5mX9LiKtLeTX"
      },
      "execution_count": null,
      "outputs": []
    },
    {
      "cell_type": "markdown",
      "source": [
        "Get ATCF data and find interested point"
      ],
      "metadata": {
        "id": "f4C7bEjXNznh"
      }
    },
    {
      "cell_type": "markdown",
      "source": [
        "#Retrieve HAFS-A Data"
      ],
      "metadata": {
        "id": "5MU8O99TOZme"
      }
    },
    {
      "cell_type": "markdown",
      "source": [
        "Find times needed"
      ],
      "metadata": {
        "id": "aQjv2UVg4l65"
      }
    },
    {
      "cell_type": "code",
      "source": [
        "fcastTimes = {} #Key: initiation, item: valid time list\n",
        "\n",
        "initTime = initStart\n",
        "while initTime <= initEnd:\n",
        "  validTime = initTime\n",
        "  fcastTimes[initTime] = []\n",
        "  fhour = 0\n",
        "\n",
        "  while fhour <= forecastLength:\n",
        "    fcastTimes[initTime].append(validTime)\n",
        "    validTime += pd.Timedelta(hours=fHourStep)\n",
        "    fhour += fHourStep\n",
        "\n",
        "  initTime += pd.Timedelta(hours=runStep)"
      ],
      "metadata": {
        "collapsed": true,
        "id": "L2tWCQSGHQMv"
      },
      "execution_count": null,
      "outputs": []
    },
    {
      "cell_type": "code",
      "source": [
        "fcastTimes"
      ],
      "metadata": {
        "id": "1t_Cv42VR_qV"
      },
      "execution_count": null,
      "outputs": []
    },
    {
      "cell_type": "markdown",
      "source": [
        "Find storm location in HAFS-A from ATCF files. Used to find along-storm profile."
      ],
      "metadata": {
        "id": "bNcDi6valX_j"
      }
    },
    {
      "cell_type": "code",
      "source": [
        "cols = [\"BASIN\", \"CY\", \"YYYYMMDDHH\", \"TECHNUM/MIN\", \"TECH\", \"TAU\", \"LatN/S\", \"LonE/W\",\n",
        "    \"VMAX\", \"MSLP\", \"TY\", \"RAD\", \"WINDCODE\", \"RAD1\", \"RAD2\", \"RAD3\", \"RAD4\",\n",
        "    \"POUTER\", \"ROUTER\", \"RMW\", \"GUSTS\", \"EYE\", \"SUBREGION\", \"MAXSEAS\", \"INITIALS\",\n",
        "    \"DIR\", \"SPEED\", \"STORMNAME\", \"DEPTH\", \"SEAS\", \"SEASCODE\", \"SEAS1\", \"SEAS2\",\n",
        "    \"SEAS3\", \"SEAS4\", \"USERDEFINED1\", \"Thermo1\", \"Thermo2\", \"Thermo3\", \"Thermo4\",\n",
        "    \"Thermo5\", \"Thermo6\", \"Thermo7\", \"USERDEFINED2\", \"DT\", \"SHR82\", \"SHR81_1\",\n",
        "    \"SHR82_2\",  \"USERDEFINED3\", \"SST\", \"USERDEFINED4\", \"ARMW1\", \"ARMW2\"]"
      ],
      "metadata": {
        "id": "yO6jA18GOCVi"
      },
      "execution_count": null,
      "outputs": []
    },
    {
      "cell_type": "code",
      "source": [
        "tcLocs = {}\n",
        "tcInt = {}\n",
        "\n",
        "for runTime in fcastTimes.keys():\n",
        "\n",
        "  initStr, initHour = runTime.strftime(\"%Y%m%d_%H\").split(\"_\")\n",
        "  tcLocs[runTime] = {}\n",
        "  tcInt[runTime] = {}\n",
        "\n",
        "  atcfURL = f\"https://noaa-nws-hafs-pds.s3.amazonaws.com/hfsa/{initStr}/{initHour}/{tcNum}l.{initStr}{initHour}.hfsa.trak.atcfunix\"\n",
        "  atcfFile = \"atcf_\" + initStr + \"_\" + initHour + \".csv\"\n",
        "  !wget -O {atcfFile} {atcfURL}\n",
        "  atcf = pd.read_csv(atcfFile, names=cols)\n",
        "\n",
        "  for valid in fcastTimes[runTime]:\n",
        "\n",
        "    fHour = int((valid-runTime).total_seconds() / 3600)\n",
        "    pointLat = int(atcf[atcf.TAU==fHour][\"LatN/S\"].iloc[0].replace(\"N\", \"\"))/10\n",
        "    pointLon = int(atcf[atcf.TAU==fHour][\"LonE/W\"].iloc[0].replace(\"W\", \"\"))/-10 #Assume western hemisphere\n",
        "    tcLocs[runTime][valid] = (pointLat, pointLon)\n",
        "    tcInt[runTime][valid] = int(atcf[atcf.TAU==fHour][\"VMAX\"].iloc[0])"
      ],
      "metadata": {
        "id": "M2-eqEmxlXw3"
      },
      "execution_count": null,
      "outputs": []
    },
    {
      "cell_type": "code",
      "source": [
        "atm = {}\n",
        "\n",
        "for runTime in fcastTimes.keys():\n",
        "\n",
        "  initStr = runTime.strftime(\"%Y%m%d%H\")\n",
        "  atm[runTime] = {}\n",
        "\n",
        "  for valid in fcastTimes[runTime]:\n",
        "\n",
        "    atm[runTime][valid] = {}\n",
        "\n",
        "    fhour = str(int((valid-runTime).total_seconds() / 3600))\n",
        "    while len(fhour) < 3: fhour = \"0\" + fhour\n",
        "\n",
        "    atmFile = \"hafsa_\" + initStr + \"_f\" + fhour + \".nc\"\n",
        "    atmPath = dataPath + \"hafsaOutput/\" + subfolder + atmFile\n",
        "    atmData = xr.open_dataset(atmPath)\n",
        "\n",
        "    point = tcLocs[runTime][valid]\n",
        "    levels = atmData.isobaricInhPa.data[atmData.isobaricInhPa.data>atmTop] #Get lowest point; should be 1000 hPa\n",
        "\n",
        "    #Longitude in atm files are in degrees east, but are -180 - 180 in oce files. point has them from -180 - 180\n",
        "    validPoint = atmData.sel(latitude=point[0], longitude=point[1] + 360, method=\"nearest\")\n",
        "    for level in levels:\n",
        "      atm[runTime][valid][level] = {}\n",
        "      atm[runTime][valid][level][\"T\"] = float(validPoint.sel(isobaricInhPa=level).t.data)\n",
        "      atm[runTime][valid][level][\"q\"] = float(validPoint.sel(isobaricInhPa=level).q.data) * 1000 #Convert from kg/kg to g/kg\n",
        "      atm[runTime][valid][level][\"u\"] = float(validPoint.sel(isobaricInhPa=level).u.data)\n",
        "      atm[runTime][valid][level][\"v\"] = float(validPoint.sel(isobaricInhPa=level).v.data)\n",
        "      atm[runTime][valid][level][\"gh\"] = float(validPoint.sel(isobaricInhPa=level).gh.data)\n",
        "      atm[runTime][valid][level][\"sst\"] = float(validPoint.sst.data)\n",
        "      atm[runTime][valid][level][\"shf\"] = float(validPoint.ishf.data)\n",
        "      atm[runTime][valid][level][\"lhf\"] = float(validPoint.slhtf.data)"
      ],
      "metadata": {
        "collapsed": true,
        "id": "mU1HIzL_4ij2"
      },
      "execution_count": null,
      "outputs": []
    },
    {
      "cell_type": "code",
      "source": [
        "oce = {}\n",
        "getOce = False\n",
        "\n",
        "for runTime in fcastTimes.keys():\n",
        "\n",
        "  if getOce == False: break\n",
        "  initStr = runTime.strftime(\"%Y%m%d%H\")\n",
        "  oce[runTime] = {}\n",
        "\n",
        "  for valid in fcastTimes[runTime]:\n",
        "    fhour = str(int((valid-runTime).total_seconds() / 3600))\n",
        "    while len(fhour) < 3: fhour = \"0\" + fhour\n",
        "    oceFile = \"mom6_\" + initStr + \"_f\" + fhour + \".nc\"\n",
        "    ocePath = dataPath + \"mom6Output/\" + subfolder + oceFile\n",
        "\n",
        "    if oceFile == 'mom6_2024100800_f000.nc': #This file is missing\n",
        "      for layer in oceData.z_l.data:\n",
        "        oce[initTime][valid][layer] = {\"T\":np.nan, \"s\":np.nan, \"u\":np.nan, \"v\":np.nan}\n",
        "      continue\n",
        "\n",
        "    oceData = xr.open_dataset(ocePath, decode_times=False)\n",
        "\n",
        "    point = tcLocs[runTime][valid]\n",
        "    levels = oceData.z_l.data[oceData.z_l.data<=oceFloor] #Retrieves most shallow layer; should be 1 m\n",
        "\n",
        "    oce[runTime][valid] = {}\n",
        "\n",
        "    for level in levels:\n",
        "      oce[runTime][valid][level] = {}\n",
        "      oce[runTime][valid][level][\"T\"] = float(oceData.sel(yh=point[0], xh=point[1], z_l=level, method=\"nearest\").temp.data) + 273.15 #This is potential temperature. Converted from C to K.\n",
        "      oce[runTime][valid][level][\"s\"] = float(oceData.sel(yh=point[0], xh=point[1], z_l=level, method=\"nearest\").so.data)\n",
        "      oce[runTime][valid][level][\"u\"] = float(oceData.sel(yh=point[0], xq=point[1], z_l=level, method=\"nearest\").uo.data)\n",
        "      oce[runTime][valid][level][\"v\"] = float(oceData.sel(yq=point[0], xh=point[1], z_l=level, method=\"nearest\").vo.data)\n",
        "      oce[runTime][valid][level][\"sst\"] = float(oceData.sel(yh=point[0], xh=point[1], method=\"nearest\").SST.data) + 273.15\n",
        "      oce[runTime][valid][level][\"ssh\"] = float(oceData.sel(yh=point[0], xh=point[1], method=\"nearest\").SSH.data)\n",
        "      oce[runTime][valid][level][\"shf\"] = float(oceData.sel(yh=point[0], xh=point[1], method=\"nearest\").sensible.data)\n",
        "      oce[runTime][valid][level][\"lhf\"] = float(oceData.sel(yh=point[0], xh=point[1], method=\"nearest\").latent.data)"
      ],
      "metadata": {
        "collapsed": true,
        "id": "VZXxVJfcV7Zl"
      },
      "execution_count": null,
      "outputs": []
    },
    {
      "cell_type": "markdown",
      "source": [
        "#Figures"
      ],
      "metadata": {
        "id": "3YtWZE5dPalR"
      }
    },
    {
      "cell_type": "markdown",
      "source": [
        "Sensible heat flux with intensity"
      ],
      "metadata": {
        "id": "PIQnIR_xXZt0"
      }
    },
    {
      "cell_type": "code",
      "metadata": {
        "id": "e5c97d70"
      },
      "source": [
        "# Get the number of model runs\n",
        "num_runs = len(atm)\n",
        "\n",
        "# Create a figure with a subplot for each run time\n",
        "fig, axes = plt.subplots(num_runs, 1, figsize=(8, 2 * num_runs), sharex=True)\n",
        "\n",
        "# Ensure axes is an array even if there's only one run\n",
        "if num_runs == 1: axes = [axes]\n",
        "\n",
        "for i, (run_time, valid_times_data) in enumerate(atm.items()):\n",
        "    times = sorted(valid_times_data.keys())\n",
        "    shf_values = [valid_times_data[time][1000.0][\"shf\"] for time in times]\n",
        "    intensity_values = [tcInt[run_time][time] for time in times] # Get intensity values\n",
        "\n",
        "    ax1 = axes[i]\n",
        "    ax2 = ax1.twinx()\n",
        "\n",
        "    ax1.plot(times, shf_values, label='Sensible Heat Flux', color=\"darkorange\")\n",
        "    ax2.plot(times, intensity_values, label='Intensity', color=\"black\")\n",
        "\n",
        "    ax1.set_ylabel(\"Sensible Heat Flux (W/m$^2$)\")\n",
        "    ax2.set_ylabel(\"Intensity (kt)\")\n",
        "    ax1.set_title(f'Model Run: {run_time.strftime(\"%m-%d %HUTC\")}')\n",
        "    ax1.grid(True, alpha=0.5)\n",
        "    ax1.legend(loc='upper left')\n",
        "    ax2.legend(loc='upper right')\n",
        "\n",
        "# Set common x-label for the last subplot\n",
        "axes[-1].set_xlabel(\"Time\")\n",
        "plt.xticks(rotation=45)\n",
        "plt.tight_layout()\n",
        "plt.show()"
      ],
      "execution_count": null,
      "outputs": []
    },
    {
      "cell_type": "markdown",
      "source": [
        "Latent heat flux and intensity"
      ],
      "metadata": {
        "id": "YF3WyvzBsbLj"
      }
    },
    {
      "cell_type": "code",
      "source": [
        "# Get the number of model runs\n",
        "num_runs = len(atm)\n",
        "\n",
        "# Create a figure with a subplot for each run time\n",
        "fig, axes = plt.subplots(num_runs, 1, figsize=(8, 2 * num_runs), sharex=True)\n",
        "\n",
        "# Ensure axes is an array even if there's only one run\n",
        "if num_runs == 1: axes = [axes]\n",
        "\n",
        "for i, (run_time, valid_times_data) in enumerate(atm.items()):\n",
        "    times = sorted(valid_times_data.keys())\n",
        "    shf_values = [valid_times_data[time][1000.0][\"lhf\"] for time in times]\n",
        "    intensity_values = [tcInt[run_time][time] for time in times] # Get intensity values\n",
        "\n",
        "    ax1 = axes[i]\n",
        "    ax2 = ax1.twinx()\n",
        "\n",
        "    ax1.plot(times, shf_values, label='Latent Heat Flux', color=\"green\")\n",
        "    ax2.plot(times, intensity_values, label='Intensity', color=\"black\")\n",
        "\n",
        "    ax1.set_ylabel(\"Latent Heat Flux (W/m$^2$)\")\n",
        "    ax2.set_ylabel(\"Intensity (kt)\")\n",
        "    ax1.set_title(f'Model Run: {run_time.strftime(\"%m-%d %HUTC\")}')\n",
        "    ax1.grid(True, alpha=0.5)\n",
        "    ax1.legend(loc='upper left')\n",
        "    ax2.legend(loc='upper right')\n",
        "\n",
        "# Set common x-label for the last subplot\n",
        "axes[-1].set_xlabel(\"Time\")\n",
        "plt.xticks(rotation=45)\n",
        "plt.tight_layout()\n",
        "plt.show()"
      ],
      "metadata": {
        "id": "KArKsd1snLzn"
      },
      "execution_count": null,
      "outputs": []
    },
    {
      "cell_type": "markdown",
      "source": [
        "Sensible + Latnet heat flux and change in intensity"
      ],
      "metadata": {
        "id": "vYNjZyrtZ7k8"
      }
    },
    {
      "cell_type": "code",
      "source": [
        "# Get the number of model runs\n",
        "num_runs = len(atm)\n",
        "\n",
        "# Create a figure with a subplot for each run time\n",
        "fig, axes = plt.subplots(num_runs, 1, figsize=(8, 2 * num_runs), sharex=True)\n",
        "\n",
        "# Ensure axes is an array even if there's only one run\n",
        "if num_runs == 1: axes = [axes]\n",
        "\n",
        "for i, (run_time, valid_times_data) in enumerate(atm.items()):\n",
        "    times = sorted(valid_times_data.keys())\n",
        "    validTimes = times[1:]\n",
        "    pastTimes = times[:-1]\n",
        "\n",
        "    shf_values = [valid_times_data[time][1000.0][\"lhf\"]+valid_times_data[time][1000.0][\"shf\"] for time in validTimes]\n",
        "    dIntensity = [tcInt[run_time][validTime]-tcInt[run_time][pastTime] for validTime, pastTime in zip(validTimes,pastTimes)] # Get intensity values\n",
        "\n",
        "    ax1 = axes[i]\n",
        "    ax2 = ax1.twinx()\n",
        "\n",
        "    ax1.plot(validTimes, shf_values, label='Latent Heat Flux', color=\"magenta\")\n",
        "    ax2.plot(validTimes, dIntensity, label='$\\Delta$Vmax', color=\"black\")\n",
        "\n",
        "    ax1.set_ylabel(\"Latent Heat Flux (W/m$^2$)\")\n",
        "    ax2.set_ylabel(\"$\\Delta$Intensity (kt)\")\n",
        "    ax1.set_title(f'Model Run: {run_time.strftime(\"%m-%d %HUTC\")}')\n",
        "    ax1.grid(True, alpha=0.5)\n",
        "    ax1.legend(loc='upper left')\n",
        "    ax2.legend(loc='upper right')\n",
        "\n",
        "# Set common x-label for the last subplot\n",
        "axes[-1].set_xlabel(\"Time\")\n",
        "plt.xticks(rotation=45)\n",
        "plt.tight_layout()\n",
        "plt.show()"
      ],
      "metadata": {
        "id": "6JfYFWmdaDQn"
      },
      "execution_count": null,
      "outputs": []
    }
  ]
}