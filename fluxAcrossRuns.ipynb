{
  "nbformat": 4,
  "nbformat_minor": 0,
  "metadata": {
    "colab": {
      "provenance": [],
      "include_colab_link": true
    },
    "kernelspec": {
      "name": "python3",
      "display_name": "Python 3"
    },
    "language_info": {
      "name": "python"
    }
  },
  "cells": [
    {
      "cell_type": "markdown",
      "metadata": {
        "id": "view-in-github",
        "colab_type": "text"
      },
      "source": [
        "<a href=\"https://colab.research.google.com/github/SeanBarnier/HAFS_Air-Sea/blob/main/fluxAcrossRuns.ipynb\" target=\"_parent\"><img src=\"https://colab.research.google.com/assets/colab-badge.svg\" alt=\"Open In Colab\"/></a>"
      ]
    },
    {
      "cell_type": "markdown",
      "source": [
        "Creates plots showing air-sea heat fluxes across several HAFS-A cycles and how they relate to modeled TC intensity and forecast error."
      ],
      "metadata": {
        "id": "yxLaWrb1dyyg"
      }
    },
    {
      "cell_type": "markdown",
      "source": [
        "#Set up environment"
      ],
      "metadata": {
        "id": "f592A_AhmfhP"
      }
    },
    {
      "cell_type": "code",
      "source": [
        "from google.colab import drive\n",
        "drive.mount('/content/drive')"
      ],
      "metadata": {
        "id": "6KsU8RFVmin5"
      },
      "execution_count": null,
      "outputs": []
    },
    {
      "cell_type": "code",
      "source": [
        "!pip install cfgrib"
      ],
      "metadata": {
        "id": "wDGgQBxjYusr",
        "collapsed": true
      },
      "execution_count": null,
      "outputs": []
    },
    {
      "cell_type": "code",
      "source": [
        "import xarray as xr\n",
        "import pandas as pd\n",
        "import numpy as np\n",
        "import matplotlib.pyplot as plt\n",
        "from datetime import datetime as dt\n",
        "import cfgrib"
      ],
      "metadata": {
        "id": "vWrr_30yZ4nh"
      },
      "execution_count": null,
      "outputs": []
    },
    {
      "cell_type": "markdown",
      "source": [
        "#User parameters"
      ],
      "metadata": {
        "id": "XnkUgaLnLbuC"
      }
    },
    {
      "cell_type": "code",
      "source": [
        "name = \"Milton\"\n",
        "tcNum = \"14\"\n",
        "trackType = \"\"\n",
        "\n",
        "initStart = dt(year=2024, month=10, day=6, hour=0) #Time when Milton began its most rapid intensification\n",
        "initEnd = dt(year=2024, month=10, day=8, hour=0)\n",
        "endTime = dt(year=2024, month=10, day=10, hour=0)\n",
        "\n",
        "fHourStep = 3       #Normally 3 for HAFS-A\n",
        "forecastLength = 126 #Normally 126 for HAFS-A.\n",
        "runStep = 24\n",
        "\n",
        "figureSuffix = \"_RI\"\n",
        "subfolder = \"RI/\"\n",
        "dataPath = \"/content/drive/MyDrive/savedData/\"\n",
        "figurePath = \"/content/drive/MyDrive/figures/\"\n",
        "\n",
        "potentialTemp = True #Use atmospheric potential temperature instead of in-situ temperature\n",
        "\n",
        "avgTypes = [\"point\", \"centered\", \"NW\", \"NE\", \"SE\", \"SW\"]\n",
        "areaRange = 1.0\n",
        "\n",
        "intensityVar = \"VMAX\" # MSLP or VMAX\n",
        "\n",
        "atmTop = 850\n",
        "oceFloor = 100"
      ],
      "metadata": {
        "id": "5mX9LiKtLeTX"
      },
      "execution_count": null,
      "outputs": []
    },
    {
      "cell_type": "markdown",
      "source": [
        "#Retrieve HAFS-A Data"
      ],
      "metadata": {
        "id": "5MU8O99TOZme"
      }
    },
    {
      "cell_type": "markdown",
      "source": [
        "Find times needed"
      ],
      "metadata": {
        "id": "aQjv2UVg4l65"
      }
    },
    {
      "cell_type": "code",
      "source": [
        "fcastTimes = {} #Key: initiation, item: valid time list\n",
        "\n",
        "initTime = initStart\n",
        "while initTime <= initEnd:\n",
        "  validTime = initTime\n",
        "  fcastTimes[initTime] = []\n",
        "  fhour = 0\n",
        "\n",
        "  while fhour <= forecastLength and validTime < endTime:\n",
        "    fcastTimes[initTime].append(validTime)\n",
        "    validTime += pd.Timedelta(hours=fHourStep)\n",
        "    fhour += fHourStep\n",
        "\n",
        "  initTime += pd.Timedelta(hours=runStep)"
      ],
      "metadata": {
        "collapsed": true,
        "id": "L2tWCQSGHQMv"
      },
      "execution_count": null,
      "outputs": []
    },
    {
      "cell_type": "markdown",
      "source": [
        "Retrieve Best Track"
      ],
      "metadata": {
        "id": "UvgFY2X4RMMA"
      }
    },
    {
      "cell_type": "code",
      "source": [
        "bt = pd.read_csv(dataPath + \"/\" + name + \"/hurdat2_Milton.csv\")"
      ],
      "metadata": {
        "id": "Fnn3oxBuROlf"
      },
      "execution_count": null,
      "outputs": []
    },
    {
      "cell_type": "markdown",
      "source": [
        "Find storm location in HAFS-A from ATCF files. Used to find along-storm profile."
      ],
      "metadata": {
        "id": "bNcDi6valX_j"
      }
    },
    {
      "cell_type": "code",
      "source": [
        "cols = [\"BASIN\", \"CY\", \"YYYYMMDDHH\", \"TECHNUM/MIN\", \"TECH\", \"TAU\", \"LatN/S\", \"LonE/W\",\n",
        "    \"VMAX\", \"MSLP\", \"TY\", \"RAD\", \"WINDCODE\", \"RAD1\", \"RAD2\", \"RAD3\", \"RAD4\",\n",
        "    \"POUTER\", \"ROUTER\", \"RMW\", \"GUSTS\", \"EYE\", \"SUBREGION\", \"MAXSEAS\", \"INITIALS\",\n",
        "    \"DIR\", \"SPEED\", \"STORMNAME\", \"DEPTH\", \"SEAS\", \"SEASCODE\", \"SEAS1\", \"SEAS2\",\n",
        "    \"SEAS3\", \"SEAS4\", \"USERDEFINED1\", \"Thermo1\", \"Thermo2\", \"Thermo3\", \"Thermo4\",\n",
        "    \"Thermo5\", \"Thermo6\", \"Thermo7\", \"USERDEFINED2\", \"DT\", \"SHR82\", \"SHR81_1\",\n",
        "    \"SHR82_2\",  \"USERDEFINED3\", \"SST\", \"USERDEFINED4\", \"ARMW1\", \"ARMW2\"]"
      ],
      "metadata": {
        "id": "yO6jA18GOCVi"
      },
      "execution_count": null,
      "outputs": []
    },
    {
      "cell_type": "code",
      "source": [
        "tcLocs = {}\n",
        "tcInt = {}\n",
        "\n",
        "for runTime in fcastTimes.keys():\n",
        "\n",
        "  initStr, initHour = runTime.strftime(\"%Y%m%d_%H\").split(\"_\")\n",
        "  tcLocs[runTime] = {}\n",
        "  tcInt[runTime] = {}\n",
        "\n",
        "  atcfURL = f\"https://noaa-nws-hafs-pds.s3.amazonaws.com/hfsa/{initStr}/{initHour}/{tcNum}l.{initStr}{initHour}.hfsa.trak.atcfunix\"\n",
        "  atcfFile = \"atcf_\" + initStr + \"_\" + initHour + \".csv\"\n",
        "  !wget -O {atcfFile} {atcfURL}\n",
        "  atcf = pd.read_csv(atcfFile, names=cols)\n",
        "\n",
        "  for valid in fcastTimes[runTime]:\n",
        "\n",
        "    fHour = int((valid-runTime).total_seconds() / 3600)\n",
        "    pointLat = int(atcf[atcf.TAU==fHour][\"LatN/S\"].iloc[0].replace(\"N\", \"\"))/10\n",
        "    pointLon = int(atcf[atcf.TAU==fHour][\"LonE/W\"].iloc[0].replace(\"W\", \"\"))/-10 #Assume western hemisphere\n",
        "    tcLocs[runTime][valid] = (pointLat, pointLon)\n",
        "    tcInt[runTime][valid] = int(atcf[atcf.TAU==fHour][intensityVar].iloc[0])"
      ],
      "metadata": {
        "id": "M2-eqEmxlXw3"
      },
      "execution_count": null,
      "outputs": []
    },
    {
      "cell_type": "markdown",
      "source": [
        "#Retrieve HAFS-A Output"
      ],
      "metadata": {
        "id": "hJLWeG4hdBu0"
      }
    },
    {
      "cell_type": "code",
      "source": [
        "atm = {}\n",
        "\n",
        "for runTime in fcastTimes.keys():\n",
        "\n",
        "  initStr = runTime.strftime(\"%Y%m%d%H\")\n",
        "  atm[runTime] = {}\n",
        "\n",
        "  for valid in fcastTimes[runTime]:\n",
        "\n",
        "    atm[runTime][valid] = {}\n",
        "\n",
        "    fhour = str(int((valid-runTime).total_seconds() / 3600))\n",
        "    while len(fhour) < 3: fhour = \"0\" + fhour\n",
        "\n",
        "    atmFile = \"hafsa_\" + initStr + \"_f\" + fhour + \".nc\"\n",
        "    atmPath = dataPath + \"hafsaOutput/\" + subfolder + atmFile\n",
        "    atmData = xr.open_dataset(atmPath, decode_timedelta=False )\n",
        "\n",
        "    point = tcLocs[runTime][valid]\n",
        "    levels = atmData.isobaricInhPa.data[atmData.isobaricInhPa.data>atmTop]\n",
        "\n",
        "    for avgType in avgTypes:\n",
        "      atm[runTime][valid][avgType] = {}\n",
        "\n",
        "      area = {\"NE\":[point[0], point[1], point[0]+areaRange, point[1]+areaRange], \"SE\":[point[0]-areaRange, point[1], point[0], point[1]+areaRange],\n",
        "        \"SW\":[point[0]-areaRange, point[1]-areaRange, point[0], point[1],], \"NW\":[point[0], point[1]-areaRange, point[0]+areaRange, point[1]],\n",
        "        \"centered\":[point[0]-(0.5*areaRange), point[1]-(0.5*areaRange), point[0]+(0.5*areaRange), point[1]+(0.5*areaRange)], \"point\":None}[avgType]\n",
        "\n",
        "      for level in levels:\n",
        "\n",
        "        if avgType == \"point\": validPoint = atmData.sel(latitude=point[0], longitude=point[1] + 360, isobaricInhPa=level, method=\"nearest\")\n",
        "        else: validPoint = atmData.sel(latitude=slice(area[0], area[2]), longitude=slice(area[1]+360, area[3]+360), isobaricInhPa=level)\n",
        "\n",
        "        atm[runTime][valid][avgType][level] = {}\n",
        "        atm[runTime][valid][avgType][level][\"T\"] = np.mean(validPoint.t.data)\n",
        "        atm[runTime][valid][avgType][level][\"q\"] = np.mean(validPoint.q.data) * 1000 #Convert from kg/kg to g/kg\n",
        "        atm[runTime][valid][avgType][level][\"u\"] = np.mean(validPoint.u.data)\n",
        "        atm[runTime][valid][avgType][level][\"v\"] = np.mean(validPoint.v.data)\n",
        "        atm[runTime][valid][avgType][level][\"gh\"] = np.mean(validPoint.gh.data)\n",
        "        atm[runTime][valid][avgType][level][\"sst\"] = np.mean(validPoint.sst.data) #Make opposite so that it represents flux into the ocean\n",
        "        atm[runTime][valid][avgType][level][\"shf\"] = np.mean(validPoint.ishf.data) * -1\n",
        "        atm[runTime][valid][avgType][level][\"lhf\"] = np.mean(validPoint.slhtf.data) * -1\n",
        "        atm[runTime][valid][avgType][level][\"lw\"] = np.mean(validPoint.sulwrf.data) * -1\n",
        "        atm[runTime][valid][avgType][level][\"tau\"] = (np.mean(validPoint.utaua.data)**2 + np.mean(validPoint.vtaua.data)**2)**0.5"
      ],
      "metadata": {
        "collapsed": true,
        "id": "mU1HIzL_4ij2"
      },
      "execution_count": null,
      "outputs": []
    },
    {
      "cell_type": "code",
      "source": [
        "oce = {}\n",
        "getOce = False\n",
        "\n",
        "for runTime in fcastTimes.keys():\n",
        "\n",
        "  if getOce == False: break\n",
        "  initStr = runTime.strftime(\"%Y%m%d%H\")\n",
        "  oce[runTime] = {}\n",
        "\n",
        "  for valid in fcastTimes[runTime]:\n",
        "    fhour = str(int((valid-runTime).total_seconds() / 3600))\n",
        "    while len(fhour) < 3: fhour = \"0\" + fhour\n",
        "    oceFile = \"mom6_\" + initStr + \"_f\" + fhour + \".nc\"\n",
        "    ocePath = dataPath + \"mom6Output/\" + subfolder + oceFile\n",
        "\n",
        "    if oceFile == 'mom6_2024100800_f000.nc': #This file is missing\n",
        "      for layer in oceData.z_l.data:\n",
        "        oce[initTime][valid][layer] = {\"T\":np.nan, \"s\":np.nan, \"u\":np.nan, \"v\":np.nan}\n",
        "      continue\n",
        "\n",
        "    oceData = xr.open_dataset(ocePath, decode_times=False)\n",
        "\n",
        "    point = tcLocs[runTime][valid]\n",
        "    levels = oceData.z_l.data[oceData.z_l.data<=oceFloor] #Retrieves most shallow layer; should be 1 m\n",
        "\n",
        "    oce[runTime][valid] = {}\n",
        "\n",
        "    for level in levels:\n",
        "      oce[runTime][valid][level] = {}\n",
        "      oce[runTime][valid][level][\"T\"] = float(oceData.sel(yh=point[0], xh=point[1], z_l=level, method=\"nearest\").temp.data) + 273.15 #This is potential temperature. Converted from C to K.\n",
        "      oce[runTime][valid][level][\"s\"] = float(oceData.sel(yh=point[0], xh=point[1], z_l=level, method=\"nearest\").so.data)\n",
        "      oce[runTime][valid][level][\"u\"] = float(oceData.sel(yh=point[0], xq=point[1], z_l=level, method=\"nearest\").uo.data)\n",
        "      oce[runTime][valid][level][\"v\"] = float(oceData.sel(yq=point[0], xh=point[1], z_l=level, method=\"nearest\").vo.data)\n",
        "      oce[runTime][valid][level][\"sst\"] = float(oceData.sel(yh=point[0], xh=point[1], method=\"nearest\").SST.data) + 273.15\n",
        "      oce[runTime][valid][level][\"ssh\"] = float(oceData.sel(yh=point[0], xh=point[1], method=\"nearest\").SSH.data)\n",
        "      oce[runTime][valid][level][\"shf\"] = float(oceData.sel(yh=point[0], xh=point[1], method=\"nearest\").sensible.data)\n",
        "      oce[runTime][valid][level][\"lhf\"] = float(oceData.sel(yh=point[0], xh=point[1], method=\"nearest\").latent.data)"
      ],
      "metadata": {
        "collapsed": true,
        "id": "VZXxVJfcV7Zl"
      },
      "execution_count": null,
      "outputs": []
    },
    {
      "cell_type": "markdown",
      "source": [
        "#Figures"
      ],
      "metadata": {
        "id": "3YtWZE5dPalR"
      }
    },
    {
      "cell_type": "markdown",
      "source": [
        "Figure settings"
      ],
      "metadata": {
        "id": "RqNe25wzx9b1"
      }
    },
    {
      "cell_type": "code",
      "source": [
        "ylow, yhigh = {\"VMAX\":(20, 180), \"MSLP\":(1025, 875)}[intensityVar]\n",
        "\n",
        "avgType = \"centered\"\n",
        "\n",
        "atm_12hr = {}\n",
        "for runTime in fcastTimes.keys():\n",
        "  if runTime.hour%12 == 0: atm_12hr[runTime] = atm[runTime]\n",
        "\n",
        "# Get the number of model runs\n",
        "num_runs = len(atm_12hr)"
      ],
      "metadata": {
        "id": "-n2-dDY4uv43"
      },
      "execution_count": null,
      "outputs": []
    },
    {
      "cell_type": "markdown",
      "source": [
        "Sensible heat flux with intensity"
      ],
      "metadata": {
        "id": "PIQnIR_xXZt0"
      }
    },
    {
      "cell_type": "code",
      "metadata": {
        "id": "e5c97d70"
      },
      "source": [
        "fig, axes = plt.subplots(num_runs, 1, figsize=(8, 1.5 * num_runs), sharex=True)\n",
        "\n",
        "# Ensure axes is an array even if there's only one run\n",
        "if num_runs == 1: axes = [axes]\n",
        "\n",
        "for i, (run_time, valid_times_data) in enumerate(atm_12hr.items()):\n",
        "    times = sorted(valid_times_data.keys())\n",
        "    shf_values = [valid_times_data[time][avgType][1000.0][\"shf\"] for time in times]\n",
        "    intensity_values = [tcInt[run_time][time] for time in times] # Get intensity values\n",
        "    int6hr = [tcInt[run_time][time] for time in times if time.hour%6 == 0]\n",
        "    bt_values = [bt[intensityVar.lower()][pd.to_datetime(bt.time)==time].iloc[0] for time in times if time.hour%6 == 0]\n",
        "\n",
        "    ax1 = axes[i]\n",
        "    ax2 = ax1.twinx()\n",
        "\n",
        "    fluxPlot = ax1.plot(times, shf_values, color=\"darkorange\")\n",
        "    intPlot = ax2.plot(times, intensity_values, color=\"black\")\n",
        "    btPlot = ax2.plot([time for time in times if time.hour%6 == 0], bt_values, color=\"black\", alpha=0.5, linestyle=\"--\", linewidth=3)\n",
        "\n",
        "    ax2.set_ylabel(\"Intensity\")\n",
        "    ax1.set_title(run_time.strftime(\"%m-%d %HUTC\"))# + \", \" + \"r$_{Model}$ = \" + str(round(np.corrcoef(shf_values,intensity_values)[0,1], 2)) + \", \" + \"r$_{BT}$ = \" + str(round(np.corrcoef(int6hr,bt_values)[0,1], 2)))\n",
        "    ax1.grid(alpha=0.5)\n",
        "\n",
        "    ax1.set_ylim(-250, 0)\n",
        "    ax2.set_ylim(ylow, yhigh)\n",
        "\n",
        "fluxPlot[0].set_label('Sensible Heat Flux')\n",
        "intPlot[0].set_label('Intensity')\n",
        "btPlot[0].set_label('Best Track')\n",
        "fig.legend(loc=\"upper center\", ncols=3)\n",
        "\n",
        "# Set common x-label for the last subplot\n",
        "axes[-1].set_xlabel(\"Valid Time\")\n",
        "fig.supylabel(\"Sensible Heat Flux (W/m$^2$)\")\n",
        "fig.suptitle(\" \")\n",
        "plt.tight_layout()\n",
        "plt.show()"
      ],
      "execution_count": null,
      "outputs": []
    },
    {
      "cell_type": "markdown",
      "source": [
        "Latent heat flux and intensity"
      ],
      "metadata": {
        "id": "YF3WyvzBsbLj"
      }
    },
    {
      "cell_type": "code",
      "source": [
        "# Get the number of model runs\n",
        "num_runs = len(atm_12hr)\n",
        "\n",
        "# Create a figure with a subplot for each run time\n",
        "fig, axes = plt.subplots(num_runs, 1, figsize=(8, 1.5 * num_runs), sharex=True)\n",
        "\n",
        "# Ensure axes is an array even if there's only one run\n",
        "if num_runs == 1: axes = [axes]\n",
        "\n",
        "for i, (run_time, valid_times_data) in enumerate(atm_12hr.items()):\n",
        "    times = sorted(valid_times_data.keys())\n",
        "    lhf_values = [valid_times_data[time][avgType][1000.0][\"lhf\"] for time in times]\n",
        "    intensity_values = [tcInt[run_time][time] for time in times] # Get intensity values\n",
        "    int6hr = [tcInt[run_time][time] for time in times if time.hour%6 == 0]\n",
        "    bt_values = [bt[intensityVar.lower()][pd.to_datetime(bt.time)==time].iloc[0] for time in times if time.hour%6 == 0]\n",
        "\n",
        "    ax1 = axes[i]\n",
        "    ax2 = ax1.twinx()\n",
        "\n",
        "    fluxPlot = ax1.plot(times, lhf_values, color=\"green\")\n",
        "    intPlot = ax2.plot(times, intensity_values, color=\"black\")\n",
        "    btPlot = ax2.plot([time for time in times if time.hour%6 == 0], bt_values, color=\"black\", alpha=0.5, linestyle=\"--\", linewidth=3)\n",
        "\n",
        "    ax2.set_ylabel(\"Intensity\")\n",
        "    ax1.set_title(run_time.strftime(\"%m-%d %HUTC\"))# + \", \" + \"r$_{Flux-Model}$ = \" + str(round(np.corrcoef(lhf_values,intensity_values)[0,1], 2)) + \", \" + \"r$_{Model-BT}$ = \" + str(round(np.corrcoef(int6hr,bt_values)[0,1], 2)))\n",
        "    ax1.grid(alpha=0.5)\n",
        "\n",
        "    ax1.set_ylim(-1100, -200)\n",
        "    ax2.set_ylim(ylow, yhigh)\n",
        "\n",
        "fluxPlot[0].set_label('Latent Heat Flux')\n",
        "intPlot[0].set_label('Model Intensity')\n",
        "btPlot[0].set_label('Best Track')\n",
        "fig.legend(loc=\"upper center\", ncols=3)\n",
        "\n",
        "axes[-1].set_xlabel(\"Time\")\n",
        "fig.supylabel(\"Latent Heat Flux (W/m$^2$)\")\n",
        "fig.suptitle(\" \")\n",
        "plt.xticks(rotation=45)\n",
        "plt.tight_layout()\n",
        "plt.show()"
      ],
      "metadata": {
        "id": "KArKsd1snLzn"
      },
      "execution_count": null,
      "outputs": []
    },
    {
      "cell_type": "markdown",
      "source": [
        "Total heat flux and Intensity"
      ],
      "metadata": {
        "id": "vYNjZyrtZ7k8"
      }
    },
    {
      "cell_type": "code",
      "source": [
        "# Create a figure with a subplot for each run time\n",
        "fig, axes = plt.subplots(num_runs, 1, figsize=(8, 2 * num_runs), sharex=True)\n",
        "\n",
        "# Ensure axes is an array even if there's only one run\n",
        "if num_runs == 1: axes = [axes]\n",
        "\n",
        "for i, (run_time, valid_times_data) in enumerate(atm_12hr.items()):\n",
        "    if run_time.hour%12 != 0: continue\n",
        "    times = sorted(valid_times_data.keys())\n",
        "    hf_values = [valid_times_data[time][avgType][1000.0][\"lhf\"]+valid_times_data[time][avgType][1000.0][\"shf\"]+valid_times_data[time][avgType][1000.0][\"lw\"] for time in times]\n",
        "    intensity_values = [tcInt[run_time][time] for time in times] # Get intensity values\n",
        "    int6hr = [tcInt[run_time][time] for time in times if time.hour%6 == 0]\n",
        "    bt_values = [bt[intensityVar.lower()][pd.to_datetime(bt.time)==time].iloc[0] for time in times if time.hour%6 == 0]\n",
        "\n",
        "    sst_values = [valid_times_data[time][avgType][1000.0][\"sst\"] for time in times]\n",
        "\n",
        "    ax1 = axes[i]\n",
        "    ax2 = ax1.twinx()\n",
        "    #ax3 = ax2.twinx()\n",
        "\n",
        "    fluxPlot = ax1.plot(times, hf_values, color=\"magenta\")\n",
        "    intPlot = ax2.plot(times, intensity_values, color=\"black\")\n",
        "    btPlot = ax2.plot([time for time in times if time.hour%6 == 0], bt_values, color=\"black\", alpha=0.5, linestyle=\"--\", linewidth=3)\n",
        "    #ax3.plot(times, sst_values, color=\"red\")\n",
        "\n",
        "    ax2.set_ylabel(\"Intensity (kt)\")\n",
        "    ax1.set_title(run_time.strftime(\"%m-%d %HUTC\"))# + \", \" + \"r$_{Flux-Model}$ = \" + str(round(fluxIntCorr[run_time], 2)) + \", \" + \"r$_{Model-BT}$ = \" + str(round(np.corrcoef(int6hr,bt_values)[0,1], 2)))\n",
        "    ax1.grid(alpha=0.5)\n",
        "\n",
        "    ax1.set_ylim(-1750, -500)\n",
        "    ax2.set_ylim(ylow, yhigh)\n",
        "    #ax3.set_ylim(301, 303.5)\n",
        "\n",
        "fluxPlot[0].set_label('Total Heat Flux')\n",
        "intPlot[0].set_label('Intensity')\n",
        "btPlot[0].set_label('Best Track')\n",
        "fig.legend(loc=\"upper center\", ncols=3)\n",
        "\n",
        "axes[-1].set_xlabel(\"Valid Time\")\n",
        "fig.supylabel(\"Total Heat Flux (Wm$^{-2}$)\", color=\"magenta\")\n",
        "fig.suptitle(\" \")\n",
        "plt.tight_layout()\n",
        "plt.show()"
      ],
      "metadata": {
        "id": "1u80aAq9CzN4"
      },
      "execution_count": null,
      "outputs": []
    },
    {
      "cell_type": "markdown",
      "source": [
        "Correlation between model intensity and flux for each run"
      ],
      "metadata": {
        "id": "tFH2nhtjhB5p"
      }
    },
    {
      "cell_type": "code",
      "source": [
        "fluxIntCorr = {}\n",
        "\n",
        "for i, (run_time, valid_times_data) in enumerate(atm.items()):\n",
        "    times = sorted(valid_times_data.keys())\n",
        "    hf_values = [valid_times_data[time][avgType][1000.0][\"lhf\"]+valid_times_data[time][avgType][1000.0][\"shf\"]-valid_times_data[time][avgType][1000.0][\"lw\"] for time in times]\n",
        "    intensity_values = [tcInt[run_time][time] for time in times] # Get intensity values\n",
        "    bt_values = [bt[intensityVar.lower()][pd.to_datetime(bt.time)==time].iloc[0] for time in times if time.hour%6 == 0]\n",
        "\n",
        "    fluxIntCorr[run_time] = np.corrcoef(hf_values,intensity_values)[0,1]"
      ],
      "metadata": {
        "id": "WCYE54ywhGyG"
      },
      "execution_count": null,
      "outputs": []
    },
    {
      "cell_type": "code",
      "source": [
        "corFig = plt.figure(figsize=(8, 2))\n",
        "corAx = corFig.add_axes([0.1, 0.1, 0.8, 0.8])\n",
        "corAx.plot(fluxIntCorr.keys(), fluxIntCorr.values(), color=\"red\", lw=2)\n",
        "\n",
        "corAx.set_ylim(-1, 0)\n",
        "corAx.grid(alpha=0.5)\n",
        "corAx.set_xticks(list(fcastTimes.keys()))\n",
        "corAx.set_xticklabels([t.strftime(\"%m-%d %H\") for t in list(fcastTimes.keys())])\n",
        "corAx.set_xlabel(\"Run Time\")\n",
        "corAx.set_ylabel(\"r\")\n",
        "corAx.set_title(\"Correlation between Model Intensity and Flux\")"
      ],
      "metadata": {
        "id": "MblgwAjvUGka"
      },
      "execution_count": null,
      "outputs": []
    },
    {
      "cell_type": "markdown",
      "source": [
        "Calculate and plot model MAE"
      ],
      "metadata": {
        "id": "g9qggLVNlPO6"
      }
    },
    {
      "cell_type": "code",
      "source": [
        "mae = {}\n",
        "for runTime in fcastTimes.keys():\n",
        "  mae[runTime] = np.mean([np.abs(tcInt[runTime][valid]-bt[intensityVar.lower()][bt.time==valid.strftime(\"%Y-%m-%d %H:%M:%S\")].iloc[0]) for valid in fcastTimes[runTime] if valid.hour%6 == 0])"
      ],
      "metadata": {
        "id": "J1xD-MEulTIl"
      },
      "execution_count": null,
      "outputs": []
    },
    {
      "cell_type": "code",
      "source": [
        "tdeltas = [(t-initStart).total_seconds()/3600 for t in fcastTimes.keys()]\n",
        "maeScatter = plt.scatter([mae[runTime] for runTime in fcastTimes], [fluxIntCorr[runTime] for runTime in fcastTimes], cmap=\"winter\", c=tdeltas)\n",
        "plt.colorbar(maeScatter, label=\"Hours Since \" + initStart.strftime(\"%m-%d %HUTC\"))\n",
        "plt.xlabel(\"Model MAE\")\n",
        "plt.ylabel(\"Flux-Model Correlation\")\n",
        "plt.grid(alpha=0.5)\n",
        "plt.show()"
      ],
      "metadata": {
        "id": "DuCQii7vzosF"
      },
      "execution_count": null,
      "outputs": []
    },
    {
      "cell_type": "markdown",
      "source": [
        "Analysis of Flux Differences across Runs"
      ],
      "metadata": {
        "id": "4VU8qvg47DSE"
      }
    },
    {
      "cell_type": "code",
      "source": [
        "validFluxes = {}\n",
        "for runTime in fcastTimes.keys():\n",
        "  for valid in fcastTimes[runTime]:\n",
        "    validFluxes[valid] = []\n",
        "\n",
        "for runTime, validTimes in fcastTimes.items():\n",
        "  for valid in validTimes:\n",
        "    validFluxes[valid].append(atm[runTime][valid][avgType][1000.0][\"shf\"] + atm[runTime][valid][avgType][1000.0][\"lhf\"] + atm[runTime][valid][avgType][1000.0][\"lw\"])\n",
        "\n",
        "meanFluxes = {valid:np.mean(fluxes) for valid, fluxes in validFluxes.items()}\n",
        "\n",
        "fluxDiffs = {}\n",
        "for runTime, validTimes in fcastTimes.items():\n",
        "  fluxDiffs[runTime] = np.mean([((atm[runTime][valid][avgType][1000.0][\"shf\"] + atm[runTime][valid][avgType][1000.0][\"lhf\"]) - meanFluxes[valid]) for valid in validTimes])\n",
        "\n",
        "plt.scatter(fluxDiffs.values(), mae.values())"
      ],
      "metadata": {
        "id": "dNqEEGqW8bpG"
      },
      "execution_count": null,
      "outputs": []
    }
  ]
}