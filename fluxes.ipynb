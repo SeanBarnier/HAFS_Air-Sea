{
  "nbformat": 4,
  "nbformat_minor": 0,
  "metadata": {
    "colab": {
      "provenance": [],
      "include_colab_link": true
    },
    "kernelspec": {
      "name": "python3",
      "display_name": "Python 3"
    },
    "language_info": {
      "name": "python"
    }
  },
  "cells": [
    {
      "cell_type": "markdown",
      "metadata": {
        "id": "view-in-github",
        "colab_type": "text"
      },
      "source": [
        "<a href=\"https://colab.research.google.com/github/SeanBarnier/HAFS_Air-Sea/blob/main/fluxes.ipynb\" target=\"_parent\"><img src=\"https://colab.research.google.com/assets/colab-badge.svg\" alt=\"Open In Colab\"/></a>"
      ]
    },
    {
      "cell_type": "markdown",
      "source": [
        "#Set up environment"
      ],
      "metadata": {
        "id": "f592A_AhmfhP"
      }
    },
    {
      "cell_type": "code",
      "source": [
        "!pip install cfgrib\n",
        "!pip install seawater"
      ],
      "metadata": {
        "id": "wDGgQBxjYusr",
        "collapsed": true
      },
      "execution_count": null,
      "outputs": []
    },
    {
      "cell_type": "code",
      "source": [
        "import xarray as xr\n",
        "import pandas as pd\n",
        "import numpy as np\n",
        "import matplotlib.pyplot as plt\n",
        "from datetime import datetime as dt\n",
        "import cfgrib\n",
        "import seawater"
      ],
      "metadata": {
        "id": "vWrr_30yZ4nh"
      },
      "execution_count": null,
      "outputs": []
    },
    {
      "cell_type": "code",
      "source": [
        "from google.colab import drive\n",
        "drive.mount('/content/drive')"
      ],
      "metadata": {
        "id": "6KsU8RFVmin5"
      },
      "execution_count": null,
      "outputs": []
    },
    {
      "cell_type": "markdown",
      "source": [
        "#User parameters"
      ],
      "metadata": {
        "id": "XnkUgaLnLbuC"
      }
    },
    {
      "cell_type": "code",
      "source": [
        "name = \"Milton\"\n",
        "tcNum = \"14\"\n",
        "trackType = \"\"\n",
        "\n",
        "initTime = dt(year=2024, month=10, day=7, hour=12) #Time when Milton began its most rapid intensification\n",
        "\n",
        "fHourStep = 3       #Normally 3 for HAFS-A\n",
        "forecastLength = 48 #Normally 126 for HAFS-A.\n",
        "\n",
        "figureSuffix = \"_RI\"\n",
        "subfolder = \"RI/\"\n",
        "dataPath = \"/content/drive/MyDrive/savedData/\"\n",
        "figurePath = \"/content/drive/MyDrive/figures/\"\n",
        "\n",
        "stormCentered = True\n",
        "potentialTemp = True #Use atmospheric potential temperature instead of in-situ temperature\n",
        "\n",
        "atmTop = 850\n",
        "oceFloor = 100"
      ],
      "metadata": {
        "id": "5mX9LiKtLeTX"
      },
      "execution_count": null,
      "outputs": []
    },
    {
      "cell_type": "markdown",
      "source": [
        "#Retrieve HAFS-A Data"
      ],
      "metadata": {
        "id": "5MU8O99TOZme"
      }
    },
    {
      "cell_type": "markdown",
      "source": [
        "Find times needed"
      ],
      "metadata": {
        "id": "aQjv2UVg4l65"
      }
    },
    {
      "cell_type": "code",
      "source": [
        "dateFormat = \"%Y-%m-%d %H:%M:%S\"\n",
        "runFormat = \"%Y%m%d%H\"\n",
        "\n",
        "fcastTimes = [] #Key: initiation, item: valid time list\n",
        "fhour = 0\n",
        "validTime = initTime\n",
        "\n",
        "while fhour <= forecastLength:\n",
        "    fcastTimes.append(validTime)\n",
        "    validTime += pd.Timedelta(hours=fHourStep)\n",
        "    fhour += fHourStep"
      ],
      "metadata": {
        "collapsed": true,
        "id": "jdMyhDj94ij0"
      },
      "execution_count": null,
      "outputs": []
    },
    {
      "cell_type": "markdown",
      "source": [
        "Find storm location in HAFS-A from ATCF files."
      ],
      "metadata": {
        "id": "bNcDi6valX_j"
      }
    },
    {
      "cell_type": "code",
      "source": [
        "cols = [\"BASIN\", \"CY\", \"YYYYMMDDHH\", \"TECHNUM/MIN\", \"TECH\", \"TAU\", \"LatN/S\", \"LonE/W\",\n",
        "    \"VMAX\", \"MSLP\", \"TY\", \"RAD\", \"WINDCODE\", \"RAD1\", \"RAD2\", \"RAD3\", \"RAD4\",\n",
        "    \"POUTER\", \"ROUTER\", \"RMW\", \"GUSTS\", \"EYE\", \"SUBREGION\", \"MAXSEAS\", \"INITIALS\",\n",
        "    \"DIR\", \"SPEED\", \"STORMNAME\", \"DEPTH\", \"SEAS\", \"SEASCODE\", \"SEAS1\", \"SEAS2\",\n",
        "    \"SEAS3\", \"SEAS4\", \"USERDEFINED1\", \"Thermo1\", \"Thermo2\", \"Thermo3\", \"Thermo4\",\n",
        "    \"Thermo5\", \"Thermo6\", \"Thermo7\", \"USERDEFINED2\", \"DT\", \"SHR82\", \"SHR81_1\",\n",
        "    \"SHR82_2\",  \"USERDEFINED3\", \"SST\", \"USERDEFINED4\", \"ARMW1\", \"ARMW2\"]\n",
        "\n",
        "initStr, initHour = initTime.strftime(\"%Y%m%d_%H\").split(\"_\")\n",
        "\n",
        "atcfURL = f\"https://noaa-nws-hafs-pds.s3.amazonaws.com/hfsa/{initStr}/{initHour}/{tcNum}l.{initStr}{initHour}.hfsa.trak.atcfunix\"\n",
        "atcfFile = \"atcf_\" + initStr + \"_\" + initHour + \".csv\"\n",
        "\n",
        "!wget -O {atcfFile} {atcfURL}\n",
        "atcf = pd.read_csv(atcfFile, names=cols)"
      ],
      "metadata": {
        "id": "yO6jA18GOCVi"
      },
      "execution_count": null,
      "outputs": []
    },
    {
      "cell_type": "code",
      "source": [
        "tcLocs = {}\n",
        "vmax = {}\n",
        "mslp = {}\n",
        "\n",
        "for valid in fcastTimes:\n",
        "    fHour = int((valid-initTime).total_seconds() / 3600)\n",
        "\n",
        "    pointLat = int(atcf[atcf.TAU==fHour][\"LatN/S\"].iloc[0].replace(\"N\", \"\"))/10\n",
        "    pointLon = int(atcf[atcf.TAU==fHour][\"LonE/W\"].iloc[0].replace(\"W\", \"\"))/-10 #Assume western hemisphere\n",
        "    tcLocs[valid] = (pointLat, pointLon)\n",
        "    vmax[valid] = atcf[atcf.TAU==fHour][\"VMAX\"].iloc[0]\n",
        "    mslp[valid] = atcf[atcf.TAU==fHour][\"MSLP\"].iloc[0]"
      ],
      "metadata": {
        "id": "M2-eqEmxlXw3"
      },
      "execution_count": null,
      "outputs": []
    },
    {
      "cell_type": "markdown",
      "source": [
        "Get data from HAFS-A output."
      ],
      "metadata": {
        "id": "gJK0pEvc4ij2"
      }
    },
    {
      "cell_type": "code",
      "source": [
        "fcastTimes"
      ],
      "metadata": {
        "id": "1t_Cv42VR_qV"
      },
      "execution_count": null,
      "outputs": []
    },
    {
      "cell_type": "code",
      "source": [
        "oceData"
      ],
      "metadata": {
        "id": "KC-SV1EYuW5u"
      },
      "execution_count": null,
      "outputs": []
    },
    {
      "cell_type": "code",
      "source": [
        "atmData"
      ],
      "metadata": {
        "id": "gb5u7jWft-LU"
      },
      "execution_count": null,
      "outputs": []
    },
    {
      "cell_type": "code",
      "source": [
        "atm = {}\n",
        "\n",
        "for valid in fcastTimes:\n",
        "\n",
        "  initStr = initTime.strftime(\"%Y%m%d%H\")\n",
        "\n",
        "  atm[valid] = {}\n",
        "\n",
        "  fhour = str(int((valid-initTime).total_seconds() / 3600))\n",
        "  while len(fhour) < 3: fhour = \"0\" + fhour\n",
        "\n",
        "  atmFile = \"hafsa_\" + initStr + \"_f\" + fhour + \".nc\"\n",
        "  atmPath = dataPath + \"hafsaOutput/\" + subfolder + atmFile\n",
        "  atmData = xr.open_dataset(atmPath)\n",
        "\n",
        "  point = tcLocs[valid]\n",
        "  levels = atmData.isobaricInhPa.data[atmData.isobaricInhPa.data>atmTop] #Get lowest point; should be 1000 hPa\n",
        "\n",
        "  #Longitude in atm files are in degrees east, but are -180 - 180 in oce files. point has them from -180 - 180\n",
        "  validPoint = atmData.sel(latitude=point[0], longitude=point[1] + 360, method=\"nearest\")\n",
        "  for level in levels:\n",
        "    atm[valid][level] = {}\n",
        "    atm[valid][level][\"T\"] = float(validPoint.sel(isobaricInhPa=level).t.data)\n",
        "    atm[valid][level][\"q\"] = float(validPoint.sel(isobaricInhPa=level).q.data) * 1000 #Convert from kg/kg to g/kg\n",
        "    atm[valid][level][\"u\"] = float(validPoint.sel(isobaricInhPa=level).u.data)\n",
        "    atm[valid][level][\"v\"] = float(validPoint.sel(isobaricInhPa=level).v.data)\n",
        "    atm[valid][level][\"gh\"] = float(validPoint.sel(isobaricInhPa=level).gh.data)\n",
        "    atm[valid][level][\"sst\"] = float(validPoint.sst.data)\n",
        "    atm[valid][level][\"shf\"] = float(validPoint.ishf.data)\n",
        "    atm[valid][level][\"lhf\"] = float(validPoint.slhtf.data)\n",
        "    atm[valid][level][\"tau\"] = (float(validPoint.utaua.data)**2 + float(validPoint.vtaua.data)**2)**0.5"
      ],
      "metadata": {
        "collapsed": true,
        "id": "mU1HIzL_4ij2"
      },
      "execution_count": null,
      "outputs": []
    },
    {
      "cell_type": "code",
      "source": [
        "!pip install seawater"
      ],
      "metadata": {
        "id": "S2vaIt9wwHPG"
      },
      "execution_count": null,
      "outputs": []
    },
    {
      "cell_type": "code",
      "source": [
        "sfcPoint.SSU.data"
      ],
      "metadata": {
        "id": "tmkPxUoSxiJE"
      },
      "execution_count": null,
      "outputs": []
    },
    {
      "cell_type": "code",
      "source": [
        "atmData.utaua.data"
      ],
      "metadata": {
        "id": "oIlErMLtxtp9"
      },
      "execution_count": null,
      "outputs": []
    },
    {
      "cell_type": "code",
      "source": [
        "oce = {}\n",
        "\n",
        "for valid in fcastTimes:\n",
        "\n",
        "  fhour = str(int((valid-initTime).total_seconds() / 3600))\n",
        "  while len(fhour) < 3: fhour = \"0\" + fhour\n",
        "  oceFile = \"mom6_\" + initStr + \"_f\" + fhour + \".nc\"\n",
        "  ocePath = dataPath + \"mom6Output/\" + subfolder + oceFile\n",
        "\n",
        "  if oceFile == 'mom6_2024100800_f000.nc': #This file is missing\n",
        "    for layer in oceData.z_l.data:\n",
        "      oce[initTime][valid][layer] = {\"T\":np.nan, \"s\":np.nan, \"u\":np.nan, \"v\":np.nan}\n",
        "    continue\n",
        "\n",
        "  oceData = xr.open_dataset(ocePath, decode_times=False)\n",
        "\n",
        "  point = tcLocs[valid]\n",
        "  levels = oceData.z_l.data[oceData.z_l.data<=oceFloor] #Retrieves most shallow layer; should be 1 m\n",
        "\n",
        "  oce[valid] = {}\n",
        "\n",
        "  for level in levels:\n",
        "    oce[valid][level] = {}\n",
        "    oce[valid][level][\"T\"] = float(oceData.sel(yh=point[0], xh=point[1], z_l=level, method=\"nearest\").temp.data) + 273.15 #This is potential temperature. Converted from C to K.\n",
        "    oce[valid][level][\"s\"] = float(oceData.sel(yh=point[0], xh=point[1], z_l=level, method=\"nearest\").so.data)\n",
        "    oce[valid][level][\"u\"] = float(oceData.sel(yh=point[0], xq=point[1], z_l=level, method=\"nearest\").uo.data)\n",
        "    oce[valid][level][\"v\"] = float(oceData.sel(yq=point[0], xh=point[1], z_l=level, method=\"nearest\").vo.data)\n",
        "\n",
        "    sfcPoint = oceData.sel(yh=point[0], xh=point[1], method=\"nearest\")\n",
        "    oce[valid][level][\"sst\"] = float(sfcPoint.SST.data) + 273.15\n",
        "    oce[valid][level][\"ssh\"] = float(sfcPoint.SSH.data)\n",
        "    oce[valid][level][\"shf\"] = float(sfcPoint.sensible.data)\n",
        "    oce[valid][level][\"lhf\"] = float(sfcPoint.latent.data)\n",
        "    oce[valid][level][\"tau\"] = float(seawater.dens0(sfcPoint.SSS.data, sfcPoint.SST.data) * (sfcPoint.sel(xq=point[1], method=\"nearest\").SSU.data**2 + sfcPoint.sel(yq=point[1], method=\"nearest\").SSV.data**2))"
      ],
      "metadata": {
        "collapsed": true,
        "id": "VZXxVJfcV7Zl"
      },
      "execution_count": null,
      "outputs": []
    },
    {
      "cell_type": "markdown",
      "source": [
        "#Figures"
      ],
      "metadata": {
        "id": "e0IVIJcvPop5"
      }
    },
    {
      "cell_type": "markdown",
      "source": [
        "Goal: Correlate atmospheric sensible and latent heat flues and momentum fluxes with intensity forecasts and error across runs.  \n",
        "Particularly, look at the wind-caused and current-caused momentum flux."
      ],
      "metadata": {
        "id": "ZELYNhsGQs72"
      }
    },
    {
      "cell_type": "markdown",
      "source": [
        "For 1-m ocean temp"
      ],
      "metadata": {
        "id": "Ue2E5XfAVBja"
      }
    },
    {
      "cell_type": "code",
      "source": [
        "fluxFig = plt.figure(figsize=(8,5))\n",
        "tAxshf = fluxFig.add_axes([0.1,0.65,0.8,0.25])\n",
        "shfAx = tAxshf.twinx()\n",
        "\n",
        "tDiff = [oce[valid][1.0][\"T\"] - atm[valid][1000.0][\"T\"] for valid in atm.keys()]\n",
        "shf = [atm[valid][1000.0][\"shf\"] for valid in atm.keys()]\n",
        "tAxshf.plot(atm.keys(), tDiff, label=\"T(1000 hPa) - T(1 m)\", color=\"blue\")\n",
        "shfAx.plot(atm.keys(), shf, label=\"Sensible Heat Flux\", color=\"darkorange\")\n",
        "\n",
        "tAxshf.grid(alpha=0.5)\n",
        "tAxshf.set_xticklabels([])\n",
        "tAxshf.set_title(f\"Correlation = {str(round(np.corrcoef(tDiff, shf)[0,1], 2))}\")\n",
        "\n",
        "tAxlhf = fluxFig.add_axes([0.1,0.35,0.8,0.25])\n",
        "lhfAx = tAxlhf.twinx()\n",
        "\n",
        "lhf = [atm[valid][1000.0][\"lhf\"] for valid in atm.keys()]\n",
        "tAxlhf.plot(atm.keys(), tDiff, color=\"blue\")\n",
        "lhfAx.plot(atm.keys(), lhf, label=\"Latent Heat Flux\", color=\"green\")\n",
        "\n",
        "tAxlhf.grid(alpha=0.5)\n",
        "tAxlhf.set_xticklabels([])\n",
        "tAxlhf.set_title(f\"Correlation = {str(round(np.corrcoef(tDiff, lhf)[0,1], 2))}\")\n",
        "\n",
        "tAxFlux = fluxFig.add_axes([0.1,0.05,0.8,0.25])\n",
        "fluxAx = tAxFlux.twinx()\n",
        "\n",
        "flux = [atm[valid][1000.0][\"lhf\"]+atm[valid][1000.0][\"shf\"] for valid in atm.keys()]\n",
        "tAxFlux.plot(atm.keys(), tDiff, color=\"blue\")\n",
        "fluxAx.plot(atm.keys(), flux, label=\"Latent + Sensible Heat Flux\", color=\"magenta\")\n",
        "\n",
        "tAxFlux.grid(alpha=0.5)\n",
        "tAxFlux.set_title(f\"Correlation = {str(round(np.corrcoef(tDiff, flux)[0,1], 2))}\")\n",
        "\n",
        "fluxFig.legend()\n",
        "fluxFig.supylabel(\"Atmosphere - Ocean $\\Delta$T (K)\", ha=\"left\")\n",
        "fluxFig.supylabel(\"Heat Flux (W/m\" + \"$^2$\" + \")\", ha=\"right\")"
      ],
      "metadata": {
        "id": "hOcAcVYwT96I"
      },
      "execution_count": null,
      "outputs": []
    },
    {
      "cell_type": "markdown",
      "source": [
        "For SST"
      ],
      "metadata": {
        "id": "Ne8w9NykVE7f"
      }
    },
    {
      "cell_type": "code",
      "source": [
        "fluxFig = plt.figure(figsize=(8,5))\n",
        "tAxshf = fluxFig.add_axes([0.1,0.65,0.8,0.25])\n",
        "shfAx = tAxshf.twinx()\n",
        "\n",
        "tDiff = [atm[valid][1000.0][\"sst\"] - atm[valid][1000.0][\"T\"] for valid in atm.keys()]\n",
        "shf = [atm[valid][1000.0][\"shf\"] for valid in atm.keys()]\n",
        "tAxshf.plot(atm.keys(), tDiff, label=\"T(1000 hPa) - SST\", color=\"blue\")\n",
        "shfAx.plot(atm.keys(), shf, label=\"Sensible Heat Flux\", color=\"darkorange\")\n",
        "\n",
        "tAxshf.grid(alpha=0.5)\n",
        "tAxshf.set_xticklabels([])\n",
        "tAxshf.set_title(f\"Correlation = {str(round(np.corrcoef(tDiff, shf)[0,1], 2))}\")\n",
        "\n",
        "tAxlhf = fluxFig.add_axes([0.1,0.35,0.8,0.25])\n",
        "lhfAx = tAxlhf.twinx()\n",
        "\n",
        "lhf = [atm[valid][1000.0][\"lhf\"] for valid in atm.keys()]\n",
        "tAxlhf.plot(atm.keys(), tDiff, color=\"blue\")\n",
        "lhfAx.plot(atm.keys(), lhf, label=\"Latent Heat Flux\", color=\"green\")\n",
        "\n",
        "tAxlhf.grid(alpha=0.5)\n",
        "tAxlhf.set_xticklabels([])\n",
        "tAxlhf.set_title(f\"Correlation = {str(round(np.corrcoef(tDiff, lhf)[0,1], 2))}\")\n",
        "\n",
        "tAxFlux = fluxFig.add_axes([0.1,0.05,0.8,0.25])\n",
        "fluxAx = tAxFlux.twinx()\n",
        "\n",
        "flux = [atm[valid][1000.0][\"lhf\"]+atm[valid][1000.0][\"shf\"] for valid in atm.keys()]\n",
        "tAxFlux.plot(atm.keys(), tDiff, color=\"blue\")\n",
        "fluxAx.plot(atm.keys(), flux, label=\"Latent + Sensible Heat Flux\", color=\"magenta\")\n",
        "\n",
        "tAxFlux.grid(alpha=0.5)\n",
        "tAxFlux.set_title(f\"Correlation = {str(round(np.corrcoef(tDiff, flux)[0,1], 2))}\")\n",
        "\n",
        "fluxFig.legend()\n",
        "fluxFig.supylabel(\"Atmosphere - Sea Surface $\\Delta$T (K)\", ha=\"left\")\n",
        "fluxFig.supylabel(\"Heat Flux (W/m\" + \"$^2$\" + \")\", va=\"bottom\")"
      ],
      "metadata": {
        "id": "Q9z7HkmyULGo"
      },
      "execution_count": null,
      "outputs": []
    },
    {
      "cell_type": "markdown",
      "source": [
        "Profiles and SST"
      ],
      "metadata": {
        "id": "w7bFX7OaTfRH"
      }
    },
    {
      "cell_type": "code",
      "source": [
        "times = [key for key in atm.keys() if key.hour%6 == 0]\n",
        "xwidth = (0.60/len(times))\n",
        "xcorners = np.arange(0.1, 0.9, 0.8/len(times))"
      ],
      "metadata": {
        "id": "ge7j3-fDTs4l"
      },
      "execution_count": null,
      "outputs": []
    },
    {
      "cell_type": "code",
      "source": [
        "profFig = plt.figure(figsize=(14,4))\n",
        "profAxes = [profFig.add_axes([xcorner,0.1,xwidth,0.8]) for xcorner in xcorners]\n",
        "\n",
        "for ax, valid in zip(profAxes, times):\n",
        "  if valid.hour%6 != 0 : continue\n",
        "  t = [atm[valid][level][\"T\"] for level in atm[valid].keys()]\n",
        "  p = atm[valid].keys()\n",
        "  ax.plot(t, p, color=\"blue\", label=\"Atm. Temp.\")\n",
        "  ax.scatter(atm[valid][1000.0][\"sst\"], 1000, color=\"red\", s=50, label=\"SST\")\n",
        "\n",
        "  ax.set_xlim(290, 310)\n",
        "  ax.invert_yaxis()\n",
        "  grid = ax.grid(alpha=0.5)\n",
        "  ax.set_title(valid.strftime(\"%m-%d %HUTC\"))\n",
        "\n",
        "  if valid == fcastTimes[0]: ax.legend(ncols=2, loc=(0, -0.15))\n",
        "  else: ax.set_yticklabels([])\n",
        "\n",
        "profFig.supxlabel(\"Temperature (K)\")\n",
        "profFig.supylabel(\"Pressure (hPa)\")"
      ],
      "metadata": {
        "id": "L6nggWgrS_a2"
      },
      "execution_count": null,
      "outputs": []
    },
    {
      "cell_type": "markdown",
      "source": [
        "Look at evolution of temperature and flux"
      ],
      "metadata": {
        "id": "6Zz6BD5IX7WZ"
      }
    },
    {
      "cell_type": "code",
      "source": [
        "fluxFig = plt.figure(figsize=(8,5))\n",
        "\n",
        "t = list(atm.keys())\n",
        "atmT = [atm[valid][1000.0][\"T\"] - atm[past][1000.0][\"T\"] for (past, valid) in zip(t[:-1], t[1:])]\n",
        "sst = [atm[valid][1000.0][\"sst\"] - atm[past][1000.0][\"sst\"] for (past, valid) in zip(t[:-1], t[1:])]\n",
        "oceT = [oce[valid][1.0][\"T\"] - oce[past][1.0][\"T\"] for (past, valid) in zip(t[:-1], t[1:])]\n",
        "shf = [atm[valid][1000.0][\"shf\"] for valid in t[1:]]\n",
        "lhf = [atm[valid][1000.0][\"lhf\"] for valid in t[1:]]\n",
        "flux = [atm[valid][1000.0][\"lhf\"]+atm[valid][1000.0][\"shf\"] for valid in t[1:]]\n",
        "\n",
        "tAxshf = fluxFig.add_axes([0.1,0.65,0.8,0.25])\n",
        "shfAx = tAxshf.twinx()\n",
        "tAxshf.plot(t[1:], atmT, label=\"$\\delta$T(1000 hPa)/$\\delta$t\", color=\"red\")\n",
        "tAxshf.plot(t[1:], oceT, label=\"$\\delta$T(1 m)/$\\delta$t\", color=\"blue\")\n",
        "tAxshf.plot(t[1:], sst, label=\"$\\delta$SST/$\\delta$t\", color=\"purple\")\n",
        "shfAx.plot(t[1:], shf, label=\"Sensible Heat Flux\", color=\"darkorange\")\n",
        "\n",
        "tAxshf.grid(alpha=0.5)\n",
        "tAxshf.set_xticklabels([])\n",
        "#tAxshf.set_title(f\"Correlation = {str(round(np.corrcoef(tDiff, shf)[0,1], 2))}\")\n",
        "\n",
        "tAxlhf = fluxFig.add_axes([0.1,0.35,0.8,0.25])\n",
        "lhfAx = tAxlhf.twinx()\n",
        "tAxlhf.plot(t[1:], atmT, color=\"red\")\n",
        "tAxlhf.plot(t[1:], oceT, color=\"blue\")\n",
        "tAxlhf.plot(t[1:], sst, color=\"purple\")\n",
        "lhfAx.plot(t[1:], lhf, label=\"Latent Heat Flux\", color=\"green\")\n",
        "\n",
        "tAxlhf.grid(alpha=0.5)\n",
        "tAxlhf.set_xticklabels([])\n",
        "#tAxlhf.set_title(f\"Correlation = {str(round(np.corrcoef(tDiff, lhf)[0,1], 2))}\")\n",
        "\n",
        "tAxFlux = fluxFig.add_axes([0.1,0.05,0.8,0.25])\n",
        "fluxAx = tAxFlux.twinx()\n",
        "\n",
        "tAxFlux.plot(t[1:], atmT, color=\"red\")\n",
        "tAxFlux.plot(t[1:], oceT, color=\"blue\")\n",
        "tAxFlux.plot(t[1:], sst, color=\"purple\")\n",
        "fluxAx.plot(t[1:], flux, label=\"Latent + Sensible Heat Flux\", color=\"magenta\")\n",
        "\n",
        "tAxFlux.grid(alpha=0.5)\n",
        "#tAxFlux.set_title(f\"Correlation = {str(round(np.corrcoef(tDiff, flux)[0,1], 2))}\")\n",
        "\n",
        "fluxFig.legend()\n",
        "fluxFig.supylabel(\"Atmosphere - Ocean $\\Delta$T (K)\", ha=\"left\")\n",
        "fluxFig.supylabel(\"Heat Flux (W/m\" + \"$^2$\" + \")\", ha=\"right\")"
      ],
      "metadata": {
        "id": "7B3Yfly0X6pC"
      },
      "execution_count": null,
      "outputs": []
    },
    {
      "cell_type": "code",
      "source": [
        "plt.imshow(np.corrcoef([atmT, sst, oceT, shf, lhf, flux]), cmap=\"bwr\")"
      ],
      "metadata": {
        "id": "K1lfvifffimy"
      },
      "execution_count": null,
      "outputs": []
    },
    {
      "cell_type": "markdown",
      "source": [
        "Fluxes with intensity"
      ],
      "metadata": {
        "id": "CY8YFVIFs-ES"
      }
    },
    {
      "cell_type": "code",
      "source": [
        "# Create a figure with a subplot for each run time\n",
        "fig, axes = plt.subplots(3, 1, figsize=(8, 6), sharex=True)\n",
        "\n",
        "\n",
        "shf = [atm[time][1000.0][\"shf\"] for time in atm.keys()]\n",
        "lhf = [atm[time][1000.0][\"lhf\"] for time in atm.keys()]\n",
        "flux = [atm[time][1000.0][\"lhf\"]+atm[time][1000.0][\"shf\"] for time in atm.keys()]\n",
        "intensity = [vmax[time] for time in atm.keys()] # Get intensity values\n",
        "\n",
        "\n",
        "ax0 = axes[0].twinx()\n",
        "ax1 = axes[1].twinx()\n",
        "ax2 = axes[2].twinx()\n",
        "\n",
        "axes[0].plot(atm.keys(), shf, label='Sensible Heat Flux', color=\"darkorange\")\n",
        "axes[1].plot(atm.keys(), lhf, label='Latent Heat Flux', color=\"green\")\n",
        "axes[2].plot(atm.keys(), flux, label='Latent + Sensible Heat Flux', color=\"magenta\")\n",
        "ax0.plot(atm.keys(), intensity, label='Intensity', color=\"black\")\n",
        "ax1.plot(atm.keys(), intensity, color=\"black\")\n",
        "ax2.plot(atm.keys(), intensity, color=\"black\")\n",
        "\n",
        "ax0.set_ylabel(\"Intensity (kt)\")\n",
        "ax1.set_ylabel(\"Intensity (kt)\")\n",
        "ax2.set_ylabel(\"Intensity (kt)\")\n",
        "axes[0].grid(alpha=0.5)\n",
        "axes[1].grid(alpha=0.5)\n",
        "axes[2].grid(alpha=0.5)\n",
        "ax0.set_title(\"Sensible Heat Flux\")\n",
        "ax1.set_title(\"Latent Heat Flux\")\n",
        "ax2.set_title(\"Latent + Sensible Heat Flux\")\n",
        "\n",
        "# Set common x-label for the last subplot\n",
        "axes[-1].set_xlabel(\"Time\")\n",
        "fig.supylabel(\"Heat Flux (W/m\" + \"$^2$\" + \")\")\n",
        "fig.legend(loc=[0.05, 0.96], ncols=4)\n",
        "plt.xticks(rotation=45)\n",
        "plt.tight_layout()\n",
        "plt.show()"
      ],
      "metadata": {
        "id": "fkXVdoLpisw-"
      },
      "execution_count": null,
      "outputs": []
    },
    {
      "cell_type": "code",
      "source": [
        "oceData"
      ],
      "metadata": {
        "id": "sihQn-gvtkCR"
      },
      "execution_count": null,
      "outputs": []
    }
  ]
}