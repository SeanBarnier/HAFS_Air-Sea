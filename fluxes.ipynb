{
  "nbformat": 4,
  "nbformat_minor": 0,
  "metadata": {
    "colab": {
      "provenance": [],
      "include_colab_link": true
    },
    "kernelspec": {
      "name": "python3",
      "display_name": "Python 3"
    },
    "language_info": {
      "name": "python"
    }
  },
  "cells": [
    {
      "cell_type": "markdown",
      "metadata": {
        "id": "view-in-github",
        "colab_type": "text"
      },
      "source": [
        "<a href=\"https://colab.research.google.com/github/SeanBarnier/HAFS_Air-Sea/blob/main/fluxes.ipynb\" target=\"_parent\"><img src=\"https://colab.research.google.com/assets/colab-badge.svg\" alt=\"Open In Colab\"/></a>"
      ]
    },
    {
      "cell_type": "markdown",
      "source": [
        "#Set up environment"
      ],
      "metadata": {
        "id": "f592A_AhmfhP"
      }
    },
    {
      "cell_type": "code",
      "source": [
        "!pip install cfgrib"
      ],
      "metadata": {
        "id": "wDGgQBxjYusr",
        "collapsed": true
      },
      "execution_count": null,
      "outputs": []
    },
    {
      "cell_type": "code",
      "source": [
        "import xarray as xr\n",
        "import pandas as pd\n",
        "import numpy as np\n",
        "import matplotlib.pyplot as plt\n",
        "from datetime import datetime as dt\n",
        "import cfgrib"
      ],
      "metadata": {
        "id": "vWrr_30yZ4nh"
      },
      "execution_count": null,
      "outputs": []
    },
    {
      "cell_type": "code",
      "source": [
        "from google.colab import drive\n",
        "drive.mount('/content/drive')"
      ],
      "metadata": {
        "id": "6KsU8RFVmin5"
      },
      "execution_count": null,
      "outputs": []
    },
    {
      "cell_type": "markdown",
      "source": [
        "#User parameters"
      ],
      "metadata": {
        "id": "XnkUgaLnLbuC"
      }
    },
    {
      "cell_type": "code",
      "source": [
        "name = \"Milton\"\n",
        "tcNum = \"14\"\n",
        "trackType = \"\"\n",
        "\n",
        "initTime = dt(year=2024, month=10, day=6, hour=0) #Time when Milton began its most rapid intensification\n",
        "\n",
        "fHourStep = 6       #Normally 3 for HAFS-A\n",
        "forecastLength = 48 #Normally 126 for HAFS-A.\n",
        "#runStep = 6         #Normally 6 for HAFS-A\n",
        "\n",
        "figureSuffix = \"_RI\"\n",
        "subfolder = \"RI/\"\n",
        "dataPath = \"/content/drive/MyDrive/savedData/\"\n",
        "figurePath = \"/content/drive/MyDrive/figures/\"\n",
        "\n",
        "stormCentered = True\n",
        "potentialTemp = True #Use atmospheric potential temperature instead of in-situ temperature\n",
        "\n",
        "atmTop = 850\n",
        "oceFloor = 100"
      ],
      "metadata": {
        "id": "5mX9LiKtLeTX"
      },
      "execution_count": null,
      "outputs": []
    },
    {
      "cell_type": "markdown",
      "source": [
        "Get ATCF data and find interested point"
      ],
      "metadata": {
        "id": "f4C7bEjXNznh"
      }
    },
    {
      "cell_type": "markdown",
      "source": [
        "#Retrieve HAFS-A Data"
      ],
      "metadata": {
        "id": "5MU8O99TOZme"
      }
    },
    {
      "cell_type": "markdown",
      "source": [
        "Find times needed"
      ],
      "metadata": {
        "id": "aQjv2UVg4l65"
      }
    },
    {
      "cell_type": "code",
      "source": [
        "dateFormat = \"%Y-%m-%d %H:%M:%S\"\n",
        "runFormat = \"%Y%m%d%H\"\n",
        "\n",
        "fcastTimes = [] #Key: initiation, item: valid time list\n",
        "fhour = 0\n",
        "validTime = initTime\n",
        "\n",
        "while fhour <= forecastLength:\n",
        "    fcastTimes.append(validTime)\n",
        "    validTime += pd.Timedelta(hours=fHourStep)\n",
        "    fhour += fHourStep"
      ],
      "metadata": {
        "collapsed": true,
        "id": "jdMyhDj94ij0"
      },
      "execution_count": null,
      "outputs": []
    },
    {
      "cell_type": "markdown",
      "source": [
        "Find storm location in HAFS-A from ATCF files. Used to find along-storm profile."
      ],
      "metadata": {
        "id": "bNcDi6valX_j"
      }
    },
    {
      "cell_type": "code",
      "source": [
        "cols = [\"BASIN\", \"CY\", \"YYYYMMDDHH\", \"TECHNUM/MIN\", \"TECH\", \"TAU\", \"LatN/S\", \"LonE/W\",\n",
        "    \"VMAX\", \"MSLP\", \"TY\", \"RAD\", \"WINDCODE\", \"RAD1\", \"RAD2\", \"RAD3\", \"RAD4\",\n",
        "    \"POUTER\", \"ROUTER\", \"RMW\", \"GUSTS\", \"EYE\", \"SUBREGION\", \"MAXSEAS\", \"INITIALS\",\n",
        "    \"DIR\", \"SPEED\", \"STORMNAME\", \"DEPTH\", \"SEAS\", \"SEASCODE\", \"SEAS1\", \"SEAS2\",\n",
        "    \"SEAS3\", \"SEAS4\", \"USERDEFINED1\", \"Thermo1\", \"Thermo2\", \"Thermo3\", \"Thermo4\",\n",
        "    \"Thermo5\", \"Thermo6\", \"Thermo7\", \"USERDEFINED2\", \"DT\", \"SHR82\", \"SHR81_1\",\n",
        "    \"SHR82_2\",  \"USERDEFINED3\", \"SST\", \"USERDEFINED4\", \"ARMW1\", \"ARMW2\"]\n",
        "\n",
        "initStr, initHour = initTime.strftime(\"%Y%m%d_%H\").split(\"_\")\n",
        "\n",
        "atcfURL = f\"https://noaa-nws-hafs-pds.s3.amazonaws.com/hfsa/{initStr}/{initHour}/{tcNum}l.{initStr}{initHour}.hfsa.trak.atcfunix\"\n",
        "atcfFile = \"atcf_\" + initStr + \"_\" + initHour + \".csv\"\n",
        "\n",
        "!wget -O {atcfFile} {atcfURL}\n",
        "atcf = pd.read_csv(atcfFile, names=cols)"
      ],
      "metadata": {
        "id": "yO6jA18GOCVi"
      },
      "execution_count": null,
      "outputs": []
    },
    {
      "cell_type": "code",
      "source": [
        "tcLocs = {}\n",
        "\n",
        "for valid in fcastTimes:\n",
        "    fHour = int((valid-initTime).total_seconds() / 3600)\n",
        "\n",
        "    pointLat = int(atcf[atcf.TAU==fHour][\"LatN/S\"].iloc[0].replace(\"N\", \"\"))/10\n",
        "    pointLon = int(atcf[atcf.TAU==fHour][\"LonE/W\"].iloc[0].replace(\"W\", \"\"))/-10 #Assume western hemisphere\n",
        "    tcLocs[valid] = (pointLat, pointLon)"
      ],
      "metadata": {
        "id": "M2-eqEmxlXw3"
      },
      "execution_count": null,
      "outputs": []
    },
    {
      "cell_type": "markdown",
      "source": [
        "Get data from HAFS-A output."
      ],
      "metadata": {
        "id": "gJK0pEvc4ij2"
      }
    },
    {
      "cell_type": "code",
      "source": [
        "fcastTimes"
      ],
      "metadata": {
        "id": "1t_Cv42VR_qV"
      },
      "execution_count": null,
      "outputs": []
    },
    {
      "cell_type": "code",
      "source": [
        "atmData"
      ],
      "metadata": {
        "id": "EHHjoTgGSlC5"
      },
      "execution_count": null,
      "outputs": []
    },
    {
      "cell_type": "code",
      "source": [
        "atm = {}\n",
        "\n",
        "for valid in fcastTimes:\n",
        "\n",
        "  initStr = initTime.strftime(\"%Y%m%d%H\")\n",
        "\n",
        "  atm[valid] = {}\n",
        "\n",
        "  fhour = str(int((valid-initTime).total_seconds() / 3600))\n",
        "  while len(fhour) < 3: fhour = \"0\" + fhour\n",
        "\n",
        "  atmFile = \"hafsa_\" + initStr + \"_f\" + fhour + \".nc\"\n",
        "  atmPath = dataPath + \"hafsaOutput/\" + subfolder + atmFile\n",
        "  atmData = xr.open_dataset(atmPath)\n",
        "\n",
        "  point = tcLocs[valid]\n",
        "  layer = max(atmData.isobaricInhPa.data) #Get lowest point; should be 1000 hPa\n",
        "\n",
        "  #Longitude in atm files are in degrees east, but are -180 - 180 in oce files. point has them from -180 - 180\n",
        "  validPoint = atmData.sel(latitude=point[0], longitude=point[1] + 360, isobaricInhPa=layer, method=\"nearest\")\n",
        "\n",
        "  atm[valid][\"T\"] = float(validPoint.t.data)\n",
        "  atm[valid][\"q\"] = float(validPoint.q.data) * 1000 #Convert from kg/kg to g/kg\n",
        "  atm[valid][\"u\"] = float(validPoint.u.data)\n",
        "  atm[valid][\"v\"] = float(validPoint.v.data)\n",
        "  atm[valid][\"gh\"] = float(validPoint.gh.data)\n",
        "  atm[valid][\"sst\"] = float(validPoint.sst.data)\n",
        "  atm[valid][\"shf\"] = float(validPoint.ishf.data)\n",
        "  atm[valid][\"lhf\"] = float(validPoint.slhtf.data)"
      ],
      "metadata": {
        "collapsed": true,
        "id": "mU1HIzL_4ij2"
      },
      "execution_count": null,
      "outputs": []
    },
    {
      "cell_type": "code",
      "source": [
        "oce = {}\n",
        "\n",
        "for valid in fcastTimes:\n",
        "\n",
        "  fhour = str(int((valid-initTime).total_seconds() / 3600))\n",
        "  while len(fhour) < 3: fhour = \"0\" + fhour\n",
        "  oceFile = \"mom6_\" + initStr + \"_f\" + fhour + \".nc\"\n",
        "  ocePath = dataPath + \"mom6Output/\" + subfolder + oceFile\n",
        "\n",
        "  if oceFile == 'mom6_2024100800_f000.nc': #This file is missing\n",
        "    for layer in oceData.z_l.data:\n",
        "      oce[initTime][valid][layer] = {\"T\":np.nan, \"s\":np.nan, \"u\":np.nan, \"v\":np.nan}\n",
        "    continue\n",
        "\n",
        "  oceData = xr.open_dataset(ocePath, decode_times=False)\n",
        "\n",
        "  point = tcLocs[valid]\n",
        "  layer = min(oceData.z_l.data[oceData.z_l.data<=oceFloor]) #Retrieves most shallow layer; should be 1 m\n",
        "\n",
        "  oce[valid] = {}\n",
        "  oce[valid][\"T\"] = float(oceData.sel(yq=point[0], yh=point[0], xh=point[1], xq=point[1], z_l=layer, method=\"nearest\").temp.data) + 273.15 #This is potential temperature. Converted from C to K.\n",
        "  oce[valid][\"s\"] = float(oceData.sel(yq=point[0], yh=point[0], xh=point[1], xq=point[1], z_l=layer, method=\"nearest\").so.data)\n",
        "  oce[valid][\"u\"] = float(oceData.sel(yq=point[0], yh=point[0], xh=point[1], xq=point[1], z_l=layer, method=\"nearest\").uo.data)\n",
        "  oce[valid][\"v\"] = float(oceData.sel(yq=point[0], yh=point[0], xh=point[1], xq=point[1], z_l=layer, method=\"nearest\").vo.data)\n",
        "  oce[valid][\"sst\"] = float(oceData.sel(yq=point[0], yh=point[0], xh=point[1], xq=point[1], z_l=layer, method=\"nearest\").SST.data) + 273.15\n",
        "  oce[valid][\"shf\"] = float(oceData.sel(yq=point[0], yh=point[0], xh=point[1], xq=point[1], z_l=layer, method=\"nearest\").sensible.data)\n",
        "  oce[valid][\"lhf\"] = float(oceData.sel(yq=point[0], yh=point[0], xh=point[1], xq=point[1], z_l=layer, method=\"nearest\").latent.data)"
      ],
      "metadata": {
        "collapsed": true,
        "id": "VZXxVJfcV7Zl"
      },
      "execution_count": null,
      "outputs": []
    },
    {
      "cell_type": "markdown",
      "source": [
        "#Figures"
      ],
      "metadata": {
        "id": "e0IVIJcvPop5"
      }
    },
    {
      "cell_type": "markdown",
      "source": [
        "*Why are the HAFS-A and MOM6 fluxes different?*"
      ],
      "metadata": {
        "id": "Jk-AoFe0S__r"
      }
    },
    {
      "cell_type": "code",
      "source": [
        "compFig = plt.figure(figsize=(10, 10))\n",
        "sstAx = compFig.add_axes([0.1, 0.7, 0.8, 0.25])\n",
        "shfAx = compFig.add_axes([0.1, 0.4, 0.8, 0.25])\n",
        "lhfAx = compFig.add_axes([0.1, 0.1, 0.8, 0.25])\n",
        "\n",
        "atmSST = [atm[valid]['sst'] for valid in atm.keys()]\n",
        "atmSHF = [atm[valid]['shf']*-1 for valid in atm.keys()]\n",
        "atmLHF = [atm[valid]['lhf']*-1 for valid in atm.keys()]\n",
        "\n",
        "oceSST = [oce[valid]['sst'] for valid in oce.keys()]\n",
        "oceSHF = [oce[valid]['shf'] for valid in oce.keys()]\n",
        "oceLHF = [oce[valid]['lhf'] for valid in oce.keys()]\n",
        "\n",
        "sstAx.plot(atm.keys(), atmSST, label=\"Atm. SST\", color=\"red\")\n",
        "sstAx.plot(oce.keys(), oceSST, label=\"Oce. SST\", color=\"blue\")\n",
        "shfAx.plot(atm.keys(), atmSHF, label=\"Atm. SHF\", color=\"red\")\n",
        "shfAx.plot(oce.keys(), oceSHF, label=\"Oce. SHF\", color=\"blue\")\n",
        "lhfAx.plot(atm.keys(), atmLHF, label=\"Atm. LHF\", color=\"red\")\n",
        "lhfAx.plot(oce.keys(), oceLHF, label=\"Oce. LHF\", color=\"blue\")\n",
        "\n",
        "sstAx.set_title(\"SST\")\n",
        "shfAx.set_title(\"Sensible Heat Flux\")\n",
        "lhfAx.set_title(\"Latent Heat Flux\")\n",
        "\n",
        "sstAx.legend()\n",
        "shfAx.legend()\n",
        "lhfAx.legend()"
      ],
      "metadata": {
        "id": "qHmwQeWjPp4b"
      },
      "execution_count": null,
      "outputs": []
    },
    {
      "cell_type": "code",
      "source": [],
      "metadata": {
        "id": "hOcAcVYwT96I"
      },
      "execution_count": null,
      "outputs": []
    }
  ]
}