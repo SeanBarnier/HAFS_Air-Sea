{
  "nbformat": 4,
  "nbformat_minor": 0,
  "metadata": {
    "colab": {
      "provenance": [],
      "authorship_tag": "ABX9TyMf1JCEvNUq7rC8sE1p2L/N",
      "include_colab_link": true
    },
    "kernelspec": {
      "name": "python3",
      "display_name": "Python 3"
    },
    "language_info": {
      "name": "python"
    }
  },
  "cells": [
    {
      "cell_type": "markdown",
      "metadata": {
        "id": "view-in-github",
        "colab_type": "text"
      },
      "source": [
        "<a href=\"https://colab.research.google.com/github/SeanBarnier/HAFS_Air-Sea/blob/main/HAFSA_ocean-atmosphere.ipynb\" target=\"_parent\"><img src=\"https://colab.research.google.com/assets/colab-badge.svg\" alt=\"Open In Colab\"/></a>"
      ]
    },
    {
      "cell_type": "markdown",
      "source": [
        "#Set up environment"
      ],
      "metadata": {
        "id": "f592A_AhmfhP"
      }
    },
    {
      "cell_type": "code",
      "source": [
        "import os\n",
        "os.environ[\"PYDEVD_DISABLE_FILE_VALIDATION\"] = \"1\""
      ],
      "metadata": {
        "id": "BgfkKKkNcjxn"
      },
      "execution_count": 2,
      "outputs": []
    },
    {
      "cell_type": "code",
      "source": [
        "!pip install cfgrib\n",
        "!pip install cartopy\n",
        "!pip install tropycal"
      ],
      "metadata": {
        "id": "wDGgQBxjYusr",
        "collapsed": true,
        "outputId": "0e1f5718-cc91-48ca-e137-fe6146702081",
        "colab": {
          "base_uri": "https://localhost:8080/"
        }
      },
      "execution_count": 3,
      "outputs": [
        {
          "output_type": "stream",
          "name": "stdout",
          "text": [
            "Requirement already satisfied: cfgrib in /usr/local/lib/python3.11/dist-packages (0.9.15.0)\n",
            "Requirement already satisfied: attrs>=19.2 in /usr/local/lib/python3.11/dist-packages (from cfgrib) (25.3.0)\n",
            "Requirement already satisfied: click in /usr/local/lib/python3.11/dist-packages (from cfgrib) (8.2.1)\n",
            "Requirement already satisfied: eccodes>=0.9.8 in /usr/local/lib/python3.11/dist-packages (from cfgrib) (2.41.0)\n",
            "Requirement already satisfied: numpy in /usr/local/lib/python3.11/dist-packages (from cfgrib) (2.0.2)\n",
            "Requirement already satisfied: cffi in /usr/local/lib/python3.11/dist-packages (from eccodes>=0.9.8->cfgrib) (1.17.1)\n",
            "Requirement already satisfied: findlibs in /usr/local/lib/python3.11/dist-packages (from eccodes>=0.9.8->cfgrib) (0.1.1)\n",
            "Requirement already satisfied: pycparser in /usr/local/lib/python3.11/dist-packages (from cffi->eccodes>=0.9.8->cfgrib) (2.22)\n",
            "Requirement already satisfied: cartopy in /usr/local/lib/python3.11/dist-packages (0.24.1)\n",
            "Requirement already satisfied: numpy>=1.23 in /usr/local/lib/python3.11/dist-packages (from cartopy) (2.0.2)\n",
            "Requirement already satisfied: matplotlib>=3.6 in /usr/local/lib/python3.11/dist-packages (from cartopy) (3.10.0)\n",
            "Requirement already satisfied: shapely>=1.8 in /usr/local/lib/python3.11/dist-packages (from cartopy) (2.1.1)\n",
            "Requirement already satisfied: packaging>=21 in /usr/local/lib/python3.11/dist-packages (from cartopy) (24.2)\n",
            "Requirement already satisfied: pyshp>=2.3 in /usr/local/lib/python3.11/dist-packages (from cartopy) (2.3.1)\n",
            "Requirement already satisfied: pyproj>=3.3.1 in /usr/local/lib/python3.11/dist-packages (from cartopy) (3.7.1)\n",
            "Requirement already satisfied: contourpy>=1.0.1 in /usr/local/lib/python3.11/dist-packages (from matplotlib>=3.6->cartopy) (1.3.2)\n",
            "Requirement already satisfied: cycler>=0.10 in /usr/local/lib/python3.11/dist-packages (from matplotlib>=3.6->cartopy) (0.12.1)\n",
            "Requirement already satisfied: fonttools>=4.22.0 in /usr/local/lib/python3.11/dist-packages (from matplotlib>=3.6->cartopy) (4.58.1)\n",
            "Requirement already satisfied: kiwisolver>=1.3.1 in /usr/local/lib/python3.11/dist-packages (from matplotlib>=3.6->cartopy) (1.4.8)\n",
            "Requirement already satisfied: pillow>=8 in /usr/local/lib/python3.11/dist-packages (from matplotlib>=3.6->cartopy) (11.2.1)\n",
            "Requirement already satisfied: pyparsing>=2.3.1 in /usr/local/lib/python3.11/dist-packages (from matplotlib>=3.6->cartopy) (3.2.3)\n",
            "Requirement already satisfied: python-dateutil>=2.7 in /usr/local/lib/python3.11/dist-packages (from matplotlib>=3.6->cartopy) (2.9.0.post0)\n",
            "Requirement already satisfied: certifi in /usr/local/lib/python3.11/dist-packages (from pyproj>=3.3.1->cartopy) (2025.4.26)\n",
            "Requirement already satisfied: six>=1.5 in /usr/local/lib/python3.11/dist-packages (from python-dateutil>=2.7->matplotlib>=3.6->cartopy) (1.17.0)\n",
            "Requirement already satisfied: tropycal in /usr/local/lib/python3.11/dist-packages (1.3)\n",
            "Requirement already satisfied: matplotlib>=2.2.2 in /usr/local/lib/python3.11/dist-packages (from tropycal) (3.10.0)\n",
            "Requirement already satisfied: numpy>=1.14.3 in /usr/local/lib/python3.11/dist-packages (from tropycal) (2.0.2)\n",
            "Requirement already satisfied: scipy>=1.1.0 in /usr/local/lib/python3.11/dist-packages (from tropycal) (1.15.3)\n",
            "Requirement already satisfied: xarray>=0.10.7 in /usr/local/lib/python3.11/dist-packages (from tropycal) (2025.3.1)\n",
            "Requirement already satisfied: pandas>=1.3.0 in /usr/local/lib/python3.11/dist-packages (from tropycal) (2.2.2)\n",
            "Requirement already satisfied: networkx>=2.0.0 in /usr/local/lib/python3.11/dist-packages (from tropycal) (3.5)\n",
            "Requirement already satisfied: requests>=2.22.0 in /usr/local/lib/python3.11/dist-packages (from tropycal) (2.32.3)\n",
            "Requirement already satisfied: pyshp>=2.1 in /usr/local/lib/python3.11/dist-packages (from tropycal) (2.3.1)\n",
            "Requirement already satisfied: contourpy>=1.0.1 in /usr/local/lib/python3.11/dist-packages (from matplotlib>=2.2.2->tropycal) (1.3.2)\n",
            "Requirement already satisfied: cycler>=0.10 in /usr/local/lib/python3.11/dist-packages (from matplotlib>=2.2.2->tropycal) (0.12.1)\n",
            "Requirement already satisfied: fonttools>=4.22.0 in /usr/local/lib/python3.11/dist-packages (from matplotlib>=2.2.2->tropycal) (4.58.1)\n",
            "Requirement already satisfied: kiwisolver>=1.3.1 in /usr/local/lib/python3.11/dist-packages (from matplotlib>=2.2.2->tropycal) (1.4.8)\n",
            "Requirement already satisfied: packaging>=20.0 in /usr/local/lib/python3.11/dist-packages (from matplotlib>=2.2.2->tropycal) (24.2)\n",
            "Requirement already satisfied: pillow>=8 in /usr/local/lib/python3.11/dist-packages (from matplotlib>=2.2.2->tropycal) (11.2.1)\n",
            "Requirement already satisfied: pyparsing>=2.3.1 in /usr/local/lib/python3.11/dist-packages (from matplotlib>=2.2.2->tropycal) (3.2.3)\n",
            "Requirement already satisfied: python-dateutil>=2.7 in /usr/local/lib/python3.11/dist-packages (from matplotlib>=2.2.2->tropycal) (2.9.0.post0)\n",
            "Requirement already satisfied: pytz>=2020.1 in /usr/local/lib/python3.11/dist-packages (from pandas>=1.3.0->tropycal) (2025.2)\n",
            "Requirement already satisfied: tzdata>=2022.7 in /usr/local/lib/python3.11/dist-packages (from pandas>=1.3.0->tropycal) (2025.2)\n",
            "Requirement already satisfied: charset-normalizer<4,>=2 in /usr/local/lib/python3.11/dist-packages (from requests>=2.22.0->tropycal) (3.4.2)\n",
            "Requirement already satisfied: idna<4,>=2.5 in /usr/local/lib/python3.11/dist-packages (from requests>=2.22.0->tropycal) (3.10)\n",
            "Requirement already satisfied: urllib3<3,>=1.21.1 in /usr/local/lib/python3.11/dist-packages (from requests>=2.22.0->tropycal) (2.4.0)\n",
            "Requirement already satisfied: certifi>=2017.4.17 in /usr/local/lib/python3.11/dist-packages (from requests>=2.22.0->tropycal) (2025.4.26)\n",
            "Requirement already satisfied: six>=1.5 in /usr/local/lib/python3.11/dist-packages (from python-dateutil>=2.7->matplotlib>=2.2.2->tropycal) (1.17.0)\n"
          ]
        }
      ]
    },
    {
      "cell_type": "code",
      "source": [
        "!sudo apt install aria2"
      ],
      "metadata": {
        "id": "ra6QPuljGkzT",
        "outputId": "99a42a82-d670-4212-9de4-91783ecebfcc",
        "colab": {
          "base_uri": "https://localhost:8080/"
        }
      },
      "execution_count": 4,
      "outputs": [
        {
          "output_type": "stream",
          "name": "stdout",
          "text": [
            "Reading package lists... Done\n",
            "Building dependency tree... Done\n",
            "Reading state information... Done\n",
            "aria2 is already the newest version (1.36.0-1).\n",
            "0 upgraded, 0 newly installed, 0 to remove and 35 not upgraded.\n"
          ]
        }
      ]
    },
    {
      "cell_type": "code",
      "source": [
        "from tropycal import tracks, rain\n",
        "import xarray as xr\n",
        "import pandas as pd\n",
        "import numpy as np\n",
        "import matplotlib.pyplot as plt\n",
        "from datetime import datetime as dt\n",
        "import cfgrib\n",
        "import numpy as np\n",
        "import cartopy.crs as ccrs\n",
        "import cartopy.feature as cft"
      ],
      "metadata": {
        "id": "vWrr_30yZ4nh"
      },
      "execution_count": 5,
      "outputs": []
    },
    {
      "cell_type": "code",
      "source": [
        "from google.colab import drive\n",
        "drive.mount('/content/drive')"
      ],
      "metadata": {
        "id": "6KsU8RFVmin5",
        "outputId": "3483bde7-e3f4-4a67-fdaa-a02bc10c0d3e",
        "colab": {
          "base_uri": "https://localhost:8080/"
        }
      },
      "execution_count": 6,
      "outputs": [
        {
          "output_type": "stream",
          "name": "stdout",
          "text": [
            "Drive already mounted at /content/drive; to attempt to forcibly remount, call drive.mount(\"/content/drive\", force_remount=True).\n"
          ]
        }
      ]
    },
    {
      "cell_type": "markdown",
      "source": [
        "#User parameters"
      ],
      "metadata": {
        "id": "XnkUgaLnLbuC"
      }
    },
    {
      "cell_type": "code",
      "source": [
        "name = \"Milton\"\n",
        "tcNum = \"14\"\n",
        "filepath = f\"/content/drive/MyDrive/ColabNotebooks/{name}\"\n",
        "trackType = \"\"\n",
        "\n",
        "centralTime = dt(year=2024, month=10, day=7, hour=6) #Time when Milton began its most rapid intensification\n",
        "daysBefore = 0 #Days before the focal point\n",
        "daysAfter = 1 #Days after focal point\n",
        "fHourStep = 3 #Normally 3 for HAFS-A\n",
        "forecastLength = 36 #Normally 126 for HAFS-A. Changeable for testing.\n",
        "\n",
        "figureSuffix = \"_RI\""
      ],
      "metadata": {
        "id": "5mX9LiKtLeTX"
      },
      "execution_count": 7,
      "outputs": []
    },
    {
      "cell_type": "code",
      "source": [
        "atmTop = 750 # in hPa\n",
        "oceBottom = 530 # In m below surface. This was chosen to include a layer in the files that's around 529 m"
      ],
      "metadata": {
        "id": "nSPZ_yPqEe7x"
      },
      "execution_count": 8,
      "outputs": []
    },
    {
      "cell_type": "markdown",
      "source": [
        "Get best track data and find interested point"
      ],
      "metadata": {
        "id": "f4C7bEjXNznh"
      }
    },
    {
      "cell_type": "code",
      "source": [
        "bt = pd.read_csv(filepath + \"/hurdat2_\" + name + trackType + \".csv\")\n",
        "\n",
        "centralTimeStr = centralTime.strftime(\"%Y-%m-%d %H:%M:%S\")\n",
        "point = (bt[bt.time == centralTimeStr].iloc[0].lat, bt[bt.time == centralTimeStr].iloc[0].lon)\n",
        "point"
      ],
      "metadata": {
        "id": "IwrrNNGhMYau",
        "outputId": "2af10fb1-b8c6-45e6-9208-82e8e6d3a0be",
        "colab": {
          "base_uri": "https://localhost:8080/"
        }
      },
      "execution_count": 9,
      "outputs": [
        {
          "output_type": "execute_result",
          "data": {
            "text/plain": [
              "(np.float64(22.1), np.float64(-92.9))"
            ]
          },
          "metadata": {},
          "execution_count": 9
        }
      ]
    },
    {
      "cell_type": "markdown",
      "source": [
        "#Retrieve HAFS-A Data"
      ],
      "metadata": {
        "id": "5MU8O99TOZme"
      }
    },
    {
      "cell_type": "code",
      "source": [
        "dateFormat = \"%Y-%m-%d %H:%M:%S\"\n",
        "runFormat = \"%Y%m%d%H\"\n",
        "\n",
        "start = centralTime - pd.Timedelta(days=daysBefore)\n",
        "end = centralTime + pd.Timedelta(days=daysAfter)"
      ],
      "metadata": {
        "id": "N7EXfX8AgqHB"
      },
      "execution_count": 10,
      "outputs": []
    },
    {
      "cell_type": "markdown",
      "source": [
        "Find times needed"
      ],
      "metadata": {
        "id": "aQjv2UVg4l65"
      }
    },
    {
      "cell_type": "code",
      "source": [
        "fcastTimes = {} #Key: initiation, item: valid time list\n",
        "\n",
        "initTime = start\n",
        "while initTime <= end:\n",
        "  validTime = initTime\n",
        "  fcastTimes[initTime] = []\n",
        "  fhour = 0\n",
        "\n",
        "  while validTime <= end and fhour <= forecastLength:\n",
        "    fcastTimes[initTime].append(validTime)\n",
        "    validTime += pd.Timedelta(hours=fHourStep)\n",
        "    fhour += fHourStep\n",
        "\n",
        "  initTime += pd.Timedelta(hours=6)"
      ],
      "metadata": {
        "collapsed": true,
        "id": "jdMyhDj94ij0"
      },
      "execution_count": 11,
      "outputs": []
    },
    {
      "cell_type": "markdown",
      "source": [
        "Get data from HAFS-A output."
      ],
      "metadata": {
        "id": "gJK0pEvc4ij2"
      }
    },
    {
      "cell_type": "code",
      "source": [
        "bucket = \"https://noaa-nws-hafs-pds.s3.amazonaws.com/hfsa/\"\n",
        "\n",
        "#Data storage structure: Run time, valid time, layer, variable\n",
        "amtVars = [\"T\", \"q\", \"u\", \"v\", \"gh\"]\n",
        "oceVars = [\"T\", \"s\", \"u\", \"v\"]\n",
        "\n",
        "atmFiles = []\n",
        "atm = {}\n",
        "oceFiles = []\n",
        "oce = {}"
      ],
      "metadata": {
        "id": "_4qJFbXFBzK4"
      },
      "execution_count": 12,
      "outputs": []
    },
    {
      "cell_type": "code",
      "source": [
        "for init, validList in fcastTimes.items():\n",
        "\n",
        "  atm[init] = {}\n",
        "  oce[init] = {}\n",
        "\n",
        "  initDate, initHour = init.strftime(\"%Y%m%d_%H\").split(\"_\")\n",
        "\n",
        "  for valid in validList:\n",
        "\n",
        "    atm[init][valid] = {}\n",
        "    oce[init][valid] = {}\n",
        "\n",
        "    fhour = str(int((valid-init).total_seconds() / 3600))\n",
        "    while len(fhour) < 3: fhour = \"0\" + fhour\n",
        "\n",
        "    atmURL = bucket + initDate + \"/\" + initHour + \"/\" + tcNum + \"l.\" + initDate + initHour + \".hfsa.storm.atm.f\" + fhour + \".grb2\"\n",
        "    atmFile = \"atm_\" + initDate + \"_\" + initHour + \"_f\" + fhour + \".grb2\"\n",
        "    atmFiles.append(atmFile)\n",
        "\n",
        "    !aria2c -x 16 -s 16 --allow-overwrite=true -o {atmFile} {atmURL}\n",
        "    atmData = xr.open_dataset(atmFile, engine=\"cfgrib\", decode_timedelta=True, filter_by_keys={'stepType': 'instant', 'typeOfLevel': 'isobaricInhPa'})\n",
        "    #Longitude in atm files are in degrees east, but are -180 - 180 in oce files. point has them from -180 - 180\n",
        "    atmLayers = atmData.isobaricInhPa.data[atmData.isobaricInhPa.data >= atmTop]\n",
        "\n",
        "    for layer in atmLayers:\n",
        "      validPoint = atmData.sel(latitude=point[0], longitude=point[1] + 360, isobaricInhPa=layer, method=\"nearest\")\n",
        "      atm[init][valid][layer] = {}\n",
        "      atm[init][valid][layer][\"T\"] = float(validPoint.t.data)\n",
        "      atm[init][valid][layer][\"q\"] = float(validPoint.q.data) * 1000 #Convert from kg/kg to g/kg\n",
        "      atm[init][valid][layer][\"u\"] = float(validPoint.u.data)\n",
        "      atm[init][valid][layer][\"v\"] = float(validPoint.v.data)\n",
        "      atm[init][valid][layer][\"gh\"] = float(validPoint.gh.data)\n",
        "\n",
        "    !rm {atmFile}\n",
        "\n",
        "    oceURL = bucket + initDate + \"/\" + initHour + \"/\" + tcNum + \"l.\" + initDate + initHour + \".hfsa.mom6.f\" + fhour + \".nc\"\n",
        "    oceFile = \"oce_\" + initDate + \"_\" + initHour + \"_f\" + fhour + \".nc\"\n",
        "\n",
        "    if oceFile == 'oce_20241008_00_f000.nc': #This file is missing\n",
        "      for layer in oceLayers:\n",
        "        oce[init][valid][layer] = {}\n",
        "        oce[init][valid][layer][\"T\"] = np.nan\n",
        "        oce[init][valid][layer][\"s\"] = np.nan\n",
        "        oce[init][valid][layer][\"u\"] = np.nan\n",
        "        oce[init][valid][layer][\"v\"] = np.nan\n",
        "\n",
        "    else:\n",
        "      oceFiles.append(oceFile)\n",
        "      !aria2c -x 16 -s 16 --allow-overwrite=true -o {oceFile} {oceURL}\n",
        "      oceData = xr.open_dataset(oceFile, decode_times=False)\n",
        "      oceLayers = oceData.z_l.data[oceData.z_l.data <= oceBottom]\n",
        "\n",
        "      for layer in oceLayers:\n",
        "        oce[init][valid][layer] = {}\n",
        "        oce[init][valid][layer][\"T\"] = float(oceData.sel(yq=point[0], yh=point[0], xh=point[1], xq=point[1], z_l=layer, method=\"nearest\").temp.data) + 273.15 #This is potential temperature. Converted from C to K.\n",
        "        oce[init][valid][layer][\"s\"] = float(oceData.sel(yq=point[0], yh=point[0], xh=point[1], xq=point[1], z_l=layer, method=\"nearest\").so.data)\n",
        "        oce[init][valid][layer][\"u\"] = float(oceData.sel(yq=point[0], yh=point[0], xh=point[1], xq=point[1], z_l=layer, method=\"nearest\").uo.data)\n",
        "        oce[init][valid][layer][\"v\"] = float(oceData.sel(yq=point[0], yh=point[0], xh=point[1], xq=point[1], z_l=layer, method=\"nearest\").vo.data)\n",
        "\n",
        "      !rm {oceFile}"
      ],
      "metadata": {
        "collapsed": true,
        "id": "mU1HIzL_4ij2",
        "outputId": "048735ab-ef94-45b9-cafa-6ca111d36c53",
        "colab": {
          "base_uri": "https://localhost:8080/"
        }
      },
      "execution_count": null,
      "outputs": [
        {
          "output_type": "stream",
          "name": "stdout",
          "text": [
            "\n",
            "06/16 15:54:15 [\u001b[1;32mNOTICE\u001b[0m] Downloading 1 item(s)\n",
            "\u001b[0m\n",
            "06/16 15:54:17 [\u001b[1;32mNOTICE\u001b[0m] Download complete: /content/atm_20241007_06_f000.grb2\n",
            "\n",
            "Download Results:\n",
            "gid   |stat|avg speed  |path/URI\n",
            "======+====+===========+=======================================================\n",
            "d8865d|\u001b[1;32mOK\u001b[0m  |   111MiB/s|/content/atm_20241007_06_f000.grb2\n",
            "\n",
            "Status Legend:\n",
            "(OK):download completed.\n"
          ]
        },
        {
          "output_type": "stream",
          "name": "stderr",
          "text": [
            "WARNING:cfgrib.messages:Ignoring index file 'atm_20241007_06_f000.grb2.5b7b6.idx' older than GRIB file\n",
            "ERROR:cfgrib.dataset:skipping variable: paramId==3017 shortName='dpt'\n",
            "Traceback (most recent call last):\n",
            "  File \"/usr/local/lib/python3.11/dist-packages/cfgrib/dataset.py\", line 725, in build_dataset_components\n",
            "    dict_merge(variables, coord_vars)\n",
            "  File \"/usr/local/lib/python3.11/dist-packages/cfgrib/dataset.py\", line 641, in dict_merge\n",
            "    raise DatasetBuildError(\n",
            "cfgrib.dataset.DatasetBuildError: key present and new value is different: key='isobaricInhPa' value=Variable(dimensions=('isobaricInhPa',), data=array([1000.,  975.,  950.,  925.,  900.,  875.,  850.,  825.,  800.,\n",
            "        775.,  750.,  725.,  700.,  675.,  650.,  625.,  600.,  575.,\n",
            "        550.,  525.,  500.,  475.,  450.,  425.,  400.,  375.,  350.,\n",
            "        325.,  300.,  275.,  250.,  225.,  200.,  175.,  150.,  125.,\n",
            "        100.,   70.,   50.,   30.,   20.,   10.,    7.,    5.,    2.])) new_value=Variable(dimensions=('isobaricInhPa',), data=array([850., 700., 500., 300., 200., 100.]))\n"
          ]
        },
        {
          "output_type": "stream",
          "name": "stdout",
          "text": [
            "\n",
            "06/16 15:54:25 [\u001b[1;32mNOTICE\u001b[0m] Downloading 1 item(s)\n",
            "\u001b[0m\n",
            "06/16 15:54:39 [\u001b[1;32mNOTICE\u001b[0m] Download complete: /content/oce_20241007_06_f000.nc\n",
            "\n",
            "Download Results:\n",
            "gid   |stat|avg speed  |path/URI\n",
            "======+====+===========+=======================================================\n",
            "925944|\u001b[1;32mOK\u001b[0m  |   191MiB/s|/content/oce_20241007_06_f000.nc\n",
            "\n",
            "Status Legend:\n",
            "(OK):download completed.\n"
          ]
        },
        {
          "output_type": "stream",
          "name": "stderr",
          "text": [
            "<ipython-input-13-3611680381>:55: DeprecationWarning: Conversion of an array with ndim > 0 to a scalar is deprecated, and will error in future. Ensure you extract a single element from your array before performing this operation. (Deprecated NumPy 1.25.)\n",
            "  oce[init][valid][layer][\"T\"] = float(oceData.sel(yq=point[0], yh=point[0], xh=point[1], xq=point[1], z_l=layer, method=\"nearest\").temp.data) + 273.15 #This is potential temperature. Converted from C to K.\n",
            "<ipython-input-13-3611680381>:56: DeprecationWarning: Conversion of an array with ndim > 0 to a scalar is deprecated, and will error in future. Ensure you extract a single element from your array before performing this operation. (Deprecated NumPy 1.25.)\n",
            "  oce[init][valid][layer][\"s\"] = float(oceData.sel(yq=point[0], yh=point[0], xh=point[1], xq=point[1], z_l=layer, method=\"nearest\").so.data)\n",
            "<ipython-input-13-3611680381>:57: DeprecationWarning: Conversion of an array with ndim > 0 to a scalar is deprecated, and will error in future. Ensure you extract a single element from your array before performing this operation. (Deprecated NumPy 1.25.)\n",
            "  oce[init][valid][layer][\"u\"] = float(oceData.sel(yq=point[0], yh=point[0], xh=point[1], xq=point[1], z_l=layer, method=\"nearest\").uo.data)\n",
            "<ipython-input-13-3611680381>:58: DeprecationWarning: Conversion of an array with ndim > 0 to a scalar is deprecated, and will error in future. Ensure you extract a single element from your array before performing this operation. (Deprecated NumPy 1.25.)\n",
            "  oce[init][valid][layer][\"v\"] = float(oceData.sel(yq=point[0], yh=point[0], xh=point[1], xq=point[1], z_l=layer, method=\"nearest\").vo.data)\n"
          ]
        },
        {
          "output_type": "stream",
          "name": "stdout",
          "text": [
            "\n",
            "06/16 15:54:40 [\u001b[1;32mNOTICE\u001b[0m] Downloading 1 item(s)\n",
            "\u001b[0m\n",
            "06/16 15:54:42 [\u001b[1;32mNOTICE\u001b[0m] Download complete: /content/atm_20241007_06_f003.grb2\n",
            "\n",
            "Download Results:\n",
            "gid   |stat|avg speed  |path/URI\n",
            "======+====+===========+=======================================================\n",
            "503766|\u001b[1;32mOK\u001b[0m  |   153MiB/s|/content/atm_20241007_06_f003.grb2\n",
            "\n",
            "Status Legend:\n",
            "(OK):download completed.\n"
          ]
        },
        {
          "output_type": "stream",
          "name": "stderr",
          "text": [
            "WARNING:cfgrib.messages:Ignoring index file 'atm_20241007_06_f003.grb2.5b7b6.idx' older than GRIB file\n",
            "ERROR:cfgrib.dataset:skipping variable: paramId==3017 shortName='dpt'\n",
            "Traceback (most recent call last):\n",
            "  File \"/usr/local/lib/python3.11/dist-packages/cfgrib/dataset.py\", line 725, in build_dataset_components\n",
            "    dict_merge(variables, coord_vars)\n",
            "  File \"/usr/local/lib/python3.11/dist-packages/cfgrib/dataset.py\", line 641, in dict_merge\n",
            "    raise DatasetBuildError(\n",
            "cfgrib.dataset.DatasetBuildError: key present and new value is different: key='isobaricInhPa' value=Variable(dimensions=('isobaricInhPa',), data=array([1000.,  975.,  950.,  925.,  900.,  875.,  850.,  825.,  800.,\n",
            "        775.,  750.,  725.,  700.,  675.,  650.,  625.,  600.,  575.,\n",
            "        550.,  525.,  500.,  475.,  450.,  425.,  400.,  375.,  350.,\n",
            "        325.,  300.,  275.,  250.,  225.,  200.,  175.,  150.,  125.,\n",
            "        100.,   70.,   50.,   30.,   20.,   10.,    7.,    5.,    2.])) new_value=Variable(dimensions=('isobaricInhPa',), data=array([850., 700., 500., 300., 200., 100.]))\n"
          ]
        },
        {
          "output_type": "stream",
          "name": "stdout",
          "text": [
            "\n",
            "06/16 15:54:46 [\u001b[1;32mNOTICE\u001b[0m] Downloading 1 item(s)\n",
            " *** Download Progress Summary as of Mon Jun 16 15:55:47 2025 *** \n",
            "=\n",
            "[#414e13 1.6GiB/2.3GiB(71%) CN:16 DL:136MiB ETA:5s]\n",
            "FILE: /content/oce_20241007_06_f003.nc\n",
            "-\n",
            "\n",
            "\u001b[0m\n",
            "06/16 15:55:55 [\u001b[1;32mNOTICE\u001b[0m] Download complete: /content/oce_20241007_06_f003.nc\n",
            "\n",
            "Download Results:\n",
            "gid   |stat|avg speed  |path/URI\n",
            "======+====+===========+=======================================================\n",
            "414e13|\u001b[1;32mOK\u001b[0m  |    35MiB/s|/content/oce_20241007_06_f003.nc\n",
            "\n",
            "Status Legend:\n",
            "(OK):download completed.\n"
          ]
        }
      ]
    },
    {
      "cell_type": "code",
      "source": [
        "atm"
      ],
      "metadata": {
        "id": "6TY7VT0t8AbJ",
        "collapsed": true
      },
      "execution_count": null,
      "outputs": []
    },
    {
      "cell_type": "code",
      "source": [
        "oce"
      ],
      "metadata": {
        "id": "LEkeoUw8BvuA",
        "collapsed": true
      },
      "execution_count": null,
      "outputs": []
    },
    {
      "cell_type": "markdown",
      "source": [
        "Save data as netcdf"
      ],
      "metadata": {
        "id": "CvJku4hv8hwi"
      }
    },
    {
      "cell_type": "code",
      "source": [
        "import netCDF4 as nc\n",
        "ncAtmName = f\"{filepath}/{name}Atmosphere{figureSuffix}.nc\"\n",
        "ncfile = nc.Dataset(ncAtmName, mode='w')\n",
        "\n",
        "ncfile.createDimension('runTime', None)\n",
        "#ncfile.createDimension('valid', None)\n",
        "ncfile.createDimension('level', None)\n",
        "\n",
        "runTimeVar = ncfile.createVariable('runTime', float, ('runTime',))\n",
        "runTimeVar.long_name = \"Run Time\"\n",
        "\n",
        "validVar = ncfile.createVariable('valid', float, ('runTime',))\n",
        "validVar.long_name = \"Valid Time\"\n",
        "\n",
        "levelVar = ncfile.createVariable('level', float, ('runTime', 'level'))\n",
        "levelVar.long_name = \"Atmospheric Level\"\n",
        "levelVar.units = \"hPa\"\n",
        "\n",
        "tempVar = ncfile.createVariable('temp', float, ('runTime', 'level'))\n",
        "tempVar.long_name = \"Temperature\"\n",
        "tempVar.units = \"K\"\n",
        "\n",
        "qVar = ncfile.createVariable('q', float, ('runTime', 'level'))\n",
        "qVar.long_name = \"Specific Humidity\"\n",
        "qVar.units = \"g/kg\"\n",
        "\n",
        "uVar = ncfile.createVariable('u', float, ('runTime', 'level'))\n",
        "uVar.long_name = \"U Wind Component\"\n",
        "uVar.units = \"m/s\"\n",
        "\n",
        "vVar = ncfile.createVariable('v', float, ('runTime', 'level'))\n",
        "vVar.long_name = \"V Wind Component\"\n",
        "vVar.units = \"m/s\"\n",
        "\n",
        "ghVar = ncfile.createVariable('gh', float, ('runTime', 'level'))\n",
        "ghVar.long_name = \"Geopotential Height\"\n",
        "ghVar.units = \"m\"\n",
        "\n",
        "runTimeVar[:] = [init.timestamp() for init in atm.keys()]\n",
        "levelVar[:] = [level for init in atm.keys() for valid in atm[init].keys() for level in atm[init][valid].keys()]\n",
        "#validVar[:] = [valid.timestamp() for init in atm.keys() for valid in atm[init].keys()]\n",
        "\n",
        "#levelDim = []\n",
        "#for init in atm.keys():\n",
        "#  for valid in atm[init].keys():\n",
        "#    levelDim.append([layer for layer in atm[init][valid].keys()])\n",
        "\n",
        "#levelVar[:] = levelDim #[layer for init in atm.keys() for valid in atm[init].keys() for layer in atm[init][valid].keys()]"
      ],
      "metadata": {
        "id": "SGSevssp8gmx"
      },
      "execution_count": null,
      "outputs": []
    },
    {
      "cell_type": "code",
      "source": [
        "[layer for init in atm.keys() for valid in atm[init].keys() for layer in atm[init][valid].keys()]"
      ],
      "metadata": {
        "id": "wc8TjINBBTqE"
      },
      "execution_count": null,
      "outputs": []
    },
    {
      "cell_type": "markdown",
      "source": [
        "Create figure of model parameters"
      ],
      "metadata": {
        "id": "8ie-KHh0omRK"
      }
    },
    {
      "cell_type": "code",
      "source": [
        "atmFig = plt.figure(figsize=(10,8))\n",
        "tAx = atmFig.add_axes([0.1, 0.74, 0.8, 0.18])\n",
        "qAx = atmFig.add_axes([0.1, 0.51, 0.8, 0.18])\n",
        "uAx = atmFig.add_axes([0.1, 0.28, 0.8, 0.18])\n",
        "vAx = atmFig.add_axes([0.1, 0.05, 0.8, 0.18])\n",
        "\n",
        "atmLevel = 1000.0\n",
        "for runTime, run in zip(atm.keys(), atm.values()):\n",
        "  time = run.keys()\n",
        "  t = [atm[runTime][timestep][atmLevel][\"T\"] for timestep in time]\n",
        "  q = [atm[runTime][timestep][atmLevel][\"q\"] for timestep in time]\n",
        "  u = [atm[runTime][timestep][atmLevel][\"u\"] for timestep in time]\n",
        "  v = [atm[runTime][timestep][atmLevel][\"v\"] for timestep in time]\n",
        "\n",
        "  tAx.plot(time, t, color=\"red\")\n",
        "  qAx.plot(time, q, color=\"green\")\n",
        "  uAx.plot(time, u, color=\"blue\")\n",
        "  vAx.plot(time, v, color=\"purple\")\n",
        "\n",
        "tAx.scatter(atm.keys(), [atm[runTime][runTime][atmLevel][\"T\"] for runTime in atm.keys()], color=\"red\")\n",
        "qAx.scatter(atm.keys(), [atm[runTime][runTime][atmLevel][\"q\"] for runTime in atm.keys()], color=\"green\")\n",
        "uAx.scatter(atm.keys(), [atm[runTime][runTime][atmLevel][\"u\"] for runTime in atm.keys()], color=\"blue\")\n",
        "vAx.scatter(atm.keys(), [atm[runTime][runTime][atmLevel][\"v\"] for runTime in atm.keys()], color=\"purple\")\n",
        "\n",
        "tAx.set_ylabel(\"Temperature (K)\")\n",
        "qAx.set_ylabel(\"Specific humidity (kg/kg)\")\n",
        "uAx.set_ylabel(\"U Wind\\nComponent (m/s)\")\n",
        "vAx.set_ylabel(\"V Wind\\nComponent (m/s)\")\n",
        "\n",
        "atmFig.suptitle(f\"Atmosphere at {int(atmLevel)} hPa\")\n",
        "plt.savefig(f\"atmParameters_{int(atmLevel)}hPa{figureSuffix}.png\")\n",
        "plt.show()"
      ],
      "metadata": {
        "id": "hWuSXry-p7sd"
      },
      "execution_count": null,
      "outputs": []
    },
    {
      "cell_type": "code",
      "source": [
        "windDir = {}\n",
        "for runTime, run in zip(atm.keys(), atm.values()):\n",
        "  windDir[runTime] = {}\n",
        "  for time in run.keys():\n",
        "    windDir[runTime][time] = np.arctan(atm[runTime][time][atmLevel][\"u\"] / atm[runTime][time][atmLevel][\"v\"]) * (180/np.pi) + 180"
      ],
      "metadata": {
        "id": "VsAeuVqMzzd6"
      },
      "execution_count": null,
      "outputs": []
    },
    {
      "cell_type": "code",
      "source": [
        "oceFig = plt.figure(figsize=(10,8))\n",
        "tAx = oceFig.add_axes([0.1, 0.74, 0.8, 0.18])\n",
        "sAx = oceFig.add_axes([0.1, 0.51, 0.8, 0.18])\n",
        "uAx = oceFig.add_axes([0.1, 0.28, 0.8, 0.18])\n",
        "vAx = oceFig.add_axes([0.1, 0.05, 0.8, 0.18])\n",
        "\n",
        "oceLevel = 7.5\n",
        "for runTime, run in zip(oce.keys(), oce.values()):\n",
        "  time = run.keys()\n",
        "  t = [oce[runTime][timestep][oceLevel][\"T\"] for timestep in time]\n",
        "  s = [oce[runTime][timestep][oceLevel][\"s\"] for timestep in time]\n",
        "  u = [oce[runTime][timestep][oceLevel][\"u\"] for timestep in time]\n",
        "  v = [oce[runTime][timestep][oceLevel][\"v\"] for timestep in time]\n",
        "\n",
        "  tAx.plot(time, t, color=\"red\")\n",
        "  sAx.plot(time, s, color=\"green\")\n",
        "  uAx.plot(time, u, color=\"blue\")\n",
        "  vAx.plot(time, v, color=\"purple\")\n",
        "\n",
        "tAx.scatter(oce.keys(), [oce[runTime][runTime][oceLevel][\"T\"] for runTime in oce.keys()], color=\"red\")\n",
        "sAx.scatter(oce.keys(), [oce[runTime][runTime][oceLevel][\"s\"] for runTime in oce.keys()], color=\"green\")\n",
        "uAx.scatter(oce.keys(), [oce[runTime][runTime][oceLevel][\"u\"] for runTime in oce.keys()], color=\"blue\")\n",
        "vAx.scatter(oce.keys(), [oce[runTime][runTime][oceLevel][\"v\"] for runTime in oce.keys()], color=\"purple\")\n",
        "\n",
        "tAx.set_ylabel(\"Temperature (K)\")\n",
        "sAx.set_ylabel(\"Salinity (psu)\")\n",
        "uAx.set_ylabel(\"U Current\\nComponent (m/s)\")\n",
        "vAx.set_ylabel(\"V Current\\nComponent (m/s)\")\n",
        "\n",
        "oceFig.suptitle(f\"Ocean at {round(oceLevel,1)} m\")\n",
        "plt.savefig(f\"oceParameters_{int(oceLevel)}m{figureSuffix}.png\")\n",
        "plt.show()"
      ],
      "metadata": {
        "id": "qgnDqPKIwWZQ"
      },
      "execution_count": null,
      "outputs": []
    },
    {
      "cell_type": "code",
      "source": [
        "currDir = {}\n",
        "for runTime, run in zip(oce.keys(), oce.values()):\n",
        "  currDir[runTime] = {}\n",
        "  for time in run.keys():\n",
        "    currDir[runTime][time] = np.arctan(oce[runTime][time][oceLevel][\"u\"] / oce[runTime][time][oceLevel][\"v\"]) * (180/np.pi) + 180"
      ],
      "metadata": {
        "id": "YJmCkTCU3ZsB"
      },
      "execution_count": null,
      "outputs": []
    },
    {
      "cell_type": "code",
      "source": [
        "dirFig = plt.figure(figsize=(8,5))\n",
        "dirAx = dirFig.add_axes([0.1, 0.1, 0.8, 0.8])\n",
        "\n",
        "for runTime in windDir.keys():\n",
        "  dirAx.plot(windDir[runTime].keys(), windDir[runTime].values(), color=\"gold\")\n",
        "  dirAx.plot(currDir[runTime].keys(), currDir[runTime].values(), color=\"navy\")\n",
        "\n",
        "dirAx.scatter(windDir.keys(), [windDir[runTime][runTime] for runTime in windDir.keys()], color=\"gold\")\n",
        "dirAx.scatter(currDir.keys(), [currDir[runTime][runTime] for runTime in currDir.keys()], color=\"navy\")\n",
        "\n",
        "dirAx.set_ylabel(\"Direction (degrees)\")\n",
        "dirAx.set_xlabel(\"Time\")"
      ],
      "metadata": {
        "id": "rkwhs_fuz12v"
      },
      "execution_count": null,
      "outputs": []
    }
  ]
}