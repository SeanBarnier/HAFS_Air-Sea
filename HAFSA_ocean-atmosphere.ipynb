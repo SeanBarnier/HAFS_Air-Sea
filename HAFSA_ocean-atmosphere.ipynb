{
  "nbformat": 4,
  "nbformat_minor": 0,
  "metadata": {
    "colab": {
      "provenance": [],
      "authorship_tag": "ABX9TyN+NelCCeZ3Jct9WpuB2sc1",
      "include_colab_link": true
    },
    "kernelspec": {
      "name": "python3",
      "display_name": "Python 3"
    },
    "language_info": {
      "name": "python"
    }
  },
  "cells": [
    {
      "cell_type": "markdown",
      "metadata": {
        "id": "view-in-github",
        "colab_type": "text"
      },
      "source": [
        "<a href=\"https://colab.research.google.com/github/SeanBarnier/HAFS_Air-Sea/blob/main/HAFSA_ocean-atmosphere.ipynb\" target=\"_parent\"><img src=\"https://colab.research.google.com/assets/colab-badge.svg\" alt=\"Open In Colab\"/></a>"
      ]
    },
    {
      "cell_type": "markdown",
      "source": [
        "Set up environment"
      ],
      "metadata": {
        "id": "f592A_AhmfhP"
      }
    },
    {
      "cell_type": "code",
      "source": [
        "!pip install cfgrib\n",
        "!pip install cartopy\n",
        "!pip install tropycal"
      ],
      "metadata": {
        "id": "wDGgQBxjYusr",
        "collapsed": true
      },
      "execution_count": null,
      "outputs": []
    },
    {
      "cell_type": "code",
      "source": [
        "from tropycal import tracks, rain\n",
        "import xarray as xr\n",
        "import pandas as pd\n",
        "import matplotlib.pyplot as plt\n",
        "from datetime import datetime as dt\n",
        "import cfgrib\n",
        "import numpy as np\n",
        "import cartopy.crs as ccrs\n",
        "import cartopy.feature as cft"
      ],
      "metadata": {
        "id": "vWrr_30yZ4nh"
      },
      "execution_count": null,
      "outputs": []
    },
    {
      "cell_type": "code",
      "source": [
        "from google.colab import drive\n",
        "drive.mount('/content/drive')"
      ],
      "metadata": {
        "id": "6KsU8RFVmin5"
      },
      "execution_count": null,
      "outputs": []
    },
    {
      "cell_type": "markdown",
      "source": [
        "User parameters"
      ],
      "metadata": {
        "id": "XnkUgaLnLbuC"
      }
    },
    {
      "cell_type": "code",
      "source": [
        "name = \"Milton\"\n",
        "tcNum = \"14\"\n",
        "filepath = f\"/content/drive/MyDrive/ColabNotebooks/{name}\"\n",
        "trackType = \"\"\n",
        "\n",
        "centralTime = dt(year=2024, month=10, day=7, hour=6) #Time when Milton began its most rapid intensification\n",
        "daysBefore = 1 #Days before the focal point\n",
        "daysAfter = 2 #Days after focal point\n",
        "\n",
        "figureSuffix = \"_RI\""
      ],
      "metadata": {
        "id": "5mX9LiKtLeTX"
      },
      "execution_count": null,
      "outputs": []
    },
    {
      "cell_type": "markdown",
      "source": [
        "Get best track data and find interested point"
      ],
      "metadata": {
        "id": "f4C7bEjXNznh"
      }
    },
    {
      "cell_type": "code",
      "source": [
        "bt = pd.read_csv(filepath + \"/hurdat2_\" + name + trackType + \".csv\")\n",
        "\n",
        "centralTimeStr = centralTime.strftime(\"%Y-%m-%d %H:%M:%S\")\n",
        "point = (bt[bt.time == centralTimeStr].iloc[0].lat, bt[bt.time == centralTimeStr].iloc[0].lon)\n",
        "point"
      ],
      "metadata": {
        "id": "IwrrNNGhMYau"
      },
      "execution_count": null,
      "outputs": []
    },
    {
      "cell_type": "markdown",
      "source": [
        "Retrieve HAFS-A Data"
      ],
      "metadata": {
        "id": "5MU8O99TOZme"
      }
    },
    {
      "cell_type": "code",
      "source": [
        "dateFormat = \"%Y-%m-%d %H:%M:%S\"\n",
        "runFormat = \"%Y%m%d%H\"\n",
        "\n",
        "start = centralTime - pd.Timedelta(days=daysBefore)\n",
        "end = centralTime + pd.Timedelta(days=daysAfter)"
      ],
      "metadata": {
        "id": "N7EXfX8AgqHB"
      },
      "execution_count": null,
      "outputs": []
    },
    {
      "cell_type": "markdown",
      "source": [
        "Find times needed"
      ],
      "metadata": {
        "id": "aQjv2UVg4l65"
      }
    },
    {
      "cell_type": "code",
      "source": [
        "fcastTimes = {} #Key: initiation, item: Forecast Hour\n",
        "\n",
        "initTime = start\n",
        "while initTime <= end:\n",
        "  validTime = initTime\n",
        "  fcastTimes[initTime] = []\n",
        "\n",
        "  while validTime <= end:\n",
        "    fcastTimes[initTime].append(validTime)\n",
        "    validTime += pd.Timedelta(hours=3)\n",
        "\n",
        "  initTime += pd.Timedelta(hours=6)\n",
        "\n",
        "\"\"\"for row in tc.iloc:\n",
        "  fcastTimes[row.time] = []\n",
        "  rowTime = dt.strptime(row.time, dateFormat)\n",
        "  if rowTime.hour % 6 != 0 or rowTime.minute != 0: continue #Skip any lines that don't have a HAFS forecast at the same time\n",
        "\n",
        "  for fhour in range(0, 127, 3):\n",
        "    valid = rowTime + pd.Timedelta(hours=fhour)\n",
        "    if valid <= endDT:\n",
        "      fcastTimes[row.time].append(fhour)\"\"\""
      ],
      "metadata": {
        "collapsed": true,
        "id": "jdMyhDj94ij0"
      },
      "execution_count": null,
      "outputs": []
    },
    {
      "cell_type": "code",
      "source": [
        "len(fcastTimes)"
      ],
      "metadata": {
        "id": "A2qE1DaI5Max"
      },
      "execution_count": null,
      "outputs": []
    },
    {
      "cell_type": "markdown",
      "source": [
        "Get data from HAFS-A output."
      ],
      "metadata": {
        "id": "gJK0pEvc4ij2"
      }
    },
    {
      "cell_type": "code",
      "source": [
        "#Data storage structure: Run time, valid time, layer, variable\n",
        "amtVars = [\"T\", \"q\", \"u\", \"v\", \"gh\"]\n",
        "oceVars = [\"T\", \"s\", \"u\", \"v\"]\n",
        "\n",
        "atmFiles = []\n",
        "atm = {}\n",
        "oceFiles = []\n",
        "oce = {}"
      ],
      "metadata": {
        "id": "_4qJFbXFBzK4"
      },
      "execution_count": null,
      "outputs": []
    },
    {
      "cell_type": "code",
      "source": [
        "atmLayers = [1000, 925, 850, 700, 500] # in hPa\n",
        "oceLayers = [12.825, 24.895, 48.33, 98.75, 202.150] # In m. Values are directly from file. I don't know what these should be."
      ],
      "metadata": {
        "id": "nSPZ_yPqEe7x"
      },
      "execution_count": null,
      "outputs": []
    },
    {
      "cell_type": "code",
      "source": [
        "import xarray as xr\n",
        "oceURL = \"https://noaa-nws-hafs-pds.s3.amazonaws.com/hfsa/20241007/00/14l.2024100700.hfsa.mom6.f000.nc\"\n",
        "oceFile = \"oce_20241007_00_f000.nc\"\n",
        "!wget -O {oceFile} {oceURL}\n",
        "oceData = xr.open_dataset(oceFile, decode_times=False)\n",
        "oceData"
      ],
      "metadata": {
        "id": "uYQs_sS1FdrU"
      },
      "execution_count": null,
      "outputs": []
    },
    {
      "cell_type": "code",
      "source": [
        "atmURL = \"https://noaa-nws-hafs-pds.s3.amazonaws.com/hfsa/20241007/12/14l.2024100712.hfsa.storm.atm.f000.grb2\"\n",
        "atmFile = \"atm_20241007_12_f000.grb2\"\n",
        "#!wget -O {atmFile} {atmURL}\n",
        "atmData = xr.open_dataset(atmFile, engine=\"cfgrib\", decode_timedelta=True, filter_by_keys={'stepType': 'instant', 'typeOfLevel': 'isobaricInhPa'})\n",
        "atmData"
      ],
      "metadata": {
        "id": "XdRuQh97o2lI"
      },
      "execution_count": null,
      "outputs": []
    },
    {
      "cell_type": "code",
      "source": [
        "bucket = \"https://noaa-nws-hafs-pds.s3.amazonaws.com/hfsa/\"\n",
        "\n",
        "for init, validList in fcastTimes.items():\n",
        "\n",
        "  atm[init] = {}\n",
        "  oce[init] = {}\n",
        "\n",
        "  initDate, initHour = init.strftime(\"%Y%m%d_%H\").split(\"_\")\n",
        "\n",
        "  for valid in validList:\n",
        "\n",
        "    atm[init][valid] = {}\n",
        "    oce[init][valid] = {}\n",
        "\n",
        "    fhour = str(int((valid-init).total_seconds() / 3600))\n",
        "    while len(fhour) < 3: fhour = \"0\" + fhour\n",
        "\n",
        "    atmURL = bucket + initDate + \"/\" + initHour + \"/\" + tcNum + \"l.\" + initDate + initHour + \".hfsa.storm.atm.f\" + fhour + \".grb2\"\n",
        "    atmFile = \"atm_\" + initDate + \"_\" + initHour + \"_f\" + fhour + \".grb2\"\n",
        "    atmFiles.append(atmFile)\n",
        "\n",
        "    oceURL = bucket + initDate + \"/\" + initHour + \"/\" + tcNum + \"l.\" + initDate + initHour + \".hfsa.mom6.f\" + fhour + \".nc\"\n",
        "    oceFile = \"oce_\" + initDate + \"_\" + initHour + \"_f\" + fhour + \".nc\"\n",
        "    oceFiles.append(oceFile)\n",
        "\n",
        "    !wget -O {atmFile} {atmURL}\n",
        "    !wget -O {oceFile} {oceURL}\n",
        "\n",
        "    atmData = xr.open_dataset(atmFile, engine=\"cfgrib\", decode_timedelta=True, filter_by_keys={'stepType': 'instant', 'typeOfLevel': 'isobaricInhPa'})\n",
        "    oceData = xr.open_dataset(oceFile, decode_times=False)\n",
        "\n",
        "    #Longitude in atm files are in degrees east, but are -180 - 180 in oce files. point has them from -180 - 180\n",
        "    for layer in atmLayers:\n",
        "      validPoint = atmData.sel(latitude=point[0], longitude=point[1] + 360, isobaricInhPa=layer, method=\"nearest\")\n",
        "      atm[init][valid][layer] = {}\n",
        "      atm[init][valid][layer][\"T\"] = float(validPoint.t.data)\n",
        "      atm[init][valid][layer][\"q\"] = float(validPoint.q.data)\n",
        "      atm[init][valid][layer][\"u\"] = float(validPoint.u.data)\n",
        "      atm[init][valid][layer][\"v\"] = float(validPoint.v.data)\n",
        "      atm[init][valid][layer][\"gh\"] = float(validPoint.gh.data)\n",
        "\n",
        "    for layer in oceLayers:\n",
        "      oce[init][valid][layer] = {}\n",
        "      oce[init][valid][layer][\"T\"] = float(oceData.sel(yh=point[0], xh=point[1], z_l=layer, method=\"nearest\").temp.data) + 273.15 #This is potential temperature. Converted from C to K.\n",
        "      oce[init][valid][layer][\"s\"] = float(oceData.sel(yh=point[0], xh=point[1], z_l=layer, method=\"nearest\").so.data[0])\n",
        "      oce[init][valid][layer][\"u\"] = float(oceData.sel(yh=point[0], xq=point[1], z_l=layer, method=\"nearest\").uo.data[0])\n",
        "      oce[init][valid][layer][\"v\"] = float(oceData.sel(yq=point[0], xh=point[1], z_l=layer, method=\"nearest\").vo.data[0])\n",
        "\n",
        "    !rm {atmFile}\n",
        "    !rm {oceFile}"
      ],
      "metadata": {
        "collapsed": true,
        "id": "mU1HIzL_4ij2"
      },
      "execution_count": null,
      "outputs": []
    },
    {
      "cell_type": "code",
      "source": [
        "atm"
      ],
      "metadata": {
        "id": "6TY7VT0t8AbJ"
      },
      "execution_count": null,
      "outputs": []
    },
    {
      "cell_type": "code",
      "source": [
        "oce"
      ],
      "metadata": {
        "id": "LEkeoUw8BvuA"
      },
      "execution_count": null,
      "outputs": []
    }
  ]
}