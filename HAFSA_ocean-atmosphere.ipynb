{
  "nbformat": 4,
  "nbformat_minor": 0,
  "metadata": {
    "colab": {
      "provenance": [],
      "authorship_tag": "ABX9TyO2ScJn3hywVCtDxygH6+Kh",
      "include_colab_link": true
    },
    "kernelspec": {
      "name": "python3",
      "display_name": "Python 3"
    },
    "language_info": {
      "name": "python"
    }
  },
  "cells": [
    {
      "cell_type": "markdown",
      "metadata": {
        "id": "view-in-github",
        "colab_type": "text"
      },
      "source": [
        "<a href=\"https://colab.research.google.com/github/SeanBarnier/HAFS_Air-Sea/blob/main/HAFSA_ocean-atmosphere.ipynb\" target=\"_parent\"><img src=\"https://colab.research.google.com/assets/colab-badge.svg\" alt=\"Open In Colab\"/></a>"
      ]
    },
    {
      "cell_type": "markdown",
      "source": [
        "#Set up environment"
      ],
      "metadata": {
        "id": "f592A_AhmfhP"
      }
    },
    {
      "cell_type": "code",
      "source": [
        "!pip install cfgrib\n",
        "!pip install cartopy"
      ],
      "metadata": {
        "id": "wDGgQBxjYusr",
        "collapsed": true
      },
      "execution_count": null,
      "outputs": []
    },
    {
      "cell_type": "code",
      "source": [
        "!sudo apt install aria2"
      ],
      "metadata": {
        "id": "ra6QPuljGkzT",
        "collapsed": true
      },
      "execution_count": null,
      "outputs": []
    },
    {
      "cell_type": "code",
      "source": [
        "import xarray as xr\n",
        "import pandas as pd\n",
        "import numpy as np\n",
        "import matplotlib.pyplot as plt\n",
        "from datetime import datetime as dt\n",
        "import cfgrib\n",
        "import cartopy.crs as ccrs\n",
        "import cartopy.feature as cft\n",
        "import subprocess as sp"
      ],
      "metadata": {
        "id": "vWrr_30yZ4nh"
      },
      "execution_count": null,
      "outputs": []
    },
    {
      "cell_type": "code",
      "source": [
        "from google.colab import drive\n",
        "drive.mount('/content/drive')"
      ],
      "metadata": {
        "id": "6KsU8RFVmin5"
      },
      "execution_count": null,
      "outputs": []
    },
    {
      "cell_type": "markdown",
      "source": [
        "#User parameters"
      ],
      "metadata": {
        "id": "XnkUgaLnLbuC"
      }
    },
    {
      "cell_type": "code",
      "source": [
        "name = \"Milton\"\n",
        "tcNum = \"14\"\n",
        "trackType = \"\"\n",
        "\n",
        "centralTime = dt(year=2024, month=10, day=7, hour=6) #Time when Milton began its most rapid intensification\n",
        "daysBefore = 1 #Days before the focal point\n",
        "daysAfter = 2 #Days after focal point\n",
        "\n",
        "fHourStep = 3 #Normally 3 for HAFS-A\n",
        "forecastLength = 63 #Normally 126 for HAFS-A. Changeable for testing.\n",
        "runStep = 12 #Normally 6 for HAFS-A\n",
        "\n",
        "figureSuffix = \"_RI\"\n",
        "subfolder = \"RITest/\"\n",
        "dataPath = \"/content/drive/MyDrive/savedData/\"\n",
        "figurePath = \"/content/drive/MyDrive/figures/\"\n",
        "\n",
        "stormCentered = False\n",
        "if stormCentered: figureSuffix += \"_SC\""
      ],
      "metadata": {
        "id": "5mX9LiKtLeTX"
      },
      "execution_count": null,
      "outputs": []
    },
    {
      "cell_type": "markdown",
      "source": [
        "Get ATCF data and find interested point"
      ],
      "metadata": {
        "id": "f4C7bEjXNznh"
      }
    },
    {
      "cell_type": "code",
      "source": [
        "cols = [\"BASIN\", \"CY\", \"YYYYMMDDHH\", \"TECHNUM/MIN\", \"TECH\", \"TAU\", \"LatN/S\", \"LonE/W\",\n",
        "    \"VMAX\", \"MSLP\", \"TY\", \"RAD\", \"WINDCODE\", \"RAD1\", \"RAD2\", \"RAD3\", \"RAD4\",\n",
        "    \"POUTER\", \"ROUTER\", \"RMW\", \"GUSTS\", \"EYE\", \"SUBREGION\", \"MAXSEAS\", \"INITIALS\",\n",
        "    \"DIR\", \"SPEED\", \"STORMNAME\", \"DEPTH\", \"SEAS\", \"SEASCODE\", \"SEAS1\", \"SEAS2\",\n",
        "    \"SEAS3\", \"SEAS4\", \"USERDEFINED1\", \"Thermo1\", \"Thermo2\", \"Thermo3\", \"Thermo4\",\n",
        "    \"Thermo5\", \"Thermo6\", \"Thermo7\", \"USERDEFINED2\", \"DT\", \"SHR82\", \"SHR81_1\",\n",
        "    \"SHR82_2\",  \"USERDEFINED3\", \"SST\", \"USERDEFINED4\", \"ARMW1\", \"ARMW2\"]\n",
        "\n",
        "ctStr = centralTime.strftime(\"%Y%m%d\")\n",
        "ctHour = centralTime.strftime(\"%H\")\n",
        "\n",
        "atcfURL = f\"https://noaa-nws-hafs-pds.s3.amazonaws.com/hfsa/{ctStr}/{ctHour}/{tcNum}l.{ctStr}{ctHour}.hfsa.trak.atcfunix\"\n",
        "atcfFile = \"atcf_\" + ctStr + \"_\" + ctHour + \".csv\"\n",
        "\n",
        "!wget -O {atcfFile} {atcfURL}\n",
        "atcf = pd.read_csv(atcfFile, names=cols)"
      ],
      "metadata": {
        "id": "yO6jA18GOCVi"
      },
      "execution_count": null,
      "outputs": []
    },
    {
      "cell_type": "code",
      "source": [
        "pointLat = int(atcf[atcf.TAU==0][\"LatN/S\"].iloc[0].replace(\"N\", \"\"))/10\n",
        "pointLon = int(atcf[atcf.TAU==0][\"LonE/W\"].iloc[0].replace(\"W\", \"\"))/-10 #Assume western hemisphere\n",
        "\n",
        "point = (pointLat, pointLon)\n",
        "point"
      ],
      "metadata": {
        "id": "XsN35gjqgSjr"
      },
      "execution_count": null,
      "outputs": []
    },
    {
      "cell_type": "markdown",
      "source": [
        "#Retrieve HAFS-A Data"
      ],
      "metadata": {
        "id": "5MU8O99TOZme"
      }
    },
    {
      "cell_type": "code",
      "source": [
        "dateFormat = \"%Y-%m-%d %H:%M:%S\"\n",
        "runFormat = \"%Y%m%d%H\"\n",
        "\n",
        "start = centralTime - pd.Timedelta(days=daysBefore)\n",
        "end = centralTime + pd.Timedelta(days=daysAfter)"
      ],
      "metadata": {
        "id": "N7EXfX8AgqHB"
      },
      "execution_count": null,
      "outputs": []
    },
    {
      "cell_type": "markdown",
      "source": [
        "Find times needed"
      ],
      "metadata": {
        "id": "aQjv2UVg4l65"
      }
    },
    {
      "cell_type": "code",
      "source": [
        "fcastTimes = {} #Key: initiation, item: valid time list\n",
        "\n",
        "initTime = start\n",
        "while initTime <= end:\n",
        "  validTime = initTime\n",
        "  fcastTimes[initTime] = []\n",
        "  fhour = 0\n",
        "\n",
        "  while validTime <= end and fhour <= forecastLength:\n",
        "    fcastTimes[initTime].append(validTime)\n",
        "    validTime += pd.Timedelta(hours=fHourStep)\n",
        "    fhour += fHourStep\n",
        "\n",
        "  initTime += pd.Timedelta(hours=runStep)"
      ],
      "metadata": {
        "collapsed": true,
        "id": "jdMyhDj94ij0"
      },
      "execution_count": null,
      "outputs": []
    },
    {
      "cell_type": "markdown",
      "source": [
        "Find storm location in HAFS-A from ATCF files. Used to find along-storm profile."
      ],
      "metadata": {
        "id": "bNcDi6valX_j"
      }
    },
    {
      "cell_type": "code",
      "source": [
        "tcLocs = {}\n",
        "\n",
        "for init, validList in fcastTimes.items():\n",
        "  tcLocs[init] = {}\n",
        "  initStr, initHour = init.strftime(\"%Y%m%d_%H\").split(\"_\")\n",
        "\n",
        "  atcfURL = f\"https://noaa-nws-hafs-pds.s3.amazonaws.com/hfsa/{initStr}/{initHour}/{tcNum}l.{initStr}{initHour}.hfsa.trak.atcfunix\"\n",
        "  atcfFile = \"atcf_\" + ctStr + \"_\" + ctHour + \".csv\"\n",
        "\n",
        "  !wget -O {atcfFile} {atcfURL}\n",
        "  atcf = pd.read_csv(atcfFile, names=cols)\n",
        "\n",
        "  for valid in validList:\n",
        "    fHour = int((valid-init).total_seconds() / 3600)\n",
        "\n",
        "    pointLat = int(atcf[atcf.TAU==fHour][\"LatN/S\"].iloc[0].replace(\"N\", \"\"))/10\n",
        "    pointLon = int(atcf[atcf.TAU==fHour][\"LonE/W\"].iloc[0].replace(\"W\", \"\"))/-10 #Assume western hemisphere\n",
        "    tcLocs[init][valid] = (pointLat, pointLon)"
      ],
      "metadata": {
        "id": "M2-eqEmxlXw3"
      },
      "execution_count": null,
      "outputs": []
    },
    {
      "cell_type": "markdown",
      "source": [
        "Get data from HAFS-A output."
      ],
      "metadata": {
        "id": "gJK0pEvc4ij2"
      }
    },
    {
      "cell_type": "code",
      "source": [
        "fcastTimes"
      ],
      "metadata": {
        "id": "shDZE46zc2y8"
      },
      "execution_count": null,
      "outputs": []
    },
    {
      "cell_type": "code",
      "source": [
        "atm = {}\n",
        "\n",
        "for init, validList in fcastTimes.items():\n",
        "\n",
        "  atm[init] = {}\n",
        "  initTime = init.strftime(\"%Y%m%d%H\")\n",
        "\n",
        "  for valid in validList:\n",
        "    atm[init][valid] = {}\n",
        "\n",
        "    fhour = str(int((valid-init).total_seconds() / 3600))\n",
        "    while len(fhour) < 3: fhour = \"0\" + fhour\n",
        "\n",
        "    atmFile = \"hafsa_\" + initTime + \"_f\" + fhour + \".nc\"\n",
        "    atmPath = dataPath + \"hafsaOutput/\" + subfolder + atmFile\n",
        "    atmData = xr.open_dataset(atmPath)\n",
        "\n",
        "    if stormCentered: point = tcLocs[init][valid]\n",
        "\n",
        "    for layer in atmData.isobaricInhPa.data:\n",
        "      #Longitude in atm files are in degrees east, but are -180 - 180 in oce files. point has them from -180 - 180\n",
        "      validPoint = atmData.sel(latitude=point[0], longitude=point[1] + 360, isobaricInhPa=layer, method=\"nearest\")\n",
        "\n",
        "      atm[init][valid][layer] = {}\n",
        "      atm[init][valid][layer][\"T\"] = float(validPoint.t.data)\n",
        "      atm[init][valid][layer][\"q\"] = float(validPoint.q.data) * 1000 #Convert from kg/kg to g/kg\n",
        "      atm[init][valid][layer][\"u\"] = float(validPoint.u.data)\n",
        "      atm[init][valid][layer][\"v\"] = float(validPoint.v.data)\n",
        "      atm[init][valid][layer][\"gh\"] = float(validPoint.gh.data)"
      ],
      "metadata": {
        "collapsed": true,
        "id": "mU1HIzL_4ij2"
      },
      "execution_count": null,
      "outputs": []
    },
    {
      "cell_type": "code",
      "source": [
        "atm"
      ],
      "metadata": {
        "id": "erJHxFVmc709"
      },
      "execution_count": null,
      "outputs": []
    },
    {
      "cell_type": "code",
      "source": [
        "oce = {}\n",
        "\n",
        "for init, validList in fcastTimes.items():\n",
        "\n",
        "  oce[init] = {}\n",
        "  initTime = init.strftime(\"%Y%m%d%H\")\n",
        "\n",
        "  for valid in validList:\n",
        "    oce[init][valid] = {}\n",
        "\n",
        "    fhour = str(int((valid-init).total_seconds() / 3600))\n",
        "    while len(fhour) < 3: fhour = \"0\" + fhour\n",
        "\n",
        "    #oceURL = bucket + initDate + \"/\" + initHour + \"/\" + tcNum + \"l.\" + initDate + initHour + \".hfsa.mom6.f\" + fhour + \".nc\"\n",
        "    oceFile = \"mom6_\" + initTime + \"_f\" + fhour + \".nc\"\n",
        "    ocePath = dataPath + \"mom6Output/\" + subfolder + oceFile\n",
        "    oceData = xr.open_dataset(ocePath, decode_times=False)\n",
        "\n",
        "    if stormCentered: point = tcLocs[init][valid]\n",
        "\n",
        "    for layer in oceData.z_l.data:\n",
        "      oce[init][valid][layer] = {}\n",
        "      oce[init][valid][layer][\"T\"] = float(oceData.sel(yq=point[0], yh=point[0], xh=point[1], xq=point[1], z_l=layer, method=\"nearest\").temp.data) + 273.15 #This is potential temperature. Converted from C to K.\n",
        "      oce[init][valid][layer][\"s\"] = float(oceData.sel(yq=point[0], yh=point[0], xh=point[1], xq=point[1], z_l=layer, method=\"nearest\").so.data)\n",
        "      oce[init][valid][layer][\"u\"] = float(oceData.sel(yq=point[0], yh=point[0], xh=point[1], xq=point[1], z_l=layer, method=\"nearest\").uo.data)\n",
        "      oce[init][valid][layer][\"v\"] = float(oceData.sel(yq=point[0], yh=point[0], xh=point[1], xq=point[1], z_l=layer, method=\"nearest\").vo.data)"
      ],
      "metadata": {
        "collapsed": true,
        "id": "VZXxVJfcV7Zl"
      },
      "execution_count": null,
      "outputs": []
    },
    {
      "cell_type": "code",
      "source": [
        "oce"
      ],
      "metadata": {
        "id": "LEkeoUw8BvuA",
        "collapsed": true
      },
      "execution_count": null,
      "outputs": []
    },
    {
      "cell_type": "markdown",
      "source": [
        "Create figure of model parameters"
      ],
      "metadata": {
        "id": "8ie-KHh0omRK"
      }
    },
    {
      "cell_type": "code",
      "source": [
        "atmFig = plt.figure(figsize=(10,8))\n",
        "tAx = atmFig.add_axes([0.1, 0.74, 0.8, 0.18])\n",
        "qAx = atmFig.add_axes([0.1, 0.51, 0.8, 0.18])\n",
        "uAx = atmFig.add_axes([0.1, 0.28, 0.8, 0.18])\n",
        "vAx = atmFig.add_axes([0.1, 0.05, 0.8, 0.18])\n",
        "\n",
        "atmLevel = 1000.0\n",
        "for runTime, run in zip(atm.keys(), atm.values()):\n",
        "  time = run.keys()\n",
        "  t = [atm[runTime][timestep][atmLevel][\"T\"] for timestep in time]\n",
        "  q = [atm[runTime][timestep][atmLevel][\"q\"] for timestep in time]\n",
        "  u = [atm[runTime][timestep][atmLevel][\"u\"] for timestep in time]\n",
        "  v = [atm[runTime][timestep][atmLevel][\"v\"] for timestep in time]\n",
        "\n",
        "  tAx.plot(time, t, color=\"red\")\n",
        "  qAx.plot(time, q, color=\"green\")\n",
        "  uAx.plot(time, u, color=\"blue\")\n",
        "  vAx.plot(time, v, color=\"purple\")\n",
        "\n",
        "tAx.scatter(atm.keys(), [atm[runTime][runTime][atmLevel][\"T\"] for runTime in atm.keys()], color=\"red\")\n",
        "qAx.scatter(atm.keys(), [atm[runTime][runTime][atmLevel][\"q\"] for runTime in atm.keys()], color=\"green\")\n",
        "uAx.scatter(atm.keys(), [atm[runTime][runTime][atmLevel][\"u\"] for runTime in atm.keys()], color=\"blue\")\n",
        "vAx.scatter(atm.keys(), [atm[runTime][runTime][atmLevel][\"v\"] for runTime in atm.keys()], color=\"purple\")\n",
        "\n",
        "tAx.set_ylabel(\"Temperature (K)\")\n",
        "qAx.set_ylabel(\"Specific humidity (g/kg)\")\n",
        "uAx.set_ylabel(\"U Wind\\nComponent (m/s)\")\n",
        "vAx.set_ylabel(\"V Wind\\nComponent (m/s)\")\n",
        "\n",
        "atmFig.suptitle(f\"Atmosphere at {int(atmLevel)} hPa\")\n",
        "plt.savefig(f\"atmParameters_{int(atmLevel)}hPa{figureSuffix}.png\")\n",
        "plt.show()"
      ],
      "metadata": {
        "id": "hWuSXry-p7sd"
      },
      "execution_count": null,
      "outputs": []
    },
    {
      "cell_type": "code",
      "source": [
        "oceFig = plt.figure(figsize=(10,8))\n",
        "tAx = oceFig.add_axes([0.1, 0.74, 0.8, 0.18])\n",
        "sAx = oceFig.add_axes([0.1, 0.51, 0.8, 0.18])\n",
        "uAx = oceFig.add_axes([0.1, 0.28, 0.8, 0.18])\n",
        "vAx = oceFig.add_axes([0.1, 0.05, 0.8, 0.18])\n",
        "\n",
        "oceLevel = 7.5\n",
        "for runTime, run in zip(oce.keys(), oce.values()):\n",
        "  time = run.keys()\n",
        "  t = [oce[runTime][timestep][oceLevel][\"T\"] for timestep in time]\n",
        "  s = [oce[runTime][timestep][oceLevel][\"s\"] for timestep in time]\n",
        "  u = [oce[runTime][timestep][oceLevel][\"u\"] for timestep in time]\n",
        "  v = [oce[runTime][timestep][oceLevel][\"v\"] for timestep in time]\n",
        "\n",
        "  tAx.plot(time, t, color=\"red\")\n",
        "  sAx.plot(time, s, color=\"green\")\n",
        "  uAx.plot(time, u, color=\"blue\")\n",
        "  vAx.plot(time, v, color=\"purple\")\n",
        "\n",
        "tAx.scatter(oce.keys(), [oce[runTime][runTime][oceLevel][\"T\"] for runTime in oce.keys()], color=\"red\")\n",
        "sAx.scatter(oce.keys(), [oce[runTime][runTime][oceLevel][\"s\"] for runTime in oce.keys()], color=\"green\")\n",
        "uAx.scatter(oce.keys(), [oce[runTime][runTime][oceLevel][\"u\"] for runTime in oce.keys()], color=\"blue\")\n",
        "vAx.scatter(oce.keys(), [oce[runTime][runTime][oceLevel][\"v\"] for runTime in oce.keys()], color=\"purple\")\n",
        "\n",
        "tAx.set_ylabel(\"Potential Temperature (K)\")\n",
        "sAx.set_ylabel(\"Salinity (psu)\")\n",
        "uAx.set_ylabel(\"U Current\\nComponent (m/s)\")\n",
        "vAx.set_ylabel(\"V Current\\nComponent (m/s)\")\n",
        "\n",
        "oceFig.suptitle(f\"Ocean at {round(oceLevel,1)} m\")\n",
        "plt.savefig(f\"oceParameters_{int(oceLevel)}m{figureSuffix}.png\")\n",
        "plt.show()"
      ],
      "metadata": {
        "id": "qgnDqPKIwWZQ"
      },
      "execution_count": null,
      "outputs": []
    },
    {
      "cell_type": "markdown",
      "source": [
        "Profiles"
      ],
      "metadata": {
        "id": "hd9_GtqUmHlI"
      }
    },
    {
      "cell_type": "code",
      "source": [
        "profFig = plt.figure(figsize=(10,10))\n",
        "oceAx = profFig.add_axes([0.1, 0.1, 0.64, 0.4])\n",
        "oceAx.invert_yaxis()\n",
        "atmAx = profFig.add_axes([0.1, 0.5, 0.8, 0.4])\n",
        "atmAx.invert_yaxis()\n",
        "\n",
        "var = \"T\"\n",
        "levs = np.arange(280,311,2.5)\n",
        "\n",
        "for runTime, run in zip(list(oce.keys())[:-1], oce.values()): #Cannot plot last run because it only has one valid time\n",
        "  time = list(run)\n",
        "  ocez = list(oce[runTime][time[0]].keys()) #Should be the same for every timestep\n",
        "  oceT = [[oce[runTime][timestep][level][var] for timestep in time] for level in ocez]\n",
        "\n",
        "  oceAx.contourf(time, ocez, oceT, cmap=\"coolwarm\", levels=levs)\n",
        "  oceAx.plot([runTime]*len(ocez), ocez, color=\"black\", linestyle=\"--\")\n",
        "\n",
        "  atmz = list(atm[runTime][time[0]].keys()) #Should be the same for every timestep\n",
        "  atmT = [[atm[runTime][timestep][level][var] for timestep in time] for level in atmz]\n",
        "\n",
        "  contour = atmAx.contourf(time, atmz, atmT, cmap=\"coolwarm\", levels=levs)\n",
        "  atmAx.plot([runTime]*len(atmz), atmz, color=\"black\", linestyle=\"--\")\n",
        "\n",
        "oceAx.set_xlabel(\"Time\")\n",
        "oceAx.set_ylabel(\"Depth (m)\")\n",
        "atmAx.set_ylabel(\"Pressure (hPa)\")\n",
        "atmAx.set_xticklabels([])\n",
        "\n",
        "profFig.colorbar(contour, label=\"Temperature (K)\", ticks=levs)\n",
        "plt.savefig(f\"{var}profile{figureSuffix}.png\")\n",
        "plt.show()"
      ],
      "metadata": {
        "id": "huyUUjaY02YC"
      },
      "execution_count": null,
      "outputs": []
    },
    {
      "cell_type": "code",
      "source": [
        "profFig = plt.figure(figsize=(10,10))\n",
        "oceAx = profFig.add_axes([0.1, 0.1, 0.8, 0.4])\n",
        "oceAx.invert_yaxis()\n",
        "atmAx = profFig.add_axes([0.1, 0.5, 0.8, 0.4])\n",
        "atmAx.invert_yaxis()\n",
        "\n",
        "var = \"qs\"\n",
        "\n",
        "for runTime, run in zip(list(oce.keys())[:-1], oce.values()): #Cannot plot last run because it only has one valid time\n",
        "  time = list(run)\n",
        "  ocez = list(oce[runTime][time[0]].keys()) #Should be the same for every timestep\n",
        "  oceT = [[oce[runTime][timestep][level][\"s\"] for timestep in time] for level in ocez]\n",
        "\n",
        "  oceContour = oceAx.contourf(time, ocez, oceT, cmap=\"viridis\", levels=np.arange(35,37.1,0.2))\n",
        "  oceAx.plot([runTime]*len(ocez), ocez, color=\"black\", linestyle=\"--\")\n",
        "\n",
        "  atmz = list(atm[runTime][time[0]].keys()) #Should be the same for every timestep\n",
        "  atmT = [[atm[runTime][timestep][level][\"q\"] for timestep in time] for level in atmz]\n",
        "\n",
        "  atmContour = atmAx.contourf(time, atmz, atmT, cmap=\"viridis\", levels=np.arange(3,25,2))\n",
        "  atmAx.plot([runTime]*len(atmz), atmz, color=\"black\", linestyle=\"--\")\n",
        "\n",
        "oceAx.set_xlabel(\"Time\")\n",
        "oceAx.set_ylabel(\"Depth (m)\")\n",
        "atmAx.set_ylabel(\"Pressure (hPa)\")\n",
        "atmAx.set_xticklabels([])\n",
        "\n",
        "profFig.colorbar(oceContour, ax=oceAx, label=\"Salinity (psu)\", ticks=np.arange(34,37.1,0.2))\n",
        "profFig.colorbar(atmContour, ax=atmAx, label=\"Specific Humidity (g/kg)\", ticks=np.arange(3,25,2))\n",
        "plt.savefig(f\"{var}profile{figureSuffix}.png\")\n",
        "plt.show()"
      ],
      "metadata": {
        "id": "SteGbh7LkibQ"
      },
      "execution_count": null,
      "outputs": []
    },
    {
      "cell_type": "code",
      "source": [
        "profFig = plt.figure(figsize=(10,10))\n",
        "oceAx = profFig.add_axes([0.1, 0.1, 0.8, 0.4])\n",
        "oceAx.invert_yaxis()\n",
        "atmAx = profFig.add_axes([0.1, 0.5, 0.8, 0.4])\n",
        "atmAx.invert_yaxis()\n",
        "\n",
        "var = \"u\"\n",
        "\n",
        "for runTime, run in zip(list(oce.keys())[:-1], oce.values()): #Cannot plot last run because it only has one valid time\n",
        "  time = list(run)\n",
        "  ocez = list(oce[runTime][time[0]].keys()) #Should be the same for every timestep\n",
        "  oceT = [[oce[runTime][timestep][level][var] for timestep in time] for level in ocez]\n",
        "\n",
        "  oceContour = oceAx.contourf(time, ocez, oceT, cmap=\"cividis\", levels=np.arange(-1,1.1,0.2))\n",
        "  oceAx.plot([runTime]*len(ocez), ocez, color=\"black\", linestyle=\"--\")\n",
        "\n",
        "  atmz = list(atm[runTime][time[0]].keys()) #Should be the same for every timestep\n",
        "  atmT = [[atm[runTime][timestep][level][var] for timestep in time] for level in atmz]\n",
        "\n",
        "  atmContour = atmAx.contourf(time, atmz, atmT, cmap=\"cividis\", levels=np.arange(-30,31,5))\n",
        "  atmAx.plot([runTime]*len(atmz), atmz, color=\"black\", linestyle=\"--\")\n",
        "\n",
        "oceAx.set_xlabel(\"Time\")\n",
        "oceAx.set_ylabel(\"Depth (m)\")\n",
        "atmAx.set_ylabel(\"Pressure (hPa)\")\n",
        "atmAx.set_xticklabels([])\n",
        "\n",
        "profFig.colorbar(oceContour, ax=oceAx, label=\"U Component\\nof Current (m/s)\", ticks=np.arange(-1,1.1,0.2))\n",
        "profFig.colorbar(atmContour, ax=atmAx, label=\"U Component\\nof Wind (m/s)\", ticks=np.arange(-25,31,5))\n",
        "plt.savefig(f\"{var}profile{figureSuffix}.png\")\n",
        "plt.show()"
      ],
      "metadata": {
        "id": "K3rkcfxxg3Go"
      },
      "execution_count": null,
      "outputs": []
    },
    {
      "cell_type": "code",
      "source": [
        "profFig = plt.figure(figsize=(10,10))\n",
        "oceAx = profFig.add_axes([0.1, 0.1, 0.8, 0.4])\n",
        "oceAx.invert_yaxis()\n",
        "atmAx = profFig.add_axes([0.1, 0.5, 0.8, 0.4])\n",
        "atmAx.invert_yaxis()\n",
        "\n",
        "var = \"v\"\n",
        "\n",
        "for runTime, run in zip(list(oce.keys())[:-1], oce.values()): #Cannot plot last run because it only has one valid time\n",
        "  time = list(run)\n",
        "  ocez = list(oce[runTime][time[0]].keys()) #Should be the same for every timestep\n",
        "  oceT = [[oce[runTime][timestep][level][var] for timestep in time] for level in ocez]\n",
        "\n",
        "  oceContour = oceAx.contourf(time, ocez, oceT, cmap=\"cividis\", levels=np.arange(-1,1.1,0.2))\n",
        "  oceAx.plot([runTime]*len(ocez), ocez, color=\"black\", linestyle=\"--\")\n",
        "\n",
        "  atmz = list(atm[runTime][time[0]].keys()) #Should be the same for every timestep\n",
        "  atmT = [[atm[runTime][timestep][level][var] for timestep in time] for level in atmz]\n",
        "\n",
        "  atmContour = atmAx.contourf(time, atmz, atmT, cmap=\"cividis\", levels=np.arange(-30,31,5))\n",
        "  atmAx.plot([runTime]*len(atmz), atmz, color=\"black\", linestyle=\"--\")\n",
        "\n",
        "oceAx.set_xlabel(\"Time\")\n",
        "oceAx.set_ylabel(\"Depth (m)\")\n",
        "atmAx.set_ylabel(\"Pressure (hPa)\")\n",
        "atmAx.set_xticklabels([])\n",
        "\n",
        "profFig.colorbar(oceContour, ax=oceAx, label=\"V Component\\nof Current (m/s)\", ticks=np.arange(-1,1.1,0.2))\n",
        "profFig.colorbar(atmContour, ax=atmAx, label=\"V Component\\nof Wind (m/s)\", ticks=np.arange(-25,31,5))\n",
        "plt.savefig(f\"{var}profile{figureSuffix}.png\")\n",
        "plt.show()"
      ],
      "metadata": {
        "id": "1bkkglvMj2hY"
      },
      "execution_count": null,
      "outputs": []
    },
    {
      "cell_type": "markdown",
      "source": [
        "# Correlations"
      ],
      "metadata": {
        "id": "ARZGbDUGGOZR"
      }
    },
    {
      "cell_type": "markdown",
      "source": [
        "Atmosphere has 13 levels, ocean has 28"
      ],
      "metadata": {
        "id": "1kkXtjOhG_Ji"
      }
    },
    {
      "cell_type": "code",
      "source": [
        "atmVar = \"T\"\n",
        "oceVar = \"T\"\n",
        "atmLev = 1000.0\n",
        "cors = {}\n",
        "\n",
        "for init, validList in fcastTimes.items():\n",
        "  cors[init] = {}\n",
        "\n",
        "  #atmLevs = list(atm[init][validList[0]].keys())\n",
        "  oceLevs = list(oce[init][validList[0]].keys())\n",
        "\n",
        "  atmLevData = [[float(atm[init][valid][atmLev][atmVar]) for valid in validList]] #Rows: time, Columns: levels\n",
        "  oceLevData = [[float(oce[init][valid][lv][oceVar]) for valid in validList] for lv in oceLevs]\n",
        "\n",
        "  cor = np.corrcoef(atmLevData + oceLevData, rowvar=False) #Correlation across entire atmosphere and ocean\n",
        "  cors[init] = cor"
      ],
      "metadata": {
        "id": "z_cQz0wxJagI"
      },
      "execution_count": null,
      "outputs": []
    },
    {
      "cell_type": "code",
      "source": [
        "#ax = [atmLev] + oceLevs\n",
        "plt.imshow(cors[list(cors.keys())[0]])"
      ],
      "metadata": {
        "id": "9Frm6gI8PIXy"
      },
      "execution_count": null,
      "outputs": []
    },
    {
      "cell_type": "code",
      "source": [
        "help(np.corrcoef)"
      ],
      "metadata": {
        "id": "5_7zuStuI9QF"
      },
      "execution_count": null,
      "outputs": []
    }
  ]
}