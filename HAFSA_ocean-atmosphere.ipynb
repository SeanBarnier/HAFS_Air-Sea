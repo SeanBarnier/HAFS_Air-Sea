{
  "nbformat": 4,
  "nbformat_minor": 0,
  "metadata": {
    "colab": {
      "provenance": [],
      "authorship_tag": "ABX9TyPzZNH9VMV8Mpf4v5LhFI27",
      "include_colab_link": true
    },
    "kernelspec": {
      "name": "python3",
      "display_name": "Python 3"
    },
    "language_info": {
      "name": "python"
    }
  },
  "cells": [
    {
      "cell_type": "markdown",
      "metadata": {
        "id": "view-in-github",
        "colab_type": "text"
      },
      "source": [
        "<a href=\"https://colab.research.google.com/github/SeanBarnier/HAFS_Air-Sea/blob/main/HAFSA_ocean-atmosphere.ipynb\" target=\"_parent\"><img src=\"https://colab.research.google.com/assets/colab-badge.svg\" alt=\"Open In Colab\"/></a>"
      ]
    },
    {
      "cell_type": "markdown",
      "source": [
        "#Set up environment"
      ],
      "metadata": {
        "id": "f592A_AhmfhP"
      }
    },
    {
      "cell_type": "code",
      "source": [
        "!pip install cfgrib"
      ],
      "metadata": {
        "id": "wDGgQBxjYusr",
        "collapsed": true
      },
      "execution_count": null,
      "outputs": []
    },
    {
      "cell_type": "code",
      "source": [
        "import xarray as xr\n",
        "import pandas as pd\n",
        "import numpy as np\n",
        "import matplotlib.pyplot as plt\n",
        "from datetime import datetime as dt\n",
        "import cfgrib"
      ],
      "metadata": {
        "id": "vWrr_30yZ4nh"
      },
      "execution_count": null,
      "outputs": []
    },
    {
      "cell_type": "code",
      "source": [
        "from google.colab import drive\n",
        "drive.mount('/content/drive')"
      ],
      "metadata": {
        "id": "6KsU8RFVmin5"
      },
      "execution_count": null,
      "outputs": []
    },
    {
      "cell_type": "markdown",
      "source": [
        "#User parameters"
      ],
      "metadata": {
        "id": "XnkUgaLnLbuC"
      }
    },
    {
      "cell_type": "code",
      "source": [
        "name = \"Milton\"\n",
        "tcNum = \"14\"\n",
        "trackType = \"\"\n",
        "\n",
        "centralTime = dt(year=2024, month=10, day=7, hour=6) #Time when Milton began its most rapid intensification\n",
        "daysBefore = 0 #Days before the focal point\n",
        "daysAfter = 0 #Days after focal point\n",
        "\n",
        "fHourStep = 3       #Normally 3 for HAFS-A\n",
        "forecastLength = 54 #Normally 126 for HAFS-A.\n",
        "runStep = 6         #Normally 6 for HAFS-A\n",
        "\n",
        "figureSuffix = \"_RI\"\n",
        "subfolder = \"RI/\"\n",
        "dataPath = \"/content/drive/MyDrive/savedData/\"\n",
        "figurePath = \"/content/drive/MyDrive/figures/\"\n",
        "\n",
        "stormCentered = True\n",
        "if stormCentered: figureSuffix += \"_SC\"\n",
        "\n",
        "potentialTemp = True #Use atmospheric potential temperature instead of in-situ temperature\n",
        "\n",
        "atmTop = 850\n",
        "oceFloor = 100"
      ],
      "metadata": {
        "id": "5mX9LiKtLeTX"
      },
      "execution_count": null,
      "outputs": []
    },
    {
      "cell_type": "markdown",
      "source": [
        "Get ATCF data and find interested point"
      ],
      "metadata": {
        "id": "f4C7bEjXNznh"
      }
    },
    {
      "cell_type": "markdown",
      "source": [
        "#Retrieve HAFS-A Data"
      ],
      "metadata": {
        "id": "5MU8O99TOZme"
      }
    },
    {
      "cell_type": "code",
      "source": [
        "dateFormat = \"%Y-%m-%d %H:%M:%S\"\n",
        "runFormat = \"%Y%m%d%H\"\n",
        "\n",
        "start = centralTime - pd.Timedelta(days=daysBefore)\n",
        "end = centralTime + pd.Timedelta(days=daysAfter)"
      ],
      "metadata": {
        "id": "N7EXfX8AgqHB"
      },
      "execution_count": null,
      "outputs": []
    },
    {
      "cell_type": "markdown",
      "source": [
        "Find times needed"
      ],
      "metadata": {
        "id": "aQjv2UVg4l65"
      }
    },
    {
      "cell_type": "code",
      "source": [
        "fcastTimes = {} #Key: initiation, item: valid time list\n",
        "\n",
        "initTime = start\n",
        "while initTime <= end:\n",
        "  validTime = initTime\n",
        "  fcastTimes[initTime] = []\n",
        "  fhour = 0\n",
        "\n",
        "  while fhour <= forecastLength:\n",
        "    fcastTimes[initTime].append(validTime)\n",
        "    validTime += pd.Timedelta(hours=fHourStep)\n",
        "    fhour += fHourStep\n",
        "\n",
        "  initTime += pd.Timedelta(hours=runStep)"
      ],
      "metadata": {
        "collapsed": true,
        "id": "jdMyhDj94ij0"
      },
      "execution_count": null,
      "outputs": []
    },
    {
      "cell_type": "markdown",
      "source": [
        "Find storm location in HAFS-A from ATCF files. Used to find along-storm profile."
      ],
      "metadata": {
        "id": "bNcDi6valX_j"
      }
    },
    {
      "cell_type": "code",
      "source": [
        "cols = [\"BASIN\", \"CY\", \"YYYYMMDDHH\", \"TECHNUM/MIN\", \"TECH\", \"TAU\", \"LatN/S\", \"LonE/W\",\n",
        "    \"VMAX\", \"MSLP\", \"TY\", \"RAD\", \"WINDCODE\", \"RAD1\", \"RAD2\", \"RAD3\", \"RAD4\",\n",
        "    \"POUTER\", \"ROUTER\", \"RMW\", \"GUSTS\", \"EYE\", \"SUBREGION\", \"MAXSEAS\", \"INITIALS\",\n",
        "    \"DIR\", \"SPEED\", \"STORMNAME\", \"DEPTH\", \"SEAS\", \"SEASCODE\", \"SEAS1\", \"SEAS2\",\n",
        "    \"SEAS3\", \"SEAS4\", \"USERDEFINED1\", \"Thermo1\", \"Thermo2\", \"Thermo3\", \"Thermo4\",\n",
        "    \"Thermo5\", \"Thermo6\", \"Thermo7\", \"USERDEFINED2\", \"DT\", \"SHR82\", \"SHR81_1\",\n",
        "    \"SHR82_2\",  \"USERDEFINED3\", \"SST\", \"USERDEFINED4\", \"ARMW1\", \"ARMW2\"]"
      ],
      "metadata": {
        "id": "yO6jA18GOCVi"
      },
      "execution_count": null,
      "outputs": []
    },
    {
      "cell_type": "code",
      "source": [
        "if not stormCentered:\n",
        "\n",
        "  ctStr = centralTime.strftime(\"%Y%m%d\")\n",
        "  ctHour = centralTime.strftime(\"%H\")\n",
        "\n",
        "  atcfURL = f\"https://noaa-nws-hafs-pds.s3.amazonaws.com/hfsa/{ctStr}/{ctHour}/{tcNum}l.{ctStr}{ctHour}.hfsa.trak.atcfunix\"\n",
        "  atcfFile = \"atcf_\" + ctStr + \"_\" + ctHour + \".csv\"\n",
        "\n",
        "  !wget -O {atcfFile} {atcfURL}\n",
        "  atcf = pd.read_csv(atcfFile, names=cols)\n",
        "\n",
        "  pointLat = int(atcf[atcf.TAU==0][\"LatN/S\"].iloc[0].replace(\"N\", \"\"))/10\n",
        "  pointLon = int(atcf[atcf.TAU==0][\"LonE/W\"].iloc[0].replace(\"W\", \"\"))/-10 #Assume western hemisphere\n",
        "\n",
        "  point = (pointLat, pointLon)\n",
        "  point"
      ],
      "metadata": {
        "id": "XsN35gjqgSjr"
      },
      "execution_count": null,
      "outputs": []
    },
    {
      "cell_type": "code",
      "source": [
        "if stormCentered:\n",
        "  tcLocs = {}\n",
        "\n",
        "  for init, validList in fcastTimes.items():\n",
        "    tcLocs[init] = {}\n",
        "    initStr, initHour = init.strftime(\"%Y%m%d_%H\").split(\"_\")\n",
        "\n",
        "    atcfURL = f\"https://noaa-nws-hafs-pds.s3.amazonaws.com/hfsa/{initStr}/{initHour}/{tcNum}l.{initStr}{initHour}.hfsa.trak.atcfunix\"\n",
        "    atcfFile = \"atcf_\" + initStr + \"_\" + initHour + \".csv\"\n",
        "\n",
        "    !wget -O {atcfFile} {atcfURL}\n",
        "    atcf = pd.read_csv(atcfFile, names=cols)\n",
        "\n",
        "    for valid in validList:\n",
        "      fHour = int((valid-init).total_seconds() / 3600)\n",
        "\n",
        "      pointLat = int(atcf[atcf.TAU==fHour][\"LatN/S\"].iloc[0].replace(\"N\", \"\"))/10\n",
        "      pointLon = int(atcf[atcf.TAU==fHour][\"LonE/W\"].iloc[0].replace(\"W\", \"\"))/-10 #Assume western hemisphere\n",
        "      tcLocs[init][valid] = (pointLat, pointLon)"
      ],
      "metadata": {
        "id": "M2-eqEmxlXw3"
      },
      "execution_count": null,
      "outputs": []
    },
    {
      "cell_type": "markdown",
      "source": [
        "Get data from HAFS-A output."
      ],
      "metadata": {
        "id": "gJK0pEvc4ij2"
      }
    },
    {
      "cell_type": "code",
      "source": [
        "atm = {}\n",
        "\n",
        "for init, validList in fcastTimes.items():\n",
        "\n",
        "  atm[init] = {}\n",
        "  initTime = init.strftime(\"%Y%m%d%H\")\n",
        "\n",
        "  for valid in validList:\n",
        "    atm[init][valid] = {}\n",
        "\n",
        "    fhour = str(int((valid-init).total_seconds() / 3600))\n",
        "    while len(fhour) < 3: fhour = \"0\" + fhour\n",
        "\n",
        "    atmFile = \"hafsa_\" + initTime + \"_f\" + fhour + \".nc\"\n",
        "    atmPath = dataPath + \"hafsaOutput/\" + subfolder + atmFile\n",
        "    atmData = xr.open_dataset(atmPath)\n",
        "\n",
        "    if stormCentered: point = tcLocs[init][valid]\n",
        "\n",
        "    atmLayers = atmData.isobaricInhPa.data[atmData.isobaricInhPa.data>=atmTop]\n",
        "    for layer in atmLayers:\n",
        "      #Longitude in atm files are in degrees east, but are -180 - 180 in oce files. point has them from -180 - 180\n",
        "      validPoint = atmData.sel(latitude=point[0], longitude=point[1] + 360, isobaricInhPa=layer, method=\"nearest\")\n",
        "\n",
        "      atm[init][valid][layer] = {}\n",
        "      atm[init][valid][layer][\"T\"] = float(validPoint.t.data)\n",
        "      if potentialTemp: atm[init][valid][layer][\"T\"] = float(validPoint.t.data)*((1000/layer)**0.28571) #Formula from Stull R. 2017\n",
        "      atm[init][valid][layer][\"q\"] = float(validPoint.q.data) * 1000 #Convert from kg/kg to g/kg\n",
        "      atm[init][valid][layer][\"u\"] = float(validPoint.u.data)\n",
        "      atm[init][valid][layer][\"v\"] = float(validPoint.v.data)\n",
        "      atm[init][valid][layer][\"gh\"] = float(validPoint.gh.data)"
      ],
      "metadata": {
        "collapsed": true,
        "id": "mU1HIzL_4ij2"
      },
      "execution_count": null,
      "outputs": []
    },
    {
      "cell_type": "code",
      "source": [
        "oce = {}\n",
        "\n",
        "for init, validList in fcastTimes.items():\n",
        "\n",
        "  oce[init] = {}\n",
        "  initTime = init.strftime(\"%Y%m%d%H\")\n",
        "\n",
        "  for valid in validList:\n",
        "    oce[init][valid] = {}\n",
        "\n",
        "    fhour = str(int((valid-init).total_seconds() / 3600))\n",
        "    while len(fhour) < 3: fhour = \"0\" + fhour\n",
        "    oceFile = \"mom6_\" + initTime + \"_f\" + fhour + \".nc\"\n",
        "    ocePath = dataPath + \"mom6Output/\" + subfolder + oceFile\n",
        "\n",
        "    if oceFile == 'mom6_2024100800_f000.nc': #This file is missing\n",
        "      for layer in oceData.z_l.data:\n",
        "        oce[init][valid][layer] = {\"T\":np.nan, \"s\":np.nan, \"u\":np.nan, \"v\":np.nan}\n",
        "      continue\n",
        "\n",
        "    oceData = xr.open_dataset(ocePath, decode_times=False)\n",
        "\n",
        "    if stormCentered: point = tcLocs[init][valid]\n",
        "\n",
        "    oceLayers = oceData.z_l.data[oceData.z_l.data<=oceFloor]\n",
        "    for layer in oceLayers:\n",
        "      oce[init][valid][layer] = {}\n",
        "      oce[init][valid][layer][\"T\"] = float(oceData.sel(yq=point[0], yh=point[0], xh=point[1], xq=point[1], z_l=layer, method=\"nearest\").temp.data) + 273.15 #This is potential temperature. Converted from C to K.\n",
        "      oce[init][valid][layer][\"s\"] = float(oceData.sel(yq=point[0], yh=point[0], xh=point[1], xq=point[1], z_l=layer, method=\"nearest\").so.data)\n",
        "      oce[init][valid][layer][\"u\"] = float(oceData.sel(yq=point[0], yh=point[0], xh=point[1], xq=point[1], z_l=layer, method=\"nearest\").uo.data)\n",
        "      oce[init][valid][layer][\"v\"] = float(oceData.sel(yq=point[0], yh=point[0], xh=point[1], xq=point[1], z_l=layer, method=\"nearest\").vo.data)"
      ],
      "metadata": {
        "collapsed": true,
        "id": "VZXxVJfcV7Zl"
      },
      "execution_count": null,
      "outputs": []
    },
    {
      "cell_type": "markdown",
      "source": [
        "#Figures"
      ],
      "metadata": {
        "id": "8ie-KHh0omRK"
      }
    },
    {
      "cell_type": "code",
      "source": [
        "atmFig = plt.figure(figsize=(10,8))\n",
        "tAx = atmFig.add_axes([0.1, 0.74, 0.8, 0.18])\n",
        "qAx = atmFig.add_axes([0.1, 0.51, 0.8, 0.18])\n",
        "uAx = atmFig.add_axes([0.1, 0.28, 0.8, 0.18])\n",
        "vAx = atmFig.add_axes([0.1, 0.05, 0.8, 0.18])\n",
        "\n",
        "atmLevel = 1000.0\n",
        "for runTime, run in zip(atm.keys(), atm.values()):\n",
        "  time = run.keys()\n",
        "  t = [atm[runTime][timestep][atmLevel][\"T\"] for timestep in time]\n",
        "  q = [atm[runTime][timestep][atmLevel][\"q\"] for timestep in time]\n",
        "  u = [atm[runTime][timestep][atmLevel][\"u\"] for timestep in time]\n",
        "  v = [atm[runTime][timestep][atmLevel][\"v\"] for timestep in time]\n",
        "\n",
        "  tAx.plot(time, t, color=\"red\")\n",
        "  qAx.plot(time, q, color=\"green\")\n",
        "  uAx.plot(time, u, color=\"blue\")\n",
        "  vAx.plot(time, v, color=\"purple\")\n",
        "\n",
        "tAx.scatter(atm.keys(), [atm[runTime][runTime][atmLevel][\"T\"] for runTime in atm.keys()], color=\"red\")\n",
        "qAx.scatter(atm.keys(), [atm[runTime][runTime][atmLevel][\"q\"] for runTime in atm.keys()], color=\"green\")\n",
        "uAx.scatter(atm.keys(), [atm[runTime][runTime][atmLevel][\"u\"] for runTime in atm.keys()], color=\"blue\")\n",
        "vAx.scatter(atm.keys(), [atm[runTime][runTime][atmLevel][\"v\"] for runTime in atm.keys()], color=\"purple\")\n",
        "\n",
        "tAx.set_ylabel(\"Temperature (K)\")\n",
        "qAx.set_ylabel(\"Specific humidity (g/kg)\")\n",
        "uAx.set_ylabel(\"U Wind\\nComponent (m/s)\")\n",
        "vAx.set_ylabel(\"V Wind\\nComponent (m/s)\")\n",
        "\n",
        "atmFig.suptitle(f\"Atmosphere at {int(atmLevel)} hPa\")\n",
        "plt.savefig(f\"atmParameters_{int(atmLevel)}hPa{figureSuffix}.png\")\n",
        "plt.show()"
      ],
      "metadata": {
        "id": "hWuSXry-p7sd"
      },
      "execution_count": null,
      "outputs": []
    },
    {
      "cell_type": "code",
      "source": [
        "oceFig = plt.figure(figsize=(10,8))\n",
        "tAx = oceFig.add_axes([0.1, 0.74, 0.8, 0.18])\n",
        "sAx = oceFig.add_axes([0.1, 0.51, 0.8, 0.18])\n",
        "uAx = oceFig.add_axes([0.1, 0.28, 0.8, 0.18])\n",
        "vAx = oceFig.add_axes([0.1, 0.05, 0.8, 0.18])\n",
        "\n",
        "oceLevel = 7.5\n",
        "for runTime, run in zip(oce.keys(), oce.values()):\n",
        "  time = run.keys()\n",
        "  t = [oce[runTime][timestep][oceLevel][\"T\"] for timestep in time]\n",
        "  s = [oce[runTime][timestep][oceLevel][\"s\"] for timestep in time]\n",
        "  u = [oce[runTime][timestep][oceLevel][\"u\"] for timestep in time]\n",
        "  v = [oce[runTime][timestep][oceLevel][\"v\"] for timestep in time]\n",
        "\n",
        "  tAx.plot(time, t, color=\"red\")\n",
        "  sAx.plot(time, s, color=\"green\")\n",
        "  uAx.plot(time, u, color=\"blue\")\n",
        "  vAx.plot(time, v, color=\"purple\")\n",
        "\n",
        "tAx.scatter(oce.keys(), [oce[runTime][runTime][oceLevel][\"T\"] for runTime in oce.keys()], color=\"red\")\n",
        "sAx.scatter(oce.keys(), [oce[runTime][runTime][oceLevel][\"s\"] for runTime in oce.keys()], color=\"green\")\n",
        "uAx.scatter(oce.keys(), [oce[runTime][runTime][oceLevel][\"u\"] for runTime in oce.keys()], color=\"blue\")\n",
        "vAx.scatter(oce.keys(), [oce[runTime][runTime][oceLevel][\"v\"] for runTime in oce.keys()], color=\"purple\")\n",
        "\n",
        "tAx.set_ylabel(\"Potential Temperature (K)\")\n",
        "sAx.set_ylabel(\"Salinity (psu)\")\n",
        "uAx.set_ylabel(\"U Current\\nComponent (m/s)\")\n",
        "vAx.set_ylabel(\"V Current\\nComponent (m/s)\")\n",
        "\n",
        "oceFig.suptitle(f\"Ocean at {round(oceLevel,1)} m\")\n",
        "plt.savefig(f\"oceParameters_{int(oceLevel)}m{figureSuffix}.png\")\n",
        "plt.show()"
      ],
      "metadata": {
        "id": "qgnDqPKIwWZQ"
      },
      "execution_count": null,
      "outputs": []
    },
    {
      "cell_type": "markdown",
      "source": [
        "Profiles"
      ],
      "metadata": {
        "id": "hd9_GtqUmHlI"
      }
    },
    {
      "cell_type": "markdown",
      "source": [
        "Plot profiles for different model initialization times (based on when the track hits \"point\")"
      ],
      "metadata": {
        "id": "RHviuNnmUZDV"
      }
    },
    {
      "cell_type": "code",
      "source": [
        "profFig = plt.figure(figsize=(6,8))\n",
        "oceAx = profFig.add_axes([0.1, 0.1, 0.8, 0.38])\n",
        "oceAx.invert_yaxis()\n",
        "atmAx = profFig.add_axes([0.1, 0.52, 0.8, 0.38])\n",
        "atmAx.invert_yaxis()\n",
        "\n",
        "var = \"T\"\n",
        "atmRange = {\"T\":(290,315), \"u\":(-45,45), \"v\":(-45,45)}[var]\n",
        "oceRange = {\"T\":(290,315), \"u\":(-1.5,1.5), \"v\":(-1.5,1.5)}[var]\n",
        "\n",
        "validTimes = [dt(year=2024, month=10, day=6, hour=18),\n",
        "              dt(year=2024, month=10, day=7, hour=6),\n",
        "              dt(year=2024, month=10, day=7, hour=18),\n",
        "              dt(year=2024, month=10, day=8, hour=6)]\n",
        "\n",
        "for runTime in list(oce.keys()):\n",
        "  if runTime>centralTime: continue\n",
        "\n",
        "  ocez = list(oce[runTime][time].keys())\n",
        "  oceVals = [oce[runTime][time][level][var] for level in ocez]\n",
        "  oceAx.plot(oceVals, ocez, label=runTime.strftime(\"%m-%d %HUTC\"))\n",
        "\n",
        "  atmz = list(atm[runTime][time].keys())\n",
        "  atmT = [atm[runTime][time][level][var] for level in atmz]\n",
        "  atmAx.plot(atmT, atmz, label=runTime.strftime(\"%m-%d %HUTC\"))\n",
        "\n",
        "oceAx.set_xlabel(\"Potential Temperature (K)\")\n",
        "oceAx.set_ylabel(\"Depth (m)\")\n",
        "atmAx.set_ylabel(\"Pressure (hPa)\")\n",
        "\n",
        "oceAx.set_xlim(oceRange[0], oceRange[1])\n",
        "atmAx.set_xlim(atmRange[0], atmRange[1])\n",
        "oceAx.set_ylim(100,0)\n",
        "atmAx.set_ylim(1000,800)\n",
        "\n",
        "oceAx.grid(alpha=0.5)\n",
        "atmAx.grid(alpha=0.5)\n",
        "atmAx.legend(title=\"Model Init. Time\")\n",
        "\n",
        "#profFig.suptitle(f\"{var} Profiles Valid at {time.strftime('%m-%d %HUTC')}\")\n",
        "plt.savefig(f\"{var}RunTimeProfiles{figureSuffix}.png\")\n",
        "plt.show()"
      ],
      "metadata": {
        "id": "TrFaThZwAptB",
        "collapsed": true
      },
      "execution_count": null,
      "outputs": []
    },
    {
      "cell_type": "markdown",
      "source": [
        "Different panel for each model run, showing different valid times"
      ],
      "metadata": {
        "id": "e2F1aXxM3o2s"
      }
    },
    {
      "cell_type": "code",
      "source": [
        "profFig = plt.figure(figsize=(10,8))\n",
        "\n",
        "var = \"T\"\n",
        "atmRange = {\"T\":(290,315), \"u\":(-45,45), \"v\":(-45,45)}[var]\n",
        "oceRange = {\"T\":(290,315), \"u\":(-1.5,1.5), \"v\":(-1.5,1.5)}[var]\n",
        "\n",
        "atmAxes = [profFig.add_axes([0.1, 0.52, 0.17, 0.38]), profFig.add_axes([0.3, 0.52, 0.17, 0.38]),\n",
        "           profFig.add_axes([0.5, 0.52, 0.17, 0.38]), profFig.add_axes([0.7, 0.52, 0.17, 0.38])]\n",
        "oceAxes = [profFig.add_axes([0.1, 0.1, 0.17, 0.38]), profFig.add_axes([0.3, 0.1, 0.17, 0.38]),\n",
        "           profFig.add_axes([0.5, 0.1, 0.17, 0.38]), profFig.add_axes([0.7, 0.1, 0.17, 0.38])]\n",
        "\n",
        "validTimes = [dt(year=2024, month=10, day=6, hour=18),\n",
        "              dt(year=2024, month=10, day=7, hour=6),\n",
        "              dt(year=2024, month=10, day=7, hour=18),\n",
        "              dt(year=2024, month=10, day=8, hour=6)]\n",
        "colors = [\"blue\", \"orange\", \"green\", \"red\"]\n",
        "linestyles = [\"-\", \"--\", \"-.\", \":\"]\n",
        "\n",
        "for runTime, atmAx, oceAx, color in zip(oce.keys(), atmAxes, oceAxes, colors):\n",
        "  if runTime>centralTime: continue\n",
        "\n",
        "  for time, linestyle in zip(validTimes, linestyles):\n",
        "    if time < runTime: continue\n",
        "    ocez = list(oce[runTime][time].keys())\n",
        "    oceVals = [oce[runTime][time][level][var] for level in ocez]\n",
        "    oceAx.plot(oceVals, ocez, label=time.strftime(\"%m-%d %HUTC\"), color=color, linestyle=linestyle)\n",
        "\n",
        "    atmz = list(atm[runTime][time].keys())\n",
        "    atmT = [atm[runTime][time][level][var] for level in atmz]\n",
        "    atmAx.plot(atmT, atmz, label=time.strftime(\"%m-%d %HUTC\"), color=color, linestyle=linestyle)\n",
        "\n",
        "  atmAx.set_title(runTime.strftime(\"%m-%d %HUTC\"))\n",
        "  oceAx.invert_yaxis()\n",
        "  atmAx.invert_yaxis()\n",
        "  oceAx.set_xlim(oceRange[0], oceRange[1])\n",
        "  atmAx.set_xlim(atmRange[0], atmRange[1])\n",
        "  oceAx.set_ylim(100,0)\n",
        "  atmAx.set_ylim(1000,800)\n",
        "\n",
        "  oceAx.grid(alpha=0.5)\n",
        "  atmAx.grid(alpha=0.5)\n",
        "\n",
        "profFig.supxlabel(\"Potential Temperature (K)\")\n",
        "oceAxes[0].set_ylabel(\"Depth (m)\")\n",
        "atmAxes[0].set_ylabel(\"Pressure (hPa)\")\n",
        "for ax in atmAxes[1:] + oceAxes[1:]: ax.set_yticklabels([])\n",
        "\n",
        "atmAxes[0].legend(title=\"Model Valid Time\", ncols=4, loc=[0, 1.1])\n",
        "\n",
        "#profFig.suptitle(f\"{var} Profiles Valid at {time.strftime('%m-%d %HUTC')}\")\n",
        "plt.savefig(f\"{var}RunValidProfiles{figureSuffix}.png\")\n",
        "plt.show()"
      ],
      "metadata": {
        "id": "M3Vq6bxencue"
      },
      "execution_count": null,
      "outputs": []
    },
    {
      "cell_type": "code",
      "source": [
        "profFig = plt.figure(figsize=(6,8))\n",
        "oceAx = profFig.add_axes([0.1, 0.1, 0.8, 0.38])\n",
        "oceAx.invert_yaxis()\n",
        "atmAx = profFig.add_axes([0.1, 0.52, 0.8, 0.38])\n",
        "atmAx.invert_yaxis()\n",
        "\n",
        "var = \"T\"\n",
        "atmRange = {\"T\":(290,315), \"u\":(-45,45), \"v\":(-45,45)}[var]\n",
        "oceRange = {\"T\":(290,315), \"u\":(-1.5,1.5), \"v\":(-1.5,1.5)}[var]\n",
        "\n",
        "runTime = dt(year=2024, month=10, day=6, hour=6)\n",
        "for time in oce[runTime].keys():\n",
        "  if time.hour % 6 != 0: continue\n",
        "  #for time in validList:\n",
        "  ocez = list(oce[runTime][time].keys())\n",
        "  oceVals = [oce[runTime][time][level][var] for level in ocez]\n",
        "  oceAx.plot(oceVals, ocez, label=time.strftime(\"%m-%d %HUTC\"))\n",
        "\n",
        "  atmz = list(atm[runTime][time].keys())\n",
        "  atmT = [atm[runTime][time][level][var] for level in atmz]\n",
        "  atmAx.plot(atmT, atmz, label=time.strftime(\"%m-%d %HUTC\"))\n",
        "\n",
        "oceAx.set_xlabel(\"Potential Temperature (K)\")\n",
        "oceAx.set_ylabel(\"Depth (m)\")\n",
        "atmAx.set_ylabel(\"Pressure (hPa)\")\n",
        "\n",
        "oceAx.set_xlim(oceRange[0], oceRange[1])\n",
        "atmAx.set_xlim(atmRange[0], atmRange[1])\n",
        "oceAx.set_ylim(100,0)\n",
        "atmAx.set_ylim(1000,800)\n",
        "\n",
        "oceAx.grid(alpha=0.5)\n",
        "atmAx.grid(alpha=0.5)\n",
        "atmAx.legend(title=\"Model Valid Time\")\n",
        "\n",
        "profFig.suptitle(f\"{var} Profiles from Initialization\\n at {runTime.strftime('%m-%d %HUTC')}\")\n",
        "plt.savefig(f\"{var}ValidTimeProfiles{figureSuffix}.png\")\n",
        "plt.show()"
      ],
      "metadata": {
        "id": "HdqIV2NKa4iN"
      },
      "execution_count": null,
      "outputs": []
    },
    {
      "cell_type": "markdown",
      "source": [
        "# Correlations"
      ],
      "metadata": {
        "id": "ARZGbDUGGOZR"
      }
    },
    {
      "cell_type": "markdown",
      "source": [
        "Atmosphere has 13 levels, ocean has 28"
      ],
      "metadata": {
        "id": "1kkXtjOhG_Ji"
      }
    },
    {
      "cell_type": "code",
      "source": [
        "var = \"T\"\n",
        "\n",
        "if var==\"T\" and potentialTemp: figureSuffix += \"_PT\"\n",
        "\n",
        "cors = {}\n",
        "\n",
        "for init, validList in list(fcastTimes.items()):\n",
        "  cors[init] = {}\n",
        "\n",
        "  atmLevs = list(atm[init][validList[0]].keys())\n",
        "  atmLevs.reverse() #Puts highest values at the bottom/end of the list\n",
        "  oceLevs = list(oce[init][validList[0]].keys())\n",
        "\n",
        "  atmLevData = [[float(atm[init][valid][lv][var]) for valid in validList] for lv in atmLevs] #Rows: time, Columns: levels\n",
        "  oceLevData = [[float(oce[init][valid][lv][var]) for valid in validList] for lv in oceLevs]\n",
        "\n",
        "  cor = np.corrcoef(atmLevData + oceLevData) #Correlation across entire atmosphere and ocean\n",
        "  corVals = [corList[np.isnan(corList)==False] for corList in cor if len(corList[np.isnan(corList)==False])!=0]\n",
        "  cors[init] = corVals"
      ],
      "metadata": {
        "id": "z_cQz0wxJagI"
      },
      "execution_count": null,
      "outputs": []
    },
    {
      "cell_type": "code",
      "source": [
        "corTime = list(cors.keys())[0]\n",
        "\n",
        "corFig = plt.figure(figsize=(6,6))\n",
        "corAx = corFig.add_axes([0.1, 0.1, 0.8, 0.8])\n",
        "corMap = corAx.imshow(cors[corTime], cmap=\"bwr\", vmin=-1, vmax=1)\n",
        "corAx.invert_yaxis()\n",
        "\n",
        "#corAx.set_xticks(levs)\n",
        "#corAx.set_yticks(levs)\n",
        "#corAx.set_xticklabels(levs)\n",
        "#corAx.set_yticklabels(levs)\n",
        "\n",
        "corAx.set_title(init.strftime(\"%Y-%m-%d %H UTC\"))\n",
        "#if init != sixHours[-1]: corAx.set_xticklabels([])\n",
        "#yCorner -= 0.8/len(sixHours)\n",
        "\n",
        "plt.colorbar(corMap, label=\"Correlation Coefficient\", shrink=0.8)\n",
        "corFig.supxlabel(\"Ocean Levels (m)\")\n",
        "corFig.supylabel(\"Atmosphere Levels (hPa)\")\n",
        "\n",
        "if var==\"T\" and potentialTemp: plt.savefig(f\"{var}{var}correlations{figureSuffix}_PT.png\")\n",
        "else: plt.savefig(f\"{var}{var}correlations{figureSuffix}.png\")\n",
        "plt.show()"
      ],
      "metadata": {
        "id": "9Frm6gI8PIXy",
        "outputId": "38b4f0f8-2846-4dfb-cc92-c219709f3bb3",
        "colab": {
          "base_uri": "https://localhost:8080/",
          "height": 545
        }
      },
      "execution_count": 73,
      "outputs": [
        {
          "output_type": "display_data",
          "data": {
            "text/plain": [
              "<Figure size 600x600 with 2 Axes>"
            ],
            "image/png": "[encoded data removed]"
          },
          "metadata": {}
        }
      ]
    },
    {
      "cell_type": "markdown",
      "source": [
        "Correlations over time. Uses a given atmospheric and ocean layer (currently arbitrary) and plots correlation between them with each model run."
      ],
      "metadata": {
        "id": "sizUU463LLFb"
      }
    },
    {
      "cell_type": "code",
      "source": [
        "corTsFig = plt.figure(figsize=(8, 5))\n",
        "corTsAx = corTsFig.add_axes([0.1, 0.1, 0.8, 0.8])\n",
        "\n",
        "atmLevels = [1000, 950, 900, 850]\n",
        "for lev in atmLevels:\n",
        "\n",
        "  levIdx = list(atmLevs).index(lev) #Using for both atmosphere and ocean\n",
        "  levLabel = f\"{int(atmLevs[levIdx])} hPa - {int(oceLevs[levIdx])} m\"\n",
        "\n",
        "  timeCor = [cors[runtime][levIdx][levIdx] for runtime in cors.keys()]\n",
        "  corTsAx.plot(list(cors.keys()), timeCor, label=levLabel)\n",
        "\n",
        "corTsAx.grid(alpha=0.5)\n",
        "corTsAx.set_xticks(list(cors.keys()))\n",
        "corTsAx.set_xticklabels([key.strftime(\"%d %HZ\") for key in list(cors.keys())])\n",
        "corTsAx.set_xlabel(\"Model Run Time\")\n",
        "\n",
        "corTsAx.set_ylim(-1, 1)\n",
        "corTsAx.set_ylabel(\"Correlation Coefficient\")\n",
        "corTsAx.legend()\n",
        "plt.savefig(f\"{var}corWithTime_{figureSuffix}.png\")"
      ],
      "metadata": {
        "id": "7TTXlZLXLNRY",
        "collapsed": true,
        "outputId": "2e1ee18d-da46-4b09-bb74-b3665f95f366",
        "colab": {
          "base_uri": "https://localhost:8080/",
          "height": 485
        }
      },
      "execution_count": 72,
      "outputs": [
        {
          "output_type": "display_data",
          "data": {
            "text/plain": [
              "<Figure size 800x500 with 1 Axes>"
            ],
            "image/png": "[encoded data removed]"
          },
          "metadata": {}
        }
      ]
    }
  ]
}