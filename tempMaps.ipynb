{
  "nbformat": 4,
  "nbformat_minor": 0,
  "metadata": {
    "colab": {
      "provenance": [],
      "authorship_tag": "ABX9TyPmCr2kDB8ckTs2JksikDIK",
      "include_colab_link": true
    },
    "kernelspec": {
      "name": "python3",
      "display_name": "Python 3"
    },
    "language_info": {
      "name": "python"
    }
  },
  "cells": [
    {
      "cell_type": "markdown",
      "metadata": {
        "id": "view-in-github",
        "colab_type": "text"
      },
      "source": [
        "<a href=\"https://colab.research.google.com/github/SeanBarnier/HAFS_Air-Sea/blob/main/tempMaps.ipynb\" target=\"_parent\"><img src=\"https://colab.research.google.com/assets/colab-badge.svg\" alt=\"Open In Colab\"/></a>"
      ]
    },
    {
      "cell_type": "markdown",
      "source": [
        "#Set up environment"
      ],
      "metadata": {
        "id": "f592A_AhmfhP"
      }
    },
    {
      "cell_type": "code",
      "source": [
        "!pip install cfgrib\n",
        "!pip install cartopy"
      ],
      "metadata": {
        "id": "wDGgQBxjYusr",
        "collapsed": true
      },
      "execution_count": null,
      "outputs": []
    },
    {
      "cell_type": "code",
      "source": [
        "import xarray as xr\n",
        "import pandas as pd\n",
        "import numpy as np\n",
        "import matplotlib.pyplot as plt\n",
        "import cartopy.crs as ccrs\n",
        "import cartopy.feature as cft\n",
        "from datetime import datetime as dt\n",
        "import cfgrib"
      ],
      "metadata": {
        "id": "vWrr_30yZ4nh"
      },
      "execution_count": null,
      "outputs": []
    },
    {
      "cell_type": "code",
      "source": [
        "from google.colab import drive\n",
        "drive.mount('/content/drive')"
      ],
      "metadata": {
        "id": "6KsU8RFVmin5"
      },
      "execution_count": null,
      "outputs": []
    },
    {
      "cell_type": "markdown",
      "source": [
        "#User parameters"
      ],
      "metadata": {
        "id": "XnkUgaLnLbuC"
      }
    },
    {
      "cell_type": "code",
      "source": [
        "name = \"Milton\"\n",
        "tcNum = \"14\"\n",
        "trackType = \"\"\n",
        "\n",
        "initTime = dt(year=2024, month=10, day=7, hour=6) #Time when Milton began its most rapid intensification\n",
        "\n",
        "fHourStep = 12      #Normally 3 for HAFS-A\n",
        "forecastLength = 48 #Normally 126 for HAFS-A.\n",
        "#runStep = 6         #Normally 6 for HAFS-A\n",
        "\n",
        "figureSuffix = \"_RI\"\n",
        "subfolder = \"RI/\"\n",
        "dataPath = \"/content/drive/MyDrive/savedData/\"\n",
        "figurePath = \"/content/drive/MyDrive/figures/\"\n",
        "\n",
        "potentialTemp = True #Use atmospheric potential temperature instead of in-situ temperature\n",
        "\n",
        "#Layers to plot\n",
        "atmLayer = 700.0\n",
        "oceLayer = 12.8"
      ],
      "metadata": {
        "id": "5mX9LiKtLeTX"
      },
      "execution_count": null,
      "outputs": []
    },
    {
      "cell_type": "markdown",
      "source": [
        "Get ATCF data and find interested point"
      ],
      "metadata": {
        "id": "f4C7bEjXNznh"
      }
    },
    {
      "cell_type": "markdown",
      "source": [
        "#Retrieve HAFS-A Data"
      ],
      "metadata": {
        "id": "5MU8O99TOZme"
      }
    },
    {
      "cell_type": "markdown",
      "source": [
        "Find times needed"
      ],
      "metadata": {
        "id": "aQjv2UVg4l65"
      }
    },
    {
      "cell_type": "code",
      "source": [
        "dateFormat = \"%Y-%m-%d %H:%M:%S\"\n",
        "runFormat = \"%Y%m%d%H\"\n",
        "\n",
        "fcastTimes = [] #Key: initiation, item: valid time list\n",
        "fhour = 0\n",
        "validTime = initTime\n",
        "\n",
        "while fhour <= forecastLength:\n",
        "    fcastTimes.append(validTime)\n",
        "    validTime += pd.Timedelta(hours=fHourStep)\n",
        "    fhour += fHourStep"
      ],
      "metadata": {
        "collapsed": true,
        "id": "jdMyhDj94ij0"
      },
      "execution_count": null,
      "outputs": []
    },
    {
      "cell_type": "markdown",
      "source": [
        "Find storm location in HAFS-A from ATCF files. Used to find along-storm profile."
      ],
      "metadata": {
        "id": "bNcDi6valX_j"
      }
    },
    {
      "cell_type": "code",
      "source": [
        "cols = [\"BASIN\", \"CY\", \"YYYYMMDDHH\", \"TECHNUM/MIN\", \"TECH\", \"TAU\", \"LatN/S\", \"LonE/W\",\n",
        "    \"VMAX\", \"MSLP\", \"TY\", \"RAD\", \"WINDCODE\", \"RAD1\", \"RAD2\", \"RAD3\", \"RAD4\",\n",
        "    \"POUTER\", \"ROUTER\", \"RMW\", \"GUSTS\", \"EYE\", \"SUBREGION\", \"MAXSEAS\", \"INITIALS\",\n",
        "    \"DIR\", \"SPEED\", \"STORMNAME\", \"DEPTH\", \"SEAS\", \"SEASCODE\", \"SEAS1\", \"SEAS2\",\n",
        "    \"SEAS3\", \"SEAS4\", \"USERDEFINED1\", \"Thermo1\", \"Thermo2\", \"Thermo3\", \"Thermo4\",\n",
        "    \"Thermo5\", \"Thermo6\", \"Thermo7\", \"USERDEFINED2\", \"DT\", \"SHR82\", \"SHR81_1\",\n",
        "    \"SHR82_2\",  \"USERDEFINED3\", \"SST\", \"USERDEFINED4\", \"ARMW1\", \"ARMW2\"]\n",
        "\n",
        "initStr, initHour = initTime.strftime(\"%Y%m%d_%H\").split(\"_\")\n",
        "\n",
        "atcfURL = f\"https://noaa-nws-hafs-pds.s3.amazonaws.com/hfsa/{initStr}/{initHour}/{tcNum}l.{initStr}{initHour}.hfsa.trak.atcfunix\"\n",
        "atcfFile = \"atcf_\" + initStr + \"_\" + initHour + \".csv\"\n",
        "\n",
        "!wget -O {atcfFile} {atcfURL}\n",
        "atcf = pd.read_csv(atcfFile, names=cols)"
      ],
      "metadata": {
        "id": "yO6jA18GOCVi"
      },
      "execution_count": null,
      "outputs": []
    },
    {
      "cell_type": "code",
      "source": [
        "tcLocs = {}\n",
        "\n",
        "for valid in fcastTimes:\n",
        "    fHour = int((valid-initTime).total_seconds() / 3600)\n",
        "\n",
        "    pointLat = int(atcf[atcf.TAU==fHour][\"LatN/S\"].iloc[0].replace(\"N\", \"\"))/10\n",
        "    pointLon = int(atcf[atcf.TAU==fHour][\"LonE/W\"].iloc[0].replace(\"W\", \"\"))/-10 #Assume western hemisphere\n",
        "    tcLocs[valid] = (pointLat, pointLon)"
      ],
      "metadata": {
        "id": "M2-eqEmxlXw3"
      },
      "execution_count": null,
      "outputs": []
    },
    {
      "cell_type": "code",
      "source": [
        "tcLocs"
      ],
      "metadata": {
        "id": "0aq43ydOyqRS"
      },
      "execution_count": null,
      "outputs": []
    },
    {
      "cell_type": "markdown",
      "source": [
        "#Figures"
      ],
      "metadata": {
        "id": "ya_eLEMjx7tf"
      }
    },
    {
      "cell_type": "markdown",
      "source": [
        "Set Figure Parameters"
      ],
      "metadata": {
        "id": "BBSBA8q9noOi"
      }
    },
    {
      "cell_type": "code",
      "source": [
        "lonMin, lonMax, latMin, latMax = -94, -86, 21, 27\n",
        "\n",
        "atmLayers = [0, 2, 4, 6, 8, 10]\n",
        "oceLayers = [0, 2, 4, 6, 8, 10]\n",
        "\n",
        "buffer = 0.1 / len(atmLayers)\n",
        "xWidth = 0.8 / len(fcastTimes)\n",
        "yWidth = 0.4 / len(atmLayers)\n",
        "xcorners = np.arange(0.1,0.9,xWidth)\n",
        "ycorners = np.arange(0.7,0.3,-yWidth)\n",
        "\n",
        "initStr = initTime.strftime(\"%Y%m%d%H\")\n",
        "\n",
        "diffType = \"top\" #top or incremental"
      ],
      "metadata": {
        "id": "sFJs72fTx9KR"
      },
      "execution_count": null,
      "outputs": []
    },
    {
      "cell_type": "markdown",
      "source": [
        "Atmospheric Temperature"
      ],
      "metadata": {
        "id": "prWGu4LUnyGy"
      }
    },
    {
      "cell_type": "code",
      "source": [
        "atmFig = plt.figure(figsize=(len(fcastTimes)*5,len(atmLayers)*7))\n",
        "atmAxes = [[atmFig.add_axes([xcorner, ycorner, xWidth-buffer, yWidth-buffer], projection=ccrs.PlateCarree()) for ycorner in ycorners] for xcorner in xcorners]\n",
        "\n",
        "contourLevs = {layer:[\"Empty\"] for layer in atmLayers}\n",
        "for valid, atmAxColumn in zip(fcastTimes, atmAxes):\n",
        "\n",
        "  fhour = str(int((valid-initTime).total_seconds() / 3600))\n",
        "  while len(fhour) < 3: fhour = \"0\" + fhour\n",
        "\n",
        "  atmFile = \"hafsa_\" + initStr + \"_f\" + fhour + \".nc\"\n",
        "  atmPath = dataPath + \"hafsaOutput/\" + subfolder + atmFile\n",
        "  atmData = xr.open_dataset(atmPath)\n",
        "\n",
        "  for atmLayer, atmAx in zip(atmLayers, atmAxColumn):\n",
        "\n",
        "    atmSlice = atmData.isel(isobaricInhPa=atmLayer).sel(longitude=slice(lonMin+360, lonMax+360), latitude=slice(latMin, latMax))\n",
        "\n",
        "    if potentialTemp: temp = atmSlice.t.data * (1000/atmSlice.isobaricInhPa.data) ** 0.286\n",
        "    else: temp = atmSlice.t.data\n",
        "\n",
        "    if \"Empty\" in contourLevs[atmLayer]: contourLevs[atmLayer] = [round(l, 1) for l in np.linspace(np.min(temp[np.isnan(temp)==False])-3, np.max(temp[np.isnan(temp)==False])+3, 15)]\n",
        "\n",
        "    tempContour = atmAx.contourf(atmSlice.longitude.data, atmSlice.latitude.data, temp, cmap=\"coolwarm\", transform=ccrs.PlateCarree(),\n",
        "                                extent = [lonMin, lonMax, latMin, latMax], levels=contourLevs[atmLayer])\n",
        "\n",
        "    atmFig.colorbar(tempContour, shrink=0.8)\n",
        "\n",
        "    #atmAx.scatter(tcLocs[valid][1], tcLocs[valid][0], marker=\"*\", color=\"black\", s=75, transform=ccrs.PlateCarree())\n",
        "\n",
        "    atmAx.add_feature(cft.COASTLINE)\n",
        "    atmAx.add_feature(cft.BORDERS)\n",
        "    atmAx.gridlines(draw_labels=[\"left\", \"bottom\"], alpha=0.5)\n",
        "    atmAx.set_title(f'{atmData.isobaricInhPa.data[atmLayer]} hPa\\n{valid.strftime(\"%Y-%m-%d %HUTC\")}')\n",
        "\n",
        "    atmAx.set_extent([lonMin, lonMax, latMin, latMax])\n",
        "\n",
        "#atmFig.suptitle(f\"Atmosphere Initialized {initTime.strftime('%Y-%m-%d %HUTC')}\")"
      ],
      "metadata": {
        "collapsed": true,
        "id": "mU1HIzL_4ij2"
      },
      "execution_count": null,
      "outputs": []
    },
    {
      "cell_type": "markdown",
      "source": [
        "Oceanic Temperature"
      ],
      "metadata": {
        "id": "Z70LZu5qn7_m"
      }
    },
    {
      "cell_type": "code",
      "source": [
        "oceFig = plt.figure(figsize=(len(fcastTimes)*5,len(oceLayers)*7))\n",
        "oceAxes = [[oceFig.add_axes([xcorner, ycorner, xWidth-buffer, yWidth-buffer], projection=ccrs.PlateCarree()) for ycorner in ycorners] for xcorner in xcorners]\n",
        "\n",
        "contourLevs = {layer:[\"Empty\"] for layer in atmLayers}\n",
        "\n",
        "for valid, oceAxColumn in zip(fcastTimes, oceAxes):\n",
        "\n",
        "  fhour = str(int((valid-initTime).total_seconds() / 3600))\n",
        "  while len(fhour) < 3: fhour = \"0\" + fhour\n",
        "\n",
        "  oceFile = \"mom6_\" + initStr + \"_f\" + fhour + \".nc\"\n",
        "  ocePath = dataPath + \"mom6Output/\" + subfolder + oceFile\n",
        "  oceData = xr.open_dataset(ocePath, decode_times=False)\n",
        "\n",
        "  for oceLayer, oceAx in zip(oceLayers, oceAxColumn):\n",
        "\n",
        "    oceSlice = oceData.isel(z_l=oceLayer).sel(xh=slice(lonMin, lonMax), yh=slice(latMin, latMax), time=oceData.time.data[0])\n",
        "\n",
        "    temp = oceSlice.temp.data + 273.15\n",
        "    if \"Empty\" in contourLevs[oceLayer]: contourLevs[oceLayer] = [round(l, 1) for l in np.linspace(min(temp[np.isnan(temp)==False])-1, max(temp[np.isnan(temp)==False])+1, 15)]\n",
        "\n",
        "    tempContour = oceAx.contourf(oceSlice.xh.data, oceSlice.yh.data, temp, cmap=\"coolwarm\", transform=ccrs.PlateCarree(),\n",
        "                                extent=[lonMin, lonMax, latMin, latMax], levels=contourLevs[oceLayer])\n",
        "    oceFig.colorbar(tempContour, shrink=0.8)\n",
        "\n",
        "    oceAx.scatter(tcLocs[valid][1], tcLocs[valid][0], marker=\"*\", color=\"black\", s=75, transform=ccrs.PlateCarree())\n",
        "\n",
        "    oceAx.add_feature(cft.COASTLINE)\n",
        "    oceAx.add_feature(cft.BORDERS)\n",
        "    oceAx.gridlines(draw_labels=[\"left\", \"bottom\"], alpha=0.5)\n",
        "    oceAx.set_title(f\"{round(oceData.z_l.data[oceLayer],1)} m\\n{valid.strftime('%Y-%m-%d %HUTC')}\")\n",
        "\n",
        "    oceAx.set_extent([lonMin, lonMax, latMin, latMax])\n",
        "\n",
        "#oceFig.suptitle(f\"Initialized {initTime.strftime('%Y-%m-%d %HUTC')}\")"
      ],
      "metadata": {
        "id": "BGzvH0yGl85S"
      },
      "execution_count": null,
      "outputs": []
    },
    {
      "cell_type": "markdown",
      "source": [
        "Atmosphere Temperature Difference by Level"
      ],
      "metadata": {
        "id": "p2yHo_lOAOmf"
      }
    },
    {
      "cell_type": "code",
      "source": [
        "atmFig = plt.figure(figsize=(len(fcastTimes)*5,len(atmLayers)*7))\n",
        "atmAxes = [[atmFig.add_axes([xcorner, ycorner, xWidth-buffer, yWidth-buffer], projection=ccrs.PlateCarree()) for ycorner in ycorners] for xcorner in xcorners]\n",
        "\n",
        "contourLevs = {layer:[\"Empty\"] for layer in atmLayers}\n",
        "for valid, atmAxColumn in zip(fcastTimes, atmAxes):\n",
        "\n",
        "  fhour = str(int((valid-initTime).total_seconds() / 3600))\n",
        "  while len(fhour) < 3: fhour = \"0\" + fhour\n",
        "\n",
        "  atmFile = \"hafsa_\" + initStr + \"_f\" + fhour + \".nc\"\n",
        "  atmPath = dataPath + \"hafsaOutput/\" + subfolder + atmFile\n",
        "  atmData = xr.open_dataset(atmPath)\n",
        "\n",
        "  lowerLayers = {\"top\":[0]*len(atmLayers[:-1]), \"incremental\":atmLayers[1:]}[diffType]\n",
        "  for upperLayer, lowerLayer, atmAx in zip(atmLayers[1:], lowerLayers, atmAxColumn):\n",
        "\n",
        "    upperSlice = atmData.isel(isobaricInhPa=upperLayer).sel(longitude=slice(lonMin+360, lonMax+360), latitude=slice(latMin, latMax))\n",
        "    lowerSlice = atmData.isel(isobaricInhPa=lowerLayer).sel(longitude=slice(lonMin+360, lonMax+360), latitude=slice(latMin, latMax))\n",
        "\n",
        "    if potentialTemp: tdiff = (upperSlice.t.data * (1000/atmSlice.isobaricInhPa.data) ** 0.286) - (lowerSlice.t.data * (1000/atmSlice.isobaricInhPa.data) ** 0.286)\n",
        "    else: tdiff = upperSlice.t.data - lowerSlice.t.data\n",
        "\n",
        "    if \"Empty\" in contourLevs[upperLayer]: contourLevs[upperLayer] = np.round(np.linspace(-1*(np.max(abs(tdiff[np.isnan(tdiff)==False]))+1), np.max(abs(tdiff[np.isnan(tdiff)==False]))+1, 15), 2)\n",
        "\n",
        "    tempContour = atmAx.contourf(upperSlice.longitude.data, upperSlice.latitude.data, tdiff, cmap=\"bwr\", transform=ccrs.PlateCarree(),\n",
        "                                extent = [lonMin, lonMax, latMin, latMax], levels=contourLevs[upperLayer])\n",
        "    if valid == fcastTimes[-1]: atmFig.colorbar(tempContour, shrink=0.8, label=f\"T(z={int(atmData.isobaricInhPa.data[upperLayer])}) - T(z={int(atmData.isobaricInhPa.data[lowerLayer])})\")\n",
        "\n",
        "    #atmAx.scatter(tcLocs[valid][1], tcLocs[valid][0], marker=\"*\", color=\"black\", s=75, transform=ccrs.PlateCarree())\n",
        "    gridLabels = []\n",
        "    if lowerLayer == oceLayers[-1]: gridLabels.append(\"bottom\")\n",
        "    if valid == fcastTimes[0]: gridLabels.append(\"left\")\n",
        "    atmAx.gridlines(draw_labels=gridLabels, alpha=0.5)\n",
        "\n",
        "    atmAx.add_feature(cft.COASTLINE)\n",
        "    atmAx.add_feature(cft.BORDERS)\n",
        "    atmAx.set_title(valid.strftime(\"%Y-%m-%d %HUTC\"))\n",
        "\n",
        "    atmAx.set_extent([lonMin, lonMax, latMin, latMax])\n",
        "\n",
        "#atmFig.suptitle(f\"Atmosphere Initialized {initTime.strftime('%Y-%m-%d %HUTC')}\")"
      ],
      "metadata": {
        "collapsed": true,
        "id": "izfpsMeQD8J3"
      },
      "execution_count": null,
      "outputs": []
    },
    {
      "cell_type": "markdown",
      "source": [
        "Ocean Temperature Difference by Level"
      ],
      "metadata": {
        "id": "hV_P36LloDzm"
      }
    },
    {
      "cell_type": "code",
      "source": [
        "oceFig = plt.figure(figsize=(len(fcastTimes)*5,len(oceLayers)*7))\n",
        "oceAxes = [[oceFig.add_axes([xcorner, ycorner, xWidth-buffer, yWidth-buffer], projection=ccrs.PlateCarree()) for ycorner in ycorners] for xcorner in xcorners]\n",
        "\n",
        "contourLevs = {layer:[\"Empty\"] for layer in oceLayers}\n",
        "\n",
        "for valid, oceAxColumn in zip(fcastTimes, oceAxes):\n",
        "\n",
        "  fhour = str(int((valid-initTime).total_seconds() / 3600))\n",
        "  while len(fhour) < 3: fhour = \"0\" + fhour\n",
        "\n",
        "  oceFile = \"mom6_\" + initStr + \"_f\" + fhour + \".nc\"\n",
        "  ocePath = dataPath + \"mom6Output/\" + subfolder + oceFile\n",
        "  oceData = xr.open_dataset(ocePath, decode_times=False)\n",
        "\n",
        "  upperLayers = {\"top\":[0]*len(oceLayers[:-1]), \"incremental\":oceLayers[:-1]}[diffType]\n",
        "  for upperLayer, lowerLayer, oceAx in zip(upperLayers, oceLayers[1:], oceAxColumn):\n",
        "\n",
        "    upperSlice = oceData.isel(z_l=upperLayer, time=0).sel(xh=slice(lonMin, lonMax), yh=slice(latMin, latMax))\n",
        "    lowerSlice = oceData.isel(z_l=lowerLayer, time=0).sel(xh=slice(lonMin, lonMax), yh=slice(latMin, latMax))\n",
        "\n",
        "    tdiff = upperSlice.temp.data - lowerSlice.temp.data\n",
        "\n",
        "    maxContour = np.max(abs(tdiff[np.isnan(tdiff)==False]))+0.5\n",
        "    if \"Empty\" in contourLevs[lowerLayer]: contourLevs[lowerLayer] = np.round(np.linspace(-maxContour, maxContour, 20), 2)\n",
        "\n",
        "    #oceSlice = oceData.isel(z_l=oceLayer).sel(xh=slice(lonMin, lonMax), yh=slice(latMin, latMax), time=oceData.time.data[0]\n",
        "\n",
        "    tempContour = oceAx.contourf(lowerSlice.xh.data, lowerSlice.yh.data, tdiff, cmap=\"bwr\", transform=ccrs.PlateCarree(),\n",
        "                                extent=[lonMin, lonMax, latMin, latMax], levels=contourLevs[lowerLayer])\n",
        "    if valid == fcastTimes[-1]: oceFig.colorbar(tempContour, shrink=0.8, label=f\"T(z={round(oceData.z_l.data[upperLayer],1)}) - T(z={round(oceData.z_l.data[lowerLayer],1)})\")\n",
        "\n",
        "    oceAx.scatter(tcLocs[valid][1], tcLocs[valid][0], marker=\"*\", color=\"black\", s=100, transform=ccrs.PlateCarree())\n",
        "\n",
        "    gridLabels = []\n",
        "    if lowerLayer == oceLayers[-1]: gridLabels.append(\"bottom\")\n",
        "    if valid == fcastTimes[0]: gridLabels.append(\"left\")\n",
        "    oceAx.gridlines(draw_labels=gridLabels, alpha=0.5)\n",
        "\n",
        "    oceAx.add_feature(cft.COASTLINE)\n",
        "    oceAx.add_feature(cft.BORDERS)\n",
        "    oceAx.set_title(valid.strftime('%Y-%m-%d %HUTC'))\n",
        "\n",
        "    oceAx.set_extent([lonMin, lonMax, latMin, latMax])\n",
        "\n",
        "#oceFig.suptitle(f\"Initialized {initTime.strftime('%Y-%m-%d %HUTC')}\")"
      ],
      "metadata": {
        "id": "oaFlLfU4D8J4"
      },
      "execution_count": null,
      "outputs": []
    },
    {
      "cell_type": "markdown",
      "source": [
        "Plot of Vertical Model Resolution"
      ],
      "metadata": {
        "id": "onE8hqccR6jz"
      }
    },
    {
      "cell_type": "code",
      "source": [
        "resFig = plt.figure(figsize=(5, 8))\n",
        "atmAx = resFig.add_axes([0.1, 0.55, 0.8, 0.4])\n",
        "oceAx = resFig.add_axes([0.1, 0.05, 0.8, 0.4])\n",
        "\n",
        "atmAx.plot(np.arange(0, len(atmData.isobaricInhPa.data)), atmData.isobaricInhPa.data, label=\"Atmosphere\")\n",
        "atmAx.scatter(np.arange(0, len(atmData.isobaricInhPa.data)), atmData.isobaricInhPa.data)\n",
        "\n",
        "oceZ = oceData.z_l.data[oceData.z_l.data<=150]\n",
        "oceAx.plot(np.arange(0, len(oceZ)), oceZ, label=\"Ocean\")\n",
        "oceAx.scatter(np.arange(0, len(oceZ)), oceZ)\n",
        "oceAx.set_xticks(np.arange(0, len(oceZ), 3))\n",
        "\n",
        "atmAx.grid(alpha=0.5)\n",
        "atmAx.set_xlabel(\"# of Levels\")\n",
        "atmAx.set_ylabel(\"Pressure (hPa)\")\n",
        "atmAx.invert_yaxis()\n",
        "\n",
        "oceAx.grid(alpha=0.5)\n",
        "oceAx.set_xlabel(\"# of Levels\")\n",
        "oceAx.set_ylabel(\"Depth (m)\")\n",
        "oceAx.invert_yaxis()"
      ],
      "metadata": {
        "id": "ZnG6aK0jR6VU"
      },
      "execution_count": null,
      "outputs": []
    },
    {
      "cell_type": "markdown",
      "source": [
        "Amtospheric Fluxes and Wind Stress"
      ],
      "metadata": {
        "id": "d8TbMFJooUHi"
      }
    },
    {
      "cell_type": "code",
      "source": [
        "vars = [\"Momentum Flux\", \"Latent Heat Flux\", \"Total Heat Flux\"]\n",
        "cmaps = [\"cividis_r\", \"summer_r\", \"plasma_r\", \"viridis\"]\n",
        "\n",
        "buffer = 0.1 / len(vars)\n",
        "xWidth = 0.8 / len(fcastTimes)\n",
        "yWidth = 0.8 / len(vars)\n",
        "xcorners = np.arange(0.1,0.9,xWidth)\n",
        "ycorners = np.arange(0.1,0.8,yWidth)\n",
        "\n",
        "mapRadius = 1"
      ],
      "metadata": {
        "id": "5kqixPb4qlYq"
      },
      "execution_count": null,
      "outputs": []
    },
    {
      "cell_type": "markdown",
      "source": [
        "TODO: Look at heat-momentum flux correlation"
      ],
      "metadata": {
        "id": "24zZyKOuX9Qt"
      }
    },
    {
      "cell_type": "code",
      "source": [
        "atmFig = plt.figure(figsize=(len(fcastTimes)*4,len(vars)*4))\n",
        "atmAxes = [[atmFig.add_axes([xcorner, ycorner, xWidth-buffer, yWidth-buffer], projection=ccrs.PlateCarree()) for ycorner in ycorners] for xcorner in xcorners]\n",
        "\n",
        "#atmFig, atmAxes = plt.subplots(len(fcastTimes), len(vars), figsize=(len(fcastTimes)*7,len(vars)*5), subplot_kw={'projection': ccrs.PlateCarree()})\n",
        "\n",
        "contourLevs = {\"Wind Speed\":np.linspace(0,80,16), \"Total Heat Flux\": np.linspace(-3200, 0, 16), \"Latent Heat Flux\":np.linspace(-2000, 100, 14), \"Momentum Flux\": np.linspace(-12, 0, 12)}\n",
        "\n",
        "for valid, atmAxColumn in zip(fcastTimes, atmAxes):\n",
        "\n",
        "  lonMin, lonMax, latMin, latMax = tcLocs[valid][1]-mapRadius, tcLocs[valid][1]+mapRadius, tcLocs[valid][0]-mapRadius, tcLocs[valid][0]+mapRadius\n",
        "\n",
        "  fhour = str(int((valid-initTime).total_seconds() / 3600))\n",
        "  while len(fhour) < 3: fhour = \"0\" + fhour\n",
        "\n",
        "  atmFile = \"hafsa_\" + initStr + \"_f\" + fhour + \".nc\"\n",
        "  atmPath = dataPath + \"hafsaOutput/\" + subfolder + atmFile\n",
        "  atmData = xr.open_dataset(atmPath, decode_timedelta=False)\n",
        "\n",
        "  for var, atmAx, cmap in zip(vars, atmAxColumn, cmaps):\n",
        "\n",
        "    atmSlice = atmData.sel(longitude=slice(lonMin+360, lonMax+360), latitude=slice(latMin, latMax))\n",
        "    if var == \"Total Heat Flux\":\n",
        "      data = (atmSlice.slhtf.data + atmSlice.ishf.data + atmSlice.sulwrf.data) * -1\n",
        "      corr = np.corrcoef(data.flatten(), ((atmSlice.utaua.data**2 + atmSlice.vtaua.data**2)**0.5*-1).flatten())\n",
        "    if var == \"Latent Heat Flux\": data = atmSlice.slhtf.data * -1\n",
        "    if var == \"Momentum Flux\": data = (atmSlice.utaua.data**2 + atmSlice.vtaua.data**2)**0.5 * -1\n",
        "    if var == \"Wind Speed\": data = (atmSlice.u.sel(isobaricInhPa=1000.0).data**2 + atmSlice.v.sel(isobaricInhPa=1000.0).data**2)**0.5\n",
        "\n",
        "    contour = atmAx.contourf(atmSlice.longitude.data, atmSlice.latitude.data, data, cmap=cmap, transform=ccrs.PlateCarree(),\n",
        "                                extent=[lonMin, lonMax, latMin, latMax], levels=contourLevs[var])\n",
        "\n",
        "    labelSides = []\n",
        "    if var == vars[-0]: labelSides.append(\"bottom\")\n",
        "    if var == vars[-1]: atmAx.set_title(f\"{var}\\n{valid.strftime('%Y-%m-%d %HUTC')}\")\n",
        "    if valid == fcastTimes[0]: labelSides.append(\"left\")\n",
        "    atmAx.gridlines(draw_labels=labelSides, alpha=0.5)\n",
        "\n",
        "    atmAx.set_title(f\"{var}\\n{valid.strftime('%Y-%m-%d %HUTC')}\")\n",
        "    atmAx.add_feature(cft.COASTLINE)\n",
        "    atmAx.add_feature(cft.BORDERS)\n",
        "    #atmAx.set_title(f'{var}\\n{valid.strftime(\"%Y-%m-%d %HUTC\")}')\n",
        "    if valid == fcastTimes[-1]: atmFig.colorbar(contour, shrink=0.6)\n",
        "\n",
        "    atmAx.set_extent([lonMin, lonMax, latMin, latMax])"
      ],
      "metadata": {
        "id": "qKSxxaV3oaq6"
      },
      "execution_count": null,
      "outputs": []
    }
  ]
}