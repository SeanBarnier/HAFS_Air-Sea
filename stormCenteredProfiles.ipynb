{
  "nbformat": 4,
  "nbformat_minor": 0,
  "metadata": {
    "colab": {
      "provenance": [],
      "include_colab_link": true
    },
    "kernelspec": {
      "name": "python3",
      "display_name": "Python 3"
    },
    "language_info": {
      "name": "python"
    }
  },
  "cells": [
    {
      "cell_type": "markdown",
      "metadata": {
        "id": "view-in-github",
        "colab_type": "text"
      },
      "source": [
        "<a href=\"https://colab.research.google.com/github/SeanBarnier/HAFS_Air-Sea/blob/main/stormCenteredProfiles.ipynb\" target=\"_parent\"><img src=\"https://colab.research.google.com/assets/colab-badge.svg\" alt=\"Open In Colab\"/></a>"
      ]
    },
    {
      "cell_type": "code",
      "source": [
        "!pip install cfgrib"
      ],
      "metadata": {
        "id": "wDGgQBxjYusr",
        "collapsed": true,
        "outputId": "801dc919-bfdd-4871-8b74-a0523c6bd0d8",
        "colab": {
          "base_uri": "https://localhost:8080/"
        }
      },
      "execution_count": 2,
      "outputs": [
        {
          "output_type": "stream",
          "name": "stdout",
          "text": [
            "Collecting cfgrib\n",
            "  Downloading cfgrib-0.9.15.0-py3-none-any.whl.metadata (55 kB)\n",
            "\u001b[?25l     \u001b[90m━━━━━━━━━━━━━━━━━━━━━━━━━━━━━━━━━━━━━━━━\u001b[0m \u001b[32m0.0/55.5 kB\u001b[0m \u001b[31m?\u001b[0m eta \u001b[36m-:--:--\u001b[0m\r\u001b[2K     \u001b[90m━━━━━━━━━━━━━━━━━━━━━━━━━━━━━━━━━━━━━━━━\u001b[0m \u001b[32m55.5/55.5 kB\u001b[0m \u001b[31m2.1 MB/s\u001b[0m eta \u001b[36m0:00:00\u001b[0m\n",
            "\u001b[?25hRequirement already satisfied: attrs>=19.2 in /usr/local/lib/python3.11/dist-packages (from cfgrib) (25.3.0)\n",
            "Requirement already satisfied: click in /usr/local/lib/python3.11/dist-packages (from cfgrib) (8.2.1)\n",
            "Collecting eccodes>=0.9.8 (from cfgrib)\n",
            "  Downloading eccodes-2.42.0-cp311-cp311-manylinux_2_28_x86_64.whl.metadata (14 kB)\n",
            "Requirement already satisfied: numpy in /usr/local/lib/python3.11/dist-packages (from cfgrib) (2.0.2)\n",
            "Requirement already satisfied: cffi in /usr/local/lib/python3.11/dist-packages (from eccodes>=0.9.8->cfgrib) (1.17.1)\n",
            "Collecting findlibs (from eccodes>=0.9.8->cfgrib)\n",
            "  Downloading findlibs-0.1.1-py3-none-any.whl.metadata (3.6 kB)\n",
            "Requirement already satisfied: pycparser in /usr/local/lib/python3.11/dist-packages (from cffi->eccodes>=0.9.8->cfgrib) (2.22)\n",
            "Downloading cfgrib-0.9.15.0-py3-none-any.whl (48 kB)\n",
            "\u001b[2K   \u001b[90m━━━━━━━━━━━━━━━━━━━━━━━━━━━━━━━━━━━━━━━━\u001b[0m \u001b[32m48.9/48.9 kB\u001b[0m \u001b[31m3.3 MB/s\u001b[0m eta \u001b[36m0:00:00\u001b[0m\n",
            "\u001b[?25hDownloading eccodes-2.42.0-cp311-cp311-manylinux_2_28_x86_64.whl (8.2 MB)\n",
            "\u001b[2K   \u001b[90m━━━━━━━━━━━━━━━━━━━━━━━━━━━━━━━━━━━━━━━━\u001b[0m \u001b[32m8.2/8.2 MB\u001b[0m \u001b[31m72.2 MB/s\u001b[0m eta \u001b[36m0:00:00\u001b[0m\n",
            "\u001b[?25hDownloading findlibs-0.1.1-py3-none-any.whl (10 kB)\n",
            "Installing collected packages: findlibs, eccodes, cfgrib\n",
            "Successfully installed cfgrib-0.9.15.0 eccodes-2.42.0 findlibs-0.1.1\n"
          ]
        }
      ]
    },
    {
      "cell_type": "code",
      "source": [
        "import xarray as xr\n",
        "import pandas as pd\n",
        "import numpy as np\n",
        "import matplotlib.pyplot as plt\n",
        "from datetime import datetime as dt\n",
        "import cfgrib"
      ],
      "metadata": {
        "id": "vWrr_30yZ4nh"
      },
      "execution_count": 3,
      "outputs": []
    },
    {
      "cell_type": "code",
      "source": [
        "from google.colab import drive\n",
        "drive.mount('/content/drive')"
      ],
      "metadata": {
        "id": "6KsU8RFVmin5",
        "outputId": "f51eafbd-7523-4da1-84a7-6fe5010b9b9b",
        "colab": {
          "base_uri": "https://localhost:8080/"
        }
      },
      "execution_count": 1,
      "outputs": [
        {
          "output_type": "stream",
          "name": "stdout",
          "text": [
            "Mounted at /content/drive\n"
          ]
        }
      ]
    },
    {
      "cell_type": "markdown",
      "source": [
        "#User parameters"
      ],
      "metadata": {
        "id": "XnkUgaLnLbuC"
      }
    },
    {
      "cell_type": "code",
      "source": [
        "name = \"Milton\"\n",
        "tcNum = \"14\"\n",
        "trackType = \"\"\n",
        "\n",
        "runTime = dt(year=2024, month=10, day=7, hour=0) #1 day before Milton began its most rapid intensification\n",
        "\n",
        "fHourStep = 6       #Normally 3 for HAFS-A\n",
        "forecastLength = 48 #Normally 126 for HAFS-A.\n",
        "\n",
        "figureSuffix = \"_RI\"\n",
        "subfolder = \"RITest/\"\n",
        "dataPath = \"/content/drive/MyDrive/savedData/\"\n",
        "figurePath = \"/content/drive/MyDrive/figures/\"\n",
        "\n",
        "potentialTemp = True #Use atmospheric potential temperature instead of in-situ temperature\n",
        "\n",
        "#Defines area to average for the sounding. Must be one of \"point\", \"NE, \"SE\", \"SW\", \"NE\", or \"centered\"\n",
        "areaAvg = \"point\"\n",
        "areaRange = 1.0 #in degrees. Does not apply is areaAvg is \"point\"."
      ],
      "metadata": {
        "id": "5mX9LiKtLeTX"
      },
      "execution_count": 137,
      "outputs": []
    },
    {
      "cell_type": "markdown",
      "source": [
        "#Retrieve HAFS-A Data"
      ],
      "metadata": {
        "id": "5MU8O99TOZme"
      }
    },
    {
      "cell_type": "markdown",
      "source": [
        "Get ATCF data and find interested point"
      ],
      "metadata": {
        "id": "f4C7bEjXNznh"
      }
    },
    {
      "cell_type": "markdown",
      "source": [
        "Find times needed"
      ],
      "metadata": {
        "id": "aQjv2UVg4l65"
      }
    },
    {
      "cell_type": "code",
      "source": [
        "dateFormat = \"%Y-%m-%d %H:%M:%S\"\n",
        "runFormat = \"%Y%m%d_%H\"\n",
        "initStr, initHour = runTime.strftime(runFormat).split(\"_\")\n",
        "\n",
        "fcastTimes = []\n",
        "for fHour in range(0, forecastLength+1, fHourStep):\n",
        "  fcastTimes.append(runTime + pd.Timedelta(hours=fHour))"
      ],
      "metadata": {
        "collapsed": true,
        "id": "jdMyhDj94ij0"
      },
      "execution_count": 138,
      "outputs": []
    },
    {
      "cell_type": "markdown",
      "source": [
        "Find storm location in HAFS-A from ATCF files. Used to find along-storm profile."
      ],
      "metadata": {
        "id": "bNcDi6valX_j"
      }
    },
    {
      "cell_type": "code",
      "source": [
        "cols = [\"BASIN\", \"CY\", \"YYYYMMDDHH\", \"TECHNUM/MIN\", \"TECH\", \"TAU\", \"LatN/S\", \"LonE/W\",\n",
        "    \"VMAX\", \"MSLP\", \"TY\", \"RAD\", \"WINDCODE\", \"RAD1\", \"RAD2\", \"RAD3\", \"RAD4\",\n",
        "    \"POUTER\", \"ROUTER\", \"RMW\", \"GUSTS\", \"EYE\", \"SUBREGION\", \"MAXSEAS\", \"INITIALS\",\n",
        "    \"DIR\", \"SPEED\", \"STORMNAME\", \"DEPTH\", \"SEAS\", \"SEASCODE\", \"SEAS1\", \"SEAS2\",\n",
        "    \"SEAS3\", \"SEAS4\", \"USERDEFINED1\", \"Thermo1\", \"Thermo2\", \"Thermo3\", \"Thermo4\",\n",
        "    \"Thermo5\", \"Thermo6\", \"Thermo7\", \"USERDEFINED2\", \"DT\", \"SHR82\", \"SHR81_1\",\n",
        "    \"SHR82_2\",  \"USERDEFINED3\", \"SST\", \"USERDEFINED4\", \"ARMW1\", \"ARMW2\"]"
      ],
      "metadata": {
        "id": "yO6jA18GOCVi"
      },
      "execution_count": 139,
      "outputs": []
    },
    {
      "cell_type": "code",
      "source": [
        "tcLocs = {}\n",
        "\n",
        "atcfURL = f\"https://noaa-nws-hafs-pds.s3.amazonaws.com/hfsa/{initStr}/{initHour}/{tcNum}l.{initStr}{initHour}.hfsa.trak.atcfunix\"\n",
        "atcfFile = \"atcf_\" + initStr + \"_\" + initHour + \".csv\"\n",
        "!wget -O {atcfFile} {atcfURL}\n",
        "atcf = pd.read_csv(atcfFile, names=cols)\n",
        "\n",
        "for valid in fcastTimes:\n",
        "\n",
        "  fHour = int((valid-runTime).total_seconds() / 3600)\n",
        "  pointLat = int(atcf[atcf.TAU==fHour][\"LatN/S\"].iloc[0].replace(\"N\", \"\"))/10\n",
        "  pointLon = int(atcf[atcf.TAU==fHour][\"LonE/W\"].iloc[0].replace(\"W\", \"\"))/-10 #Assume western hemisphere\n",
        "  tcLocs[valid] = (pointLat, pointLon)"
      ],
      "metadata": {
        "id": "M2-eqEmxlXw3",
        "outputId": "995b0043-edda-4621-c2ca-8d9899420b3c",
        "colab": {
          "base_uri": "https://localhost:8080/"
        }
      },
      "execution_count": 140,
      "outputs": [
        {
          "output_type": "stream",
          "name": "stdout",
          "text": [
            "--2025-07-01 21:17:04--  https://noaa-nws-hafs-pds.s3.amazonaws.com/hfsa/20241007/00/14l.2024100700.hfsa.trak.atcfunix\n",
            "Resolving noaa-nws-hafs-pds.s3.amazonaws.com (noaa-nws-hafs-pds.s3.amazonaws.com)... 52.216.36.105, 52.216.138.251, 16.15.177.151, ...\n",
            "Connecting to noaa-nws-hafs-pds.s3.amazonaws.com (noaa-nws-hafs-pds.s3.amazonaws.com)|52.216.36.105|:443... connected.\n",
            "HTTP request sent, awaiting response... 200 OK\n",
            "Length: 35636 (35K) [application/octet-stream]\n",
            "Saving to: ‘atcf_20241007_00.csv’\n",
            "\n",
            "\ratcf_20241007_00.cs   0%[                    ]       0  --.-KB/s               \ratcf_20241007_00.cs 100%[===================>]  34.80K  --.-KB/s    in 0.02s   \n",
            "\n",
            "2025-07-01 21:17:04 (1.85 MB/s) - ‘atcf_20241007_00.csv’ saved [35636/35636]\n",
            "\n"
          ]
        }
      ]
    },
    {
      "cell_type": "code",
      "source": [
        "tcLocs"
      ],
      "metadata": {
        "id": "wLx5wFkVyxXj",
        "outputId": "8fd881b0-111a-46bf-e602-0b006dc338b7",
        "colab": {
          "base_uri": "https://localhost:8080/"
        }
      },
      "execution_count": 141,
      "outputs": [
        {
          "output_type": "execute_result",
          "data": {
            "text/plain": [
              "{datetime.datetime(2024, 10, 7, 0, 0): (22.4, -93.4),\n",
              " datetime.datetime(2024, 10, 7, 6, 0): (22.2, -92.8),\n",
              " datetime.datetime(2024, 10, 7, 12, 0): (22.0, -92.0),\n",
              " datetime.datetime(2024, 10, 7, 18, 0): (22.1, -91.0),\n",
              " datetime.datetime(2024, 10, 8, 0, 0): (22.3, -90.1),\n",
              " datetime.datetime(2024, 10, 8, 6, 0): (22.5, -89.2),\n",
              " datetime.datetime(2024, 10, 8, 12, 0): (22.9, -88.4),\n",
              " datetime.datetime(2024, 10, 8, 18, 0): (23.3, -87.6),\n",
              " datetime.datetime(2024, 10, 9, 0, 0): (23.9, -86.6)}"
            ]
          },
          "metadata": {},
          "execution_count": 141
        }
      ]
    },
    {
      "cell_type": "markdown",
      "source": [
        "Get data from HAFS-A output."
      ],
      "metadata": {
        "id": "gJK0pEvc4ij2"
      }
    },
    {
      "cell_type": "code",
      "source": [
        "init = runTime\n",
        "atm = {}\n",
        "atm[init] = {}\n",
        "\n",
        "for valid in fcastTimes:\n",
        "\n",
        "  atm[init][valid] = {}\n",
        "  initTime = init.strftime(\"%Y%m%d%H\")\n",
        "\n",
        "  fhour = str(int((valid-init).total_seconds() / 3600))\n",
        "  while len(fhour) < 3: fhour = \"0\" + fhour\n",
        "\n",
        "  atmFile = \"hafsa_\" + initTime + \"_f\" + fhour + \".nc\"\n",
        "  atmPath = dataPath + \"hafsaOutput/\" + subfolder + atmFile\n",
        "  atmData = xr.open_dataset(atmPath)\n",
        "\n",
        "  point = tcLocs[valid]\n",
        "  area = {\"NE\":[point[0], point[1], point[0]+areaRange, point[1]+areaRange], \"SE\":[point[0]-areaRange, point[1], point[0], point[1]+areaRange],\n",
        "          \"SW\":[point[0]-areaRange, point[1]-areaRange, point[0], point[1],], \"NW\":[point[0], point[1]-areaRange, point[0]+areaRange, point[1]],\n",
        "          \"centered\":[point[0]-(0.5*areaRange), point[1]-(0.5*areaRange), point[0]+(0.5*areaRange), point[1]+(0.5*areaRange)], \"point\":None}[areaAvg]\n",
        "\n",
        "  for layer in atmData.isobaricInhPa.data:\n",
        "    #Longitude in atm files are in degrees east, but are -180 - 180 in oce files. point has them from -180 - 180\n",
        "    atm[init][valid][layer] = {}\n",
        "\n",
        "    if areaAvg == \"point\": validPoint = atmData.sel(latitude=point[0], longitude=point[1] + 360, isobaricInhPa=layer, method=\"nearest\")\n",
        "    else: validPoint = atmData.sel(latitude=slice(area[0], area[2]), longitude=slice(area[1]+360, area[3]+360), isobaricInhPa=layer)\n",
        "\n",
        "    atm[init][valid][layer][\"T\"] = np.mean(validPoint.t.data)\n",
        "    if potentialTemp: atm[init][valid][layer][\"T\"] = np.mean(validPoint.t.data*((1000/layer)**0.28571)) #Formula from Stull R. 2017\n",
        "    atm[init][valid][layer][\"q\"] = np.mean(validPoint.q.data) * 1000 #Convert from kg/kg to g/kg\n",
        "    atm[init][valid][layer][\"u\"] = np.mean(validPoint.u.data)\n",
        "    atm[init][valid][layer][\"v\"] = np.mean(validPoint.v.data)\n",
        "    atm[init][valid][layer][\"gh\"] = np.mean(validPoint.gh.data)"
      ],
      "metadata": {
        "collapsed": true,
        "id": "mU1HIzL_4ij2",
        "outputId": "530705da-7884-442a-ad9e-42b4a6ac958a",
        "colab": {
          "base_uri": "https://localhost:8080/"
        }
      },
      "execution_count": 149,
      "outputs": [
        {
          "output_type": "stream",
          "name": "stderr",
          "text": [
            "/tmp/ipython-input-149-1501641160.py:15: FutureWarning: In a future version of xarray decode_timedelta will default to False rather than None. To silence this warning, set decode_timedelta to True, False, or a 'CFTimedeltaCoder' instance.\n",
            "  atmData = xr.open_dataset(atmPath)\n",
            "/tmp/ipython-input-149-1501641160.py:15: FutureWarning: In a future version of xarray decode_timedelta will default to False rather than None. To silence this warning, set decode_timedelta to True, False, or a 'CFTimedeltaCoder' instance.\n",
            "  atmData = xr.open_dataset(atmPath)\n",
            "/tmp/ipython-input-149-1501641160.py:15: FutureWarning: In a future version of xarray decode_timedelta will default to False rather than None. To silence this warning, set decode_timedelta to True, False, or a 'CFTimedeltaCoder' instance.\n",
            "  atmData = xr.open_dataset(atmPath)\n",
            "/tmp/ipython-input-149-1501641160.py:15: FutureWarning: In a future version of xarray decode_timedelta will default to False rather than None. To silence this warning, set decode_timedelta to True, False, or a 'CFTimedeltaCoder' instance.\n",
            "  atmData = xr.open_dataset(atmPath)\n",
            "/tmp/ipython-input-149-1501641160.py:15: FutureWarning: In a future version of xarray decode_timedelta will default to False rather than None. To silence this warning, set decode_timedelta to True, False, or a 'CFTimedeltaCoder' instance.\n",
            "  atmData = xr.open_dataset(atmPath)\n",
            "/tmp/ipython-input-149-1501641160.py:15: FutureWarning: In a future version of xarray decode_timedelta will default to False rather than None. To silence this warning, set decode_timedelta to True, False, or a 'CFTimedeltaCoder' instance.\n",
            "  atmData = xr.open_dataset(atmPath)\n",
            "/tmp/ipython-input-149-1501641160.py:15: FutureWarning: In a future version of xarray decode_timedelta will default to False rather than None. To silence this warning, set decode_timedelta to True, False, or a 'CFTimedeltaCoder' instance.\n",
            "  atmData = xr.open_dataset(atmPath)\n",
            "/tmp/ipython-input-149-1501641160.py:15: FutureWarning: In a future version of xarray decode_timedelta will default to False rather than None. To silence this warning, set decode_timedelta to True, False, or a 'CFTimedeltaCoder' instance.\n",
            "  atmData = xr.open_dataset(atmPath)\n",
            "/tmp/ipython-input-149-1501641160.py:15: FutureWarning: In a future version of xarray decode_timedelta will default to False rather than None. To silence this warning, set decode_timedelta to True, False, or a 'CFTimedeltaCoder' instance.\n",
            "  atmData = xr.open_dataset(atmPath)\n"
          ]
        }
      ]
    },
    {
      "cell_type": "code",
      "source": [
        "oce = {}\n",
        "oce[init] = {}\n",
        "\n",
        "for valid in fcastTimes:\n",
        "  oce[init][valid] = {}\n",
        "  initTime = init.strftime(\"%Y%m%d%H\")\n",
        "\n",
        "  oce[init][valid] = {}\n",
        "\n",
        "  fhour = str(int((valid-init).total_seconds() / 3600))\n",
        "  while len(fhour) < 3: fhour = \"0\" + fhour\n",
        "  oceFile = \"mom6_\" + initTime + \"_f\" + fhour + \".nc\"\n",
        "  ocePath = dataPath + \"mom6Output/\" + subfolder + oceFile\n",
        "\n",
        "  if oceFile == 'mom6_2024100800_f000.nc': #This file is missing\n",
        "    for layer in oceData.z_l.data:\n",
        "      oce[init][valid][layer] = {\"T\":np.nan, \"s\":np.nan, \"u\":np.nan, \"v\":np.nan}\n",
        "    continue\n",
        "\n",
        "  oceData = xr.open_dataset(ocePath, decode_times=False)\n",
        "\n",
        "  point = tcLocs[valid]\n",
        "  area = {\"NE\":[point[0], point[1], point[0]+areaRange, point[1]+areaRange], \"SE\":[point[0]-areaRange, point[1], point[0], point[1]+areaRange],\n",
        "          \"SW\":[point[0]-areaRange, point[1]-areaRange, point[0], point[1],], \"NW\":[point[0], point[1]-areaRange, point[0]+areaRange, point[1]],\n",
        "          \"centered\":[point[0]-(0.5*areaRange), point[1]-(0.5*areaRange), point[0]+(0.5*areaRange), point[1]+(0.5*areaRange)], \"point\":None}[areaAvg]\n",
        "\n",
        "  for layer in oceData.z_l.data:\n",
        "\n",
        "    if areaAvg == \"point\": validPoint = oceData.sel(yh=point[0], yq=point[0], xq=point[1], xh=point[1], z_l=layer, method=\"nearest\")\n",
        "    else: validPoint = oceData.sel(yq=slice(area[0], area[2]), yh=slice(area[0], area[2]), xq=slice(area[1], area[3]), xh=slice(area[1], area[3]), z_l=layer)\n",
        "\n",
        "    oce[init][valid][layer] = {}\n",
        "    oce[init][valid][layer][\"T\"] = np.mean(validPoint.temp.data) + 273.15 #This is potential temperature. Converted from C to K.\n",
        "    oce[init][valid][layer][\"s\"] = np.mean(validPoint.so.data)\n",
        "    oce[init][valid][layer][\"u\"] = np.mean(validPoint.uo.data)\n",
        "    oce[init][valid][layer][\"v\"] = np.mean(validPoint.vo.data)"
      ],
      "metadata": {
        "collapsed": true,
        "id": "VZXxVJfcV7Zl"
      },
      "execution_count": 150,
      "outputs": []
    },
    {
      "cell_type": "markdown",
      "source": [
        "#Figures"
      ],
      "metadata": {
        "id": "24i_8aXqznNZ"
      }
    },
    {
      "cell_type": "markdown",
      "source": [
        "Single-point profiles with time"
      ],
      "metadata": {
        "id": "7nkcBWLyzqK3"
      }
    },
    {
      "cell_type": "code",
      "source": [
        "profFig = plt.figure(figsize=(12,8))\n",
        "\n",
        "var = \"T\"\n",
        "atmRange = {\"T\":(295,315), \"u\":(-20,20), \"v\":(-20,20)}[var]\n",
        "oceRange = {\"T\":(295,315), \"u\":(-1,1), \"v\":(-1,1)}[var]\n",
        "\n",
        "valids = list(atm[runTime].keys())\n",
        "axCorners = np.linspace(0.1, 0.9, len(valids))\n",
        "axWidth = 0.8/len(valids)\n",
        "\n",
        "atmAxes = [profFig.add_axes([corner, 0.52, axWidth, 0.38]) for corner in axCorners]\n",
        "oceAxes = [profFig.add_axes([corner, 0.1, axWidth, 0.38]) for corner in axCorners]\n",
        "\n",
        "colors = [\"blue\"] * len(valids)\n",
        "\n",
        "for time, atmAx, oceAx, color in zip(valids, atmAxes, oceAxes, colors):\n",
        "\n",
        "  if time < runTime: continue\n",
        "  ocez = list(oce[runTime][time].keys())\n",
        "  oceVals = [oce[runTime][time][level][var] for level in ocez]\n",
        "  oceAx.plot(oceVals, ocez, label=time.strftime(\"%m-%d %HUTC\"), color=color)#, linestyle=linestyle)\n",
        "\n",
        "  atmz = list(atm[runTime][time].keys())\n",
        "  atmT = [atm[runTime][time][level][var] for level in atmz]\n",
        "  atmAx.plot(atmT, atmz, label=time.strftime(\"%m-%d %HUTC\"), color=color)#, linestyle=linestyle)\n",
        "\n",
        "  atmAx.set_title(time.strftime(\"%m-%d %HUTC\"), fontsize=12)\n",
        "  oceAx.invert_yaxis()\n",
        "  atmAx.invert_yaxis()\n",
        "  oceAx.set_xlim(oceRange[0], oceRange[1])\n",
        "  atmAx.set_xlim(atmRange[0], atmRange[1])\n",
        "  oceAx.set_ylim(100,1)\n",
        "  atmAx.set_ylim(1000,850)\n",
        "\n",
        "  oceAx.grid(alpha=0.5)\n",
        "  atmAx.grid(alpha=0.5)\n",
        "\n",
        "profFig.supxlabel({\"T\":\"Potential Temperature (K)\", \"u\":\"U-Component of Velocity (m/s)\", \"v\":\"V-Component of Velocity (m/s)\"}[var])\n",
        "oceAxes[0].set_ylabel(\"Depth (m)\")\n",
        "atmAxes[0].set_ylabel(\"Pressure (hPa)\")\n",
        "for ax in atmAxes[1:] + oceAxes[1:]: ax.set_yticklabels([])\n",
        "\n",
        "plt.savefig(f\"{var}StormCenteredProfiles.png\")\n",
        "plt.show()"
      ],
      "metadata": {
        "id": "M3Vq6bxencue",
        "outputId": "3ae2bfef-ba47-441b-9168-8ada9712663e",
        "colab": {
          "base_uri": "https://localhost:8080/",
          "height": 771
        }
      },
      "execution_count": 153,
      "outputs": [
        {
          "output_type": "display_data",
          "data": {
            "text/plain": [
              "<Figure size 1200x800 with 18 Axes>"
            ],
            "image/png": "[encoded data removed]"
          },
          "metadata": {}
        }
      ]
    }
  ]
}