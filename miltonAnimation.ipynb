{
  "nbformat": 4,
  "nbformat_minor": 0,
  "metadata": {
    "colab": {
      "provenance": [],
      "mount_file_id": "1O5prK-lQaQGc4r_PUSBtR1y4ryElM71B",
      "authorship_tag": "ABX9TyMzDE0mTPSq+65TDqXTkSu6",
      "include_colab_link": true
    },
    "kernelspec": {
      "name": "python3",
      "display_name": "Python 3"
    },
    "language_info": {
      "name": "python"
    }
  },
  "cells": [
    {
      "cell_type": "markdown",
      "metadata": {
        "id": "view-in-github",
        "colab_type": "text"
      },
      "source": [
        "<a href=\"https://colab.research.google.com/github/SeanBarnier/HAFS_Air-Sea/blob/main/miltonAnimation.ipynb\" target=\"_parent\"><img src=\"https://colab.research.google.com/assets/colab-badge.svg\" alt=\"Open In Colab\"/></a>"
      ]
    },
    {
      "cell_type": "markdown",
      "source": [
        "Set up environment"
      ],
      "metadata": {
        "id": "L73brVeaOb2z"
      }
    },
    {
      "cell_type": "code",
      "source": [
        "from google.colab import drive\n",
        "drive.mount('/content/drive')"
      ],
      "metadata": {
        "id": "jX4SHoca9wQe"
      },
      "execution_count": null,
      "outputs": []
    },
    {
      "cell_type": "code",
      "source": [
        "!pip install cartopy"
      ],
      "metadata": {
        "id": "5uklgXDt6Ldw"
      },
      "execution_count": null,
      "outputs": []
    },
    {
      "cell_type": "code",
      "execution_count": null,
      "metadata": {
        "id": "oIjZ6RrM4rgs"
      },
      "outputs": [],
      "source": [
        "import numpy as np\n",
        "import matplotlib.pyplot as plt\n",
        "from matplotlib.animation import FuncAnimation\n",
        "import xarray as xr\n",
        "import cartopy.crs as ccrs\n",
        "import cartopy.feature as cft\n",
        "import pandas as pd\n",
        "from datetime import datetime as dt"
      ]
    },
    {
      "cell_type": "markdown",
      "source": [
        "Set user parameters"
      ],
      "metadata": {
        "id": "HwdjYXkHOeAC"
      }
    },
    {
      "cell_type": "code",
      "source": [
        "name = \"Milton\"\n",
        "tcNum = \"14\"\n",
        "trackType = \"\"\n",
        "\n",
        "initTime = dt(year=2024, month=10, day=7, hour=18) #Time when Milton began its most rapid intensification\n",
        "initStr, initHour = initTime.strftime(\"%Y%m%d_%H\").split(\"_\")\n",
        "\n",
        "fHourStep = 3      #Normally 3 for HAFS-A\n",
        "forecastLength = 30 #Normally 126 for HAFS-A.\n",
        "#runStep = 6         #Normally 6 for HAFS-A\n",
        "\n",
        "figureSuffix = \"_RI\"\n",
        "subfolder = \"RI/\"\n",
        "dataPath = \"/content/drive/MyDrive/savedData/\"\n",
        "figurePath = \"/content/drive/MyDrive/figures/\"\n",
        "\n",
        "potentialTemp = True #Use atmospheric potential temperature instead of in-situ temperature\n",
        "\n",
        "lonMin, lonMax, latMin, latMax = -92, -85, 21, 25\n",
        "atmLayer = 1000.0"
      ],
      "metadata": {
        "id": "5mX9LiKtLeTX"
      },
      "execution_count": null,
      "outputs": []
    },
    {
      "cell_type": "markdown",
      "source": [
        "Find times needed"
      ],
      "metadata": {
        "id": "aQjv2UVg4l65"
      }
    },
    {
      "cell_type": "code",
      "source": [
        "dateFormat = \"%Y-%m-%d %H:%M:%S\"\n",
        "runFormat = \"%Y%m%d%H\"\n",
        "\n",
        "#Times to plot\n",
        "fcastTimes = [] #Key: initiation, item: valid time list\n",
        "fhour = 0\n",
        "validTime = initTime\n",
        "while fhour <= forecastLength:\n",
        "    fcastTimes.append(validTime)\n",
        "    validTime += pd.Timedelta(hours=fHourStep)\n",
        "    fhour += fHourStep"
      ],
      "metadata": {
        "collapsed": true,
        "id": "jdMyhDj94ij0"
      },
      "execution_count": null,
      "outputs": []
    },
    {
      "cell_type": "markdown",
      "source": [
        "Create animation"
      ],
      "metadata": {
        "id": "23Mq13SfOgGc"
      }
    },
    {
      "cell_type": "code",
      "source": [
        "atmFig, atmAx = plt.subplots(figsize=(10, 10), subplot_kw={\"projection\": ccrs.PlateCarree()})\n",
        "contourLevs = np.linspace(0, 80, 17)\n",
        "\n",
        "def update(valid):\n",
        "\n",
        "  fhour = str(int((valid-initTime).total_seconds() / 3600))\n",
        "  while len(fhour) < 3: fhour = \"0\" + fhour\n",
        "\n",
        "  atmFile = \"hafsa_\" + initStr + initHour + \"_f\" + fhour + \".nc\"\n",
        "  atmPath = dataPath + \"hafsaOutput/\" + subfolder + atmFile\n",
        "  atmData = xr.open_dataset(atmPath)\n",
        "\n",
        "  atmSlice = atmData.sel(isobaricInhPa=atmLayer).sel(longitude=slice(lonMin+360, lonMax+360), latitude=slice(latMin, latMax))\n",
        "  dat = np.sqrt(atmSlice.u.data ** 2 + atmSlice.v.data ** 2)\n",
        "\n",
        "  tempContour = atmAx.contourf(atmSlice.longitude.data, atmSlice.latitude.data, dat, cmap=\"viridis\", transform=ccrs.PlateCarree(),\n",
        "                              extent = [lonMin, lonMax, latMin, latMax], levels=contourLevs)\n",
        "  atmAx.coastlines()\n",
        "  atmAx.gridlines(draw_labels=[\"left\", \"bottom\"], alpha=0.5)\n",
        "  atmAx.set_title(valid.strftime(\"%Y-%m-%d %HUTC\"))\n",
        "\n",
        "  atmAx.set_extent([lonMin, lonMax, latMin, latMax])\n",
        "\n",
        "  return [tempContour] # Return a list of artists\n",
        "\n",
        "def init():\n",
        "  tempContour = update(fcastTimes[0])\n",
        "  atmFig.colorbar(tempContour[0], shrink=0.4, label=\"Wind Speed (ms$^{-1}$)\")\n",
        "  return tempContour\n",
        "\n",
        "ani = FuncAnimation(atmFig, update, frames=fcastTimes,\n",
        "                    init_func=init, blit=True)\n",
        "ani.save(\"miltonWind.gif\", fps=1.5)\n",
        "plt.show()"
      ],
      "metadata": {
        "id": "tDP9pzti5W67"
      },
      "execution_count": null,
      "outputs": []
    }
  ]
}