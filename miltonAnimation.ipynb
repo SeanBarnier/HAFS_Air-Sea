{
  "nbformat": 4,
  "nbformat_minor": 0,
  "metadata": {
    "colab": {
      "provenance": [],
      "mount_file_id": "1O5prK-lQaQGc4r_PUSBtR1y4ryElM71B",
      "authorship_tag": "ABX9TyPYaL2TSqaliLC7H31QTU/4",
      "include_colab_link": true
    },
    "kernelspec": {
      "name": "python3",
      "display_name": "Python 3"
    },
    "language_info": {
      "name": "python"
    }
  },
  "cells": [
    {
      "cell_type": "markdown",
      "metadata": {
        "id": "view-in-github",
        "colab_type": "text"
      },
      "source": [
        "<a href=\"https://colab.research.google.com/github/SeanBarnier/HAFS_Air-Sea/blob/main/miltonAnimation.ipynb\" target=\"_parent\"><img src=\"https://colab.research.google.com/assets/colab-badge.svg\" alt=\"Open In Colab\"/></a>"
      ]
    },
    {
      "cell_type": "markdown",
      "source": [
        "Set up environment"
      ],
      "metadata": {
        "id": "L73brVeaOb2z"
      }
    },
    {
      "cell_type": "code",
      "source": [
        "from google.colab import drive\n",
        "drive.mount('/content/drive')"
      ],
      "metadata": {
        "id": "jX4SHoca9wQe"
      },
      "execution_count": null,
      "outputs": []
    },
    {
      "cell_type": "code",
      "source": [
        "!pip install cartopy"
      ],
      "metadata": {
        "id": "5uklgXDt6Ldw"
      },
      "execution_count": null,
      "outputs": []
    },
    {
      "cell_type": "code",
      "execution_count": null,
      "metadata": {
        "id": "oIjZ6RrM4rgs"
      },
      "outputs": [],
      "source": [
        "import numpy as np\n",
        "import matplotlib.pyplot as plt\n",
        "from matplotlib.animation import FuncAnimation\n",
        "import xarray as xr\n",
        "import cartopy.crs as ccrs\n",
        "import cartopy.feature as cft\n",
        "import pandas as pd\n",
        "from datetime import datetime as dt"
      ]
    },
    {
      "cell_type": "markdown",
      "source": [
        "Set user parameters"
      ],
      "metadata": {
        "id": "HwdjYXkHOeAC"
      }
    },
    {
      "cell_type": "code",
      "source": [
        "name = \"Milton\"\n",
        "tcNum = \"14\"\n",
        "trackType = \"\"\n",
        "\n",
        "initTime = dt(year=2024, month=10, day=8, hour=6)\n",
        "initStr, initHour = initTime.strftime(\"%Y%m%d_%H\").split(\"_\")\n",
        "\n",
        "fHourStep = 3      #Normally 3 for HAFS-A\n",
        "forecastLength = 48 #Normally 126 for HAFS-A.\n",
        "#runStep = 6         #Normally 6 for HAFS-A\n",
        "\n",
        "figureSuffix = \"_RI\"\n",
        "subfolder = \"RI/\"\n",
        "dataPath = \"/content/drive/MyDrive/savedData/\"\n",
        "figurePath = \"/content/drive/MyDrive/figures/\"\n",
        "\n",
        "potentialTemp = True #Use atmospheric potential temperature instead of in-situ temperature\n",
        "stormCentered = True\n",
        "\n",
        "lonMin, lonMax, latMin, latMax = -92, -85, 21, 25 #used if stormCetered = False\n",
        "mapRadius = 0.75\n",
        "atmLayer = 1000.0"
      ],
      "metadata": {
        "id": "5mX9LiKtLeTX"
      },
      "execution_count": null,
      "outputs": []
    },
    {
      "cell_type": "markdown",
      "source": [
        "Find times needed"
      ],
      "metadata": {
        "id": "aQjv2UVg4l65"
      }
    },
    {
      "cell_type": "code",
      "source": [
        "dateFormat = \"%Y-%m-%d %H:%M:%S\"\n",
        "runFormat = \"%Y%m%d%H\"\n",
        "\n",
        "#Times to plot\n",
        "fcastTimes = [] #Key: initiation, item: valid time list\n",
        "fhour = 0\n",
        "validTime = initTime\n",
        "while fhour <= forecastLength:\n",
        "    fcastTimes.append(validTime)\n",
        "    validTime += pd.Timedelta(hours=fHourStep)\n",
        "    fhour += fHourStep"
      ],
      "metadata": {
        "collapsed": true,
        "id": "jdMyhDj94ij0"
      },
      "execution_count": null,
      "outputs": []
    },
    {
      "cell_type": "markdown",
      "source": [
        "Find TC Location"
      ],
      "metadata": {
        "id": "hbk3jOQ5VA79"
      }
    },
    {
      "cell_type": "code",
      "source": [
        "cols = [\"BASIN\", \"CY\", \"YYYYMMDDHH\", \"TECHNUM/MIN\", \"TECH\", \"TAU\", \"LatN/S\", \"LonE/W\",\n",
        "    \"VMAX\", \"MSLP\", \"TY\", \"RAD\", \"WINDCODE\", \"RAD1\", \"RAD2\", \"RAD3\", \"RAD4\",\n",
        "    \"POUTER\", \"ROUTER\", \"RMW\", \"GUSTS\", \"EYE\", \"SUBREGION\", \"MAXSEAS\", \"INITIALS\",\n",
        "    \"DIR\", \"SPEED\", \"STORMNAME\", \"DEPTH\", \"SEAS\", \"SEASCODE\", \"SEAS1\", \"SEAS2\",\n",
        "    \"SEAS3\", \"SEAS4\", \"USERDEFINED1\", \"Thermo1\", \"Thermo2\", \"Thermo3\", \"Thermo4\",\n",
        "    \"Thermo5\", \"Thermo6\", \"Thermo7\", \"USERDEFINED2\", \"DT\", \"SHR82\", \"SHR81_1\",\n",
        "    \"SHR82_2\",  \"USERDEFINED3\", \"SST\", \"USERDEFINED4\", \"ARMW1\", \"ARMW2\"]\n",
        "\n",
        "initStr, initHour = initTime.strftime(\"%Y%m%d_%H\").split(\"_\")\n",
        "\n",
        "atcfURL = f\"https://noaa-nws-hafs-pds.s3.amazonaws.com/hfsa/{initStr}/{initHour}/{tcNum}l.{initStr}{initHour}.hfsa.trak.atcfunix\"\n",
        "atcfFile = \"atcf_\" + initStr + \"_\" + initHour + \".csv\"\n",
        "\n",
        "!wget -O {atcfFile} {atcfURL}\n",
        "atcf = pd.read_csv(atcfFile, names=cols)"
      ],
      "metadata": {
        "id": "yO6jA18GOCVi"
      },
      "execution_count": null,
      "outputs": []
    },
    {
      "cell_type": "code",
      "source": [
        "tcLocs = {}\n",
        "rmws = {}\n",
        "vmax = {}\n",
        "\n",
        "for valid in fcastTimes:\n",
        "    fHour = int((valid-initTime).total_seconds() / 3600)\n",
        "\n",
        "    pointLat = int(atcf[atcf.TAU==fHour][\"LatN/S\"].iloc[0].replace(\"N\", \"\"))/10\n",
        "    pointLon = int(atcf[atcf.TAU==fHour][\"LonE/W\"].iloc[0].replace(\"W\", \"\"))/-10 #Assume western hemisphere\n",
        "    tcLocs[valid] = (pointLat, pointLon)\n",
        "\n",
        "    rmws[valid] = atcf[atcf.TAU==fHour][\"RMW\"].iloc[0] * 1.852 #n mi to km\n",
        "    vmax[valid] = atcf[atcf.TAU==fHour][\"VMAX\"].iloc[0]\n"
      ],
      "metadata": {
        "id": "M2-eqEmxlXw3"
      },
      "execution_count": null,
      "outputs": []
    },
    {
      "cell_type": "markdown",
      "source": [
        "Create animation"
      ],
      "metadata": {
        "id": "23Mq13SfOgGc"
      }
    },
    {
      "cell_type": "code",
      "source": [
        "atmFig, atmAx = plt.subplots(figsize=(10, 10), subplot_kw={\"projection\": ccrs.PlateCarree()})\n",
        "contourLevs = np.linspace(0, 80, 17)\n",
        "\n",
        "def update(valid):\n",
        "  global lonMin, lonMax, latMin, latMax\n",
        "\n",
        "  fhour = str(int((valid-initTime).total_seconds() / 3600))\n",
        "  while len(fhour) < 3: fhour = \"0\" + fhour\n",
        "\n",
        "  atmFile = \"hafsa_\" + initStr + initHour + \"_f\" + fhour + \".nc\"\n",
        "  atmPath = dataPath + \"hafsaOutput/\" + subfolder + atmFile\n",
        "  atmData = xr.open_dataset(atmPath)\n",
        "\n",
        "  if stormCentered: lonMin, lonMax, latMin, latMax = tcLocs[valid][1]-mapRadius, tcLocs[valid][1]+mapRadius, tcLocs[valid][0]-mapRadius, tcLocs[valid][0]+mapRadius\n",
        "  atmSlice = atmData.sel(isobaricInhPa=atmLayer).sel(longitude=slice(lonMin+360, lonMax+360), latitude=slice(latMin, latMax))\n",
        "  dat = np.sqrt(atmSlice.u.data ** 2 + atmSlice.v.data ** 2)\n",
        "\n",
        "  tempContour = atmAx.contourf(atmSlice.longitude.data, atmSlice.latitude.data, dat, cmap=\"viridis\", transform=ccrs.PlateCarree(), levels=contourLevs)\n",
        "                              #extent = [lonMin, lonMax, latMin, latMax], levels=contourLevs)\n",
        "  atmAx.coastlines()\n",
        "  atmAx.gridlines(draw_labels=[\"left\", \"bottom\"], alpha=0.5)\n",
        "  atmAx.set_title(valid.strftime(\"%Y-%m-%d %HUTC\"))\n",
        "\n",
        "  atmAx.set_extent([lonMin, lonMax, latMin, latMax])\n",
        "\n",
        "  return [tempContour] # Return a list of artists\n",
        "\n",
        "def init():\n",
        "  tempContour = update(fcastTimes[0])\n",
        "  atmFig.colorbar(tempContour[0], shrink=0.4, label=\"Wind Speed (ms$^{-1}$)\")\n",
        "  return tempContour\n",
        "\n",
        "ani = FuncAnimation(atmFig, update, frames=fcastTimes,\n",
        "                    init_func=init, blit=True)\n",
        "ani.save(f\"miltonWind_{initTime.strftime('%m%d%H')}.gif\", fps=1.5)\n",
        "plt.show()"
      ],
      "metadata": {
        "id": "tDP9pzti5W67"
      },
      "execution_count": null,
      "outputs": []
    },
    {
      "cell_type": "markdown",
      "source": [
        "RMW with time"
      ],
      "metadata": {
        "id": "lZn9Y-7exha6"
      }
    },
    {
      "cell_type": "code",
      "source": [
        "rmwAx.xticksparams(rotation=45)"
      ],
      "metadata": {
        "id": "aM5yQDFg6oti"
      },
      "execution_count": null,
      "outputs": []
    },
    {
      "cell_type": "code",
      "source": [
        "fig = plt.figure(figsize=(8, 4))\n",
        "rmwAx = fig.add_subplot()\n",
        "vmaxAx = rmwAx.twinx()\n",
        "\n",
        "rmwAx.plot(rmws.keys(), rmws.values(), color=\"b\")\n",
        "vmaxAx.plot(vmax.keys(), vmax.values(), color=\"r\")\n",
        "\n",
        "rmwAx.set_ylabel(\"RMW (km)\", color=\"b\")\n",
        "vmaxAx.set_ylabel(\"Vmax (kt)\", color=\"r\")\n",
        "rmwAx.grid(alpha=0.5)\n",
        "fig.suptitle(initTime.strftime(\"%Y-%m-%d %HUTC\"))"
      ],
      "metadata": {
        "id": "5XpuwqhZxhAq"
      },
      "execution_count": null,
      "outputs": []
    }
  ]
}