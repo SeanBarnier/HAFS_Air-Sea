{
  "nbformat": 4,
  "nbformat_minor": 0,
  "metadata": {
    "colab": {
      "provenance": [],
      "authorship_tag": "ABX9TyOZ95EgboaQvJqgw1OJFhnL",
      "include_colab_link": true
    },
    "kernelspec": {
      "name": "python3",
      "display_name": "Python 3"
    },
    "language_info": {
      "name": "python"
    }
  },
  "cells": [
    {
      "cell_type": "markdown",
      "metadata": {
        "id": "view-in-github",
        "colab_type": "text"
      },
      "source": [
        "<a href=\"https://colab.research.google.com/github/SeanBarnier/HAFS_Air-Sea/blob/main/miltonAnimation.ipynb\" target=\"_parent\"><img src=\"https://colab.research.google.com/assets/colab-badge.svg\" alt=\"Open In Colab\"/></a>"
      ]
    },
    {
      "cell_type": "code",
      "source": [
        "!pip install cartopy"
      ],
      "metadata": {
        "id": "5uklgXDt6Ldw"
      },
      "execution_count": null,
      "outputs": []
    },
    {
      "cell_type": "code",
      "execution_count": null,
      "metadata": {
        "id": "oIjZ6RrM4rgs"
      },
      "outputs": [],
      "source": [
        "import numpy as np\n",
        "import matplotlib.pyplot as plt\n",
        "from matplotlib.animation import FuncAnimation\n",
        "import xarray as xr\n",
        "import cartopy.crs as ccrs\n",
        "import cartopy.feature as cft\n",
        "import pandas as pd\n",
        "from datetime import datetime as dt"
      ]
    },
    {
      "cell_type": "code",
      "source": [
        "name = \"Milton\"\n",
        "tcNum = \"14\"\n",
        "trackType = \"\"\n",
        "\n",
        "initTime = dt(year=2024, month=10, day=7, hour=0) #Time when Milton began its most rapid intensification\n",
        "initStr, initHour = initTime.strftime(\"%Y%m%d_%H\").split(\"_\")\n",
        "\n",
        "fHourStep = 12      #Normally 3 for HAFS-A\n",
        "forecastLength = 54 #Normally 126 for HAFS-A.\n",
        "#runStep = 6         #Normally 6 for HAFS-A\n",
        "\n",
        "figureSuffix = \"_RI\"\n",
        "subfolder = \"RI/\"\n",
        "dataPath = \"/content/drive/MyDrive/savedData/\"\n",
        "figurePath = \"/content/drive/MyDrive/figures/\"\n",
        "\n",
        "potentialTemp = True #Use atmospheric potential temperature instead of in-situ temperature\n",
        "\n",
        "lonMin, lonMax, latMin, latMax = -95, -85, 21, 26\n",
        "atmLayer = 1000.0"
      ],
      "metadata": {
        "id": "5mX9LiKtLeTX"
      },
      "execution_count": null,
      "outputs": []
    },
    {
      "cell_type": "markdown",
      "source": [
        "Find times needed"
      ],
      "metadata": {
        "id": "aQjv2UVg4l65"
      }
    },
    {
      "cell_type": "code",
      "source": [
        "dateFormat = \"%Y-%m-%d %H:%M:%S\"\n",
        "runFormat = \"%Y%m%d%H\"\n",
        "\n",
        "#Times to plot\n",
        "fcastTimes = [] #Key: initiation, item: valid time list\n",
        "fhour = 0\n",
        "validTime = initTime\n",
        "while fhour <= forecastLength:\n",
        "    fcastTimes.append(validTime)\n",
        "    validTime += pd.Timedelta(hours=fHourStep)\n",
        "    fhour += fHourStep"
      ],
      "metadata": {
        "collapsed": true,
        "id": "jdMyhDj94ij0"
      },
      "execution_count": null,
      "outputs": []
    },
    {
      "cell_type": "code",
      "source": [
        "atmFig, atmAx = plt.subplots()\n",
        "xdata, ydata = [], []\n",
        "\n",
        "contourLevs = np.linspace(0, 80, 17)\n",
        "\n",
        "atmPlot = atmAx.contourf([1,1], [1,1], [[1,1], [1,1]])\n",
        "\n",
        "def update(valid):\n",
        "\n",
        "  fhour = str(int((valid-initTime).total_seconds() / 3600))\n",
        "  while len(fhour) < 3: fhour = \"0\" + fhour\n",
        "\n",
        "  atmFile = \"hafsa_\" + initStr + initHour + \"_f\" + fhour + \".nc\"\n",
        "  atmPath = dataPath + \"hafsaOutput/\" + subfolder + atmFile\n",
        "  atmData = xr.open_dataset(atmPath)\n",
        "\n",
        "  atmSlice = atmData.isel(isobaricInhPa=atmLayer).sel(longitude=slice(lonMin+360, lonMax+360), latitude=slice(latMin, latMax))\n",
        "  dat = np.sqrt(atmSlice.u.data ** 2 + atmSlice.v.data ** 2)\n",
        "\n",
        "  #if \"Empty\" in contourLevs[atmLayer]: contourLevs[atmLayer] = [round(l, 1) for l in np.linspace(np.min(temp[np.isnan(temp)==False])-3, np.max(temp[np.isnan(temp)==False])+3, 15)]\n",
        "\n",
        "  tempContour = atmAx.contourf(atmSlice.longitude.data, atmSlice.latitude.data, dat, cmap=\"viridis\", transform=ccrs.PlateCarree(),\n",
        "                              extent = [lonMin, lonMax, latMin, latMax], levels=contourLevs)\n",
        "\n",
        "  if valid == fcastTimes[-1]: atmFig.colorbar(tempContour, shrink=0.8)\n",
        "\n",
        "  #atmAx.scatter(tcLocs[valid][1], tcLocs[valid][0], marker=\"*\", color=\"black\", s=75, transform=ccrs.PlateCarree())\n",
        "  #atmAx.add_feature(cft.COASTLINE)\n",
        "  #atmAx.add_feature(cft.BORDERS)\n",
        "  #atmAx.gridlines(draw_labels=[\"left\", \"bottom\"], alpha=0.5)\n",
        "  #atmAx.set_title(f'{atmData.isobaricInhPa.data[atmLayer]} hPa\\n{valid.strftime(\"%Y-%m-%d %HUTC\")}')\n",
        "\n",
        "  atmAx.set_extent([lonMin, lonMax, latMin, latMax])\n",
        "\n",
        "  atmPlot.set_data(xdata, ydata)\n",
        "  return atmPlot\n",
        "\n",
        "def init():\n",
        "  #ax.set_xlim(0, 2*np.pi)\n",
        "  #ax.set_ylim(-1, 1)\n",
        "  return update(fcastTimes[0])\n",
        "\n",
        "ani = FuncAnimation(atmFig, update, frames=fcastTimes,\n",
        "                    init_func=init, blit=True)\n",
        "plt.show()"
      ],
      "metadata": {
        "id": "tDP9pzti5W67"
      },
      "execution_count": null,
      "outputs": []
    },
    {
      "cell_type": "code",
      "source": [
        "ani"
      ],
      "metadata": {
        "id": "pZreMF-T49Ki"
      },
      "execution_count": null,
      "outputs": []
    }
  ]
}