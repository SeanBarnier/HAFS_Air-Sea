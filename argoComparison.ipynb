{
  "nbformat": 4,
  "nbformat_minor": 0,
  "metadata": {
    "colab": {
      "provenance": [],
      "include_colab_link": true
    },
    "kernelspec": {
      "name": "python3",
      "display_name": "Python 3"
    },
    "language_info": {
      "name": "python"
    }
  },
  "cells": [
    {
      "cell_type": "markdown",
      "metadata": {
        "id": "view-in-github",
        "colab_type": "text"
      },
      "source": [
        "<a href=\"https://colab.research.google.com/github/SeanBarnier/HAFS_Air-Sea/blob/main/argoComparison.ipynb\" target=\"_parent\"><img src=\"https://colab.research.google.com/assets/colab-badge.svg\" alt=\"Open In Colab\"/></a>"
      ]
    },
    {
      "cell_type": "markdown",
      "source": [
        "Retrieves and subsets Argo float data using argopy and plots it alongslide MOM6 output along the track of a TC.  \n",
        "\n",
        "After attempting to install argopy, you may need to restart your runtime and run again."
      ],
      "metadata": {
        "id": "-Yi1O2Ztb2tT"
      }
    },
    {
      "cell_type": "markdown",
      "source": [
        "#Set up environment"
      ],
      "metadata": {
        "id": "-EkRyiahjBuf"
      }
    },
    {
      "cell_type": "code",
      "source": [
        "from google.colab import drive\n",
        "drive.mount('/content/drive')"
      ],
      "metadata": {
        "id": "6KsU8RFVmin5"
      },
      "execution_count": null,
      "outputs": []
    },
    {
      "cell_type": "code",
      "source": [
        "!pip install argopy\n",
        "!pip install cartopy"
      ],
      "metadata": {
        "id": "0S8CsBxujVFt",
        "collapsed": true
      },
      "execution_count": null,
      "outputs": []
    },
    {
      "cell_type": "code",
      "source": [
        "import xarray as xr\n",
        "import pandas as pd\n",
        "import numpy as np\n",
        "import matplotlib.pyplot as plt\n",
        "from datetime import datetime as dt\n",
        "from argopy import DataFetcher\n",
        "import cartopy.crs as ccrs"
      ],
      "metadata": {
        "id": "vWrr_30yZ4nh"
      },
      "execution_count": null,
      "outputs": []
    },
    {
      "cell_type": "markdown",
      "source": [
        "#User parameters"
      ],
      "metadata": {
        "id": "XnkUgaLnLbuC"
      }
    },
    {
      "cell_type": "code",
      "source": [
        "name = \"Milton\"\n",
        "tcNum = \"14\"\n",
        "trackType = \"\"\n",
        "\n",
        "runTime = dt(year=2024, month=10, day=7, hour=6) #1 day before Milton began its most rapid intensification\n",
        "singleProf = True\n",
        "\n",
        "fHourStep = 6  #Normally 3 for HAFS-A\n",
        "forecastLength = 60 #Normally 126 for HAFS-A.\n",
        "\n",
        "figureSuffix = \"_RI\"\n",
        "subfolder = \"RI/\"\n",
        "dataPath = \"/content/drive/MyDrive/savedData/\"\n",
        "figurePath = \"/content/drive/MyDrive/figures/\"\n",
        "\n",
        "potentialTemp = True #Use atmospheric potential temperature instead of in-situ temperature\n",
        "\n",
        "oceDepth = 100 # in m\n",
        "maxArgoRange = 5 # in degrees\n",
        "\n",
        "offset = \"center\" #Must be center, NE, SE, SW, or NE\n",
        "offsetDist = 0.25"
      ],
      "metadata": {
        "id": "5mX9LiKtLeTX"
      },
      "execution_count": null,
      "outputs": []
    },
    {
      "cell_type": "markdown",
      "source": [
        "#Retrieve HAFS-A Data"
      ],
      "metadata": {
        "id": "5MU8O99TOZme"
      }
    },
    {
      "cell_type": "markdown",
      "source": [
        "Find times needed"
      ],
      "metadata": {
        "id": "aQjv2UVg4l65"
      }
    },
    {
      "cell_type": "code",
      "source": [
        "dateFormat = \"%Y-%m-%d %H:%M:%S\"\n",
        "runFormat = \"%Y%m%d_%H\"\n",
        "initStr, initHour = runTime.strftime(runFormat).split(\"_\")\n",
        "\n",
        "fcastTimes = []\n",
        "for fHour in range(0, forecastLength+1, fHourStep):\n",
        "  fcastTimes.append(runTime + pd.Timedelta(hours=fHour))"
      ],
      "metadata": {
        "collapsed": true,
        "id": "jdMyhDj94ij0"
      },
      "execution_count": null,
      "outputs": []
    },
    {
      "cell_type": "markdown",
      "source": [
        "OR Set times manually"
      ],
      "metadata": {
        "id": "tfHXPATn8J9x"
      }
    },
    {
      "cell_type": "code",
      "source": [
        "fcastTimes = [dt(year=2024, month=10, day=7, hour=6), dt(year=2024, month=10, day=9, hour=0)]"
      ],
      "metadata": {
        "id": "NnMD-RhH8Lgq"
      },
      "execution_count": null,
      "outputs": []
    },
    {
      "cell_type": "code",
      "source": [
        "if singleProf: fcastTimes = [runTime]"
      ],
      "metadata": {
        "id": "LDoLT555JenU"
      },
      "execution_count": null,
      "outputs": []
    },
    {
      "cell_type": "markdown",
      "source": [
        "Get TC location from ATCF files"
      ],
      "metadata": {
        "id": "LPVZ-83f1SLo"
      }
    },
    {
      "cell_type": "code",
      "source": [
        "cols = [\"BASIN\", \"CY\", \"YYYYMMDDHH\", \"TECHNUM/MIN\", \"TECH\", \"TAU\", \"LatN/S\", \"LonE/W\",\n",
        "    \"VMAX\", \"MSLP\", \"TY\", \"RAD\", \"WINDCODE\", \"RAD1\", \"RAD2\", \"RAD3\", \"RAD4\",\n",
        "    \"POUTER\", \"ROUTER\", \"RMW\", \"GUSTS\", \"EYE\", \"SUBREGION\", \"MAXSEAS\", \"INITIALS\",\n",
        "    \"DIR\", \"SPEED\", \"STORMNAME\", \"DEPTH\", \"SEAS\", \"SEASCODE\", \"SEAS1\", \"SEAS2\",\n",
        "    \"SEAS3\", \"SEAS4\", \"USERDEFINED1\", \"Thermo1\", \"Thermo2\", \"Thermo3\", \"Thermo4\",\n",
        "    \"Thermo5\", \"Thermo6\", \"Thermo7\", \"USERDEFINED2\", \"DT\", \"SHR82\", \"SHR81_1\",\n",
        "    \"SHR82_2\",  \"USERDEFINED3\", \"SST\", \"USERDEFINED4\", \"ARMW1\", \"ARMW2\"]"
      ],
      "metadata": {
        "id": "yO6jA18GOCVi"
      },
      "execution_count": null,
      "outputs": []
    },
    {
      "cell_type": "code",
      "source": [
        "tcLocs = {}\n",
        "windRadKey = {\"NE\":\"RAD1\", \"SE\":\"RAD2\", \"SW\":\"RAD3\", \"NW\":\"RAD4\"}\n",
        "windRads = {}\n",
        "\n",
        "atcfURL = f\"https://noaa-nws-hafs-pds.s3.amazonaws.com/hfsa/{initStr}/{initHour}/{tcNum}l.{initStr}{initHour}.hfsa.trak.atcfunix\"\n",
        "atcfFile = \"atcf_\" + initStr + \"_\" + initHour + \".csv\"\n",
        "!wget -O {atcfFile} {atcfURL}\n",
        "atcf = pd.read_csv(atcfFile, names=cols)\n",
        "\n",
        "for valid in fcastTimes:\n",
        "\n",
        "  fHour = int((valid-runTime).total_seconds() / 3600)\n",
        "  pointLat = int(atcf[atcf.TAU==fHour][\"LatN/S\"].iloc[0].replace(\"N\", \"\"))/10\n",
        "  pointLon = int(atcf[atcf.TAU==fHour][\"LonE/W\"].iloc[0].replace(\"W\", \"\"))/-10 #Assume western hemisphere\n",
        "  tcLocs[valid] = (pointLat, pointLon)"
      ],
      "metadata": {
        "id": "M2-eqEmxlXw3"
      },
      "execution_count": null,
      "outputs": []
    },
    {
      "cell_type": "markdown",
      "source": [
        "Determine desired argo floats"
      ],
      "metadata": {
        "id": "V2QI3pjP0Nm9"
      }
    },
    {
      "cell_type": "code",
      "source": [
        "argoLoader = DataFetcher()\n",
        "argoData = argoLoader.region([-95,-80,20,25,0,oceDepth,'2024-10','2024-11']).to_dataframe()"
      ],
      "metadata": {
        "id": "vmtGTX0imxrU"
      },
      "execution_count": null,
      "outputs": []
    },
    {
      "cell_type": "code",
      "source": [
        "argos = {}\n",
        "for valid, tcLoc in tcLocs.items():\n",
        "  lat = tcLoc[0] + offsetDist * (1 if offset in [\"NE\", \"SE\"] else -1)\n",
        "  lon = tcLoc[1] + offsetDist * (1 if offset in [\"NE\", \"NW\"] else -1)\n",
        "  argoDists = ((argoData.LATITUDE-lat)**2 + (argoData.LONGITUDE-lon)**2)**0.5\n",
        "  closeArgos = argoData[argoDists < maxArgoRange]\n",
        "  argoTimeDiffs = np.abs(closeArgos.TIME-valid)\n",
        "  chosenArgo = closeArgos[argoTimeDiffs==np.min(argoTimeDiffs)]\n",
        "  if np.min(argoTimeDiffs) > pd.Timedelta(hours=12): print(f\"WARNING: Time difference at {valid} over 12 hours.\")\n",
        "  argos[valid] = chosenArgo"
      ],
      "metadata": {
        "id": "B1YDTkUi11aQ"
      },
      "execution_count": null,
      "outputs": []
    },
    {
      "cell_type": "markdown",
      "source": [
        "Get data from HAFS-A output."
      ],
      "metadata": {
        "id": "gJK0pEvc4ij2"
      }
    },
    {
      "cell_type": "code",
      "source": [
        "oce = {}\n",
        "\n",
        "for valid, tcLoc in tcLocs.items():\n",
        "  oce[valid] = {}\n",
        "\n",
        "  initTime = runTime.strftime(\"%Y%m%d%H\")\n",
        "  fhour = str(int((valid-runTime).total_seconds() / 3600))\n",
        "  while len(fhour) < 3: fhour = \"0\" + fhour\n",
        "  oceFile = \"mom6_\" + initTime + \"_f\" + fhour + \".nc\"\n",
        "  ocePath = dataPath + \"mom6Output/\" + subfolder + oceFile\n",
        "\n",
        "  if oceFile == 'mom6_2024100800_f000.nc': continue #This file is missing\n",
        "\n",
        "  oceData = xr.open_dataset(ocePath, decode_times=False)\n",
        "\n",
        "  lat = tcLoc[0] + offsetDist * {\"NE\":1, \"NW\":1, \"SE\":-1, \"SW\":-1, \"center\":0}[offset]\n",
        "  lon = tcLoc[1] + offsetDist * {\"NE\":1, \"NW\":-1, \"SE\":1, \"SW\":-1, \"center\":0}[offset]\n",
        "  oce[valid] = oceData.sel(yh=np.unique(argos[valid].LATITUDE)[0], xh=np.unique(argos[valid].LONGITUDE)[0], method=\"nearest\").temp"
      ],
      "metadata": {
        "id": "xqH926tMbuIe"
      },
      "execution_count": null,
      "outputs": []
    },
    {
      "cell_type": "markdown",
      "source": [
        "#Figures"
      ],
      "metadata": {
        "id": "E3q5HL1WdXwL"
      }
    },
    {
      "cell_type": "markdown",
      "source": [
        "Plot modeled and in-situ ocean temperature"
      ],
      "metadata": {
        "id": "rRR1r94ecdGy"
      }
    },
    {
      "cell_type": "code",
      "source": [
        "profFig, profAxes = plt.subplots(1, len(fcastTimes), figsize=(len(fcastTimes)*2, 5))\n",
        "if len(fcastTimes) == 1: profAxes = [profAxes]\n",
        "\n",
        "for valid, profAx in zip(fcastTimes, profAxes):\n",
        "  modelProf = profAx.plot(oce[valid].data[0], oce[valid].z_l.data, color=\"red\")\n",
        "  argoProf = profAx.plot(argos[valid].TEMP, argos[valid].PRES, color=\"blue\")\n",
        "\n",
        "  profAx.set_ylim(80, 0)\n",
        "  profAx.set_xlim(25, 31)\n",
        "  profAx.grid(alpha=0.5)\n",
        "  profAx.set_title(valid.strftime(\"%m-%d %HUTC\"))\n",
        "\n",
        "modelProf[0].set_label(\"Model\")\n",
        "argoProf[0].set_label(\"In-Situ\")\n",
        "profFig.legend(loc=[0.1,-0], ncol=2)\n",
        "profFig.supylabel(\"Depth (m)/Pressure (dBar)\")\n",
        "#profFig.supxlabel(\"Temperature ($\\degree$C)\")\n",
        "profFig.suptitle(offset)\n",
        "profFig.tight_layout()"
      ],
      "metadata": {
        "id": "_lTdusC8dJHo"
      },
      "execution_count": null,
      "outputs": []
    },
    {
      "cell_type": "markdown",
      "source": [
        "Plot location and timing of Argo float observations"
      ],
      "metadata": {
        "id": "fX2eV5x8chcC"
      }
    },
    {
      "cell_type": "code",
      "source": [
        "mapFig = plt.figure(figsize=(6, 4))\n",
        "mapAx = mapFig.add_axes([0.1,0.1,0.8,0.8], projection=ccrs.PlateCarree())\n",
        "#timeAx = mapFig.add_axes([0.1,0.75,0.8,0.1])\n",
        "\n",
        "mapAx.scatter([tcLocs[valid][1] for valid in fcastTimes], [tcLocs[valid][0] for valid in fcastTimes], color=\"red\", s=50, transform=ccrs.PlateCarree(), label=\"TC Location\")\n",
        "mapAx.scatter([np.unique(argos[valid].LONGITUDE) for valid in fcastTimes], [np.unique(argos[valid].LATITUDE) for valid in fcastTimes], color=\"blue\", s=50, transform=ccrs.PlateCarree(), label=\"Argo Float\")\n",
        "mapAx.coastlines()\n",
        "mapAx.gridlines(draw_labels=[\"left\", \"bottom\"])\n",
        "mapAx.legend()\n",
        "\n",
        "#timeAx.scatter(fcastTimes, [1]*len(fcastTimes), color=\"red\")\n",
        "#timeAx.scatter([argos[valid].TIME.iloc[0] for valid in fcastTimes], [1]*len(fcastTimes), color=\"blue\", s=150)"
      ],
      "metadata": {
        "id": "N55IkFDpmnlD"
      },
      "execution_count": null,
      "outputs": []
    }
  ]
}